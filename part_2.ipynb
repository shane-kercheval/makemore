{
 "cells": [
  {
   "attachments": {},
   "cell_type": "markdown",
   "metadata": {},
   "source": [
    "https://www.youtube.com/watch?v=PaCmpygFfXo&t=11s"
   ]
  },
  {
   "cell_type": "code",
   "execution_count": 3,
   "metadata": {},
   "outputs": [
    {
     "name": "stdout",
     "output_type": "stream",
     "text": [
      "/code\n"
     ]
    }
   ],
   "source": [
    "%cd /code"
   ]
  },
  {
   "cell_type": "code",
   "execution_count": 19,
   "metadata": {},
   "outputs": [
    {
     "data": {
      "text/plain": [
       "32033"
      ]
     },
     "execution_count": 19,
     "metadata": {},
     "output_type": "execute_result"
    }
   ],
   "source": [
    "import torch\n",
    "import torch.nn.functional as F\n",
    "\n",
    "words = open('names.txt').read().splitlines()\n",
    "len(words)"
   ]
  },
  {
   "cell_type": "code",
   "execution_count": 5,
   "metadata": {},
   "outputs": [
    {
     "name": "stdout",
     "output_type": "stream",
     "text": [
      "{1: 'a', 2: 'b', 3: 'c', 4: 'd', 5: 'e', 6: 'f', 7: 'g', 8: 'h', 9: 'i', 10: 'j', 11: 'k', 12: 'l', 13: 'm', 14: 'n', 15: 'o', 16: 'p', 17: 'q', 18: 'r', 19: 's', 20: 't', 21: 'u', 22: 'v', 23: 'w', 24: 'x', 25: 'y', 26: 'z', 0: '.'}\n"
     ]
    }
   ],
   "source": [
    "# build the vocabulary of characters and mappings to/from integers\n",
    "chars = sorted(list(set(''.join(words))))\n",
    "stoi = {s:i+1 for i,s in enumerate(chars)}\n",
    "stoi['.'] = 0\n",
    "itos = {i:s for s,i in stoi.items()}\n",
    "print(itos)"
   ]
  },
  {
   "cell_type": "code",
   "execution_count": 8,
   "metadata": {},
   "outputs": [
    {
     "name": "stdout",
     "output_type": "stream",
     "text": [
      "torch.Size([182580, 3]) torch.Size([182580])\n",
      "torch.Size([22767, 3]) torch.Size([22767])\n",
      "torch.Size([22799, 3]) torch.Size([22799])\n"
     ]
    }
   ],
   "source": [
    "# build the dataset\n",
    "block_size = 3 # context length: how many characters do we take to predict the next one?\n",
    "\n",
    "def build_dataset(words):  \n",
    "  X, Y = [], []\n",
    "  for w in words:\n",
    "\n",
    "    #print(w)\n",
    "    context = [0] * block_size\n",
    "    for ch in w + '.':\n",
    "      ix = stoi[ch]\n",
    "      X.append(context)\n",
    "      Y.append(ix)\n",
    "      #print(''.join(itos[i] for i in context), '--->', itos[ix])\n",
    "      context = context[1:] + [ix] # crop and append\n",
    "\n",
    "  X = torch.tensor(X)\n",
    "  Y = torch.tensor(Y)\n",
    "  print(X.shape, Y.shape)\n",
    "  return X, Y\n",
    "\n",
    "import random\n",
    "random.seed(42)\n",
    "random.shuffle(words)\n",
    "n1 = int(0.8*len(words))\n",
    "n2 = int(0.9*len(words))\n",
    "\n",
    "X_train, y_train = build_dataset(words[:n1])\n",
    "X_dev, y_dev = build_dataset(words[n1:n2])\n",
    "X_test, y_test = build_dataset(words[n2:])"
   ]
  },
  {
   "attachments": {},
   "cell_type": "markdown",
   "metadata": {},
   "source": [
    "---"
   ]
  },
  {
   "attachments": {},
   "cell_type": "markdown",
   "metadata": {},
   "source": [
    "# Embedding Layer"
   ]
  },
  {
   "attachments": {},
   "cell_type": "markdown",
   "metadata": {},
   "source": [
    "We have 27 characters, let's try reducing that to a 2-dimensional space (in the paper the authors have 17 words/tokens that they reduce to a 30 dimensional space)"
   ]
  },
  {
   "cell_type": "code",
   "execution_count": 63,
   "metadata": {},
   "outputs": [],
   "source": [
    "num_characters = len(stoi)\n",
    "embedding_size = 2"
   ]
  },
  {
   "cell_type": "code",
   "execution_count": 64,
   "metadata": {},
   "outputs": [
    {
     "data": {
      "text/plain": [
       "tensor([[ 1.2129,  0.2602],\n",
       "        [-1.0072, -0.2969],\n",
       "        [-0.5586, -0.1307],\n",
       "        [ 0.8953,  0.3645],\n",
       "        [ 0.2798,  1.1593],\n",
       "        [-1.2883,  0.5635],\n",
       "        [-0.2167, -0.5648],\n",
       "        [ 1.0153,  1.3816],\n",
       "        [ 1.0944, -0.4452],\n",
       "        [ 0.5387,  0.2919],\n",
       "        [ 1.7491,  0.4118],\n",
       "        [ 0.6236,  0.2790],\n",
       "        [-0.4863,  0.8271],\n",
       "        [ 1.0717,  0.7311],\n",
       "        [-0.1948,  0.7970],\n",
       "        [-0.0121,  0.7386],\n",
       "        [-1.2307, -0.7011],\n",
       "        [-0.0486,  1.3667],\n",
       "        [-1.3283,  1.2198],\n",
       "        [ 0.8717,  0.2062],\n",
       "        [ 0.3393,  0.7667],\n",
       "        [-0.5255,  0.3516],\n",
       "        [-1.1593,  0.4251],\n",
       "        [-1.0949, -1.1169],\n",
       "        [-1.5504,  0.5990],\n",
       "        [ 0.3735, -1.4694],\n",
       "        [-1.6787,  0.0621]])"
      ]
     },
     "execution_count": 64,
     "metadata": {},
     "output_type": "execute_result"
    }
   ],
   "source": [
    "# embedding matrix\n",
    "C = torch.randn((num_characters, embedding_size))\n",
    "C"
   ]
  },
  {
   "cell_type": "code",
   "execution_count": 65,
   "metadata": {},
   "outputs": [
    {
     "name": "stdout",
     "output_type": "stream",
     "text": [
      "torch.Size([4, 3])\n",
      "tensor([[ 0,  0,  0],\n",
      "        [ 0,  0,  5],\n",
      "        [ 0,  5,  2],\n",
      "        [ 5,  2, 18]])\n"
     ]
    }
   ],
   "source": [
    "print(X_train[0:4].shape)\n",
    "print(X_train[0:4])"
   ]
  },
  {
   "cell_type": "code",
   "execution_count": 66,
   "metadata": {},
   "outputs": [
    {
     "name": "stdout",
     "output_type": "stream",
     "text": [
      "torch.Size([4, 3, 2])\n",
      "tensor([[[ 1.2129,  0.2602],\n",
      "         [ 1.2129,  0.2602],\n",
      "         [ 1.2129,  0.2602]],\n",
      "\n",
      "        [[ 1.2129,  0.2602],\n",
      "         [ 1.2129,  0.2602],\n",
      "         [-1.2883,  0.5635]],\n",
      "\n",
      "        [[ 1.2129,  0.2602],\n",
      "         [-1.2883,  0.5635],\n",
      "         [-0.5586, -0.1307]],\n",
      "\n",
      "        [[-1.2883,  0.5635],\n",
      "         [-0.5586, -0.1307],\n",
      "         [-1.3283,  1.2198]]])\n"
     ]
    }
   ],
   "source": [
    "print(C[X_train[0:4]].shape)\n",
    "print(C[X_train[0:4]])"
   ]
  },
  {
   "cell_type": "code",
   "execution_count": 67,
   "metadata": {},
   "outputs": [
    {
     "data": {
      "text/plain": [
       "tensor([1.2129, 0.2602])"
      ]
     },
     "execution_count": 67,
     "metadata": {},
     "output_type": "execute_result"
    }
   ],
   "source": [
    "C[0]"
   ]
  },
  {
   "cell_type": "code",
   "execution_count": 68,
   "metadata": {},
   "outputs": [
    {
     "name": "stdout",
     "output_type": "stream",
     "text": [
      "tensor([1., 0., 0., 0., 0., 0., 0., 0., 0., 0., 0., 0., 0., 0., 0., 0., 0., 0.,\n",
      "        0., 0., 0., 0., 0., 0., 0., 0., 0.])\n",
      "tensor([1.2129, 0.2602])\n"
     ]
    }
   ],
   "source": [
    "print(F.one_hot(torch.tensor(0), num_classes=num_characters).float())\n",
    "print(F.one_hot(torch.tensor(0), num_classes=num_characters).float() @ C)"
   ]
  },
  {
   "attachments": {},
   "cell_type": "markdown",
   "metadata": {},
   "source": [
    "---"
   ]
  },
  {
   "attachments": {},
   "cell_type": "markdown",
   "metadata": {},
   "source": [
    "# Hidden Layer"
   ]
  },
  {
   "cell_type": "code",
   "execution_count": 69,
   "metadata": {},
   "outputs": [
    {
     "name": "stdout",
     "output_type": "stream",
     "text": [
      "torch.Size([182580, 3, 2])\n",
      "torch.Size([182580, 6])\n",
      "tensor([[[ 1.2129,  0.2602],\n",
      "         [ 1.2129,  0.2602],\n",
      "         [ 1.2129,  0.2602]],\n",
      "\n",
      "        [[ 1.2129,  0.2602],\n",
      "         [ 1.2129,  0.2602],\n",
      "         [-1.2883,  0.5635]],\n",
      "\n",
      "        [[ 1.2129,  0.2602],\n",
      "         [-1.2883,  0.5635],\n",
      "         [-0.5586, -0.1307]],\n",
      "\n",
      "        [[-1.2883,  0.5635],\n",
      "         [-0.5586, -0.1307],\n",
      "         [-1.3283,  1.2198]]])\n",
      "tensor([[ 1.2129,  0.2602,  1.2129,  0.2602,  1.2129,  0.2602],\n",
      "        [ 1.2129,  0.2602,  1.2129,  0.2602, -1.2883,  0.5635],\n",
      "        [ 1.2129,  0.2602, -1.2883,  0.5635, -0.5586, -0.1307],\n",
      "        [-1.2883,  0.5635, -0.5586, -0.1307, -1.3283,  1.2198]])\n"
     ]
    }
   ],
   "source": [
    "# we a matrix of (n, 6) not (n, 3, 2) ; where n is number of samples\n",
    "embeddings = C[X_train]\n",
    "print(embeddings.shape)\n",
    "print(embeddings.view(-1, 6).shape)\n",
    "print(C[X_train[0:4]])\n",
    "print(embeddings.view(-1, 6)[0:4])"
   ]
  },
  {
   "attachments": {},
   "cell_type": "markdown",
   "metadata": {},
   "source": [
    "---"
   ]
  },
  {
   "cell_type": "code",
   "execution_count": 70,
   "metadata": {},
   "outputs": [
    {
     "data": {
      "text/plain": [
       "tensor([[-0.5586, -0.1307],\n",
       "        [-1.3283,  1.2198],\n",
       "        [ 0.5387,  0.2919]])"
      ]
     },
     "execution_count": 70,
     "metadata": {},
     "output_type": "execute_result"
    }
   ],
   "source": [
    "# for example; here are the embeddings (vector of 2 values) for the three characters of context in the 5th example (index 4)\n",
    "C[X_train[4]]"
   ]
  },
  {
   "cell_type": "code",
   "execution_count": 71,
   "metadata": {},
   "outputs": [
    {
     "data": {
      "text/plain": [
       "tensor([-0.5586, -0.1307, -1.3283,  1.2198,  0.5387,  0.2919])"
      ]
     },
     "execution_count": 71,
     "metadata": {},
     "output_type": "execute_result"
    }
   ],
   "source": [
    "# here is the same example above but as a single vector that we can multiply with our weights\n",
    "embeddings.view(-1, 6)[4]"
   ]
  },
  {
   "attachments": {},
   "cell_type": "markdown",
   "metadata": {},
   "source": [
    "---"
   ]
  },
  {
   "cell_type": "code",
   "execution_count": 72,
   "metadata": {},
   "outputs": [
    {
     "name": "stdout",
     "output_type": "stream",
     "text": [
      "torch.Size([6, 100])\n",
      "torch.Size([100])\n"
     ]
    }
   ],
   "source": [
    "# block_size is basically context size (i.e. # of characters)\n",
    "# multiplied by the size of the embedding for each character\n",
    "num_inputs = block_size * C.shape[1]\n",
    "num_neurons = 100\n",
    "W1 = torch.randn((num_inputs, num_neurons))\n",
    "b1 = torch.randn(num_neurons)\n",
    "print(W1.shape)\n",
    "print(b1.shape)"
   ]
  },
  {
   "cell_type": "code",
   "execution_count": 73,
   "metadata": {},
   "outputs": [
    {
     "name": "stdout",
     "output_type": "stream",
     "text": [
      "torch.Size([182580, 3, 2])\n",
      "torch.Size([182580, 6])\n",
      "torch.Size([6, 100])\n",
      "torch.Size([182580, 100])\n",
      "torch.Size([182580, 100])\n"
     ]
    }
   ],
   "source": [
    "print(embeddings.shape)\n",
    "print(embeddings.view(-1, num_inputs).shape)\n",
    "print(W1.shape)\n",
    "print((embeddings.view(-1, num_inputs) @ W1).shape)\n",
    "print((embeddings.view(-1, num_inputs) @ W1 + b1).shape)"
   ]
  },
  {
   "cell_type": "code",
   "execution_count": 75,
   "metadata": {},
   "outputs": [
    {
     "data": {
      "text/plain": [
       "torch.Size([182580, 100])"
      ]
     },
     "execution_count": 75,
     "metadata": {},
     "output_type": "execute_result"
    }
   ],
   "source": [
    "h = torch.tanh(embeddings.view(-1, num_inputs) @ W1 + b1)\n",
    "h.shape"
   ]
  },
  {
   "cell_type": "code",
   "execution_count": 76,
   "metadata": {},
   "outputs": [
    {
     "name": "stdout",
     "output_type": "stream",
     "text": [
      "tensor(-1.)\n",
      "tensor(1.)\n"
     ]
    }
   ],
   "source": [
    "print(h.min())\n",
    "print(h.max())"
   ]
  },
  {
   "attachments": {},
   "cell_type": "markdown",
   "metadata": {},
   "source": [
    "---"
   ]
  },
  {
   "attachments": {},
   "cell_type": "markdown",
   "metadata": {},
   "source": [
    "# Final Layer"
   ]
  },
  {
   "cell_type": "code",
   "execution_count": 78,
   "metadata": {},
   "outputs": [],
   "source": [
    "W2 = torch.randn((num_neurons, num_characters))\n",
    "b2 = torch.randn(num_characters)"
   ]
  },
  {
   "cell_type": "code",
   "execution_count": 79,
   "metadata": {},
   "outputs": [
    {
     "name": "stdout",
     "output_type": "stream",
     "text": [
      "torch.Size([182580, 100])\n",
      "torch.Size([100, 27])\n",
      "torch.Size([27])\n",
      "torch.Size([182580, 27])\n"
     ]
    },
    {
     "data": {
      "text/plain": [
       "tensor([[-2.4750e+00, -3.6773e+00, -2.1217e-01,  ...,  3.7176e+00,\n",
       "         -4.8292e+00, -7.5542e+00],\n",
       "        [ 3.0841e-03,  1.9645e+00, -6.8366e-01,  ...,  6.1097e+00,\n",
       "          1.5478e+00,  4.1243e+00],\n",
       "        [ 9.8877e+00, -8.5275e+00,  1.4799e+01,  ...,  5.1419e+00,\n",
       "          1.1409e+01,  4.1999e+00],\n",
       "        ...,\n",
       "        [ 7.6402e+00, -5.3688e-01,  6.9159e+00,  ..., -5.0806e+00,\n",
       "          1.3901e+01,  2.4299e-01],\n",
       "        [-1.2063e+01,  1.3272e+00,  5.5985e+00,  ..., -1.6562e+00,\n",
       "          5.7444e+00, -4.4725e+00],\n",
       "        [-1.4519e+00, -9.0674e+00,  5.6148e+00,  ..., -5.4463e+00,\n",
       "         -2.3535e+00, -2.7775e+00]])"
      ]
     },
     "execution_count": 79,
     "metadata": {},
     "output_type": "execute_result"
    }
   ],
   "source": [
    "print(h.shape)\n",
    "print(W2.shape)\n",
    "print(b2.shape)\n",
    "logits = h @ W2 + b2\n",
    "print(logits.shape)\n",
    "logits"
   ]
  },
  {
   "cell_type": "code",
   "execution_count": 81,
   "metadata": {},
   "outputs": [
    {
     "name": "stdout",
     "output_type": "stream",
     "text": [
      "torch.Size([182580, 27])\n"
     ]
    },
    {
     "data": {
      "text/plain": [
       "tensor(19.5978)"
      ]
     },
     "execution_count": 81,
     "metadata": {},
     "output_type": "execute_result"
    }
   ],
   "source": [
    "counts = logits.exp()\n",
    "prob = counts / counts.sum(1, keepdims=True)\n",
    "print(prob.shape)\n",
    "loss = -prob[torch.arange(X_train.shape[0]), y_train].log().mean()\n",
    "loss"
   ]
  },
  {
   "attachments": {},
   "cell_type": "markdown",
   "metadata": {},
   "source": [
    "---"
   ]
  },
  {
   "attachments": {},
   "cell_type": "markdown",
   "metadata": {},
   "source": [
    "# Put it together"
   ]
  },
  {
   "cell_type": "code",
   "execution_count": 228,
   "metadata": {},
   "outputs": [],
   "source": [
    "num_characters = len(stoi)\n",
    "context_size = 7 # context length: how many characters do we take to predict the next one?\n",
    "embedding_size = 10\n",
    "\n",
    "num_inputs = context_size * embedding_size\n",
    "num_neurons = 200"
   ]
  },
  {
   "cell_type": "code",
   "execution_count": 229,
   "metadata": {},
   "outputs": [
    {
     "name": "stdout",
     "output_type": "stream",
     "text": [
      "torch.Size([182441, 7]) torch.Size([182441])\n",
      "torch.Size([22902, 7]) torch.Size([22902])\n",
      "torch.Size([22803, 7]) torch.Size([22803])\n"
     ]
    }
   ],
   "source": [
    "# build the dataset\n",
    "def build_dataset(words):  \n",
    "  X, Y = [], []\n",
    "  for w in words:\n",
    "\n",
    "    #print(w)\n",
    "    context = [0] * context_size\n",
    "    for ch in w + '.':\n",
    "      ix = stoi[ch]\n",
    "      X.append(context)\n",
    "      Y.append(ix)\n",
    "      #print(''.join(itos[i] for i in context), '--->', itos[ix])\n",
    "      context = context[1:] + [ix] # crop and append\n",
    "\n",
    "  X = torch.tensor(X)\n",
    "  Y = torch.tensor(Y)\n",
    "  print(X.shape, Y.shape)\n",
    "  return X, Y\n",
    "\n",
    "import random\n",
    "random.seed(42)\n",
    "random.shuffle(words)\n",
    "n1 = int(0.8*len(words))\n",
    "n2 = int(0.9*len(words))\n",
    "\n",
    "X_train, y_train = build_dataset(words[:n1])\n",
    "X_dev, y_dev = build_dataset(words[n1:n2])\n",
    "X_test, y_test = build_dataset(words[n2:])"
   ]
  },
  {
   "cell_type": "code",
   "execution_count": 230,
   "metadata": {},
   "outputs": [
    {
     "name": "stdout",
     "output_type": "stream",
     "text": [
      "torch.Size([27, 10])\n",
      "torch.Size([70, 200])\n",
      "torch.Size([200])\n",
      "torch.Size([200, 27])\n",
      "torch.Size([27])\n"
     ]
    }
   ],
   "source": [
    "g = torch.Generator().manual_seed(2147483647) # for reproducibility\n",
    "\n",
    "# embeddings matrix\n",
    "C = torch.randn((num_characters, embedding_size), generator=g)\n",
    "print(C.shape)\n",
    "W1 = torch.randn((num_inputs, num_neurons), generator=g)\n",
    "print(W1.shape)\n",
    "b1 = torch.randn(num_neurons, generator=g)\n",
    "print(b1.shape)\n",
    "W2 = torch.randn((num_neurons, num_characters), generator=g)\n",
    "print(W2.shape)\n",
    "b2 = torch.randn(num_characters, generator=g)\n",
    "print(b2.shape)\n",
    "parameters = [C, W1, b1, W2, b2]"
   ]
  },
  {
   "cell_type": "code",
   "execution_count": 231,
   "metadata": {},
   "outputs": [
    {
     "data": {
      "text/plain": [
       "19897"
      ]
     },
     "execution_count": 231,
     "metadata": {},
     "output_type": "execute_result"
    }
   ],
   "source": [
    "sum(p.nelement() for p in parameters) # number of parameters in total"
   ]
  },
  {
   "cell_type": "code",
   "execution_count": 232,
   "metadata": {},
   "outputs": [],
   "source": [
    "for p in parameters:\n",
    "  p.requires_grad = True"
   ]
  },
  {
   "cell_type": "code",
   "execution_count": 233,
   "metadata": {},
   "outputs": [],
   "source": [
    "lre = torch.linspace(-3, 0, 1000)\n",
    "lrs = 10**lre"
   ]
  },
  {
   "cell_type": "code",
   "execution_count": 326,
   "metadata": {},
   "outputs": [
    {
     "data": {
      "text/plain": [
       "(array([668.,  99.,  59.,  41.,  32.,  27.,  22.,  19.,  17.,  16.]),\n",
       " array([0.001     , 0.1009    , 0.2008    , 0.30070001, 0.40059999,\n",
       "        0.50050002, 0.60039997, 0.70029998, 0.80019999, 0.90009999,\n",
       "        1.        ]),\n",
       " <BarContainer object of 10 artists>)"
      ]
     },
     "execution_count": 326,
     "metadata": {},
     "output_type": "execute_result"
    },
    {
     "data": {
      "image/png": "[encoded data removed]",
      "text/plain": [
       "<Figure size 640x480 with 1 Axes>"
      ]
     },
     "metadata": {},
     "output_type": "display_data"
    }
   ],
   "source": [
    "from matplotlib import pyplot as plt\n",
    "#plt.plot(torch.arange(1000), lrs)\n",
    "plt.hist(lrs)"
   ]
  },
  {
   "cell_type": "code",
   "execution_count": 322,
   "metadata": {},
   "outputs": [
    {
     "data": {
      "text/plain": [
       "tensor([0.0010, 0.0010, 0.0010, 0.0010, 0.0010, 0.0010, 0.0010, 0.0010, 0.0011,\n",
       "        0.0011, 0.0011, 0.0011, 0.0011, 0.0011, 0.0011, 0.0011, 0.0011, 0.0011,\n",
       "        0.0011, 0.0011, 0.0011, 0.0012, 0.0012, 0.0012, 0.0012, 0.0012, 0.0012,\n",
       "        0.0012, 0.0012, 0.0012, 0.0012, 0.0012, 0.0012, 0.0013, 0.0013, 0.0013,\n",
       "        0.0013, 0.0013, 0.0013, 0.0013, 0.0013, 0.0013, 0.0013, 0.0013, 0.0014,\n",
       "        0.0014, 0.0014, 0.0014, 0.0014, 0.0014, 0.0014, 0.0014, 0.0014, 0.0014,\n",
       "        0.0015, 0.0015, 0.0015, 0.0015, 0.0015, 0.0015, 0.0015, 0.0015, 0.0015,\n",
       "        0.0015, 0.0016, 0.0016, 0.0016, 0.0016, 0.0016, 0.0016, 0.0016, 0.0016,\n",
       "        0.0016, 0.0017, 0.0017, 0.0017, 0.0017, 0.0017, 0.0017, 0.0017, 0.0017,\n",
       "        0.0018, 0.0018, 0.0018, 0.0018, 0.0018, 0.0018, 0.0018, 0.0018, 0.0019,\n",
       "        0.0019, 0.0019, 0.0019, 0.0019, 0.0019, 0.0019, 0.0019, 0.0020, 0.0020,\n",
       "        0.0020, 0.0020, 0.0020, 0.0020, 0.0020, 0.0021, 0.0021, 0.0021, 0.0021,\n",
       "        0.0021, 0.0021, 0.0021, 0.0022, 0.0022, 0.0022, 0.0022, 0.0022, 0.0022,\n",
       "        0.0022, 0.0023, 0.0023, 0.0023, 0.0023, 0.0023, 0.0023, 0.0024, 0.0024,\n",
       "        0.0024, 0.0024, 0.0024, 0.0024, 0.0025, 0.0025, 0.0025, 0.0025, 0.0025,\n",
       "        0.0025, 0.0026, 0.0026, 0.0026, 0.0026, 0.0026, 0.0027, 0.0027, 0.0027,\n",
       "        0.0027, 0.0027, 0.0027, 0.0028, 0.0028, 0.0028, 0.0028, 0.0028, 0.0029,\n",
       "        0.0029, 0.0029, 0.0029, 0.0029, 0.0030, 0.0030, 0.0030, 0.0030, 0.0030,\n",
       "        0.0031, 0.0031, 0.0031, 0.0031, 0.0032, 0.0032, 0.0032, 0.0032, 0.0032,\n",
       "        0.0033, 0.0033, 0.0033, 0.0033, 0.0034, 0.0034, 0.0034, 0.0034, 0.0034,\n",
       "        0.0035, 0.0035, 0.0035, 0.0035, 0.0036, 0.0036, 0.0036, 0.0036, 0.0037,\n",
       "        0.0037, 0.0037, 0.0037, 0.0038, 0.0038, 0.0038, 0.0039, 0.0039, 0.0039,\n",
       "        0.0039, 0.0040, 0.0040, 0.0040, 0.0040, 0.0041, 0.0041, 0.0041, 0.0042,\n",
       "        0.0042, 0.0042, 0.0042, 0.0043, 0.0043, 0.0043, 0.0044, 0.0044, 0.0044,\n",
       "        0.0045, 0.0045, 0.0045, 0.0045, 0.0046, 0.0046, 0.0046, 0.0047, 0.0047,\n",
       "        0.0047, 0.0048, 0.0048, 0.0048, 0.0049, 0.0049, 0.0049, 0.0050, 0.0050,\n",
       "        0.0050, 0.0051, 0.0051, 0.0051, 0.0052, 0.0052, 0.0053, 0.0053, 0.0053,\n",
       "        0.0054, 0.0054, 0.0054, 0.0055, 0.0055, 0.0056, 0.0056, 0.0056, 0.0057,\n",
       "        0.0057, 0.0058, 0.0058, 0.0058, 0.0059, 0.0059, 0.0060, 0.0060, 0.0060,\n",
       "        0.0061, 0.0061, 0.0062, 0.0062, 0.0062, 0.0063, 0.0063, 0.0064, 0.0064,\n",
       "        0.0065, 0.0065, 0.0066, 0.0066, 0.0067, 0.0067, 0.0067, 0.0068, 0.0068,\n",
       "        0.0069, 0.0069, 0.0070, 0.0070, 0.0071, 0.0071, 0.0072, 0.0072, 0.0073,\n",
       "        0.0073, 0.0074, 0.0074, 0.0075, 0.0075, 0.0076, 0.0076, 0.0077, 0.0077,\n",
       "        0.0078, 0.0079, 0.0079, 0.0080, 0.0080, 0.0081, 0.0081, 0.0082, 0.0082,\n",
       "        0.0083, 0.0084, 0.0084, 0.0085, 0.0085, 0.0086, 0.0086, 0.0087, 0.0088,\n",
       "        0.0088, 0.0089, 0.0090, 0.0090, 0.0091, 0.0091, 0.0092, 0.0093, 0.0093,\n",
       "        0.0094, 0.0095, 0.0095, 0.0096, 0.0097, 0.0097, 0.0098, 0.0099, 0.0099,\n",
       "        0.0100, 0.0101, 0.0101, 0.0102, 0.0103, 0.0104, 0.0104, 0.0105, 0.0106,\n",
       "        0.0106, 0.0107, 0.0108, 0.0109, 0.0109, 0.0110, 0.0111, 0.0112, 0.0112,\n",
       "        0.0113, 0.0114, 0.0115, 0.0116, 0.0116, 0.0117, 0.0118, 0.0119, 0.0120,\n",
       "        0.0121, 0.0121, 0.0122, 0.0123, 0.0124, 0.0125, 0.0126, 0.0127, 0.0127,\n",
       "        0.0128, 0.0129, 0.0130, 0.0131, 0.0132, 0.0133, 0.0134, 0.0135, 0.0136,\n",
       "        0.0137, 0.0137, 0.0138, 0.0139, 0.0140, 0.0141, 0.0142, 0.0143, 0.0144,\n",
       "        0.0145, 0.0146, 0.0147, 0.0148, 0.0149, 0.0150, 0.0151, 0.0152, 0.0154,\n",
       "        0.0155, 0.0156, 0.0157, 0.0158, 0.0159, 0.0160, 0.0161, 0.0162, 0.0163,\n",
       "        0.0165, 0.0166, 0.0167, 0.0168, 0.0169, 0.0170, 0.0171, 0.0173, 0.0174,\n",
       "        0.0175, 0.0176, 0.0178, 0.0179, 0.0180, 0.0181, 0.0182, 0.0184, 0.0185,\n",
       "        0.0186, 0.0188, 0.0189, 0.0190, 0.0192, 0.0193, 0.0194, 0.0196, 0.0197,\n",
       "        0.0198, 0.0200, 0.0201, 0.0202, 0.0204, 0.0205, 0.0207, 0.0208, 0.0210,\n",
       "        0.0211, 0.0212, 0.0214, 0.0215, 0.0217, 0.0218, 0.0220, 0.0221, 0.0223,\n",
       "        0.0225, 0.0226, 0.0228, 0.0229, 0.0231, 0.0232, 0.0234, 0.0236, 0.0237,\n",
       "        0.0239, 0.0241, 0.0242, 0.0244, 0.0246, 0.0247, 0.0249, 0.0251, 0.0253,\n",
       "        0.0254, 0.0256, 0.0258, 0.0260, 0.0261, 0.0263, 0.0265, 0.0267, 0.0269,\n",
       "        0.0271, 0.0273, 0.0274, 0.0276, 0.0278, 0.0280, 0.0282, 0.0284, 0.0286,\n",
       "        0.0288, 0.0290, 0.0292, 0.0294, 0.0296, 0.0298, 0.0300, 0.0302, 0.0304,\n",
       "        0.0307, 0.0309, 0.0311, 0.0313, 0.0315, 0.0317, 0.0320, 0.0322, 0.0324,\n",
       "        0.0326, 0.0328, 0.0331, 0.0333, 0.0335, 0.0338, 0.0340, 0.0342, 0.0345,\n",
       "        0.0347, 0.0350, 0.0352, 0.0354, 0.0357, 0.0359, 0.0362, 0.0364, 0.0367,\n",
       "        0.0369, 0.0372, 0.0375, 0.0377, 0.0380, 0.0382, 0.0385, 0.0388, 0.0390,\n",
       "        0.0393, 0.0396, 0.0399, 0.0401, 0.0404, 0.0407, 0.0410, 0.0413, 0.0416,\n",
       "        0.0418, 0.0421, 0.0424, 0.0427, 0.0430, 0.0433, 0.0436, 0.0439, 0.0442,\n",
       "        0.0445, 0.0448, 0.0451, 0.0455, 0.0458, 0.0461, 0.0464, 0.0467, 0.0471,\n",
       "        0.0474, 0.0477, 0.0480, 0.0484, 0.0487, 0.0491, 0.0494, 0.0497, 0.0501,\n",
       "        0.0504, 0.0508, 0.0511, 0.0515, 0.0518, 0.0522, 0.0526, 0.0529, 0.0533,\n",
       "        0.0537, 0.0540, 0.0544, 0.0548, 0.0552, 0.0556, 0.0559, 0.0563, 0.0567,\n",
       "        0.0571, 0.0575, 0.0579, 0.0583, 0.0587, 0.0591, 0.0595, 0.0599, 0.0604,\n",
       "        0.0608, 0.0612, 0.0616, 0.0621, 0.0625, 0.0629, 0.0634, 0.0638, 0.0642,\n",
       "        0.0647, 0.0651, 0.0656, 0.0660, 0.0665, 0.0670, 0.0674, 0.0679, 0.0684,\n",
       "        0.0688, 0.0693, 0.0698, 0.0703, 0.0708, 0.0713, 0.0718, 0.0723, 0.0728,\n",
       "        0.0733, 0.0738, 0.0743, 0.0748, 0.0753, 0.0758, 0.0764, 0.0769, 0.0774,\n",
       "        0.0780, 0.0785, 0.0790, 0.0796, 0.0802, 0.0807, 0.0813, 0.0818, 0.0824,\n",
       "        0.0830, 0.0835, 0.0841, 0.0847, 0.0853, 0.0859, 0.0865, 0.0871, 0.0877,\n",
       "        0.0883, 0.0889, 0.0895, 0.0901, 0.0908, 0.0914, 0.0920, 0.0927, 0.0933,\n",
       "        0.0940, 0.0946, 0.0953, 0.0959, 0.0966, 0.0973, 0.0979, 0.0986, 0.0993,\n",
       "        0.1000, 0.1007, 0.1014, 0.1021, 0.1028, 0.1035, 0.1042, 0.1050, 0.1057,\n",
       "        0.1064, 0.1072, 0.1079, 0.1087, 0.1094, 0.1102, 0.1109, 0.1117, 0.1125,\n",
       "        0.1133, 0.1140, 0.1148, 0.1156, 0.1164, 0.1172, 0.1181, 0.1189, 0.1197,\n",
       "        0.1205, 0.1214, 0.1222, 0.1231, 0.1239, 0.1248, 0.1256, 0.1265, 0.1274,\n",
       "        0.1283, 0.1292, 0.1301, 0.1310, 0.1319, 0.1328, 0.1337, 0.1346, 0.1356,\n",
       "        0.1365, 0.1374, 0.1384, 0.1394, 0.1403, 0.1413, 0.1423, 0.1433, 0.1443,\n",
       "        0.1453, 0.1463, 0.1473, 0.1483, 0.1493, 0.1504, 0.1514, 0.1525, 0.1535,\n",
       "        0.1546, 0.1557, 0.1567, 0.1578, 0.1589, 0.1600, 0.1611, 0.1623, 0.1634,\n",
       "        0.1645, 0.1657, 0.1668, 0.1680, 0.1691, 0.1703, 0.1715, 0.1727, 0.1739,\n",
       "        0.1751, 0.1763, 0.1775, 0.1788, 0.1800, 0.1812, 0.1825, 0.1838, 0.1850,\n",
       "        0.1863, 0.1876, 0.1889, 0.1902, 0.1916, 0.1929, 0.1942, 0.1956, 0.1969,\n",
       "        0.1983, 0.1997, 0.2010, 0.2024, 0.2038, 0.2053, 0.2067, 0.2081, 0.2096,\n",
       "        0.2110, 0.2125, 0.2140, 0.2154, 0.2169, 0.2184, 0.2200, 0.2215, 0.2230,\n",
       "        0.2246, 0.2261, 0.2277, 0.2293, 0.2309, 0.2325, 0.2341, 0.2357, 0.2373,\n",
       "        0.2390, 0.2406, 0.2423, 0.2440, 0.2457, 0.2474, 0.2491, 0.2508, 0.2526,\n",
       "        0.2543, 0.2561, 0.2579, 0.2597, 0.2615, 0.2633, 0.2651, 0.2669, 0.2688,\n",
       "        0.2707, 0.2725, 0.2744, 0.2763, 0.2783, 0.2802, 0.2821, 0.2841, 0.2861,\n",
       "        0.2880, 0.2900, 0.2921, 0.2941, 0.2961, 0.2982, 0.3002, 0.3023, 0.3044,\n",
       "        0.3065, 0.3087, 0.3108, 0.3130, 0.3151, 0.3173, 0.3195, 0.3217, 0.3240,\n",
       "        0.3262, 0.3285, 0.3308, 0.3331, 0.3354, 0.3377, 0.3400, 0.3424, 0.3448,\n",
       "        0.3472, 0.3496, 0.3520, 0.3544, 0.3569, 0.3594, 0.3619, 0.3644, 0.3669,\n",
       "        0.3695, 0.3720, 0.3746, 0.3772, 0.3798, 0.3825, 0.3851, 0.3878, 0.3905,\n",
       "        0.3932, 0.3959, 0.3987, 0.4014, 0.4042, 0.4070, 0.4098, 0.4127, 0.4155,\n",
       "        0.4184, 0.4213, 0.4243, 0.4272, 0.4302, 0.4331, 0.4362, 0.4392, 0.4422,\n",
       "        0.4453, 0.4484, 0.4515, 0.4546, 0.4578, 0.4610, 0.4642, 0.4674, 0.4706,\n",
       "        0.4739, 0.4772, 0.4805, 0.4838, 0.4872, 0.4906, 0.4940, 0.4974, 0.5008,\n",
       "        0.5043, 0.5078, 0.5113, 0.5149, 0.5185, 0.5221, 0.5257, 0.5293, 0.5330,\n",
       "        0.5367, 0.5404, 0.5442, 0.5479, 0.5517, 0.5556, 0.5594, 0.5633, 0.5672,\n",
       "        0.5712, 0.5751, 0.5791, 0.5831, 0.5872, 0.5913, 0.5954, 0.5995, 0.6036,\n",
       "        0.6078, 0.6120, 0.6163, 0.6206, 0.6249, 0.6292, 0.6336, 0.6380, 0.6424,\n",
       "        0.6469, 0.6513, 0.6559, 0.6604, 0.6650, 0.6696, 0.6743, 0.6789, 0.6837,\n",
       "        0.6884, 0.6932, 0.6980, 0.7028, 0.7077, 0.7126, 0.7176, 0.7225, 0.7275,\n",
       "        0.7326, 0.7377, 0.7428, 0.7480, 0.7531, 0.7584, 0.7636, 0.7689, 0.7743,\n",
       "        0.7796, 0.7850, 0.7905, 0.7960, 0.8015, 0.8071, 0.8127, 0.8183, 0.8240,\n",
       "        0.8297, 0.8355, 0.8412, 0.8471, 0.8530, 0.8589, 0.8648, 0.8708, 0.8769,\n",
       "        0.8830, 0.8891, 0.8953, 0.9015, 0.9077, 0.9140, 0.9204, 0.9268, 0.9332,\n",
       "        0.9397, 0.9462, 0.9528, 0.9594, 0.9660, 0.9727, 0.9795, 0.9863, 0.9931,\n",
       "        1.0000])"
      ]
     },
     "execution_count": 322,
     "metadata": {},
     "output_type": "execute_result"
    }
   ],
   "source": [
    "lrs"
   ]
  },
  {
   "cell_type": "code",
   "execution_count": 234,
   "metadata": {},
   "outputs": [],
   "source": [
    "lri = []\n",
    "lossi = []\n",
    "stepi = []"
   ]
  },
  {
   "cell_type": "code",
   "execution_count": 235,
   "metadata": {},
   "outputs": [
    {
     "data": {
      "text/plain": [
       "tensor([[ 1.5674e+00, -2.3729e-01, -2.7385e-02, -1.1008e+00,  2.8588e-01,\n",
       "         -2.9644e-02, -1.5471e+00,  6.0489e-01,  7.9136e-02,  9.0462e-01],\n",
       "        [-4.7125e-01,  7.8682e-01, -3.2844e-01, -4.3297e-01,  1.3729e+00,\n",
       "          2.9334e+00,  1.5618e+00, -1.6261e+00,  6.7716e-01, -8.4040e-01],\n",
       "        [ 9.8488e-01, -1.4837e-01, -1.4795e+00,  4.4830e-01, -7.0731e-02,\n",
       "          2.4968e+00,  2.4448e+00, -6.7006e-01, -1.2199e+00,  3.0314e-01],\n",
       "        [-1.0725e+00,  7.2762e-01,  5.1114e-02,  1.3095e+00, -8.0220e-01,\n",
       "         -8.5042e-01, -1.8068e+00,  1.2523e+00, -1.2256e+00,  1.2165e+00],\n",
       "        [-9.6478e-01, -2.3211e-01, -3.4762e-01,  3.3244e-01, -1.3263e+00,\n",
       "          1.1224e+00,  5.9641e-01,  4.5846e-01,  5.4011e-02, -1.7400e+00],\n",
       "        [ 1.1560e-01,  8.0319e-01,  5.4108e-01, -1.1646e+00,  1.4756e-01,\n",
       "         -1.0006e+00,  3.8012e-01,  4.7328e-01, -9.1027e-01, -7.8305e-01],\n",
       "        [ 1.3506e-01, -2.1161e-01, -1.0406e+00, -1.5367e+00,  9.3743e-01,\n",
       "         -8.8303e-01,  1.7457e+00,  2.1346e+00, -8.5614e-01,  5.4082e-01],\n",
       "        [ 6.1690e-01,  1.5160e+00, -1.0447e+00, -6.6414e-01, -7.2390e-01,\n",
       "          1.7507e+00,  1.7530e-01,  9.9280e-01, -6.2787e-01,  7.7023e-02],\n",
       "        [-1.1641e+00,  1.2473e+00, -2.7061e-01, -1.3635e+00,  1.3066e+00,\n",
       "          3.2307e-01,  1.0358e+00, -8.6249e-01, -1.2575e+00,  9.4180e-01],\n",
       "        [-1.3257e+00,  1.4670e-01,  1.6913e-01, -1.5397e+00, -7.2759e-01,\n",
       "          1.1491e+00, -8.7462e-01, -2.9771e-01, -1.3707e+00,  1.1500e-01],\n",
       "        [-1.0188e+00, -8.3777e-01, -2.1057e+00, -2.6044e-01, -1.7149e+00,\n",
       "         -3.3787e-01, -1.8263e+00, -8.3897e-01, -1.5723e+00,  4.5795e-01],\n",
       "        [-5.6533e-01,  5.4281e-01,  1.7549e-01, -2.2901e+00, -7.0928e-01,\n",
       "         -2.9284e-01, -2.1803e+00,  7.9311e-02,  9.0187e-01,  1.2028e+00],\n",
       "        [-5.6144e-01, -1.3753e-01, -1.3799e-01, -2.0977e+00, -7.9238e-01,\n",
       "          6.0689e-01, -1.4777e+00, -5.1029e-01,  5.6421e-01,  9.6838e-01],\n",
       "        [-3.1114e-01, -3.0603e-01, -1.7495e+00, -1.6335e+00,  3.8761e-01,\n",
       "          4.7236e-01,  1.4830e+00,  3.1748e-01,  1.0588e+00,  2.3982e+00],\n",
       "        [ 4.6827e-01, -6.5650e-01,  6.1662e-01, -6.2198e-01,  5.1007e-01,\n",
       "          1.3563e+00,  2.3445e-01, -4.5585e-01, -1.3132e-03, -5.1161e-01],\n",
       "        [ 5.5570e-01,  4.7458e-01, -1.3867e+00,  1.6229e+00,  1.7197e-01,\n",
       "          9.8846e-01,  5.0657e-01,  1.0198e+00, -1.9062e+00, -4.2753e-01],\n",
       "        [-2.1259e+00,  9.6041e-01,  1.2482e+00,  2.5341e-01,  2.8188e+00,\n",
       "         -3.3983e-01,  7.0311e-01,  4.0716e-01, -1.9018e-01, -6.9652e-01],\n",
       "        [ 1.7039e+00,  7.4204e-01,  9.7370e-01,  3.0028e-01, -2.8971e-01,\n",
       "         -3.1566e-01, -8.7898e-01,  1.0661e-01,  1.8598e+00,  5.5752e-02],\n",
       "        [ 1.2815e+00, -6.3182e-01, -1.2464e+00,  6.8305e-01, -3.9455e-01,\n",
       "          1.4388e-02,  5.7216e-01,  8.6726e-01,  6.3149e-01, -1.2230e+00],\n",
       "        [-2.1286e-01,  5.0950e-01,  3.2713e-01,  1.9661e+00, -2.4091e-01,\n",
       "         -7.9515e-01,  2.7198e-01, -1.1100e+00, -4.5285e-01, -4.9578e-01],\n",
       "        [ 1.2648e+00,  1.4625e+00,  1.1199e+00,  9.9539e-01, -1.2353e+00,\n",
       "          7.3818e-01,  8.1415e-01, -7.3806e-01,  5.6714e-01, -1.4601e+00],\n",
       "        [-2.4780e-01,  8.8282e-01, -8.1004e-02, -9.5299e-01, -4.8838e-01,\n",
       "         -7.3712e-01,  7.0609e-01, -1.9295e-01,  1.2348e+00,  3.3308e-01],\n",
       "        [ 1.3283e+00, -1.0921e+00, -8.3952e-01,  1.9098e-01, -7.1750e-01,\n",
       "         -3.8668e-01, -1.2542e+00,  1.2068e+00, -1.7102e+00, -4.7701e-01],\n",
       "        [-1.0527e+00, -1.4367e-01, -2.7737e-01,  1.1634e+00, -6.6910e-01,\n",
       "          6.4918e-01,  5.8243e-01,  1.9264e+00, -3.7846e-01,  7.9577e-03],\n",
       "        [ 5.1068e-01,  7.5927e-01, -1.6086e+00, -1.6065e-01,  1.3784e+00,\n",
       "         -2.7804e-01,  2.0710e-01,  1.0033e+00, -5.9772e-01, -3.9771e-01],\n",
       "        [-1.2801e+00,  9.2445e-02,  1.0526e-01, -3.9072e-01,  3.1723e-02,\n",
       "         -5.4753e-01,  8.1827e-01, -8.1628e-01, -3.9243e-01, -7.4521e-01],\n",
       "        [-9.4649e-01, -1.5941e-01, -1.9336e-01, -3.7660e-01, -4.9158e-02,\n",
       "          9.3866e-02, -6.4533e-01,  1.2108e+00, -7.8198e-01,  3.8449e-01]],\n",
       "       requires_grad=True)"
      ]
     },
     "execution_count": 235,
     "metadata": {},
     "output_type": "execute_result"
    }
   ],
   "source": [
    "C"
   ]
  },
  {
   "cell_type": "code",
   "execution_count": 330,
   "metadata": {},
   "outputs": [
    {
     "data": {
      "text/plain": [
       "tensor([14,  7,  1, 19,  1, 13,  3,  1,  1, 18, 21, 14,  4, 20,  1, 18,  9,  1,\n",
       "         3, 21,  0, 22,  9,  6,  3,  2, 12, 23,  1,  9, 12,  5, 25,  2,  1,  9,\n",
       "        25, 12, 14,  1,  9,  1, 19,  1,  5, 13,  0, 15,  9,  5,  0,  1,  1, 14,\n",
       "         0, 14, 23,  9, 25, 20,  0, 14,  5,  1])"
      ]
     },
     "execution_count": 330,
     "metadata": {},
     "output_type": "execute_result"
    }
   ],
   "source": [
    "y_train[ix]"
   ]
  },
  {
   "cell_type": "code",
   "execution_count": 331,
   "metadata": {},
   "outputs": [
    {
     "data": {
      "text/plain": [
       "tensor([[11.9206,  5.6528,  4.7943,  5.0863,  5.7310,  7.4090,  4.4110,  0.5325,\n",
       "          8.6380,  5.7993,  4.2375,  4.3242,  6.9594,  6.4541,  8.9456,  3.3343,\n",
       "          2.6501,  0.6253,  7.5920,  7.2971,  6.4229,  5.4708,  3.8845,  3.5194,\n",
       "          1.4624,  6.2334,  1.5439]], grad_fn=<AddBackward0>)"
      ]
     },
     "execution_count": 331,
     "metadata": {},
     "output_type": "execute_result"
    }
   ],
   "source": [
    "logits"
   ]
  },
  {
   "cell_type": "code",
   "execution_count": 257,
   "metadata": {},
   "outputs": [],
   "source": [
    "batch_size = 64\n",
    "\n",
    "for i in range(200_000):\n",
    "  # minibatch construct\n",
    "  ix = torch.randint(0, X_train.shape[0], (batch_size,))\n",
    "  \n",
    "  # forward pass\n",
    "  emb = C[X_train[ix]] # (32, 3, 10)\n",
    "  h = torch.tanh(emb.view(-1, num_inputs) @ W1 + b1) # (32, 200)\n",
    "  logits = h @ W2 + b2\n",
    "  loss = F.cross_entropy(logits, y_train[ix])\n",
    "  #print(loss.item())\n",
    "  \n",
    "  # backward pass\n",
    "  for p in parameters:\n",
    "    p.grad = None\n",
    "  loss.backward()\n",
    "  \n",
    "  # update\n",
    "  #lr = lrs[i]\n",
    "  lr = 0.1 if i < 100000 else 0.01\n",
    "  for p in parameters:\n",
    "    p.data += -lr * p.grad\n",
    "\n",
    "  # track stats\n",
    "  #lri.append(lre[i])\n",
    "  stepi.append(i)\n",
    "  lossi.append(loss.log10().item())\n",
    "\n",
    "#print(loss.item())"
   ]
  },
  {
   "cell_type": "code",
   "execution_count": 258,
   "metadata": {},
   "outputs": [
    {
     "data": {
      "text/plain": [
       "tensor([[ 1.8768, -0.1808,  0.1652, -1.4020,  1.1251,  0.7924, -1.5009,  0.4526,\n",
       "          1.8750,  1.9589],\n",
       "        [-0.5577,  0.6830, -0.6480, -0.3702,  0.1094,  1.5133,  0.0904,  0.6914,\n",
       "         -0.1151,  0.1073],\n",
       "        [-0.2898,  0.3895, -0.5767, -0.9032, -0.4827,  0.9840,  0.2378,  0.9603,\n",
       "          0.5400,  0.3341],\n",
       "        [ 0.1038, -0.0903, -0.5776, -0.8485, -0.5694,  1.4647,  0.5340,  0.6959,\n",
       "          0.5630,  0.3360],\n",
       "        [-0.1450,  0.3803, -0.3409, -1.0579, -0.3510,  0.9753,  0.5760,  0.4202,\n",
       "          0.1882,  0.3523],\n",
       "        [-0.9559,  0.6703, -0.4181, -0.7300,  0.1726,  1.5757,  0.3527,  0.4465,\n",
       "          0.1083,  0.2801],\n",
       "        [-0.1457,  0.6461, -0.4809, -0.8023, -0.4948,  0.9708,  0.6987,  0.6930,\n",
       "          0.3005,  0.5576],\n",
       "        [ 0.0231,  0.5947, -0.4854, -1.0130, -0.7053,  1.1325,  0.1766,  0.9178,\n",
       "          0.2873,  0.3912],\n",
       "        [-0.4432,  0.5620, -0.5296, -1.0086, -0.0582,  0.8621,  0.9213,  0.4642,\n",
       "          0.4663,  0.1060],\n",
       "        [-0.9739,  0.4517, -0.4094, -0.4097,  0.0265,  1.9354,  0.8980,  0.4750,\n",
       "          0.4393,  0.5212],\n",
       "        [-0.3856,  0.1349, -0.6981, -0.9999, -0.2976,  0.9794,  0.9608,  0.2371,\n",
       "          0.6013,  0.6160],\n",
       "        [ 0.1229,  0.2297, -0.6797, -0.9593, -0.3081,  0.9826,  0.6233,  0.3494,\n",
       "          0.4238,  0.0146],\n",
       "        [-0.4256,  0.0055, -0.5149, -1.3721, -0.6872,  1.1339,  0.4528, -0.2026,\n",
       "          0.4905,  0.9713],\n",
       "        [-0.3375,  0.0855, -0.5908, -1.1233, -0.3862,  0.8775,  0.9925,  0.8301,\n",
       "          0.0889,  0.3620],\n",
       "        [-0.2944, -0.0104, -1.2058, -0.7756, -0.1295,  0.9549,  0.9200,  0.5824,\n",
       "         -0.0807,  0.4274],\n",
       "        [-0.7260,  0.9456, -0.5666, -0.2202, -0.1655,  1.4502,  0.2915,  0.5739,\n",
       "          0.2270,  0.2740],\n",
       "        [ 0.1610,  0.2550, -0.5065, -0.7671, -0.7053,  1.1185,  0.2203,  0.7319,\n",
       "          0.3874,  0.2650],\n",
       "        [ 0.0139,  0.4982, -1.1681, -0.4459,  0.0025, -0.4596,  0.3331,  0.5482,\n",
       "          1.0711,  0.0277],\n",
       "        [-0.1023,  0.1648, -0.8834, -1.3533, -0.3281,  0.9665,  0.6956,  0.0827,\n",
       "          0.1788,  0.4136],\n",
       "        [ 0.1462,  0.2028, -0.1649, -1.0318, -0.2386,  1.3382,  0.3998,  0.1139,\n",
       "          0.4103,  0.1847],\n",
       "        [ 0.1626,  0.1991, -0.3350, -1.0013, -0.4299,  1.1982,  0.4327,  0.4011,\n",
       "          0.2293,  0.3028],\n",
       "        [-0.6292,  0.8404, -0.2936, -0.3353, -0.2168,  1.6388,  0.3334,  0.6092,\n",
       "          0.4677,  0.4029],\n",
       "        [-0.2528,  0.1938, -0.3410, -1.4272, -0.4776,  1.0502,  1.1061,  0.4001,\n",
       "          0.2006,  0.7608],\n",
       "        [-0.1584,  0.6607, -0.7090, -1.0705, -1.0453,  1.0894,  0.5908,  0.5526,\n",
       "          0.7308,  0.5507],\n",
       "        [-0.1389,  0.9646, -0.7322, -1.1075,  0.1020,  0.7420,  0.8451,  0.3493,\n",
       "          0.0457,  0.4012],\n",
       "        [-0.7374,  1.0511, -0.7759, -0.6949, -0.0827,  1.0805,  0.8932, -0.2509,\n",
       "          0.4229,  0.4930],\n",
       "        [-0.1081,  0.2350, -0.6161, -0.8765, -0.1557,  0.8938,  0.6654,  0.3249,\n",
       "          0.0776,  0.2572]], requires_grad=True)"
      ]
     },
     "execution_count": 258,
     "metadata": {},
     "output_type": "execute_result"
    }
   ],
   "source": [
    "C"
   ]
  },
  {
   "cell_type": "code",
   "execution_count": 259,
   "metadata": {},
   "outputs": [
    {
     "data": {
      "text/plain": [
       "0.262961745262146"
      ]
     },
     "execution_count": 259,
     "metadata": {},
     "output_type": "execute_result"
    }
   ],
   "source": [
    "lossi[-1]"
   ]
  },
  {
   "cell_type": "code",
   "execution_count": 260,
   "metadata": {},
   "outputs": [
    {
     "data": {
      "text/plain": [
       "[<matplotlib.lines.Line2D at 0xffff34b66c90>]"
      ]
     },
     "execution_count": 260,
     "metadata": {},
     "output_type": "execute_result"
    },
    {
     "data": {
      "image/png": "[encoded data removed]",
      "text/plain": [
       "<Figure size 640x480 with 1 Axes>"
      ]
     },
     "metadata": {},
     "output_type": "display_data"
    }
   ],
   "source": [
    "from matplotlib import pyplot as plt\n",
    "plt.plot(stepi, lossi)"
   ]
  },
  {
   "attachments": {},
   "cell_type": "markdown",
   "metadata": {},
   "source": [
    "---"
   ]
  },
  {
   "cell_type": "code",
   "execution_count": 261,
   "metadata": {},
   "outputs": [
    {
     "data": {
      "text/plain": [
       "tensor(2.1797, grad_fn=<NllLossBackward0>)"
      ]
     },
     "execution_count": 261,
     "metadata": {},
     "output_type": "execute_result"
    }
   ],
   "source": [
    "emb = C[X_train] # (32, 3, 2)\n",
    "h = torch.tanh(emb.view(-1, num_inputs) @ W1 + b1) # (32, 100)\n",
    "logits = h @ W2 + b2 # (32, 27)\n",
    "loss = F.cross_entropy(logits, y_train)\n",
    "loss"
   ]
  },
  {
   "cell_type": "code",
   "execution_count": 338,
   "metadata": {},
   "outputs": [
    {
     "data": {
      "text/plain": [
       "tensor(2.1983, grad_fn=<NllLossBackward0>)"
      ]
     },
     "execution_count": 338,
     "metadata": {},
     "output_type": "execute_result"
    }
   ],
   "source": [
    "emb = C[X_dev] # (32, 3, 2)\n",
    "h = torch.tanh(emb.view(-1, num_inputs) @ W1 + b1) # (32, 100)\n",
    "logits = h @ W2 + b2 # (32, 27)\n",
    "loss = F.cross_entropy(logits, y_dev)\n",
    "loss"
   ]
  },
  {
   "cell_type": "code",
   "execution_count": 263,
   "metadata": {},
   "outputs": [
    {
     "data": {
      "image/png": "[encoded data removed]",
      "text/plain": [
       "<Figure size 800x800 with 1 Axes>"
      ]
     },
     "metadata": {},
     "output_type": "display_data"
    }
   ],
   "source": [
    "# visualize dimensions 0 and 1 of the embedding matrix C for all characters\n",
    "from matplotlib import pyplot as plt\n",
    "\n",
    "\n",
    "plt.figure(figsize=(8,8))\n",
    "plt.scatter(C[:,0].data, C[:,1].data, s=200)\n",
    "for i in range(C.shape[0]):\n",
    "    plt.text(C[i,0].item(), C[i,1].item(), itos[i], ha=\"center\", va=\"center\", color='white')\n",
    "plt.grid('minor')"
   ]
  },
  {
   "attachments": {},
   "cell_type": "markdown",
   "metadata": {},
   "source": [
    "---"
   ]
  },
  {
   "cell_type": "code",
   "execution_count": 264,
   "metadata": {},
   "outputs": [
    {
     "data": {
      "text/plain": [
       "tensor([[ 1.8768, -0.1808,  0.1652,  ...,  0.4750,  0.4393,  0.5212]],\n",
       "       grad_fn=<ViewBackward0>)"
      ]
     },
     "execution_count": 264,
     "metadata": {},
     "output_type": "execute_result"
    }
   ],
   "source": [
    "emb.view(1, -1)"
   ]
  },
  {
   "cell_type": "code",
   "execution_count": 319,
   "metadata": {},
   "outputs": [
    {
     "name": "stdout",
     "output_type": "stream",
     "text": [
      "clikaano.\n",
      "aritah.\n",
      "cesan.\n",
      "sekcyn.\n",
      "shaylah.\n",
      "gonygesle.\n",
      "katritp.\n",
      "kasing.\n",
      "ashi.\n",
      "khiah.\n",
      "salynn.\n",
      "ayloshe.\n",
      "komey.\n",
      "dahlan.\n",
      "caylie.\n",
      "elbolah.\n",
      "rayden.\n",
      "shian.\n",
      "jezboin.\n",
      "yanedha.\n"
     ]
    }
   ],
   "source": [
    "# sample from the model\n",
    "g = torch.Generator().manual_seed(2147483647 + 10)\n",
    "\n",
    "for _ in range(20):\n",
    "    \n",
    "    out = []\n",
    "    context = [0] * context_size # initialize with all ...\n",
    "    while True:\n",
    "      emb = C[torch.tensor([context])] # (1,block_size,d)\n",
    "      h = torch.tanh(emb.view(1, -1) @ W1 + b1)\n",
    "      logits = h @ W2 + b2\n",
    "      probs = F.softmax(logits, dim=1)\n",
    "      ix = torch.multinomial(probs, num_samples=1, generator=None).item()\n",
    "      context = context[1:] + [ix]\n",
    "      out.append(ix)\n",
    "      if ix == 0:\n",
    "        break\n",
    "    \n",
    "    print(''.join(itos[i] for i in out))"
   ]
  },
  {
   "attachments": {},
   "cell_type": "markdown",
   "metadata": {},
   "source": [
    "---"
   ]
  }
 ],
 "metadata": {
  "kernelspec": {
   "display_name": "Python 3",
   "language": "python",
   "name": "python3"
  },
  "language_info": {
   "codemirror_mode": {
    "name": "ipython",
    "version": 3
   },
   "file_extension": ".py",
   "mimetype": "text/x-python",
   "name": "python",
   "nbconvert_exporter": "python",
   "pygments_lexer": "ipython3",
   "version": "3.11.3"
  },
  "orig_nbformat": 4
 },
 "nbformat": 4,
 "nbformat_minor": 2
}
