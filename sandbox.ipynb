{
 "cells": [
  {
   "cell_type": "markdown",
   "metadata": {},
   "source": [
    "https://www.youtube.com/watch?v=VMj-3S1tku0\n",
    "\n",
    "- Autograd: automatic gradient (implements backpropegation)\n",
    "- backpropegation is an algorithm that you to effeciently evaluate the gradient of some loss function with respect to the weights of a neural network. That allows us to iteratively tune the weights and reduce the loss of the loss function\n",
    "    - back propagation allows us to recursively apply the chain rule from calculus. \n"
   ]
  },
  {
   "cell_type": "code",
   "execution_count": 1,
   "metadata": {},
   "outputs": [
    {
     "data": {
      "text/plain": [
       "4.0"
      ]
     },
     "execution_count": 1,
     "metadata": {},
     "output_type": "execute_result"
    }
   ],
   "source": [
    "import torch\n",
    "\n",
    "# Define the variable x and indicate that we need its gradient\n",
    "x = torch.tensor([2.0], requires_grad=True)\n",
    "\n",
    "# Define the expression x^2\n",
    "y = x ** 2\n",
    "\n",
    "# Perform the backward pass to compute the gradient\n",
    "y.backward()\n",
    "\n",
    "# The gradient is stored in x.grad\n",
    "x_grad = x.grad\n",
    "\n",
    "x_grad.item()  # Displaying the gradient value\n",
    "\n"
   ]
  },
  {
   "cell_type": "code",
   "execution_count": 8,
   "metadata": {},
   "outputs": [
    {
     "name": "stdout",
     "output_type": "stream",
     "text": [
      "2*x + 3\n"
     ]
    }
   ],
   "source": [
    "import sympy as sp\n",
    "\n",
    "# Define a symbolic variable\n",
    "x = sp.symbols('x')\n",
    "y = sp.symbols('y')\n",
    "\n",
    "# Define a function\n",
    "f = x**2 + 3*x + 5 + 2*y\n",
    "\n",
    "# Compute the derivative\n",
    "d_f = sp.diff(f, x)\n",
    "\n",
    "print(d_f)"
   ]
  },
  {
   "cell_type": "code",
   "execution_count": 19,
   "metadata": {},
   "outputs": [
    {
     "data": {
      "text/latex": [
       "$\\displaystyle 26.0$"
      ],
      "text/plain": [
       "26.0000000000000"
      ]
     },
     "execution_count": 19,
     "metadata": {},
     "output_type": "execute_result"
    }
   ],
   "source": [
    "f.evalf(subs={'x': 1, 'y': 2}) * 2"
   ]
  },
  {
   "cell_type": "code",
   "execution_count": 20,
   "metadata": {},
   "outputs": [
    {
     "data": {
      "text/latex": [
       "$\\displaystyle 5.0$"
      ],
      "text/plain": [
       "5.00000000000000"
      ]
     },
     "execution_count": 20,
     "metadata": {},
     "output_type": "execute_result"
    }
   ],
   "source": [
    "d_f.evalf(subs={'x': 1, 'y': 2})"
   ]
  },
  {
   "cell_type": "code",
   "execution_count": null,
   "metadata": {},
   "outputs": [],
   "source": []
  },
  {
   "cell_type": "code",
   "execution_count": 34,
   "metadata": {},
   "outputs": [
    {
     "name": "stdout",
     "output_type": "stream",
     "text": [
      "2*x + 2\n"
     ]
    }
   ],
   "source": [
    "import sympy as sp\n",
    "\n",
    "x = sp.symbols('x')\n",
    "f = x**2 + 2*x\n",
    "\n",
    "d_f = sp.diff(f, x)\n",
    "print(d_f)"
   ]
  },
  {
   "cell_type": "code",
   "execution_count": 35,
   "metadata": {},
   "outputs": [],
   "source": [
    "import numpy as np\n",
    "\n",
    "values = np.arange(-20, 21)\n",
    "y = [f.evalf(subs={'x': x}) for x in values]\n",
    "d_y = [d_f.evalf(subs={'x': x}) for x in values]"
   ]
  },
  {
   "cell_type": "code",
   "execution_count": 36,
   "metadata": {},
   "outputs": [
    {
     "data": {
      "text/plain": [
       "[<matplotlib.lines.Line2D at 0xffff312d4d50>]"
      ]
     },
     "execution_count": 36,
     "metadata": {},
     "output_type": "execute_result"
    },
    {
     "data": {
      "image/png": "[encoded data removed]",
      "text/plain": [
       "<Figure size 640x480 with 1 Axes>"
      ]
     },
     "metadata": {},
     "output_type": "display_data"
    }
   ],
   "source": [
    "import matplotlib.pyplot as plt\n",
    "plt.plot(values, y)\n",
    "plt.plot(values, d_y)"
   ]
  },
  {
   "cell_type": "code",
   "execution_count": 38,
   "metadata": {},
   "outputs": [
    {
     "name": "stdout",
     "output_type": "stream",
     "text": [
      "[-1]\n"
     ]
    }
   ],
   "source": [
    "# Solve derivative_f = 0\n",
    "critical_points = sp.solve(d_f, x)\n",
    "print(critical_points)"
   ]
  },
  {
   "cell_type": "code",
   "execution_count": null,
   "metadata": {},
   "outputs": [],
   "source": []
  },
  {
   "cell_type": "code",
   "execution_count": 39,
   "metadata": {},
   "outputs": [
    {
     "name": "stdout",
     "output_type": "stream",
     "text": [
      "{x: 0, y: 0, z: -5/2}\n"
     ]
    }
   ],
   "source": [
    "import sympy as sp\n",
    "\n",
    "# Define symbolic variables\n",
    "x, y, z = sp.symbols('x y z')\n",
    "\n",
    "# Define a function of x, y, z\n",
    "f = x**2 + y**2 + z**2 + 3*x*y + 5*z\n",
    "\n",
    "# Compute the partial derivatives\n",
    "partial_derivative_x = sp.diff(f, x)\n",
    "partial_derivative_y = sp.diff(f, y)\n",
    "partial_derivative_z = sp.diff(f, z)\n",
    "\n",
    "# Solve the system of equations\n",
    "critical_points = sp.solve((partial_derivative_x, partial_derivative_y, partial_derivative_z), (x, y, z))\n",
    "\n",
    "print(critical_points)\n"
   ]
  },
  {
   "cell_type": "code",
   "execution_count": null,
   "metadata": {},
   "outputs": [],
   "source": []
  },
  {
   "cell_type": "code",
   "execution_count": null,
   "metadata": {},
   "outputs": [],
   "source": []
  }
 ],
 "metadata": {
  "kernelspec": {
   "display_name": "Python 3",
   "language": "python",
   "name": "python3"
  },
  "language_info": {
   "codemirror_mode": {
    "name": "ipython",
    "version": 3
   },
   "file_extension": ".py",
   "mimetype": "text/x-python",
   "name": "python",
   "nbconvert_exporter": "python",
   "pygments_lexer": "ipython3",
   "version": "3.11.7"
  }
 },
 "nbformat": 4,
 "nbformat_minor": 2
}
