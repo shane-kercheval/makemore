{
 "cells": [
  {
   "cell_type": "markdown",
   "metadata": {},
   "source": [
    "# Part 2\n",
    "\n",
    "https://www.youtube.com/watch?v=TCH_1BHY58I"
   ]
  },
  {
   "cell_type": "code",
   "execution_count": 231,
   "metadata": {},
   "outputs": [
    {
     "name": "stdout",
     "output_type": "stream",
     "text": [
      "['emma', 'olivia', 'ava', 'isabella', 'sophia', 'charlotte', 'mia', 'amelia']\n"
     ]
    },
    {
     "data": {
      "text/plain": [
       "32033"
      ]
     },
     "execution_count": 231,
     "metadata": {},
     "output_type": "execute_result"
    }
   ],
   "source": [
    "import torch\n",
    "import torch.nn.functional as F\n",
    "# print the loss values\n",
    "import matplotlib.pyplot as plt\n",
    "import math\n",
    "import pandas as pd\n",
    "import numpy as np\n",
    "\n",
    "%matplotlib inline\n",
    "\n",
    "words = open('/code/names.txt').read().splitlines()\n",
    "print(words[:8])\n",
    "len(words)"
   ]
  },
  {
   "cell_type": "code",
   "execution_count": 232,
   "metadata": {},
   "outputs": [
    {
     "name": "stdout",
     "output_type": "stream",
     "text": [
      "['.', 'a', 'b', 'c', 'd', 'e', 'f', 'g', 'h', 'i', 'j', 'k', 'l', 'm', 'n', 'o', 'p', 'q', 'r', 's', 't', 'u', 'v', 'w', 'x', 'y', 'z']\n",
      "27\n",
      "{'.': 0, 'a': 1, 'b': 2, 'c': 3, 'd': 4, 'e': 5, 'f': 6, 'g': 7, 'h': 8, 'i': 9, 'j': 10, 'k': 11, 'l': 12, 'm': 13, 'n': 14, 'o': 15, 'p': 16, 'q': 17, 'r': 18, 's': 19, 't': 20, 'u': 21, 'v': 22, 'w': 23, 'x': 24, 'y': 25, 'z': 26}\n",
      "{0: '.', 1: 'a', 2: 'b', 3: 'c', 4: 'd', 5: 'e', 6: 'f', 7: 'g', 8: 'h', 9: 'i', 10: 'j', 11: 'k', 12: 'l', 13: 'm', 14: 'n', 15: 'o', 16: 'p', 17: 'q', 18: 'r', 19: 's', 20: 't', 21: 'u', 22: 'v', 23: 'w', 24: 'x', 25: 'y', 26: 'z'}\n"
     ]
    }
   ],
   "source": [
    "characters = ['.'] + sorted(list(set(''.join(words)))) \n",
    "print(characters)\n",
    "print(len(characters))\n",
    "token_mappings = {c:i for i,c in enumerate(characters)}\n",
    "index_to_character = {i:c for i,c in enumerate(characters)}\n",
    "print(token_mappings)\n",
    "print(index_to_character)"
   ]
  },
  {
   "cell_type": "markdown",
   "metadata": {},
   "source": [
    "---"
   ]
  },
  {
   "cell_type": "code",
   "execution_count": 233,
   "metadata": {},
   "outputs": [
    {
     "name": "stdout",
     "output_type": "stream",
     "text": [
      "[0, 0, 0] -> 5\n",
      "... -> e\n",
      "---\n",
      "[0, 0, 5] -> 13\n",
      "..e -> m\n",
      "---\n",
      "[0, 5, 13] -> 13\n",
      ".em -> m\n",
      "---\n",
      "[5, 13, 13] -> 1\n",
      "emm -> a\n",
      "---\n",
      "[13, 13, 1] -> 0\n",
      "mma -> .\n",
      "---\n",
      "[0, 0, 0] -> 15\n",
      "... -> o\n",
      "---\n",
      "[0, 0, 15] -> 12\n",
      "..o -> l\n",
      "---\n",
      "[0, 15, 12] -> 9\n",
      ".ol -> i\n",
      "---\n",
      "[15, 12, 9] -> 22\n",
      "oli -> v\n",
      "---\n",
      "[12, 9, 22] -> 9\n",
      "liv -> i\n",
      "---\n",
      "torch.Size([228146, 3])\n",
      "torch.Size([228146])\n"
     ]
    }
   ],
   "source": [
    "context_length = 3  # how many characters do we take to predict the next one?\n",
    "X, Y = [], []\n",
    "for word in words:\n",
    "    word = ('.' * context_length) + word + '.'\n",
    "    for i in range(len(word) - context_length):\n",
    "        X.append([token_mappings[c] for c in word[i:i+context_length]])\n",
    "        Y.append(token_mappings[word[i+context_length]])\n",
    "\n",
    "\n",
    "for x, y in zip(X[:10], Y[:10]):\n",
    "    print(f\"{x} -> {y}\")\n",
    "    print(f\"{''.join([index_to_character[i] for i in x])} -> {index_to_character[y]}\")\n",
    "    print('---')\n",
    "\n",
    "X = torch.tensor(X)\n",
    "Y = torch.tensor(Y)\n",
    "print(X.shape)\n",
    "print(Y.shape)"
   ]
  },
  {
   "cell_type": "markdown",
   "metadata": {},
   "source": [
    "## Embedding Layer"
   ]
  },
  {
   "cell_type": "code",
   "execution_count": 234,
   "metadata": {},
   "outputs": [
    {
     "name": "stdout",
     "output_type": "stream",
     "text": [
      "torch.Size([27, 2])\n",
      "Each of the 27 characters will have a 2-dimensional embedding\n"
     ]
    }
   ],
   "source": [
    "embedding_dimension = 2\n",
    "embedding_layer = torch.randn(len(characters), embedding_dimension)\n",
    "print(embedding_layer.shape)\n",
    "print(f\"Each of the {embedding_layer.shape[0]} characters will have a {embedding_layer.shape[1]}-dimensional embedding\")"
   ]
  },
  {
   "cell_type": "code",
   "execution_count": 235,
   "metadata": {},
   "outputs": [
    {
     "name": "stdout",
     "output_type": "stream",
     "text": [
      "7\n",
      "tensor([0.6822, 0.0837])\n",
      "tensor([0, 0, 0, 0, 0, 0, 0, 1, 0, 0, 0, 0, 0, 0, 0, 0, 0, 0, 0, 0, 0, 0, 0, 0,\n",
      "        0, 0, 0])\n",
      "tensor([0.6822, 0.0837])\n"
     ]
    }
   ],
   "source": [
    "# embedding for g\n",
    "print(token_mappings['g'])\n",
    "print(embedding_layer[token_mappings['g']])\n",
    "\n",
    "_g_one_hot = F.one_hot(torch.tensor(token_mappings['g']), num_classes=len(characters))\n",
    "print(_g_one_hot)\n",
    "# matrix multiplication\n",
    "# all indexes are 0 except for the index of 'g' so these will multiply to 0 and we are left    with\n",
    "# the embedding for 'g'\n",
    "print(_g_one_hot.float() @ embedding_layer)\n",
    "assert (_g_one_hot.float() @ embedding_layer == embedding_layer[token_mappings['g']]).all()"
   ]
  },
  {
   "cell_type": "code",
   "execution_count": 236,
   "metadata": {},
   "outputs": [
    {
     "name": "stdout",
     "output_type": "stream",
     "text": [
      "tensor([[0, 0, 0],\n",
      "        [0, 0, 5]])\n",
      "tensor([[[-0.5259, -0.6364],\n",
      "         [-0.5259, -0.6364],\n",
      "         [-0.5259, -0.6364]],\n",
      "\n",
      "        [[-0.5259, -0.6364],\n",
      "         [-0.5259, -0.6364],\n",
      "         [-0.0447, -0.9903]]])\n"
     ]
    }
   ],
   "source": [
    "# X contains the indexes of the characters in the context\n",
    "# we can index by X to get the corresponding embeddings for each character in X\n",
    "print(X[0:2])\n",
    "print(embedding_layer[X[0:2]])"
   ]
  },
  {
   "cell_type": "code",
   "execution_count": 237,
   "metadata": {},
   "outputs": [
    {
     "name": "stdout",
     "output_type": "stream",
     "text": [
      "torch.Size([228146, 3])\n",
      "Our data contains 228146 examples with 3 context/characters each.\n",
      "torch.Size([228146, 3, 2])\n",
      "Each of the 228146 examples will contain 3 context/characters, each having a 2-dimensional embedding representation.\n"
     ]
    }
   ],
   "source": [
    "embeddings = embedding_layer[X]\n",
    "print(X.shape)\n",
    "print(f\"Our data contains {X.shape[0]} examples with {X.shape[1]} context/characters each.\")\n",
    "print(embeddings.shape)\n",
    "print(f\"Each of the {embeddings.shape[0]} examples will contain {embeddings.shape[1]} context/characters, each having a {embeddings.shape[2]}-dimensional embedding representation.\")"
   ]
  },
  {
   "cell_type": "markdown",
   "metadata": {},
   "source": [
    "## Hidden Layer"
   ]
  },
  {
   "cell_type": "code",
   "execution_count": 238,
   "metadata": {},
   "outputs": [
    {
     "name": "stdout",
     "output_type": "stream",
     "text": [
      "We have 3 characters in our context and each character has a 2-dimensional embedding representation.\n",
      "torch.Size([6, 100])\n",
      "torch.Size([100])\n"
     ]
    }
   ],
   "source": [
    "print(f\"We have {context_length} characters in our context and each character has a {embedding_dimension}-dimensional embedding representation.\")\n",
    "num_neurons = 100\n",
    "W1 = torch.randn(context_length * embedding_dimension, num_neurons)\n",
    "# b1 (bias) will be added to each row of the result of matrix multiplication of embeddings and W1\n",
    "b1 = torch.randn(num_neurons)\n",
    "print(W1.shape)\n",
    "print(b1.shape)"
   ]
  },
  {
   "cell_type": "code",
   "execution_count": 239,
   "metadata": {},
   "outputs": [
    {
     "name": "stdout",
     "output_type": "stream",
     "text": [
      "tensor([ 0,  1,  2,  3,  4,  5,  6,  7,  8,  9, 10, 11, 12, 13, 14, 15, 16, 17])\n",
      "tensor([[ 0,  1,  2,  3,  4,  5],\n",
      "        [ 6,  7,  8,  9, 10, 11],\n",
      "        [12, 13, 14, 15, 16, 17]])\n",
      "tensor([[[ 0,  1],\n",
      "         [ 2,  3],\n",
      "         [ 4,  5]],\n",
      "\n",
      "        [[ 6,  7],\n",
      "         [ 8,  9],\n",
      "         [10, 11]],\n",
      "\n",
      "        [[12, 13],\n",
      "         [14, 15],\n",
      "         [16, 17]]])\n"
     ]
    }
   ],
   "source": [
    "print(torch.arange(0, 18))\n",
    "print(torch.arange(0, 18).view(3, 6))\n",
    "print(torch.arange(0, 18).view(3, 3, 2))"
   ]
  },
  {
   "cell_type": "code",
   "execution_count": 240,
   "metadata": {},
   "outputs": [
    {
     "name": "stdout",
     "output_type": "stream",
     "text": [
      "torch.Size([228146, 3, 2])\n",
      "torch.Size([228146, 6])\n",
      "tensor([[[-0.5259, -0.6364],\n",
      "         [-0.0447, -0.9903],\n",
      "         [ 1.7922, -1.3993]],\n",
      "\n",
      "        [[-0.0447, -0.9903],\n",
      "         [ 1.7922, -1.3993],\n",
      "         [ 1.7922, -1.3993]]])\n",
      "tensor([[-0.5259, -0.6364, -0.0447, -0.9903,  1.7922, -1.3993],\n",
      "        [-0.0447, -0.9903,  1.7922, -1.3993,  1.7922, -1.3993]])\n"
     ]
    }
   ],
   "source": [
    "# we want to do something like `embeddings @ W1 + b1`\n",
    "# but we can't because the dimensions don't match\n",
    "# we need to reshape the embeddings to be (num_examples, num_inputs)\n",
    "# so that we can do the matrix multiplication\n",
    "print(embeddings.shape)\n",
    "print(embeddings.view(-1, context_length * embedding_dimension).shape)\n",
    "# print(embeddings)\n",
    "print(embeddings[2:4])\n",
    "print(embeddings.view(-1, context_length * embedding_dimension)[2:4])"
   ]
  },
  {
   "cell_type": "code",
   "execution_count": 241,
   "metadata": {},
   "outputs": [
    {
     "ename": "KeyboardInterrupt",
     "evalue": "",
     "output_type": "error",
     "traceback": [
      "\u001b[0;31m---------------------------------------------------------------------------\u001b[0m",
      "\u001b[0;31mKeyboardInterrupt\u001b[0m                         Traceback (most recent call last)",
      "Cell \u001b[0;32mIn[241], line 2\u001b[0m\n\u001b[1;32m      1\u001b[0m \u001b[38;5;66;03m# b1 (bias) is added to each row of the result\u001b[39;00m\n\u001b[0;32m----> 2\u001b[0m \u001b[38;5;28;43mprint\u001b[39;49m\u001b[43m(\u001b[49m\u001b[43membeddings\u001b[49m\u001b[38;5;241;43m.\u001b[39;49m\u001b[43mview\u001b[49m\u001b[43m(\u001b[49m\u001b[38;5;241;43m-\u001b[39;49m\u001b[38;5;241;43m1\u001b[39;49m\u001b[43m,\u001b[49m\u001b[43m \u001b[49m\u001b[43mcontext_length\u001b[49m\u001b[43m \u001b[49m\u001b[38;5;241;43m*\u001b[39;49m\u001b[43m \u001b[49m\u001b[43membedding_dimension\u001b[49m\u001b[43m)\u001b[49m\u001b[43m \u001b[49m\u001b[38;5;241;43m@\u001b[39;49m\u001b[43m \u001b[49m\u001b[43mW1\u001b[49m\u001b[43m \u001b[49m\u001b[38;5;241;43m+\u001b[39;49m\u001b[43m \u001b[49m\u001b[43mb1\u001b[49m\u001b[43m)\u001b[49m\n\u001b[1;32m      3\u001b[0m \u001b[38;5;28mprint\u001b[39m((embeddings\u001b[38;5;241m.\u001b[39mview(\u001b[38;5;241m-\u001b[39m\u001b[38;5;241m1\u001b[39m, context_length \u001b[38;5;241m*\u001b[39m embedding_dimension) \u001b[38;5;241m@\u001b[39m W1 \u001b[38;5;241m+\u001b[39m b1)\u001b[38;5;241m.\u001b[39mshape)\n\u001b[1;32m      4\u001b[0m \u001b[38;5;28mprint\u001b[39m(num_neurons)\n",
      "\u001b[0;31mKeyboardInterrupt\u001b[0m: "
     ]
    }
   ],
   "source": [
    "# b1 (bias) is added to each row of the result\n",
    "print(embeddings.view(-1, context_length * embedding_dimension) @ W1 + b1)\n",
    "print((embeddings.view(-1, context_length * embedding_dimension) @ W1 + b1).shape)\n",
    "print(num_neurons)"
   ]
  },
  {
   "cell_type": "code",
   "execution_count": null,
   "metadata": {},
   "outputs": [],
   "source": [
    "output_layer = torch.randn(num_neurons, len(characters))\n",
    "b2 = torch.randn(len(characters))"
   ]
  },
  {
   "cell_type": "code",
   "execution_count": null,
   "metadata": {},
   "outputs": [
    {
     "name": "stdout",
     "output_type": "stream",
     "text": [
      "fake X\n",
      "tensor([[ 0,  1,  2],\n",
      "        [ 3,  4,  5],\n",
      "        [ 6,  7,  8],\n",
      "        [ 9, 10, 11],\n",
      "        [12, 13, 14]])\n",
      "fake embeddings layer\n",
      "tensor([[100, 101],\n",
      "        [102, 103],\n",
      "        [104, 105],\n",
      "        [106, 107],\n",
      "        [108, 109],\n",
      "        [110, 111],\n",
      "        [112, 113],\n",
      "        [114, 115],\n",
      "        [116, 117],\n",
      "        [118, 119],\n",
      "        [120, 121],\n",
      "        [122, 123],\n",
      "        [124, 125],\n",
      "        [126, 127],\n",
      "        [128, 129],\n",
      "        [130, 131],\n",
      "        [132, 133],\n",
      "        [134, 135],\n",
      "        [136, 137],\n",
      "        [138, 139],\n",
      "        [140, 141],\n",
      "        [142, 143],\n",
      "        [144, 145],\n",
      "        [146, 147],\n",
      "        [148, 149],\n",
      "        [150, 151],\n",
      "        [152, 153]])\n",
      "fake embeddings\n",
      "tensor([[100, 101, 102, 103, 104, 105],\n",
      "        [106, 107, 108, 109, 110, 111],\n",
      "        [112, 113, 114, 115, 116, 117],\n",
      "        [118, 119, 120, 121, 122, 123],\n",
      "        [124, 125, 126, 127, 128, 129]])\n",
      "tensor([[200, 201, 202, 203, 204, 205, 206, 207, 208, 209],\n",
      "        [210, 211, 212, 213, 214, 215, 216, 217, 218, 219],\n",
      "        [220, 221, 222, 223, 224, 225, 226, 227, 228, 229],\n",
      "        [230, 231, 232, 233, 234, 235, 236, 237, 238, 239],\n",
      "        [240, 241, 242, 243, 244, 245, 246, 247, 248, 249],\n",
      "        [250, 251, 252, 253, 254, 255, 256, 257, 258, 259]])\n",
      "torch.Size([5, 6])\n",
      "torch.Size([6, 10])\n",
      "torch.Size([5, 10])\n",
      "tensor([[138550, 139165, 139780, 140395, 141010, 141625, 142240, 142855, 143470,\n",
      "         144085],\n",
      "        [146650, 147301, 147952, 148603, 149254, 149905, 150556, 151207, 151858,\n",
      "         152509],\n",
      "        [154750, 155437, 156124, 156811, 157498, 158185, 158872, 159559, 160246,\n",
      "         160933],\n",
      "        [162850, 163573, 164296, 165019, 165742, 166465, 167188, 167911, 168634,\n",
      "         169357],\n",
      "        [170950, 171709, 172468, 173227, 173986, 174745, 175504, 176263, 177022,\n",
      "         177781]])\n",
      "tensor(138550)\n",
      "tensor(138550)\n",
      "tensor([100, 101, 102, 103, 104, 105])\n",
      "tensor([200, 210, 220, 230, 240, 250])\n"
     ]
    }
   ],
   "source": [
    "_fake_X = torch.arange(0, 15).view(-1 , context_length)\n",
    "print(\"fake X\")\n",
    "print(_fake_X)\n",
    "_fake_embeddings_layer = (100 + torch.arange(len(characters) * embedding_dimension)).view(len(characters), embedding_dimension)\n",
    "print(\"fake embeddings layer\")\n",
    "print(_fake_embeddings_layer)\n",
    "_fake_embeddings = _fake_embeddings_layer[_fake_X].view(-1, context_length * embedding_dimension)\n",
    "print(\"fake embeddings\")\n",
    "print(_fake_embeddings)\n",
    "# 10 neurons\n",
    "_fake_weights = (200 + torch.arange(context_length * embedding_dimension * 10)).view(context_length * embedding_dimension, 10)\n",
    "print(_fake_weights)\n",
    "print(_fake_embeddings.shape)\n",
    "print(_fake_weights.shape)\n",
    "print((_fake_embeddings @ _fake_weights).shape)\n",
    "print(_fake_embeddings @ _fake_weights)\n",
    "print((_fake_embeddings @ _fake_weights)[0][0])\n",
    "print(_fake_embeddings[0].dot(_fake_weights[:, 0]))\n",
    "print(_fake_embeddings[0])\n",
    "print(_fake_weights[:, 0])"
   ]
  },
  {
   "cell_type": "code",
   "execution_count": null,
   "metadata": {},
   "outputs": [
    {
     "name": "stdout",
     "output_type": "stream",
     "text": [
      "torch.Size([228146, 27])\n",
      "torch.Size([228146, 27])\n",
      "torch.Size([228146])\n",
      "tensor(17.5421)\n"
     ]
    }
   ],
   "source": [
    "logits = torch.tanh(embeddings.view(-1, context_length * embedding_dimension) @ W1 + b1) @ output_layer + b2\n",
    "print(logits.shape)\n",
    "counts = logits.exp()\n",
    "predicted_probabilities = counts / counts.sum(dim=1, keepdim=True)\n",
    "print(predicted_probabilities.shape)\n",
    "# pluck out the probability of the correct character for each example\n",
    "# if the probability (according to the model) associated with the correct character is low,\n",
    "# then the loss will be high\n",
    "# the goal is to minimize the loss, which will result in the model assigning a higher\n",
    "# probability to the correct character for each example after the weights have been updated\n",
    "predicted_probabilities_of_actual = predicted_probabilities[torch.arange(len(Y)), Y]\n",
    "print(predicted_probabilities_of_actual.shape)\n",
    "loss = -predicted_probabilities_of_actual.log().mean()\n",
    "print(loss)\n"
   ]
  },
  {
   "cell_type": "markdown",
   "metadata": {},
   "source": [
    "---\n",
    "\n",
    "## Putting it together"
   ]
  },
  {
   "cell_type": "code",
   "execution_count": null,
   "metadata": {},
   "outputs": [],
   "source": [
    "embedding_dimension = 2\n",
    "context_length = 3\n",
    "num_neurons = 100\n",
    "\n",
    "g = torch.Generator().manual_seed(2147483647)\n",
    "embedding_layer = torch.randn(len(characters), embedding_dimension, generator=g)\n",
    "hidden_layer_weights = torch.randn(context_length * embedding_dimension, num_neurons, generator=g)\n",
    "hidden_layer_bias = torch.randn(num_neurons, generator=g)\n",
    "output_layer_weights = torch.randn(num_neurons, len(characters), generator=g)\n",
    "output_layer_bias = torch.randn(len(characters), generator=g)\n",
    "parameters = [\n",
    "    embedding_layer,\n",
    "    hidden_layer_weights,\n",
    "    hidden_layer_bias,\n",
    "    output_layer_weights,\n",
    "    output_layer_bias\n",
    "]"
   ]
  },
  {
   "cell_type": "code",
   "execution_count": null,
   "metadata": {},
   "outputs": [
    {
     "name": "stdout",
     "output_type": "stream",
     "text": [
      "Number of Parameters of Model: 3,481\n"
     ]
    }
   ],
   "source": [
    "print(f\"Number of Parameters of Model: {sum(p.nelement() for p in parameters):,}\")"
   ]
  },
  {
   "cell_type": "code",
   "execution_count": null,
   "metadata": {},
   "outputs": [
    {
     "name": "stdout",
     "output_type": "stream",
     "text": [
      "torch.Size([228146, 3, 2])\n",
      "torch.Size([228146, 100])\n",
      "torch.Size([228146, 27])\n",
      "torch.Size([228146, 27])\n",
      "torch.Size([228146])\n",
      "tensor(19.5052)\n"
     ]
    }
   ],
   "source": [
    "embeddings = embedding_layer[X]\n",
    "print(embeddings.shape)\n",
    "activations = torch.tanh(embeddings.view(-1, context_length * embedding_dimension) @ hidden_layer_weights + hidden_layer_bias)\n",
    "print(activations.shape)\n",
    "logits = activations @ output_layer_weights + output_layer_bias\n",
    "print(logits.shape)\n",
    "counts = logits.exp()\n",
    "predicted_probabilities = counts / counts.sum(dim=1, keepdim=True)\n",
    "print(predicted_probabilities.shape)\n",
    "predicted_probabilities_of_actual = predicted_probabilities[torch.arange(len(Y)), Y]\n",
    "print(predicted_probabilities_of_actual.shape)\n",
    "loss = -predicted_probabilities_of_actual.log().mean()\n",
    "print(loss)"
   ]
  },
  {
   "cell_type": "markdown",
   "metadata": {},
   "source": [
    "However, what we did above is equivalent to \"cross entropy loss\"\n",
    "\n",
    "- Andrej explains that F.cross_entropy also does some tricks to ensure large values don't cause NaNs: https://youtu.be/TCH_1BHY58I?si=CjVvwzrgzeQCOHr5&t=1976\n"
   ]
  },
  {
   "cell_type": "code",
   "execution_count": null,
   "metadata": {},
   "outputs": [
    {
     "name": "stdout",
     "output_type": "stream",
     "text": [
      "torch.Size([228146, 3, 2])\n",
      "torch.Size([228146, 100])\n"
     ]
    },
    {
     "name": "stdout",
     "output_type": "stream",
     "text": [
      "torch.Size([228146, 27])\n",
      "tensor(19.5052)\n"
     ]
    }
   ],
   "source": [
    "embeddings = embedding_layer[X]\n",
    "print(embeddings.shape)\n",
    "activations = torch.tanh(embeddings.view(-1, context_length * embedding_dimension) @ hidden_layer_weights + hidden_layer_bias)\n",
    "print(activations.shape)\n",
    "logits = activations @ output_layer_weights + output_layer_bias\n",
    "print(logits.shape)\n",
    "loss = F.cross_entropy(logits, Y)\n",
    "print(loss)"
   ]
  },
  {
   "cell_type": "markdown",
   "metadata": {},
   "source": [
    "## Training"
   ]
  },
  {
   "cell_type": "code",
   "execution_count": null,
   "metadata": {},
   "outputs": [
    {
     "name": "stdout",
     "output_type": "stream",
     "text": [
      "Number of Parameters of Model: 3,481\n"
     ]
    }
   ],
   "source": [
    "embedding_dimension = 2\n",
    "context_length = 3\n",
    "num_neurons = 100\n",
    "\n",
    "g = torch.Generator().manual_seed(2147483647)\n",
    "embedding_layer = torch.randn(len(characters), embedding_dimension, generator=g)\n",
    "hidden_layer_weights = torch.randn(context_length * embedding_dimension, num_neurons, generator=g)\n",
    "hidden_layer_bias = torch.randn(num_neurons, generator=g)\n",
    "output_layer_weights = torch.randn(num_neurons, len(characters), generator=g)\n",
    "output_layer_bias = torch.randn(len(characters), generator=g)\n",
    "parameters = [\n",
    "    embedding_layer,\n",
    "    hidden_layer_weights,\n",
    "    hidden_layer_bias,\n",
    "    output_layer_weights,\n",
    "    output_layer_bias\n",
    "]\n",
    "print(f\"Number of Parameters of Model: {sum(p.nelement() for p in parameters):,}\")"
   ]
  },
  {
   "cell_type": "code",
   "execution_count": null,
   "metadata": {},
   "outputs": [],
   "source": [
    "for p in parameters:\n",
    "    p.requires_grad = True"
   ]
  },
  {
   "cell_type": "code",
   "execution_count": null,
   "metadata": {},
   "outputs": [],
   "source": [
    "# in practice we perform updates on minibatches of data   \n",
    "losses = []"
   ]
  },
  {
   "cell_type": "code",
   "execution_count": null,
   "metadata": {},
   "outputs": [
    {
     "name": "stdout",
     "output_type": "stream",
     "text": [
      "Loss: 18.981\n",
      "Loss: 2.733\n",
      "Loss: 4.013\n",
      "Loss: 2.792\n",
      "Loss: 2.692\n",
      "Loss: 2.685\n"
     ]
    },
    {
     "ename": "KeyboardInterrupt",
     "evalue": "",
     "output_type": "error",
     "traceback": [
      "\u001b[0;31m---------------------------------------------------------------------------\u001b[0m",
      "\u001b[0;31mKeyboardInterrupt\u001b[0m                         Traceback (most recent call last)",
      "Cell \u001b[0;32mIn[227], line 18\u001b[0m\n\u001b[1;32m     16\u001b[0m \u001b[38;5;28;01mfor\u001b[39;00m p \u001b[38;5;129;01min\u001b[39;00m parameters:\n\u001b[1;32m     17\u001b[0m     p\u001b[38;5;241m.\u001b[39mgrad \u001b[38;5;241m=\u001b[39m \u001b[38;5;28;01mNone\u001b[39;00m\n\u001b[0;32m---> 18\u001b[0m \u001b[43mloss\u001b[49m\u001b[38;5;241;43m.\u001b[39;49m\u001b[43mbackward\u001b[49m\u001b[43m(\u001b[49m\u001b[43m)\u001b[49m\n\u001b[1;32m     19\u001b[0m \u001b[38;5;66;03m# update parameters\u001b[39;00m\n\u001b[1;32m     20\u001b[0m \u001b[38;5;28;01mfor\u001b[39;00m p \u001b[38;5;129;01min\u001b[39;00m parameters:\n",
      "File \u001b[0;32m/usr/local/lib/python3.11/site-packages/torch/_tensor.py:492\u001b[0m, in \u001b[0;36mTensor.backward\u001b[0;34m(self, gradient, retain_graph, create_graph, inputs)\u001b[0m\n\u001b[1;32m    482\u001b[0m \u001b[38;5;28;01mif\u001b[39;00m has_torch_function_unary(\u001b[38;5;28mself\u001b[39m):\n\u001b[1;32m    483\u001b[0m     \u001b[38;5;28;01mreturn\u001b[39;00m handle_torch_function(\n\u001b[1;32m    484\u001b[0m         Tensor\u001b[38;5;241m.\u001b[39mbackward,\n\u001b[1;32m    485\u001b[0m         (\u001b[38;5;28mself\u001b[39m,),\n\u001b[0;32m   (...)\u001b[0m\n\u001b[1;32m    490\u001b[0m         inputs\u001b[38;5;241m=\u001b[39minputs,\n\u001b[1;32m    491\u001b[0m     )\n\u001b[0;32m--> 492\u001b[0m \u001b[43mtorch\u001b[49m\u001b[38;5;241;43m.\u001b[39;49m\u001b[43mautograd\u001b[49m\u001b[38;5;241;43m.\u001b[39;49m\u001b[43mbackward\u001b[49m\u001b[43m(\u001b[49m\n\u001b[1;32m    493\u001b[0m \u001b[43m    \u001b[49m\u001b[38;5;28;43mself\u001b[39;49m\u001b[43m,\u001b[49m\u001b[43m \u001b[49m\u001b[43mgradient\u001b[49m\u001b[43m,\u001b[49m\u001b[43m \u001b[49m\u001b[43mretain_graph\u001b[49m\u001b[43m,\u001b[49m\u001b[43m \u001b[49m\u001b[43mcreate_graph\u001b[49m\u001b[43m,\u001b[49m\u001b[43m \u001b[49m\u001b[43minputs\u001b[49m\u001b[38;5;241;43m=\u001b[39;49m\u001b[43minputs\u001b[49m\n\u001b[1;32m    494\u001b[0m \u001b[43m\u001b[49m\u001b[43m)\u001b[49m\n",
      "File \u001b[0;32m/usr/local/lib/python3.11/site-packages/torch/autograd/__init__.py:251\u001b[0m, in \u001b[0;36mbackward\u001b[0;34m(tensors, grad_tensors, retain_graph, create_graph, grad_variables, inputs)\u001b[0m\n\u001b[1;32m    246\u001b[0m     retain_graph \u001b[38;5;241m=\u001b[39m create_graph\n\u001b[1;32m    248\u001b[0m \u001b[38;5;66;03m# The reason we repeat the same comment below is that\u001b[39;00m\n\u001b[1;32m    249\u001b[0m \u001b[38;5;66;03m# some Python versions print out the first line of a multi-line function\u001b[39;00m\n\u001b[1;32m    250\u001b[0m \u001b[38;5;66;03m# calls in the traceback and some print out the last line\u001b[39;00m\n\u001b[0;32m--> 251\u001b[0m \u001b[43mVariable\u001b[49m\u001b[38;5;241;43m.\u001b[39;49m\u001b[43m_execution_engine\u001b[49m\u001b[38;5;241;43m.\u001b[39;49m\u001b[43mrun_backward\u001b[49m\u001b[43m(\u001b[49m\u001b[43m  \u001b[49m\u001b[38;5;66;43;03m# Calls into the C++ engine to run the backward pass\u001b[39;49;00m\n\u001b[1;32m    252\u001b[0m \u001b[43m    \u001b[49m\u001b[43mtensors\u001b[49m\u001b[43m,\u001b[49m\n\u001b[1;32m    253\u001b[0m \u001b[43m    \u001b[49m\u001b[43mgrad_tensors_\u001b[49m\u001b[43m,\u001b[49m\n\u001b[1;32m    254\u001b[0m \u001b[43m    \u001b[49m\u001b[43mretain_graph\u001b[49m\u001b[43m,\u001b[49m\n\u001b[1;32m    255\u001b[0m \u001b[43m    \u001b[49m\u001b[43mcreate_graph\u001b[49m\u001b[43m,\u001b[49m\n\u001b[1;32m    256\u001b[0m \u001b[43m    \u001b[49m\u001b[43minputs\u001b[49m\u001b[43m,\u001b[49m\n\u001b[1;32m    257\u001b[0m \u001b[43m    \u001b[49m\u001b[43mallow_unreachable\u001b[49m\u001b[38;5;241;43m=\u001b[39;49m\u001b[38;5;28;43;01mTrue\u001b[39;49;00m\u001b[43m,\u001b[49m\n\u001b[1;32m    258\u001b[0m \u001b[43m    \u001b[49m\u001b[43maccumulate_grad\u001b[49m\u001b[38;5;241;43m=\u001b[39;49m\u001b[38;5;28;43;01mTrue\u001b[39;49;00m\u001b[43m,\u001b[49m\n\u001b[1;32m    259\u001b[0m \u001b[43m\u001b[49m\u001b[43m)\u001b[49m\n",
      "\u001b[0;31mKeyboardInterrupt\u001b[0m: "
     ]
    }
   ],
   "source": [
    "steps = 10000\n",
    "learning_rate = 0.01\n",
    "batch_size = 32\n",
    "\n",
    "for index in range(steps):\n",
    "    batch_indices = torch.randint(low=0, high=X.shape[0], size=(batch_size,))\n",
    "    # forward pass\n",
    "    embeddings = embedding_layer[X[batch_indices]]\n",
    "    activations = torch.tanh(embeddings.view(-1, context_length * embedding_dimension) @ hidden_layer_weights + hidden_layer_bias)\n",
    "    logits = activations @ output_layer_weights + output_layer_bias\n",
    "    loss = F.cross_entropy(logits, Y[batch_indices])\n",
    "    losses.append(loss.item())\n",
    "    if index % (steps / 10) == 0:\n",
    "        print(f\"Loss: {loss.item():.3f}\")\n",
    "    # backwards pass\n",
    "    for p in parameters:\n",
    "        p.grad = None\n",
    "    loss.backward()\n",
    "    # update parameters\n",
    "    for p in parameters:\n",
    "        p.data -= learning_rate * p.grad\n",
    "\n",
    "print('---')\n",
    "# loss on entire training set\n",
    "embeddings = embedding_layer[X]\n",
    "activations = torch.tanh(embeddings.view(-1, context_length * embedding_dimension) @ hidden_layer_weights + hidden_layer_bias)\n",
    "logits = activations @ output_layer_weights + output_layer_bias\n",
    "loss = F.cross_entropy(logits, Y)\n",
    "print(loss)\n",
    "# print the loss values\n",
    "import matplotlib.pyplot as plt\n",
    "plt.plot(losses)"
   ]
  },
  {
   "cell_type": "markdown",
   "metadata": {},
   "source": [
    "## Modify to have training / validation / test sets"
   ]
  },
  {
   "cell_type": "code",
   "execution_count": 262,
   "metadata": {},
   "outputs": [],
   "source": [
    "# import torch\n",
    "\n",
    "# # Example tensors X and Y\n",
    "# X = torch.rand(100, 10)  # 100 samples, 10 features each\n",
    "# Y = torch.rand(100, 1)   # 100 labels\n",
    "\n",
    "# print(X.size(0))\n",
    "# # Shuffle the data\n",
    "# indices = torch.randperm(X.size(0))\n",
    "# assert len(set(indices)) == X.size(0)\n",
    "# print(indices)\n",
    "# X = X[indices]\n",
    "# Y = Y[indices]\n",
    "\n",
    "# # Split ratios\n",
    "# train_ratio = 0.7\n",
    "# val_ratio = 0.15\n",
    "# test_ratio = 0.15\n",
    "\n",
    "# # Calculate split sizes\n",
    "# total_size = X.size(0)\n",
    "# train_size = int(total_size * train_ratio)\n",
    "# val_size = int(total_size * val_ratio)\n",
    "# test_size = total_size - train_size - val_size\n",
    "\n",
    "# # Split the tensors\n",
    "# X_train, X_val, X_test = torch.split(X, [train_size, val_size, test_size])\n",
    "# Y_train, Y_val, Y_test = torch.split(Y, [train_size, val_size, test_size])\n",
    "\n",
    "# # Your training, validation, and test sets are now ready\n"
   ]
  },
  {
   "cell_type": "code",
   "execution_count": 263,
   "metadata": {},
   "outputs": [
    {
     "name": "stdout",
     "output_type": "stream",
     "text": [
      "[0, 0, 0] -> 5\n",
      "... -> e\n",
      "---\n",
      "[0, 0, 5] -> 13\n",
      "..e -> m\n",
      "---\n",
      "[0, 5, 13] -> 13\n",
      ".em -> m\n",
      "---\n",
      "[5, 13, 13] -> 1\n",
      "emm -> a\n",
      "---\n",
      "[13, 13, 1] -> 0\n",
      "mma -> .\n",
      "---\n",
      "[0, 0, 0] -> 15\n",
      "... -> o\n",
      "---\n",
      "[0, 0, 15] -> 12\n",
      "..o -> l\n",
      "---\n",
      "[0, 15, 12] -> 9\n",
      ".ol -> i\n",
      "---\n",
      "[15, 12, 9] -> 22\n",
      "oli -> v\n",
      "---\n",
      "[12, 9, 22] -> 9\n",
      "liv -> i\n",
      "---\n",
      "torch.Size([228146, 3])\n",
      "torch.Size([228146])\n",
      "Training set shapes:\n",
      "torch.Size([182516, 3])\n",
      "torch.Size([182516])\n",
      "Validation set shapes:\n",
      "torch.Size([22814, 3])\n",
      "torch.Size([22814])\n",
      "Test set shapes:\n",
      "torch.Size([22816, 3])\n",
      "torch.Size([22816])\n"
     ]
    }
   ],
   "source": [
    "g = torch.Generator().manual_seed(2147483647)\n",
    "context_length = 3  # how many characters do we take to predict the next one?\n",
    "\n",
    "X, Y = [], []\n",
    "\n",
    "for word in words:\n",
    "    word = ('.' * context_length) + word + '.'\n",
    "    for i in range(len(word) - context_length):\n",
    "        X.append([token_mappings[c] for c in word[i:i+context_length]])\n",
    "        Y.append(token_mappings[word[i+context_length]])\n",
    "\n",
    "\n",
    "for x, y in zip(X[:10], Y[:10]):\n",
    "    print(f\"{x} -> {y}\")\n",
    "    print(f\"{''.join([index_to_character[i] for i in x])} -> {index_to_character[y]}\")\n",
    "    print('---')\n",
    "\n",
    "X = torch.tensor(X)\n",
    "Y = torch.tensor(Y)\n",
    "print(X.shape)\n",
    "print(Y.shape)\n",
    "\n",
    "# Shuffle the data\n",
    "indices = torch.randperm(X.size(0), generator=g)\n",
    "assert len(set(indices)) == X.size(0)\n",
    "X = X[indices]\n",
    "Y = Y[indices]\n",
    "\n",
    "# Split ratios\n",
    "train_ratio = 0.8\n",
    "val_ratio = 0.1\n",
    "test_ratio = 0.1\n",
    "\n",
    "# Calculate split sizes\n",
    "total_size = X.size(0)\n",
    "train_size = int(total_size * train_ratio)\n",
    "val_size = int(total_size * val_ratio)\n",
    "test_size = total_size - train_size - val_size\n",
    "\n",
    "# Split the tensors\n",
    "X_train, X_val, X_test = torch.split(X, [train_size, val_size, test_size])\n",
    "Y_train, Y_val, Y_test = torch.split(Y, [train_size, val_size, test_size])\n",
    "\n",
    "# Printing the shapes of the datasets\n",
    "print(\"Training set shapes:\")\n",
    "print(X_train.shape)\n",
    "print(Y_train.shape)\n",
    "print(\"Validation set shapes:\")\n",
    "print(X_val.shape)\n",
    "print(Y_val.shape)\n",
    "print(\"Test set shapes:\")\n",
    "print(X_test.shape)\n",
    "print(Y_test.shape)"
   ]
  },
  {
   "cell_type": "code",
   "execution_count": 282,
   "metadata": {},
   "outputs": [
    {
     "name": "stdout",
     "output_type": "stream",
     "text": [
      "Number of Parameters of Model: 11,670\n"
     ]
    }
   ],
   "source": [
    "embedding_dimension = 10\n",
    "# context_length = 3  # defined above\n",
    "num_neurons = 200\n",
    "\n",
    "embedding_layer = torch.randn(len(characters), embedding_dimension, generator=g)\n",
    "\n",
    "# https://youtu.be/P6sfmUTpUmc?si=1vxSbkmeuaEDqv4-&t=1475\n",
    "hidden_layer_weights = 0.1 * torch.randn(context_length * embedding_dimension, num_neurons, generator=g)\n",
    "# https://youtu.be/P6sfmUTpUmc?si=GCxVWQxauxDWgieF&t=2284\n",
    "# https://pytorch.org/docs/stable/nn.init.html\n",
    "# hidden_layer_weights = torch.randn(context_length * embedding_dimension, num_neurons, generator=g)\n",
    "# hidden_layer_weights = hidden_layer_weights * (5/3) / (context_length * embedding_dimension)**0.5\n",
    "\n",
    "# we don't want bias because we are using batch normalization and get gets subtracted out\n",
    "# https://youtu.be/P6sfmUTpUmc?si=7E6mSV1kId36vg9u&t=3721\n",
    "# hidden_layer_bias = 0.01 * torch.randn(num_neurons, generator=g)\n",
    "\n",
    "# https://youtu.be/P6sfmUTpUmc?si=Kh_JJz_43Ooc6H7F&t=584\n",
    "#output_layer_weights = torch.randn(num_neurons, len(characters), generator=g)\n",
    "output_layer_weights = 0.1 * torch.randn(num_neurons, len(characters), generator=g)\n",
    "# output_layer_bias = torch.randn(len(characters), generator=g)\n",
    "output_layer_bias = torch.zeros(len(characters))\n",
    "\n",
    "batch_norm_gain = torch.ones((1, num_neurons))\n",
    "batch_norm_bias = torch.zeros((1, num_neurons))\n",
    "# https://youtu.be/P6sfmUTpUmc?si=USsPzWMHsk0hfEoU&t=3424\n",
    "# These are not parameters of the model; they are used to normalize the activations\n",
    "# during initialization we want mean of 0 and standard deviation of 1\n",
    "batch_norm_running_mean = torch.zeros((1, num_neurons))\n",
    "batch_norm_running_st_dev = torch.ones((1, num_neurons))\n",
    "\n",
    "parameters = [\n",
    "    embedding_layer,\n",
    "    hidden_layer_weights,\n",
    "    # hidden_layer_bias,\n",
    "    output_layer_weights,\n",
    "    output_layer_bias,\n",
    "    batch_norm_gain,\n",
    "    batch_norm_bias,\n",
    "]\n",
    "print(f\"Number of Parameters of Model: {sum(p.nelement() for p in parameters):,}\")"
   ]
  },
  {
   "cell_type": "code",
   "execution_count": 265,
   "metadata": {},
   "outputs": [
    {
     "name": "stdout",
     "output_type": "stream",
     "text": [
      "torch.Size([27, 10])\n",
      "Warning: Embedding dimension greater than 3. Running PCA to extract first three dimensions.\n"
     ]
    },
    {
     "data": {
      "application/vnd.plotly.v1+json": {
       "config": {
        "plotlyServerURL": "https://plot.ly"
       },
       "data": [
        {
         "hovertemplate": "C-1=%{x}<br>C-2=%{y}<br>C-3=%{z}<br>text=%{text}<br>C-4=%{marker.color}<extra></extra>",
         "legendgroup": "",
         "marker": {
          "color": [
           -0.21080796420574188,
           -0.18772189319133759,
           -0.8002322912216187,
           -0.0817566066980362,
           1.590530276298523,
           1.263859748840332,
           2.5770976543426514,
           -2.6031150817871094,
           -0.13300688564777374,
           1.1254507303237915,
           -1.2893714904785156,
           -1.4338887929916382,
           -0.1764145940542221,
           -0.8480821847915649,
           -0.8333616852760315,
           0.5114245414733887,
           -0.4184904992580414,
           -1.220603585243225,
           1.7482529878616333,
           -1.600131869316101,
           0.5346131324768066,
           -1.63358736038208,
           0.904217004776001,
           -0.06908287107944489,
           0.6580085754394531,
           0.8753841519355774,
           0.5882697105407715
          ],
          "coloraxis": "coloraxis",
          "symbol": "circle"
         },
         "mode": "markers+text",
         "name": "",
         "scene": "scene",
         "showlegend": false,
         "text": [
          ".",
          "a",
          "b",
          "c",
          "d",
          "e",
          "f",
          "g",
          "h",
          "i",
          "j",
          "k",
          "l",
          "m",
          "n",
          "o",
          "p",
          "q",
          "r",
          "s",
          "t",
          "u",
          "v",
          "w",
          "x",
          "y",
          "z"
         ],
         "type": "scatter3d",
         "x": [
          -0.673703134059906,
          1.1228723526000977,
          -2.3112053871154785,
          2.454608678817749,
          3.2400059700012207,
          -1.4349154233932495,
          0.6819559931755066,
          -2.294802665710449,
          2.737654447555542,
          1.3657832145690918,
          -1.4680756330490112,
          -0.6908183097839355,
          2.0367701053619385,
          -1.3626412153244019,
          0.8622626066207886,
          1.0020171403884888,
          -1.2627441883087158,
          -1.127434253692627,
          -0.24081529676914215,
          -0.3118060231208801,
          -0.17429673671722412,
          0.7082497477531433,
          1.426857590675354,
          -1.8345086574554443,
          0.8331560492515564,
          -1.8896092176437378,
          -1.3948161602020264
         ],
         "y": [
          -1.650344967842102,
          -1.54213547706604,
          0.1507468819618225,
          1.555504322052002,
          -2.6099278926849365,
          1.3339526653289795,
          0.13968898355960846,
          -0.26690852642059326,
          -0.20363366603851318,
          0.40321746468544006,
          1.0144652128219604,
          -0.6170796155929565,
          -0.8826144933700562,
          0.5955600142478943,
          0.7122708559036255,
          2.685596227645874,
          0.3174961805343628,
          -0.11290982365608215,
          -0.4579160809516907,
          1.9724481105804443,
          -0.9599964618682861,
          1.4842607975006104,
          -1.2497832775115967,
          -2.1665382385253906,
          2.3276073932647705,
          0.2755456566810608,
          -2.248574733734131
         ],
         "z": [
          -0.8072510361671448,
          -1.508892297744751,
          1.2204846143722534,
          -0.8639835119247437,
          1.0828132629394531,
          2.3389644622802734,
          2.4850170612335205,
          -2.336449384689331,
          -0.2055470049381256,
          0.17849910259246826,
          -0.9684327244758606,
          -1.0710418224334717,
          -0.9196741580963135,
          -0.9222167730331421,
          -0.6915149092674255,
          0.7059922814369202,
          -0.28542613983154297,
          -1.9636585712432861,
          1.9106371402740479,
          -0.6725383400917053,
          0.6738835573196411,
          -2.041656970977783,
          0.8718096613883972,
          0.3002670407295227,
          0.9416863322257996,
          2.299231767654419,
          0.24899592995643616
         ]
        }
       ],
       "layout": {
        "coloraxis": {
         "colorbar": {
          "title": {
           "text": "C-4"
          }
         },
         "colorscale": [
          [
           0,
           "#0d0887"
          ],
          [
           0.1111111111111111,
           "#46039f"
          ],
          [
           0.2222222222222222,
           "#7201a8"
          ],
          [
           0.3333333333333333,
           "#9c179e"
          ],
          [
           0.4444444444444444,
           "#bd3786"
          ],
          [
           0.5555555555555556,
           "#d8576b"
          ],
          [
           0.6666666666666666,
           "#ed7953"
          ],
          [
           0.7777777777777778,
           "#fb9f3a"
          ],
          [
           0.8888888888888888,
           "#fdca26"
          ],
          [
           1,
           "#f0f921"
          ]
         ]
        },
        "height": 1000,
        "legend": {
         "tracegroupgap": 0
        },
        "margin": {
         "t": 60
        },
        "scene": {
         "domain": {
          "x": [
           0,
           1
          ],
          "y": [
           0,
           1
          ]
         },
         "xaxis": {
          "title": {
           "text": "C-1"
          }
         },
         "yaxis": {
          "title": {
           "text": "C-2"
          }
         },
         "zaxis": {
          "title": {
           "text": "C-3"
          }
         }
        },
        "template": {
         "data": {
          "bar": [
           {
            "error_x": {
             "color": "#2a3f5f"
            },
            "error_y": {
             "color": "#2a3f5f"
            },
            "marker": {
             "line": {
              "color": "#E5ECF6",
              "width": 0.5
             },
             "pattern": {
              "fillmode": "overlay",
              "size": 10,
              "solidity": 0.2
             }
            },
            "type": "bar"
           }
          ],
          "barpolar": [
           {
            "marker": {
             "line": {
              "color": "#E5ECF6",
              "width": 0.5
             },
             "pattern": {
              "fillmode": "overlay",
              "size": 10,
              "solidity": 0.2
             }
            },
            "type": "barpolar"
           }
          ],
          "carpet": [
           {
            "aaxis": {
             "endlinecolor": "#2a3f5f",
             "gridcolor": "white",
             "linecolor": "white",
             "minorgridcolor": "white",
             "startlinecolor": "#2a3f5f"
            },
            "baxis": {
             "endlinecolor": "#2a3f5f",
             "gridcolor": "white",
             "linecolor": "white",
             "minorgridcolor": "white",
             "startlinecolor": "#2a3f5f"
            },
            "type": "carpet"
           }
          ],
          "choropleth": [
           {
            "colorbar": {
             "outlinewidth": 0,
             "ticks": ""
            },
            "type": "choropleth"
           }
          ],
          "contour": [
           {
            "colorbar": {
             "outlinewidth": 0,
             "ticks": ""
            },
            "colorscale": [
             [
              0,
              "#0d0887"
             ],
             [
              0.1111111111111111,
              "#46039f"
             ],
             [
              0.2222222222222222,
              "#7201a8"
             ],
             [
              0.3333333333333333,
              "#9c179e"
             ],
             [
              0.4444444444444444,
              "#bd3786"
             ],
             [
              0.5555555555555556,
              "#d8576b"
             ],
             [
              0.6666666666666666,
              "#ed7953"
             ],
             [
              0.7777777777777778,
              "#fb9f3a"
             ],
             [
              0.8888888888888888,
              "#fdca26"
             ],
             [
              1,
              "#f0f921"
             ]
            ],
            "type": "contour"
           }
          ],
          "contourcarpet": [
           {
            "colorbar": {
             "outlinewidth": 0,
             "ticks": ""
            },
            "type": "contourcarpet"
           }
          ],
          "heatmap": [
           {
            "colorbar": {
             "outlinewidth": 0,
             "ticks": ""
            },
            "colorscale": [
             [
              0,
              "#0d0887"
             ],
             [
              0.1111111111111111,
              "#46039f"
             ],
             [
              0.2222222222222222,
              "#7201a8"
             ],
             [
              0.3333333333333333,
              "#9c179e"
             ],
             [
              0.4444444444444444,
              "#bd3786"
             ],
             [
              0.5555555555555556,
              "#d8576b"
             ],
             [
              0.6666666666666666,
              "#ed7953"
             ],
             [
              0.7777777777777778,
              "#fb9f3a"
             ],
             [
              0.8888888888888888,
              "#fdca26"
             ],
             [
              1,
              "#f0f921"
             ]
            ],
            "type": "heatmap"
           }
          ],
          "heatmapgl": [
           {
            "colorbar": {
             "outlinewidth": 0,
             "ticks": ""
            },
            "colorscale": [
             [
              0,
              "#0d0887"
             ],
             [
              0.1111111111111111,
              "#46039f"
             ],
             [
              0.2222222222222222,
              "#7201a8"
             ],
             [
              0.3333333333333333,
              "#9c179e"
             ],
             [
              0.4444444444444444,
              "#bd3786"
             ],
             [
              0.5555555555555556,
              "#d8576b"
             ],
             [
              0.6666666666666666,
              "#ed7953"
             ],
             [
              0.7777777777777778,
              "#fb9f3a"
             ],
             [
              0.8888888888888888,
              "#fdca26"
             ],
             [
              1,
              "#f0f921"
             ]
            ],
            "type": "heatmapgl"
           }
          ],
          "histogram": [
           {
            "marker": {
             "pattern": {
              "fillmode": "overlay",
              "size": 10,
              "solidity": 0.2
             }
            },
            "type": "histogram"
           }
          ],
          "histogram2d": [
           {
            "colorbar": {
             "outlinewidth": 0,
             "ticks": ""
            },
            "colorscale": [
             [
              0,
              "#0d0887"
             ],
             [
              0.1111111111111111,
              "#46039f"
             ],
             [
              0.2222222222222222,
              "#7201a8"
             ],
             [
              0.3333333333333333,
              "#9c179e"
             ],
             [
              0.4444444444444444,
              "#bd3786"
             ],
             [
              0.5555555555555556,
              "#d8576b"
             ],
             [
              0.6666666666666666,
              "#ed7953"
             ],
             [
              0.7777777777777778,
              "#fb9f3a"
             ],
             [
              0.8888888888888888,
              "#fdca26"
             ],
             [
              1,
              "#f0f921"
             ]
            ],
            "type": "histogram2d"
           }
          ],
          "histogram2dcontour": [
           {
            "colorbar": {
             "outlinewidth": 0,
             "ticks": ""
            },
            "colorscale": [
             [
              0,
              "#0d0887"
             ],
             [
              0.1111111111111111,
              "#46039f"
             ],
             [
              0.2222222222222222,
              "#7201a8"
             ],
             [
              0.3333333333333333,
              "#9c179e"
             ],
             [
              0.4444444444444444,
              "#bd3786"
             ],
             [
              0.5555555555555556,
              "#d8576b"
             ],
             [
              0.6666666666666666,
              "#ed7953"
             ],
             [
              0.7777777777777778,
              "#fb9f3a"
             ],
             [
              0.8888888888888888,
              "#fdca26"
             ],
             [
              1,
              "#f0f921"
             ]
            ],
            "type": "histogram2dcontour"
           }
          ],
          "mesh3d": [
           {
            "colorbar": {
             "outlinewidth": 0,
             "ticks": ""
            },
            "type": "mesh3d"
           }
          ],
          "parcoords": [
           {
            "line": {
             "colorbar": {
              "outlinewidth": 0,
              "ticks": ""
             }
            },
            "type": "parcoords"
           }
          ],
          "pie": [
           {
            "automargin": true,
            "type": "pie"
           }
          ],
          "scatter": [
           {
            "fillpattern": {
             "fillmode": "overlay",
             "size": 10,
             "solidity": 0.2
            },
            "type": "scatter"
           }
          ],
          "scatter3d": [
           {
            "line": {
             "colorbar": {
              "outlinewidth": 0,
              "ticks": ""
             }
            },
            "marker": {
             "colorbar": {
              "outlinewidth": 0,
              "ticks": ""
             }
            },
            "type": "scatter3d"
           }
          ],
          "scattercarpet": [
           {
            "marker": {
             "colorbar": {
              "outlinewidth": 0,
              "ticks": ""
             }
            },
            "type": "scattercarpet"
           }
          ],
          "scattergeo": [
           {
            "marker": {
             "colorbar": {
              "outlinewidth": 0,
              "ticks": ""
             }
            },
            "type": "scattergeo"
           }
          ],
          "scattergl": [
           {
            "marker": {
             "colorbar": {
              "outlinewidth": 0,
              "ticks": ""
             }
            },
            "type": "scattergl"
           }
          ],
          "scattermapbox": [
           {
            "marker": {
             "colorbar": {
              "outlinewidth": 0,
              "ticks": ""
             }
            },
            "type": "scattermapbox"
           }
          ],
          "scatterpolar": [
           {
            "marker": {
             "colorbar": {
              "outlinewidth": 0,
              "ticks": ""
             }
            },
            "type": "scatterpolar"
           }
          ],
          "scatterpolargl": [
           {
            "marker": {
             "colorbar": {
              "outlinewidth": 0,
              "ticks": ""
             }
            },
            "type": "scatterpolargl"
           }
          ],
          "scatterternary": [
           {
            "marker": {
             "colorbar": {
              "outlinewidth": 0,
              "ticks": ""
             }
            },
            "type": "scatterternary"
           }
          ],
          "surface": [
           {
            "colorbar": {
             "outlinewidth": 0,
             "ticks": ""
            },
            "colorscale": [
             [
              0,
              "#0d0887"
             ],
             [
              0.1111111111111111,
              "#46039f"
             ],
             [
              0.2222222222222222,
              "#7201a8"
             ],
             [
              0.3333333333333333,
              "#9c179e"
             ],
             [
              0.4444444444444444,
              "#bd3786"
             ],
             [
              0.5555555555555556,
              "#d8576b"
             ],
             [
              0.6666666666666666,
              "#ed7953"
             ],
             [
              0.7777777777777778,
              "#fb9f3a"
             ],
             [
              0.8888888888888888,
              "#fdca26"
             ],
             [
              1,
              "#f0f921"
             ]
            ],
            "type": "surface"
           }
          ],
          "table": [
           {
            "cells": {
             "fill": {
              "color": "#EBF0F8"
             },
             "line": {
              "color": "white"
             }
            },
            "header": {
             "fill": {
              "color": "#C8D4E3"
             },
             "line": {
              "color": "white"
             }
            },
            "type": "table"
           }
          ]
         },
         "layout": {
          "annotationdefaults": {
           "arrowcolor": "#2a3f5f",
           "arrowhead": 0,
           "arrowwidth": 1
          },
          "autotypenumbers": "strict",
          "coloraxis": {
           "colorbar": {
            "outlinewidth": 0,
            "ticks": ""
           }
          },
          "colorscale": {
           "diverging": [
            [
             0,
             "#8e0152"
            ],
            [
             0.1,
             "#c51b7d"
            ],
            [
             0.2,
             "#de77ae"
            ],
            [
             0.3,
             "#f1b6da"
            ],
            [
             0.4,
             "#fde0ef"
            ],
            [
             0.5,
             "#f7f7f7"
            ],
            [
             0.6,
             "#e6f5d0"
            ],
            [
             0.7,
             "#b8e186"
            ],
            [
             0.8,
             "#7fbc41"
            ],
            [
             0.9,
             "#4d9221"
            ],
            [
             1,
             "#276419"
            ]
           ],
           "sequential": [
            [
             0,
             "#0d0887"
            ],
            [
             0.1111111111111111,
             "#46039f"
            ],
            [
             0.2222222222222222,
             "#7201a8"
            ],
            [
             0.3333333333333333,
             "#9c179e"
            ],
            [
             0.4444444444444444,
             "#bd3786"
            ],
            [
             0.5555555555555556,
             "#d8576b"
            ],
            [
             0.6666666666666666,
             "#ed7953"
            ],
            [
             0.7777777777777778,
             "#fb9f3a"
            ],
            [
             0.8888888888888888,
             "#fdca26"
            ],
            [
             1,
             "#f0f921"
            ]
           ],
           "sequentialminus": [
            [
             0,
             "#0d0887"
            ],
            [
             0.1111111111111111,
             "#46039f"
            ],
            [
             0.2222222222222222,
             "#7201a8"
            ],
            [
             0.3333333333333333,
             "#9c179e"
            ],
            [
             0.4444444444444444,
             "#bd3786"
            ],
            [
             0.5555555555555556,
             "#d8576b"
            ],
            [
             0.6666666666666666,
             "#ed7953"
            ],
            [
             0.7777777777777778,
             "#fb9f3a"
            ],
            [
             0.8888888888888888,
             "#fdca26"
            ],
            [
             1,
             "#f0f921"
            ]
           ]
          },
          "colorway": [
           "#636efa",
           "#EF553B",
           "#00cc96",
           "#ab63fa",
           "#FFA15A",
           "#19d3f3",
           "#FF6692",
           "#B6E880",
           "#FF97FF",
           "#FECB52"
          ],
          "font": {
           "color": "#2a3f5f"
          },
          "geo": {
           "bgcolor": "white",
           "lakecolor": "white",
           "landcolor": "#E5ECF6",
           "showlakes": true,
           "showland": true,
           "subunitcolor": "white"
          },
          "hoverlabel": {
           "align": "left"
          },
          "hovermode": "closest",
          "mapbox": {
           "style": "light"
          },
          "paper_bgcolor": "white",
          "plot_bgcolor": "#E5ECF6",
          "polar": {
           "angularaxis": {
            "gridcolor": "white",
            "linecolor": "white",
            "ticks": ""
           },
           "bgcolor": "#E5ECF6",
           "radialaxis": {
            "gridcolor": "white",
            "linecolor": "white",
            "ticks": ""
           }
          },
          "scene": {
           "xaxis": {
            "backgroundcolor": "#E5ECF6",
            "gridcolor": "white",
            "gridwidth": 2,
            "linecolor": "white",
            "showbackground": true,
            "ticks": "",
            "zerolinecolor": "white"
           },
           "yaxis": {
            "backgroundcolor": "#E5ECF6",
            "gridcolor": "white",
            "gridwidth": 2,
            "linecolor": "white",
            "showbackground": true,
            "ticks": "",
            "zerolinecolor": "white"
           },
           "zaxis": {
            "backgroundcolor": "#E5ECF6",
            "gridcolor": "white",
            "gridwidth": 2,
            "linecolor": "white",
            "showbackground": true,
            "ticks": "",
            "zerolinecolor": "white"
           }
          },
          "shapedefaults": {
           "line": {
            "color": "#2a3f5f"
           }
          },
          "ternary": {
           "aaxis": {
            "gridcolor": "white",
            "linecolor": "white",
            "ticks": ""
           },
           "baxis": {
            "gridcolor": "white",
            "linecolor": "white",
            "ticks": ""
           },
           "bgcolor": "#E5ECF6",
           "caxis": {
            "gridcolor": "white",
            "linecolor": "white",
            "ticks": ""
           }
          },
          "title": {
           "x": 0.05
          },
          "xaxis": {
           "automargin": true,
           "gridcolor": "white",
           "linecolor": "white",
           "ticks": "",
           "title": {
            "standoff": 15
           },
           "zerolinecolor": "white",
           "zerolinewidth": 2
          },
          "yaxis": {
           "automargin": true,
           "gridcolor": "white",
           "linecolor": "white",
           "ticks": "",
           "title": {
            "standoff": 15
           },
           "zerolinecolor": "white",
           "zerolinewidth": 2
          }
         }
        },
        "width": 1000
       }
      },
      "text/html": [
       "<div>                            <div id=\"223e833e-83aa-4719-974a-bc390c0f527a\" class=\"plotly-graph-div\" style=\"height:1000px; width:1000px;\"></div>            <script type=\"text/javascript\">                require([\"plotly\"], function(Plotly) {                    window.PLOTLYENV=window.PLOTLYENV || {};                                    if (document.getElementById(\"223e833e-83aa-4719-974a-bc390c0f527a\")) {                    Plotly.newPlot(                        \"223e833e-83aa-4719-974a-bc390c0f527a\",                        [{\"hovertemplate\":\"C-1=%{x}\\u003cbr\\u003eC-2=%{y}\\u003cbr\\u003eC-3=%{z}\\u003cbr\\u003etext=%{text}\\u003cbr\\u003eC-4=%{marker.color}\\u003cextra\\u003e\\u003c\\u002fextra\\u003e\",\"legendgroup\":\"\",\"marker\":{\"color\":[-0.21080796420574188,-0.18772189319133759,-0.8002322912216187,-0.0817566066980362,1.590530276298523,1.263859748840332,2.5770976543426514,-2.6031150817871094,-0.13300688564777374,1.1254507303237915,-1.2893714904785156,-1.4338887929916382,-0.1764145940542221,-0.8480821847915649,-0.8333616852760315,0.5114245414733887,-0.4184904992580414,-1.220603585243225,1.7482529878616333,-1.600131869316101,0.5346131324768066,-1.63358736038208,0.904217004776001,-0.06908287107944489,0.6580085754394531,0.8753841519355774,0.5882697105407715],\"coloraxis\":\"coloraxis\",\"symbol\":\"circle\"},\"mode\":\"markers+text\",\"name\":\"\",\"scene\":\"scene\",\"showlegend\":false,\"text\":[\".\",\"a\",\"b\",\"c\",\"d\",\"e\",\"f\",\"g\",\"h\",\"i\",\"j\",\"k\",\"l\",\"m\",\"n\",\"o\",\"p\",\"q\",\"r\",\"s\",\"t\",\"u\",\"v\",\"w\",\"x\",\"y\",\"z\"],\"x\":[-0.673703134059906,1.1228723526000977,-2.3112053871154785,2.454608678817749,3.2400059700012207,-1.4349154233932495,0.6819559931755066,-2.294802665710449,2.737654447555542,1.3657832145690918,-1.4680756330490112,-0.6908183097839355,2.0367701053619385,-1.3626412153244019,0.8622626066207886,1.0020171403884888,-1.2627441883087158,-1.127434253692627,-0.24081529676914215,-0.3118060231208801,-0.17429673671722412,0.7082497477531433,1.426857590675354,-1.8345086574554443,0.8331560492515564,-1.8896092176437378,-1.3948161602020264],\"y\":[-1.650344967842102,-1.54213547706604,0.1507468819618225,1.555504322052002,-2.6099278926849365,1.3339526653289795,0.13968898355960846,-0.26690852642059326,-0.20363366603851318,0.40321746468544006,1.0144652128219604,-0.6170796155929565,-0.8826144933700562,0.5955600142478943,0.7122708559036255,2.685596227645874,0.3174961805343628,-0.11290982365608215,-0.4579160809516907,1.9724481105804443,-0.9599964618682861,1.4842607975006104,-1.2497832775115967,-2.1665382385253906,2.3276073932647705,0.2755456566810608,-2.248574733734131],\"z\":[-0.8072510361671448,-1.508892297744751,1.2204846143722534,-0.8639835119247437,1.0828132629394531,2.3389644622802734,2.4850170612335205,-2.336449384689331,-0.2055470049381256,0.17849910259246826,-0.9684327244758606,-1.0710418224334717,-0.9196741580963135,-0.9222167730331421,-0.6915149092674255,0.7059922814369202,-0.28542613983154297,-1.9636585712432861,1.9106371402740479,-0.6725383400917053,0.6738835573196411,-2.041656970977783,0.8718096613883972,0.3002670407295227,0.9416863322257996,2.299231767654419,0.24899592995643616],\"type\":\"scatter3d\"}],                        {\"template\":{\"data\":{\"histogram2dcontour\":[{\"type\":\"histogram2dcontour\",\"colorbar\":{\"outlinewidth\":0,\"ticks\":\"\"},\"colorscale\":[[0.0,\"#0d0887\"],[0.1111111111111111,\"#46039f\"],[0.2222222222222222,\"#7201a8\"],[0.3333333333333333,\"#9c179e\"],[0.4444444444444444,\"#bd3786\"],[0.5555555555555556,\"#d8576b\"],[0.6666666666666666,\"#ed7953\"],[0.7777777777777778,\"#fb9f3a\"],[0.8888888888888888,\"#fdca26\"],[1.0,\"#f0f921\"]]}],\"choropleth\":[{\"type\":\"choropleth\",\"colorbar\":{\"outlinewidth\":0,\"ticks\":\"\"}}],\"histogram2d\":[{\"type\":\"histogram2d\",\"colorbar\":{\"outlinewidth\":0,\"ticks\":\"\"},\"colorscale\":[[0.0,\"#0d0887\"],[0.1111111111111111,\"#46039f\"],[0.2222222222222222,\"#7201a8\"],[0.3333333333333333,\"#9c179e\"],[0.4444444444444444,\"#bd3786\"],[0.5555555555555556,\"#d8576b\"],[0.6666666666666666,\"#ed7953\"],[0.7777777777777778,\"#fb9f3a\"],[0.8888888888888888,\"#fdca26\"],[1.0,\"#f0f921\"]]}],\"heatmap\":[{\"type\":\"heatmap\",\"colorbar\":{\"outlinewidth\":0,\"ticks\":\"\"},\"colorscale\":[[0.0,\"#0d0887\"],[0.1111111111111111,\"#46039f\"],[0.2222222222222222,\"#7201a8\"],[0.3333333333333333,\"#9c179e\"],[0.4444444444444444,\"#bd3786\"],[0.5555555555555556,\"#d8576b\"],[0.6666666666666666,\"#ed7953\"],[0.7777777777777778,\"#fb9f3a\"],[0.8888888888888888,\"#fdca26\"],[1.0,\"#f0f921\"]]}],\"heatmapgl\":[{\"type\":\"heatmapgl\",\"colorbar\":{\"outlinewidth\":0,\"ticks\":\"\"},\"colorscale\":[[0.0,\"#0d0887\"],[0.1111111111111111,\"#46039f\"],[0.2222222222222222,\"#7201a8\"],[0.3333333333333333,\"#9c179e\"],[0.4444444444444444,\"#bd3786\"],[0.5555555555555556,\"#d8576b\"],[0.6666666666666666,\"#ed7953\"],[0.7777777777777778,\"#fb9f3a\"],[0.8888888888888888,\"#fdca26\"],[1.0,\"#f0f921\"]]}],\"contourcarpet\":[{\"type\":\"contourcarpet\",\"colorbar\":{\"outlinewidth\":0,\"ticks\":\"\"}}],\"contour\":[{\"type\":\"contour\",\"colorbar\":{\"outlinewidth\":0,\"ticks\":\"\"},\"colorscale\":[[0.0,\"#0d0887\"],[0.1111111111111111,\"#46039f\"],[0.2222222222222222,\"#7201a8\"],[0.3333333333333333,\"#9c179e\"],[0.4444444444444444,\"#bd3786\"],[0.5555555555555556,\"#d8576b\"],[0.6666666666666666,\"#ed7953\"],[0.7777777777777778,\"#fb9f3a\"],[0.8888888888888888,\"#fdca26\"],[1.0,\"#f0f921\"]]}],\"surface\":[{\"type\":\"surface\",\"colorbar\":{\"outlinewidth\":0,\"ticks\":\"\"},\"colorscale\":[[0.0,\"#0d0887\"],[0.1111111111111111,\"#46039f\"],[0.2222222222222222,\"#7201a8\"],[0.3333333333333333,\"#9c179e\"],[0.4444444444444444,\"#bd3786\"],[0.5555555555555556,\"#d8576b\"],[0.6666666666666666,\"#ed7953\"],[0.7777777777777778,\"#fb9f3a\"],[0.8888888888888888,\"#fdca26\"],[1.0,\"#f0f921\"]]}],\"mesh3d\":[{\"type\":\"mesh3d\",\"colorbar\":{\"outlinewidth\":0,\"ticks\":\"\"}}],\"scatter\":[{\"fillpattern\":{\"fillmode\":\"overlay\",\"size\":10,\"solidity\":0.2},\"type\":\"scatter\"}],\"parcoords\":[{\"type\":\"parcoords\",\"line\":{\"colorbar\":{\"outlinewidth\":0,\"ticks\":\"\"}}}],\"scatterpolargl\":[{\"type\":\"scatterpolargl\",\"marker\":{\"colorbar\":{\"outlinewidth\":0,\"ticks\":\"\"}}}],\"bar\":[{\"error_x\":{\"color\":\"#2a3f5f\"},\"error_y\":{\"color\":\"#2a3f5f\"},\"marker\":{\"line\":{\"color\":\"#E5ECF6\",\"width\":0.5},\"pattern\":{\"fillmode\":\"overlay\",\"size\":10,\"solidity\":0.2}},\"type\":\"bar\"}],\"scattergeo\":[{\"type\":\"scattergeo\",\"marker\":{\"colorbar\":{\"outlinewidth\":0,\"ticks\":\"\"}}}],\"scatterpolar\":[{\"type\":\"scatterpolar\",\"marker\":{\"colorbar\":{\"outlinewidth\":0,\"ticks\":\"\"}}}],\"histogram\":[{\"marker\":{\"pattern\":{\"fillmode\":\"overlay\",\"size\":10,\"solidity\":0.2}},\"type\":\"histogram\"}],\"scattergl\":[{\"type\":\"scattergl\",\"marker\":{\"colorbar\":{\"outlinewidth\":0,\"ticks\":\"\"}}}],\"scatter3d\":[{\"type\":\"scatter3d\",\"line\":{\"colorbar\":{\"outlinewidth\":0,\"ticks\":\"\"}},\"marker\":{\"colorbar\":{\"outlinewidth\":0,\"ticks\":\"\"}}}],\"scattermapbox\":[{\"type\":\"scattermapbox\",\"marker\":{\"colorbar\":{\"outlinewidth\":0,\"ticks\":\"\"}}}],\"scatterternary\":[{\"type\":\"scatterternary\",\"marker\":{\"colorbar\":{\"outlinewidth\":0,\"ticks\":\"\"}}}],\"scattercarpet\":[{\"type\":\"scattercarpet\",\"marker\":{\"colorbar\":{\"outlinewidth\":0,\"ticks\":\"\"}}}],\"carpet\":[{\"aaxis\":{\"endlinecolor\":\"#2a3f5f\",\"gridcolor\":\"white\",\"linecolor\":\"white\",\"minorgridcolor\":\"white\",\"startlinecolor\":\"#2a3f5f\"},\"baxis\":{\"endlinecolor\":\"#2a3f5f\",\"gridcolor\":\"white\",\"linecolor\":\"white\",\"minorgridcolor\":\"white\",\"startlinecolor\":\"#2a3f5f\"},\"type\":\"carpet\"}],\"table\":[{\"cells\":{\"fill\":{\"color\":\"#EBF0F8\"},\"line\":{\"color\":\"white\"}},\"header\":{\"fill\":{\"color\":\"#C8D4E3\"},\"line\":{\"color\":\"white\"}},\"type\":\"table\"}],\"barpolar\":[{\"marker\":{\"line\":{\"color\":\"#E5ECF6\",\"width\":0.5},\"pattern\":{\"fillmode\":\"overlay\",\"size\":10,\"solidity\":0.2}},\"type\":\"barpolar\"}],\"pie\":[{\"automargin\":true,\"type\":\"pie\"}]},\"layout\":{\"autotypenumbers\":\"strict\",\"colorway\":[\"#636efa\",\"#EF553B\",\"#00cc96\",\"#ab63fa\",\"#FFA15A\",\"#19d3f3\",\"#FF6692\",\"#B6E880\",\"#FF97FF\",\"#FECB52\"],\"font\":{\"color\":\"#2a3f5f\"},\"hovermode\":\"closest\",\"hoverlabel\":{\"align\":\"left\"},\"paper_bgcolor\":\"white\",\"plot_bgcolor\":\"#E5ECF6\",\"polar\":{\"bgcolor\":\"#E5ECF6\",\"angularaxis\":{\"gridcolor\":\"white\",\"linecolor\":\"white\",\"ticks\":\"\"},\"radialaxis\":{\"gridcolor\":\"white\",\"linecolor\":\"white\",\"ticks\":\"\"}},\"ternary\":{\"bgcolor\":\"#E5ECF6\",\"aaxis\":{\"gridcolor\":\"white\",\"linecolor\":\"white\",\"ticks\":\"\"},\"baxis\":{\"gridcolor\":\"white\",\"linecolor\":\"white\",\"ticks\":\"\"},\"caxis\":{\"gridcolor\":\"white\",\"linecolor\":\"white\",\"ticks\":\"\"}},\"coloraxis\":{\"colorbar\":{\"outlinewidth\":0,\"ticks\":\"\"}},\"colorscale\":{\"sequential\":[[0.0,\"#0d0887\"],[0.1111111111111111,\"#46039f\"],[0.2222222222222222,\"#7201a8\"],[0.3333333333333333,\"#9c179e\"],[0.4444444444444444,\"#bd3786\"],[0.5555555555555556,\"#d8576b\"],[0.6666666666666666,\"#ed7953\"],[0.7777777777777778,\"#fb9f3a\"],[0.8888888888888888,\"#fdca26\"],[1.0,\"#f0f921\"]],\"sequentialminus\":[[0.0,\"#0d0887\"],[0.1111111111111111,\"#46039f\"],[0.2222222222222222,\"#7201a8\"],[0.3333333333333333,\"#9c179e\"],[0.4444444444444444,\"#bd3786\"],[0.5555555555555556,\"#d8576b\"],[0.6666666666666666,\"#ed7953\"],[0.7777777777777778,\"#fb9f3a\"],[0.8888888888888888,\"#fdca26\"],[1.0,\"#f0f921\"]],\"diverging\":[[0,\"#8e0152\"],[0.1,\"#c51b7d\"],[0.2,\"#de77ae\"],[0.3,\"#f1b6da\"],[0.4,\"#fde0ef\"],[0.5,\"#f7f7f7\"],[0.6,\"#e6f5d0\"],[0.7,\"#b8e186\"],[0.8,\"#7fbc41\"],[0.9,\"#4d9221\"],[1,\"#276419\"]]},\"xaxis\":{\"gridcolor\":\"white\",\"linecolor\":\"white\",\"ticks\":\"\",\"title\":{\"standoff\":15},\"zerolinecolor\":\"white\",\"automargin\":true,\"zerolinewidth\":2},\"yaxis\":{\"gridcolor\":\"white\",\"linecolor\":\"white\",\"ticks\":\"\",\"title\":{\"standoff\":15},\"zerolinecolor\":\"white\",\"automargin\":true,\"zerolinewidth\":2},\"scene\":{\"xaxis\":{\"backgroundcolor\":\"#E5ECF6\",\"gridcolor\":\"white\",\"linecolor\":\"white\",\"showbackground\":true,\"ticks\":\"\",\"zerolinecolor\":\"white\",\"gridwidth\":2},\"yaxis\":{\"backgroundcolor\":\"#E5ECF6\",\"gridcolor\":\"white\",\"linecolor\":\"white\",\"showbackground\":true,\"ticks\":\"\",\"zerolinecolor\":\"white\",\"gridwidth\":2},\"zaxis\":{\"backgroundcolor\":\"#E5ECF6\",\"gridcolor\":\"white\",\"linecolor\":\"white\",\"showbackground\":true,\"ticks\":\"\",\"zerolinecolor\":\"white\",\"gridwidth\":2}},\"shapedefaults\":{\"line\":{\"color\":\"#2a3f5f\"}},\"annotationdefaults\":{\"arrowcolor\":\"#2a3f5f\",\"arrowhead\":0,\"arrowwidth\":1},\"geo\":{\"bgcolor\":\"white\",\"landcolor\":\"#E5ECF6\",\"subunitcolor\":\"white\",\"showland\":true,\"showlakes\":true,\"lakecolor\":\"white\"},\"title\":{\"x\":0.05},\"mapbox\":{\"style\":\"light\"}}},\"scene\":{\"domain\":{\"x\":[0.0,1.0],\"y\":[0.0,1.0]},\"xaxis\":{\"title\":{\"text\":\"C-1\"}},\"yaxis\":{\"title\":{\"text\":\"C-2\"}},\"zaxis\":{\"title\":{\"text\":\"C-3\"}}},\"coloraxis\":{\"colorbar\":{\"title\":{\"text\":\"C-4\"}},\"colorscale\":[[0.0,\"#0d0887\"],[0.1111111111111111,\"#46039f\"],[0.2222222222222222,\"#7201a8\"],[0.3333333333333333,\"#9c179e\"],[0.4444444444444444,\"#bd3786\"],[0.5555555555555556,\"#d8576b\"],[0.6666666666666666,\"#ed7953\"],[0.7777777777777778,\"#fb9f3a\"],[0.8888888888888888,\"#fdca26\"],[1.0,\"#f0f921\"]]},\"legend\":{\"tracegroupgap\":0},\"margin\":{\"t\":60},\"height\":1000,\"width\":1000},                        {\"responsive\": true}                    ).then(function(){\n",
       "                            \n",
       "var gd = document.getElementById('223e833e-83aa-4719-974a-bc390c0f527a');\n",
       "var x = new MutationObserver(function (mutations, observer) {{\n",
       "        var display = window.getComputedStyle(gd).display;\n",
       "        if (!display || display === 'none') {{\n",
       "            console.log([gd, 'removed!']);\n",
       "            Plotly.purge(gd);\n",
       "            observer.disconnect();\n",
       "        }}\n",
       "}});\n",
       "\n",
       "// Listen for the removal of the full notebook cells\n",
       "var notebookContainer = gd.closest('#notebook-container');\n",
       "if (notebookContainer) {{\n",
       "    x.observe(notebookContainer, {childList: true});\n",
       "}}\n",
       "\n",
       "// Listen for the clearing of the current output cell\n",
       "var outputEl = gd.closest('.output');\n",
       "if (outputEl) {{\n",
       "    x.observe(outputEl, {childList: true});\n",
       "}}\n",
       "\n",
       "                        })                };                });            </script>        </div>"
      ]
     },
     "metadata": {},
     "output_type": "display_data"
    }
   ],
   "source": [
    "# ONLY VISUALIZING THE FIRST TWO DIMENSIONS OF THE EMBEDDING\n",
    "# MAY NOT BE THE BEST WAY TO VISUALIZE THE EMBEDDINGS FOR EMBEDDING_DIMENSION > 2\n",
    "from sklearn.decomposition import PCA\n",
    "import plotly_express as px\n",
    "def plot_embeddings():\n",
    "\n",
    "    _embedding_layer = embedding_layer.clone()\n",
    "    if _embedding_layer.shape[1] > 2:\n",
    "        if _embedding_layer.shape[1] > 3:\n",
    "            print(\"Warning: Embedding dimension greater than 3. Running PCA to extract first three dimensions.\")   \n",
    "            pca = PCA(n_components=4)\n",
    "            _embedding_layer = pca.fit_transform(embedding_layer.detach().numpy())\n",
    "        fig = px.scatter_3d(\n",
    "                x=_embedding_layer[:,0].data,\n",
    "                y=_embedding_layer[:,1].data,\n",
    "                z=_embedding_layer[:,2].data,\n",
    "                color=embedding_layer[:,3].data,\n",
    "                labels={'x': 'C-1', 'y': 'C-2', 'z': 'C-3', 'color': 'C-4'},\n",
    "                text=index_to_character,\n",
    "                # color=index_to_character,\n",
    "                height=1000,\n",
    "                width=1000,\n",
    "            )\n",
    "    else:\n",
    "        fig = px.scatter(\n",
    "            x=_embedding_layer[:,0].data,\n",
    "            y=_embedding_layer[:,1].data,\n",
    "            text=index_to_character,\n",
    "            # color=index_to_character,\n",
    "            height=800,\n",
    "            width=800,\n",
    "        )\n",
    "        fig.update_traces(textposition='top center')\n",
    "    return fig\n",
    "\n",
    "print(embedding_layer.shape)\n",
    "\n",
    "plot_embeddings()"
   ]
  },
  {
   "cell_type": "markdown",
   "metadata": {},
   "source": [
    "---"
   ]
  },
  {
   "cell_type": "code",
   "execution_count": 266,
   "metadata": {},
   "outputs": [],
   "source": [
    "# initial forward pass for diagnostics\n",
    "embeddings = embedding_layer[X_train[0:1000]]\n",
    "pre_activations = embeddings.view(-1, context_length * embedding_dimension) @ hidden_layer_weights #+ hidden_layer_bias\n",
    "activations = torch.tanh(pre_activations)\n",
    "logits = activations @ output_layer_weights + output_layer_bias"
   ]
  },
  {
   "cell_type": "code",
   "execution_count": 267,
   "metadata": {},
   "outputs": [
    {
     "data": {
      "text/plain": [
       "(array([ 211.,  688., 1092., 1574., 2327., 2462., 2824., 3537., 3943.,\n",
       "        4156., 4570., 4232., 4460., 4421., 4825., 4628., 5288., 5413.,\n",
       "        4977., 5105., 4779., 4893., 5476., 5293., 5670., 5608., 5559.,\n",
       "        5426., 5125., 5152., 6058., 5738., 5325., 4950., 5189., 5888.,\n",
       "        5037., 5083., 4445., 3815., 4107., 4348., 3511., 3205., 2476.,\n",
       "        2907., 2040., 1147.,  819.,  198.]),\n",
       " array([-0.98839027, -0.94872825, -0.90906623, -0.86940421, -0.82974219,\n",
       "        -0.79008017, -0.75041815, -0.71075613, -0.67109411, -0.63143209,\n",
       "        -0.59177006, -0.55210804, -0.51244602, -0.472784  , -0.43312198,\n",
       "        -0.39345996, -0.35379794, -0.31413592, -0.2744739 , -0.23481188,\n",
       "        -0.19514986, -0.15548784, -0.11582582, -0.0761638 , -0.03650178,\n",
       "         0.00316024,  0.04282226,  0.08248428,  0.1221463 ,  0.16180832,\n",
       "         0.20147034,  0.24113236,  0.28079438,  0.3204564 ,  0.36011842,\n",
       "         0.39978044,  0.43944246,  0.47910448,  0.5187665 ,  0.55842852,\n",
       "         0.59809054,  0.63775256,  0.67741458,  0.7170766 ,  0.75673862,\n",
       "         0.79640064,  0.83606266,  0.87572468,  0.9153867 ,  0.95504872,\n",
       "         0.99471074]),\n",
       " <BarContainer object of 50 artists>)"
      ]
     },
     "execution_count": 267,
     "metadata": {},
     "output_type": "execute_result"
    },
    {
     "data": {
      "image/png": "[encoded data removed]",
      "text/plain": [
       "<Figure size 640x480 with 1 Axes>"
      ]
     },
     "metadata": {},
     "output_type": "display_data"
    }
   ],
   "source": [
    "# https://youtu.be/P6sfmUTpUmc?si=EcT1vrXmVrLFR_Qx&t=878\n",
    "# very active tanh which is stretching activations to the extremes values which killing the gradients\n",
    "plt.hist(activations.view(-1).tolist(), bins=50)"
   ]
  },
  {
   "cell_type": "code",
   "execution_count": 268,
   "metadata": {},
   "outputs": [
    {
     "data": {
      "text/plain": [
       "(array([2.0000e+00, 6.0000e+00, 5.0000e+00, 2.1000e+01, 3.9000e+01,\n",
       "        7.1000e+01, 9.2000e+01, 1.4700e+02, 3.5400e+02, 3.9800e+02,\n",
       "        6.3300e+02, 1.0050e+03, 1.7540e+03, 2.4310e+03, 3.3300e+03,\n",
       "        4.9320e+03, 6.9240e+03, 8.5400e+03, 9.5300e+03, 1.1093e+04,\n",
       "        1.3662e+04, 1.3319e+04, 1.4977e+04, 1.5475e+04, 1.4166e+04,\n",
       "        1.4695e+04, 1.2939e+04, 1.2087e+04, 9.4250e+03, 7.1240e+03,\n",
       "        6.1450e+03, 4.6280e+03, 2.8460e+03, 2.6340e+03, 1.5910e+03,\n",
       "        1.3460e+03, 5.2100e+02, 4.2600e+02, 2.0500e+02, 2.6000e+02,\n",
       "        7.5000e+01, 4.7000e+01, 3.7000e+01, 3.7000e+01, 7.0000e+00,\n",
       "        1.5000e+01, 2.0000e+00, 1.0000e+00, 0.0000e+00, 1.0000e+00]),\n",
       " array([-2.5716176 , -2.46085951, -2.35010141, -2.23934332, -2.12858522,\n",
       "        -2.01782713, -1.90706903, -1.79631094, -1.68555285, -1.57479475,\n",
       "        -1.46403666, -1.35327856, -1.24252047, -1.13176237, -1.02100428,\n",
       "        -0.91024618, -0.79948809, -0.68872999, -0.5779719 , -0.4672138 ,\n",
       "        -0.35645571, -0.24569761, -0.13493952, -0.02418142,  0.08657667,\n",
       "         0.19733477,  0.30809286,  0.41885096,  0.52960905,  0.64036715,\n",
       "         0.75112524,  0.86188334,  0.97264143,  1.08339952,  1.19415762,\n",
       "         1.30491571,  1.41567381,  1.5264319 ,  1.63719   ,  1.74794809,\n",
       "         1.85870619,  1.96946428,  2.08022238,  2.19098047,  2.30173857,\n",
       "         2.41249666,  2.52325476,  2.63401285,  2.74477095,  2.85552904,\n",
       "         2.96628714]),\n",
       " <BarContainer object of 50 artists>)"
      ]
     },
     "execution_count": 268,
     "metadata": {},
     "output_type": "execute_result"
    },
    {
     "data": {
      "image/png": "[encoded data removed]",
      "text/plain": [
       "<Figure size 640x480 with 1 Axes>"
      ]
     },
     "metadata": {},
     "output_type": "display_data"
    }
   ],
   "source": [
    "plt.hist(pre_activations.view(-1).tolist(), bins=50)"
   ]
  },
  {
   "cell_type": "markdown",
   "metadata": {},
   "source": [
    "---"
   ]
  },
  {
   "cell_type": "code",
   "execution_count": 269,
   "metadata": {},
   "outputs": [],
   "source": [
    "for p in parameters:\n",
    "    p.requires_grad = True\n",
    "\n",
    "# with torch.no_grad():\n",
    "#     # https://youtu.be/P6sfmUTpUmc?si=SpZmonVTzkggqT44&t=3256\n",
    "#     # calculate the mean and stardard deviation of the pre-activations for batch normalization\n",
    "#     # (over the entire training set)\n",
    "#     # we do this so that we can make predictions on individual examples (where mean and std are\n",
    "#     # meaningless)\n",
    "#     embeddings = embedding_layer[X_train]\n",
    "#     pre_activations = embeddings.view(-1, context_length * embedding_dimension) @ hidden_layer_weights + hidden_layer_bias    \n",
    "#     batch_normalization_mean = pre_activations.mean(dim=0, keepdim=True)\n",
    "#     batch_normalization_st_dev = pre_activations.std(dim=0, keepdim=True)\n",
    "#     print(batch_normalization_mean.shape)\n",
    "#     print(batch_normalization_st_dev.shape)"
   ]
  },
  {
   "cell_type": "code",
   "execution_count": 270,
   "metadata": {},
   "outputs": [],
   "source": [
    "# in practice we perform updates on minibatches of data   \n",
    "losses = []"
   ]
  },
  {
   "cell_type": "code",
   "execution_count": 260,
   "metadata": {},
   "outputs": [
    {
     "name": "stdout",
     "output_type": "stream",
     "text": [
      "Training Loss (average): 2.835\n",
      "Training Loss (average): 2.533\n",
      "Training Loss (average): 2.468\n",
      "Training Loss (average): 2.436\n",
      "Training Loss (average): 2.397\n",
      "Training Loss (average): 2.378\n",
      "Training Loss (average): 2.368\n",
      "Training Loss (average): 2.348\n",
      "Training Loss (average): 2.345\n",
      "Training Loss (average): 2.334\n",
      "Training Loss (average): 2.331\n",
      "Training Loss (average): 2.336\n",
      "Training Loss (average): 2.309\n",
      "Training Loss (average): 2.309\n",
      "Training Loss (average): 2.284\n",
      "Training Loss (average): 2.295\n",
      "Training Loss (average): 2.293\n",
      "Training Loss (average): 2.283\n",
      "Training Loss (average): 2.286\n",
      "Training Loss (average): 2.272\n",
      "---\n",
      "Validation Loss: 2.269\n"
     ]
    },
    {
     "data": {
      "image/png": "[encoded data removed]",
      "text/plain": [
       "<Figure size 640x480 with 1 Axes>"
      ]
     },
     "metadata": {},
     "output_type": "display_data"
    },
    {
     "name": "stdout",
     "output_type": "stream",
     "text": [
      "Warning: Embedding dimension greater than 3. Running PCA to extract first three dimensions.\n"
     ]
    },
    {
     "data": {
      "application/vnd.plotly.v1+json": {
       "config": {
        "plotlyServerURL": "https://plot.ly"
       },
       "data": [
        {
         "hovertemplate": "C-1=%{x}<br>C-2=%{y}<br>C-3=%{z}<br>text=%{text}<br>C-4=%{marker.color}<extra></extra>",
         "legendgroup": "",
         "marker": {
          "color": [
           -0.21963784098625183,
           -0.35475465655326843,
           -0.8991279602050781,
           -0.1647343784570694,
           1.4530993700027466,
           1.3571810722351074,
           2.539116859436035,
           -2.593245506286621,
           -0.11566685140132904,
           1.2872875928878784,
           -1.3069299459457397,
           -1.3490937948226929,
           -0.10044286400079727,
           -0.8268727660179138,
           -0.5630097985267639,
           0.43373554944992065,
           -0.5506240129470825,
           -1.219106912612915,
           1.8455890417099,
           -1.756057620048523,
           0.4107663035392761,
           -1.4678940773010254,
           0.8875619769096375,
           -0.03862496465444565,
           0.638583242893219,
           0.8448525667190552,
           0.6654853224754333
          ],
          "coloraxis": "coloraxis",
          "symbol": "circle"
         },
         "mode": "markers+text",
         "name": "",
         "scene": "scene",
         "showlegend": false,
         "text": [
          ".",
          "a",
          "b",
          "c",
          "d",
          "e",
          "f",
          "g",
          "h",
          "i",
          "j",
          "k",
          "l",
          "m",
          "n",
          "o",
          "p",
          "q",
          "r",
          "s",
          "t",
          "u",
          "v",
          "w",
          "x",
          "y",
          "z"
         ],
         "type": "scatter3d",
         "x": [
          -0.7553925514221191,
          0.8398510813713074,
          -2.4103875160217285,
          2.4729583263397217,
          3.0531234741210938,
          -1.38274347782135,
          0.7498928308486938,
          -2.3145058155059814,
          2.6507773399353027,
          1.4377135038375854,
          -1.5310195684432983,
          -0.7379139065742493,
          2.073214530944824,
          -1.2749078273773193,
          1.1045011281967163,
          1.028304934501648,
          -1.2829415798187256,
          -1.1591168642044067,
          -0.09327956289052963,
          -0.35820525884628296,
          -0.04601678252220154,
          0.7415307760238647,
          1.343773603439331,
          -1.820886492729187,
          0.8636733889579773,
          -1.847205400466919,
          -1.344792366027832
         ],
         "y": [
          1.6429046392440796,
          1.4862315654754639,
          -0.1207364946603775,
          -1.3719359636306763,
          2.6838572025299072,
          -1.3461796045303345,
          -0.15679101645946503,
          0.275922030210495,
          0.4490593373775482,
          -0.668140709400177,
          -0.9370617270469666,
          0.5711804032325745,
          1.0319032669067383,
          -0.5144233107566833,
          -0.9251038432121277,
          -2.62908935546875,
          -0.3668328821659088,
          0.0760718509554863,
          0.5004911422729492,
          -1.8694710731506348,
          0.8174136877059937,
          -1.6669031381607056,
          1.360314130783081,
          2.0996053218841553,
          -2.257089376449585,
          -0.32359206676483154,
          2.1583962440490723
         ],
         "z": [
          -0.6585452556610107,
          -1.7386788129806519,
          1.2641832828521729,
          -0.9305140972137451,
          0.8498619794845581,
          2.069946050643921,
          2.4846062660217285,
          -2.4284520149230957,
          -0.6529362797737122,
          0.5572561621665955,
          -0.9183223247528076,
          -0.8234613537788391,
          -0.8019455671310425,
          -0.614514946937561,
          -0.3097078204154968,
          0.30920401215553284,
          -0.5109503269195557,
          -2.1541125774383545,
          1.9343631267547607,
          -0.8152300119400024,
          0.4890880882740021,
          -1.7736477851867676,
          1.0483123064041138,
          0.4089411199092865,
          1.1272432804107666,
          2.3279340267181396,
          0.2600792646408081
         ]
        }
       ],
       "layout": {
        "coloraxis": {
         "colorbar": {
          "title": {
           "text": "C-4"
          }
         },
         "colorscale": [
          [
           0,
           "#0d0887"
          ],
          [
           0.1111111111111111,
           "#46039f"
          ],
          [
           0.2222222222222222,
           "#7201a8"
          ],
          [
           0.3333333333333333,
           "#9c179e"
          ],
          [
           0.4444444444444444,
           "#bd3786"
          ],
          [
           0.5555555555555556,
           "#d8576b"
          ],
          [
           0.6666666666666666,
           "#ed7953"
          ],
          [
           0.7777777777777778,
           "#fb9f3a"
          ],
          [
           0.8888888888888888,
           "#fdca26"
          ],
          [
           1,
           "#f0f921"
          ]
         ]
        },
        "height": 1000,
        "legend": {
         "tracegroupgap": 0
        },
        "margin": {
         "t": 60
        },
        "scene": {
         "domain": {
          "x": [
           0,
           1
          ],
          "y": [
           0,
           1
          ]
         },
         "xaxis": {
          "title": {
           "text": "C-1"
          }
         },
         "yaxis": {
          "title": {
           "text": "C-2"
          }
         },
         "zaxis": {
          "title": {
           "text": "C-3"
          }
         }
        },
        "template": {
         "data": {
          "bar": [
           {
            "error_x": {
             "color": "#2a3f5f"
            },
            "error_y": {
             "color": "#2a3f5f"
            },
            "marker": {
             "line": {
              "color": "#E5ECF6",
              "width": 0.5
             },
             "pattern": {
              "fillmode": "overlay",
              "size": 10,
              "solidity": 0.2
             }
            },
            "type": "bar"
           }
          ],
          "barpolar": [
           {
            "marker": {
             "line": {
              "color": "#E5ECF6",
              "width": 0.5
             },
             "pattern": {
              "fillmode": "overlay",
              "size": 10,
              "solidity": 0.2
             }
            },
            "type": "barpolar"
           }
          ],
          "carpet": [
           {
            "aaxis": {
             "endlinecolor": "#2a3f5f",
             "gridcolor": "white",
             "linecolor": "white",
             "minorgridcolor": "white",
             "startlinecolor": "#2a3f5f"
            },
            "baxis": {
             "endlinecolor": "#2a3f5f",
             "gridcolor": "white",
             "linecolor": "white",
             "minorgridcolor": "white",
             "startlinecolor": "#2a3f5f"
            },
            "type": "carpet"
           }
          ],
          "choropleth": [
           {
            "colorbar": {
             "outlinewidth": 0,
             "ticks": ""
            },
            "type": "choropleth"
           }
          ],
          "contour": [
           {
            "colorbar": {
             "outlinewidth": 0,
             "ticks": ""
            },
            "colorscale": [
             [
              0,
              "#0d0887"
             ],
             [
              0.1111111111111111,
              "#46039f"
             ],
             [
              0.2222222222222222,
              "#7201a8"
             ],
             [
              0.3333333333333333,
              "#9c179e"
             ],
             [
              0.4444444444444444,
              "#bd3786"
             ],
             [
              0.5555555555555556,
              "#d8576b"
             ],
             [
              0.6666666666666666,
              "#ed7953"
             ],
             [
              0.7777777777777778,
              "#fb9f3a"
             ],
             [
              0.8888888888888888,
              "#fdca26"
             ],
             [
              1,
              "#f0f921"
             ]
            ],
            "type": "contour"
           }
          ],
          "contourcarpet": [
           {
            "colorbar": {
             "outlinewidth": 0,
             "ticks": ""
            },
            "type": "contourcarpet"
           }
          ],
          "heatmap": [
           {
            "colorbar": {
             "outlinewidth": 0,
             "ticks": ""
            },
            "colorscale": [
             [
              0,
              "#0d0887"
             ],
             [
              0.1111111111111111,
              "#46039f"
             ],
             [
              0.2222222222222222,
              "#7201a8"
             ],
             [
              0.3333333333333333,
              "#9c179e"
             ],
             [
              0.4444444444444444,
              "#bd3786"
             ],
             [
              0.5555555555555556,
              "#d8576b"
             ],
             [
              0.6666666666666666,
              "#ed7953"
             ],
             [
              0.7777777777777778,
              "#fb9f3a"
             ],
             [
              0.8888888888888888,
              "#fdca26"
             ],
             [
              1,
              "#f0f921"
             ]
            ],
            "type": "heatmap"
           }
          ],
          "heatmapgl": [
           {
            "colorbar": {
             "outlinewidth": 0,
             "ticks": ""
            },
            "colorscale": [
             [
              0,
              "#0d0887"
             ],
             [
              0.1111111111111111,
              "#46039f"
             ],
             [
              0.2222222222222222,
              "#7201a8"
             ],
             [
              0.3333333333333333,
              "#9c179e"
             ],
             [
              0.4444444444444444,
              "#bd3786"
             ],
             [
              0.5555555555555556,
              "#d8576b"
             ],
             [
              0.6666666666666666,
              "#ed7953"
             ],
             [
              0.7777777777777778,
              "#fb9f3a"
             ],
             [
              0.8888888888888888,
              "#fdca26"
             ],
             [
              1,
              "#f0f921"
             ]
            ],
            "type": "heatmapgl"
           }
          ],
          "histogram": [
           {
            "marker": {
             "pattern": {
              "fillmode": "overlay",
              "size": 10,
              "solidity": 0.2
             }
            },
            "type": "histogram"
           }
          ],
          "histogram2d": [
           {
            "colorbar": {
             "outlinewidth": 0,
             "ticks": ""
            },
            "colorscale": [
             [
              0,
              "#0d0887"
             ],
             [
              0.1111111111111111,
              "#46039f"
             ],
             [
              0.2222222222222222,
              "#7201a8"
             ],
             [
              0.3333333333333333,
              "#9c179e"
             ],
             [
              0.4444444444444444,
              "#bd3786"
             ],
             [
              0.5555555555555556,
              "#d8576b"
             ],
             [
              0.6666666666666666,
              "#ed7953"
             ],
             [
              0.7777777777777778,
              "#fb9f3a"
             ],
             [
              0.8888888888888888,
              "#fdca26"
             ],
             [
              1,
              "#f0f921"
             ]
            ],
            "type": "histogram2d"
           }
          ],
          "histogram2dcontour": [
           {
            "colorbar": {
             "outlinewidth": 0,
             "ticks": ""
            },
            "colorscale": [
             [
              0,
              "#0d0887"
             ],
             [
              0.1111111111111111,
              "#46039f"
             ],
             [
              0.2222222222222222,
              "#7201a8"
             ],
             [
              0.3333333333333333,
              "#9c179e"
             ],
             [
              0.4444444444444444,
              "#bd3786"
             ],
             [
              0.5555555555555556,
              "#d8576b"
             ],
             [
              0.6666666666666666,
              "#ed7953"
             ],
             [
              0.7777777777777778,
              "#fb9f3a"
             ],
             [
              0.8888888888888888,
              "#fdca26"
             ],
             [
              1,
              "#f0f921"
             ]
            ],
            "type": "histogram2dcontour"
           }
          ],
          "mesh3d": [
           {
            "colorbar": {
             "outlinewidth": 0,
             "ticks": ""
            },
            "type": "mesh3d"
           }
          ],
          "parcoords": [
           {
            "line": {
             "colorbar": {
              "outlinewidth": 0,
              "ticks": ""
             }
            },
            "type": "parcoords"
           }
          ],
          "pie": [
           {
            "automargin": true,
            "type": "pie"
           }
          ],
          "scatter": [
           {
            "fillpattern": {
             "fillmode": "overlay",
             "size": 10,
             "solidity": 0.2
            },
            "type": "scatter"
           }
          ],
          "scatter3d": [
           {
            "line": {
             "colorbar": {
              "outlinewidth": 0,
              "ticks": ""
             }
            },
            "marker": {
             "colorbar": {
              "outlinewidth": 0,
              "ticks": ""
             }
            },
            "type": "scatter3d"
           }
          ],
          "scattercarpet": [
           {
            "marker": {
             "colorbar": {
              "outlinewidth": 0,
              "ticks": ""
             }
            },
            "type": "scattercarpet"
           }
          ],
          "scattergeo": [
           {
            "marker": {
             "colorbar": {
              "outlinewidth": 0,
              "ticks": ""
             }
            },
            "type": "scattergeo"
           }
          ],
          "scattergl": [
           {
            "marker": {
             "colorbar": {
              "outlinewidth": 0,
              "ticks": ""
             }
            },
            "type": "scattergl"
           }
          ],
          "scattermapbox": [
           {
            "marker": {
             "colorbar": {
              "outlinewidth": 0,
              "ticks": ""
             }
            },
            "type": "scattermapbox"
           }
          ],
          "scatterpolar": [
           {
            "marker": {
             "colorbar": {
              "outlinewidth": 0,
              "ticks": ""
             }
            },
            "type": "scatterpolar"
           }
          ],
          "scatterpolargl": [
           {
            "marker": {
             "colorbar": {
              "outlinewidth": 0,
              "ticks": ""
             }
            },
            "type": "scatterpolargl"
           }
          ],
          "scatterternary": [
           {
            "marker": {
             "colorbar": {
              "outlinewidth": 0,
              "ticks": ""
             }
            },
            "type": "scatterternary"
           }
          ],
          "surface": [
           {
            "colorbar": {
             "outlinewidth": 0,
             "ticks": ""
            },
            "colorscale": [
             [
              0,
              "#0d0887"
             ],
             [
              0.1111111111111111,
              "#46039f"
             ],
             [
              0.2222222222222222,
              "#7201a8"
             ],
             [
              0.3333333333333333,
              "#9c179e"
             ],
             [
              0.4444444444444444,
              "#bd3786"
             ],
             [
              0.5555555555555556,
              "#d8576b"
             ],
             [
              0.6666666666666666,
              "#ed7953"
             ],
             [
              0.7777777777777778,
              "#fb9f3a"
             ],
             [
              0.8888888888888888,
              "#fdca26"
             ],
             [
              1,
              "#f0f921"
             ]
            ],
            "type": "surface"
           }
          ],
          "table": [
           {
            "cells": {
             "fill": {
              "color": "#EBF0F8"
             },
             "line": {
              "color": "white"
             }
            },
            "header": {
             "fill": {
              "color": "#C8D4E3"
             },
             "line": {
              "color": "white"
             }
            },
            "type": "table"
           }
          ]
         },
         "layout": {
          "annotationdefaults": {
           "arrowcolor": "#2a3f5f",
           "arrowhead": 0,
           "arrowwidth": 1
          },
          "autotypenumbers": "strict",
          "coloraxis": {
           "colorbar": {
            "outlinewidth": 0,
            "ticks": ""
           }
          },
          "colorscale": {
           "diverging": [
            [
             0,
             "#8e0152"
            ],
            [
             0.1,
             "#c51b7d"
            ],
            [
             0.2,
             "#de77ae"
            ],
            [
             0.3,
             "#f1b6da"
            ],
            [
             0.4,
             "#fde0ef"
            ],
            [
             0.5,
             "#f7f7f7"
            ],
            [
             0.6,
             "#e6f5d0"
            ],
            [
             0.7,
             "#b8e186"
            ],
            [
             0.8,
             "#7fbc41"
            ],
            [
             0.9,
             "#4d9221"
            ],
            [
             1,
             "#276419"
            ]
           ],
           "sequential": [
            [
             0,
             "#0d0887"
            ],
            [
             0.1111111111111111,
             "#46039f"
            ],
            [
             0.2222222222222222,
             "#7201a8"
            ],
            [
             0.3333333333333333,
             "#9c179e"
            ],
            [
             0.4444444444444444,
             "#bd3786"
            ],
            [
             0.5555555555555556,
             "#d8576b"
            ],
            [
             0.6666666666666666,
             "#ed7953"
            ],
            [
             0.7777777777777778,
             "#fb9f3a"
            ],
            [
             0.8888888888888888,
             "#fdca26"
            ],
            [
             1,
             "#f0f921"
            ]
           ],
           "sequentialminus": [
            [
             0,
             "#0d0887"
            ],
            [
             0.1111111111111111,
             "#46039f"
            ],
            [
             0.2222222222222222,
             "#7201a8"
            ],
            [
             0.3333333333333333,
             "#9c179e"
            ],
            [
             0.4444444444444444,
             "#bd3786"
            ],
            [
             0.5555555555555556,
             "#d8576b"
            ],
            [
             0.6666666666666666,
             "#ed7953"
            ],
            [
             0.7777777777777778,
             "#fb9f3a"
            ],
            [
             0.8888888888888888,
             "#fdca26"
            ],
            [
             1,
             "#f0f921"
            ]
           ]
          },
          "colorway": [
           "#636efa",
           "#EF553B",
           "#00cc96",
           "#ab63fa",
           "#FFA15A",
           "#19d3f3",
           "#FF6692",
           "#B6E880",
           "#FF97FF",
           "#FECB52"
          ],
          "font": {
           "color": "#2a3f5f"
          },
          "geo": {
           "bgcolor": "white",
           "lakecolor": "white",
           "landcolor": "#E5ECF6",
           "showlakes": true,
           "showland": true,
           "subunitcolor": "white"
          },
          "hoverlabel": {
           "align": "left"
          },
          "hovermode": "closest",
          "mapbox": {
           "style": "light"
          },
          "paper_bgcolor": "white",
          "plot_bgcolor": "#E5ECF6",
          "polar": {
           "angularaxis": {
            "gridcolor": "white",
            "linecolor": "white",
            "ticks": ""
           },
           "bgcolor": "#E5ECF6",
           "radialaxis": {
            "gridcolor": "white",
            "linecolor": "white",
            "ticks": ""
           }
          },
          "scene": {
           "xaxis": {
            "backgroundcolor": "#E5ECF6",
            "gridcolor": "white",
            "gridwidth": 2,
            "linecolor": "white",
            "showbackground": true,
            "ticks": "",
            "zerolinecolor": "white"
           },
           "yaxis": {
            "backgroundcolor": "#E5ECF6",
            "gridcolor": "white",
            "gridwidth": 2,
            "linecolor": "white",
            "showbackground": true,
            "ticks": "",
            "zerolinecolor": "white"
           },
           "zaxis": {
            "backgroundcolor": "#E5ECF6",
            "gridcolor": "white",
            "gridwidth": 2,
            "linecolor": "white",
            "showbackground": true,
            "ticks": "",
            "zerolinecolor": "white"
           }
          },
          "shapedefaults": {
           "line": {
            "color": "#2a3f5f"
           }
          },
          "ternary": {
           "aaxis": {
            "gridcolor": "white",
            "linecolor": "white",
            "ticks": ""
           },
           "baxis": {
            "gridcolor": "white",
            "linecolor": "white",
            "ticks": ""
           },
           "bgcolor": "#E5ECF6",
           "caxis": {
            "gridcolor": "white",
            "linecolor": "white",
            "ticks": ""
           }
          },
          "title": {
           "x": 0.05
          },
          "xaxis": {
           "automargin": true,
           "gridcolor": "white",
           "linecolor": "white",
           "ticks": "",
           "title": {
            "standoff": 15
           },
           "zerolinecolor": "white",
           "zerolinewidth": 2
          },
          "yaxis": {
           "automargin": true,
           "gridcolor": "white",
           "linecolor": "white",
           "ticks": "",
           "title": {
            "standoff": 15
           },
           "zerolinecolor": "white",
           "zerolinewidth": 2
          }
         }
        },
        "width": 1000
       }
      },
      "text/html": [
       "<div>                            <div id=\"67e2e08d-dfd6-4edc-83d0-fca0fa7f1bfb\" class=\"plotly-graph-div\" style=\"height:1000px; width:1000px;\"></div>            <script type=\"text/javascript\">                require([\"plotly\"], function(Plotly) {                    window.PLOTLYENV=window.PLOTLYENV || {};                                    if (document.getElementById(\"67e2e08d-dfd6-4edc-83d0-fca0fa7f1bfb\")) {                    Plotly.newPlot(                        \"67e2e08d-dfd6-4edc-83d0-fca0fa7f1bfb\",                        [{\"hovertemplate\":\"C-1=%{x}\\u003cbr\\u003eC-2=%{y}\\u003cbr\\u003eC-3=%{z}\\u003cbr\\u003etext=%{text}\\u003cbr\\u003eC-4=%{marker.color}\\u003cextra\\u003e\\u003c\\u002fextra\\u003e\",\"legendgroup\":\"\",\"marker\":{\"color\":[-0.21963784098625183,-0.35475465655326843,-0.8991279602050781,-0.1647343784570694,1.4530993700027466,1.3571810722351074,2.539116859436035,-2.593245506286621,-0.11566685140132904,1.2872875928878784,-1.3069299459457397,-1.3490937948226929,-0.10044286400079727,-0.8268727660179138,-0.5630097985267639,0.43373554944992065,-0.5506240129470825,-1.219106912612915,1.8455890417099,-1.756057620048523,0.4107663035392761,-1.4678940773010254,0.8875619769096375,-0.03862496465444565,0.638583242893219,0.8448525667190552,0.6654853224754333],\"coloraxis\":\"coloraxis\",\"symbol\":\"circle\"},\"mode\":\"markers+text\",\"name\":\"\",\"scene\":\"scene\",\"showlegend\":false,\"text\":[\".\",\"a\",\"b\",\"c\",\"d\",\"e\",\"f\",\"g\",\"h\",\"i\",\"j\",\"k\",\"l\",\"m\",\"n\",\"o\",\"p\",\"q\",\"r\",\"s\",\"t\",\"u\",\"v\",\"w\",\"x\",\"y\",\"z\"],\"x\":[-0.7553925514221191,0.8398510813713074,-2.4103875160217285,2.4729583263397217,3.0531234741210938,-1.38274347782135,0.7498928308486938,-2.3145058155059814,2.6507773399353027,1.4377135038375854,-1.5310195684432983,-0.7379139065742493,2.073214530944824,-1.2749078273773193,1.1045011281967163,1.028304934501648,-1.2829415798187256,-1.1591168642044067,-0.09327956289052963,-0.35820525884628296,-0.04601678252220154,0.7415307760238647,1.343773603439331,-1.820886492729187,0.8636733889579773,-1.847205400466919,-1.344792366027832],\"y\":[1.6429046392440796,1.4862315654754639,-0.1207364946603775,-1.3719359636306763,2.6838572025299072,-1.3461796045303345,-0.15679101645946503,0.275922030210495,0.4490593373775482,-0.668140709400177,-0.9370617270469666,0.5711804032325745,1.0319032669067383,-0.5144233107566833,-0.9251038432121277,-2.62908935546875,-0.3668328821659088,0.0760718509554863,0.5004911422729492,-1.8694710731506348,0.8174136877059937,-1.6669031381607056,1.360314130783081,2.0996053218841553,-2.257089376449585,-0.32359206676483154,2.1583962440490723],\"z\":[-0.6585452556610107,-1.7386788129806519,1.2641832828521729,-0.9305140972137451,0.8498619794845581,2.069946050643921,2.4846062660217285,-2.4284520149230957,-0.6529362797737122,0.5572561621665955,-0.9183223247528076,-0.8234613537788391,-0.8019455671310425,-0.614514946937561,-0.3097078204154968,0.30920401215553284,-0.5109503269195557,-2.1541125774383545,1.9343631267547607,-0.8152300119400024,0.4890880882740021,-1.7736477851867676,1.0483123064041138,0.4089411199092865,1.1272432804107666,2.3279340267181396,0.2600792646408081],\"type\":\"scatter3d\"}],                        {\"template\":{\"data\":{\"histogram2dcontour\":[{\"type\":\"histogram2dcontour\",\"colorbar\":{\"outlinewidth\":0,\"ticks\":\"\"},\"colorscale\":[[0.0,\"#0d0887\"],[0.1111111111111111,\"#46039f\"],[0.2222222222222222,\"#7201a8\"],[0.3333333333333333,\"#9c179e\"],[0.4444444444444444,\"#bd3786\"],[0.5555555555555556,\"#d8576b\"],[0.6666666666666666,\"#ed7953\"],[0.7777777777777778,\"#fb9f3a\"],[0.8888888888888888,\"#fdca26\"],[1.0,\"#f0f921\"]]}],\"choropleth\":[{\"type\":\"choropleth\",\"colorbar\":{\"outlinewidth\":0,\"ticks\":\"\"}}],\"histogram2d\":[{\"type\":\"histogram2d\",\"colorbar\":{\"outlinewidth\":0,\"ticks\":\"\"},\"colorscale\":[[0.0,\"#0d0887\"],[0.1111111111111111,\"#46039f\"],[0.2222222222222222,\"#7201a8\"],[0.3333333333333333,\"#9c179e\"],[0.4444444444444444,\"#bd3786\"],[0.5555555555555556,\"#d8576b\"],[0.6666666666666666,\"#ed7953\"],[0.7777777777777778,\"#fb9f3a\"],[0.8888888888888888,\"#fdca26\"],[1.0,\"#f0f921\"]]}],\"heatmap\":[{\"type\":\"heatmap\",\"colorbar\":{\"outlinewidth\":0,\"ticks\":\"\"},\"colorscale\":[[0.0,\"#0d0887\"],[0.1111111111111111,\"#46039f\"],[0.2222222222222222,\"#7201a8\"],[0.3333333333333333,\"#9c179e\"],[0.4444444444444444,\"#bd3786\"],[0.5555555555555556,\"#d8576b\"],[0.6666666666666666,\"#ed7953\"],[0.7777777777777778,\"#fb9f3a\"],[0.8888888888888888,\"#fdca26\"],[1.0,\"#f0f921\"]]}],\"heatmapgl\":[{\"type\":\"heatmapgl\",\"colorbar\":{\"outlinewidth\":0,\"ticks\":\"\"},\"colorscale\":[[0.0,\"#0d0887\"],[0.1111111111111111,\"#46039f\"],[0.2222222222222222,\"#7201a8\"],[0.3333333333333333,\"#9c179e\"],[0.4444444444444444,\"#bd3786\"],[0.5555555555555556,\"#d8576b\"],[0.6666666666666666,\"#ed7953\"],[0.7777777777777778,\"#fb9f3a\"],[0.8888888888888888,\"#fdca26\"],[1.0,\"#f0f921\"]]}],\"contourcarpet\":[{\"type\":\"contourcarpet\",\"colorbar\":{\"outlinewidth\":0,\"ticks\":\"\"}}],\"contour\":[{\"type\":\"contour\",\"colorbar\":{\"outlinewidth\":0,\"ticks\":\"\"},\"colorscale\":[[0.0,\"#0d0887\"],[0.1111111111111111,\"#46039f\"],[0.2222222222222222,\"#7201a8\"],[0.3333333333333333,\"#9c179e\"],[0.4444444444444444,\"#bd3786\"],[0.5555555555555556,\"#d8576b\"],[0.6666666666666666,\"#ed7953\"],[0.7777777777777778,\"#fb9f3a\"],[0.8888888888888888,\"#fdca26\"],[1.0,\"#f0f921\"]]}],\"surface\":[{\"type\":\"surface\",\"colorbar\":{\"outlinewidth\":0,\"ticks\":\"\"},\"colorscale\":[[0.0,\"#0d0887\"],[0.1111111111111111,\"#46039f\"],[0.2222222222222222,\"#7201a8\"],[0.3333333333333333,\"#9c179e\"],[0.4444444444444444,\"#bd3786\"],[0.5555555555555556,\"#d8576b\"],[0.6666666666666666,\"#ed7953\"],[0.7777777777777778,\"#fb9f3a\"],[0.8888888888888888,\"#fdca26\"],[1.0,\"#f0f921\"]]}],\"mesh3d\":[{\"type\":\"mesh3d\",\"colorbar\":{\"outlinewidth\":0,\"ticks\":\"\"}}],\"scatter\":[{\"fillpattern\":{\"fillmode\":\"overlay\",\"size\":10,\"solidity\":0.2},\"type\":\"scatter\"}],\"parcoords\":[{\"type\":\"parcoords\",\"line\":{\"colorbar\":{\"outlinewidth\":0,\"ticks\":\"\"}}}],\"scatterpolargl\":[{\"type\":\"scatterpolargl\",\"marker\":{\"colorbar\":{\"outlinewidth\":0,\"ticks\":\"\"}}}],\"bar\":[{\"error_x\":{\"color\":\"#2a3f5f\"},\"error_y\":{\"color\":\"#2a3f5f\"},\"marker\":{\"line\":{\"color\":\"#E5ECF6\",\"width\":0.5},\"pattern\":{\"fillmode\":\"overlay\",\"size\":10,\"solidity\":0.2}},\"type\":\"bar\"}],\"scattergeo\":[{\"type\":\"scattergeo\",\"marker\":{\"colorbar\":{\"outlinewidth\":0,\"ticks\":\"\"}}}],\"scatterpolar\":[{\"type\":\"scatterpolar\",\"marker\":{\"colorbar\":{\"outlinewidth\":0,\"ticks\":\"\"}}}],\"histogram\":[{\"marker\":{\"pattern\":{\"fillmode\":\"overlay\",\"size\":10,\"solidity\":0.2}},\"type\":\"histogram\"}],\"scattergl\":[{\"type\":\"scattergl\",\"marker\":{\"colorbar\":{\"outlinewidth\":0,\"ticks\":\"\"}}}],\"scatter3d\":[{\"type\":\"scatter3d\",\"line\":{\"colorbar\":{\"outlinewidth\":0,\"ticks\":\"\"}},\"marker\":{\"colorbar\":{\"outlinewidth\":0,\"ticks\":\"\"}}}],\"scattermapbox\":[{\"type\":\"scattermapbox\",\"marker\":{\"colorbar\":{\"outlinewidth\":0,\"ticks\":\"\"}}}],\"scatterternary\":[{\"type\":\"scatterternary\",\"marker\":{\"colorbar\":{\"outlinewidth\":0,\"ticks\":\"\"}}}],\"scattercarpet\":[{\"type\":\"scattercarpet\",\"marker\":{\"colorbar\":{\"outlinewidth\":0,\"ticks\":\"\"}}}],\"carpet\":[{\"aaxis\":{\"endlinecolor\":\"#2a3f5f\",\"gridcolor\":\"white\",\"linecolor\":\"white\",\"minorgridcolor\":\"white\",\"startlinecolor\":\"#2a3f5f\"},\"baxis\":{\"endlinecolor\":\"#2a3f5f\",\"gridcolor\":\"white\",\"linecolor\":\"white\",\"minorgridcolor\":\"white\",\"startlinecolor\":\"#2a3f5f\"},\"type\":\"carpet\"}],\"table\":[{\"cells\":{\"fill\":{\"color\":\"#EBF0F8\"},\"line\":{\"color\":\"white\"}},\"header\":{\"fill\":{\"color\":\"#C8D4E3\"},\"line\":{\"color\":\"white\"}},\"type\":\"table\"}],\"barpolar\":[{\"marker\":{\"line\":{\"color\":\"#E5ECF6\",\"width\":0.5},\"pattern\":{\"fillmode\":\"overlay\",\"size\":10,\"solidity\":0.2}},\"type\":\"barpolar\"}],\"pie\":[{\"automargin\":true,\"type\":\"pie\"}]},\"layout\":{\"autotypenumbers\":\"strict\",\"colorway\":[\"#636efa\",\"#EF553B\",\"#00cc96\",\"#ab63fa\",\"#FFA15A\",\"#19d3f3\",\"#FF6692\",\"#B6E880\",\"#FF97FF\",\"#FECB52\"],\"font\":{\"color\":\"#2a3f5f\"},\"hovermode\":\"closest\",\"hoverlabel\":{\"align\":\"left\"},\"paper_bgcolor\":\"white\",\"plot_bgcolor\":\"#E5ECF6\",\"polar\":{\"bgcolor\":\"#E5ECF6\",\"angularaxis\":{\"gridcolor\":\"white\",\"linecolor\":\"white\",\"ticks\":\"\"},\"radialaxis\":{\"gridcolor\":\"white\",\"linecolor\":\"white\",\"ticks\":\"\"}},\"ternary\":{\"bgcolor\":\"#E5ECF6\",\"aaxis\":{\"gridcolor\":\"white\",\"linecolor\":\"white\",\"ticks\":\"\"},\"baxis\":{\"gridcolor\":\"white\",\"linecolor\":\"white\",\"ticks\":\"\"},\"caxis\":{\"gridcolor\":\"white\",\"linecolor\":\"white\",\"ticks\":\"\"}},\"coloraxis\":{\"colorbar\":{\"outlinewidth\":0,\"ticks\":\"\"}},\"colorscale\":{\"sequential\":[[0.0,\"#0d0887\"],[0.1111111111111111,\"#46039f\"],[0.2222222222222222,\"#7201a8\"],[0.3333333333333333,\"#9c179e\"],[0.4444444444444444,\"#bd3786\"],[0.5555555555555556,\"#d8576b\"],[0.6666666666666666,\"#ed7953\"],[0.7777777777777778,\"#fb9f3a\"],[0.8888888888888888,\"#fdca26\"],[1.0,\"#f0f921\"]],\"sequentialminus\":[[0.0,\"#0d0887\"],[0.1111111111111111,\"#46039f\"],[0.2222222222222222,\"#7201a8\"],[0.3333333333333333,\"#9c179e\"],[0.4444444444444444,\"#bd3786\"],[0.5555555555555556,\"#d8576b\"],[0.6666666666666666,\"#ed7953\"],[0.7777777777777778,\"#fb9f3a\"],[0.8888888888888888,\"#fdca26\"],[1.0,\"#f0f921\"]],\"diverging\":[[0,\"#8e0152\"],[0.1,\"#c51b7d\"],[0.2,\"#de77ae\"],[0.3,\"#f1b6da\"],[0.4,\"#fde0ef\"],[0.5,\"#f7f7f7\"],[0.6,\"#e6f5d0\"],[0.7,\"#b8e186\"],[0.8,\"#7fbc41\"],[0.9,\"#4d9221\"],[1,\"#276419\"]]},\"xaxis\":{\"gridcolor\":\"white\",\"linecolor\":\"white\",\"ticks\":\"\",\"title\":{\"standoff\":15},\"zerolinecolor\":\"white\",\"automargin\":true,\"zerolinewidth\":2},\"yaxis\":{\"gridcolor\":\"white\",\"linecolor\":\"white\",\"ticks\":\"\",\"title\":{\"standoff\":15},\"zerolinecolor\":\"white\",\"automargin\":true,\"zerolinewidth\":2},\"scene\":{\"xaxis\":{\"backgroundcolor\":\"#E5ECF6\",\"gridcolor\":\"white\",\"linecolor\":\"white\",\"showbackground\":true,\"ticks\":\"\",\"zerolinecolor\":\"white\",\"gridwidth\":2},\"yaxis\":{\"backgroundcolor\":\"#E5ECF6\",\"gridcolor\":\"white\",\"linecolor\":\"white\",\"showbackground\":true,\"ticks\":\"\",\"zerolinecolor\":\"white\",\"gridwidth\":2},\"zaxis\":{\"backgroundcolor\":\"#E5ECF6\",\"gridcolor\":\"white\",\"linecolor\":\"white\",\"showbackground\":true,\"ticks\":\"\",\"zerolinecolor\":\"white\",\"gridwidth\":2}},\"shapedefaults\":{\"line\":{\"color\":\"#2a3f5f\"}},\"annotationdefaults\":{\"arrowcolor\":\"#2a3f5f\",\"arrowhead\":0,\"arrowwidth\":1},\"geo\":{\"bgcolor\":\"white\",\"landcolor\":\"#E5ECF6\",\"subunitcolor\":\"white\",\"showland\":true,\"showlakes\":true,\"lakecolor\":\"white\"},\"title\":{\"x\":0.05},\"mapbox\":{\"style\":\"light\"}}},\"scene\":{\"domain\":{\"x\":[0.0,1.0],\"y\":[0.0,1.0]},\"xaxis\":{\"title\":{\"text\":\"C-1\"}},\"yaxis\":{\"title\":{\"text\":\"C-2\"}},\"zaxis\":{\"title\":{\"text\":\"C-3\"}}},\"coloraxis\":{\"colorbar\":{\"title\":{\"text\":\"C-4\"}},\"colorscale\":[[0.0,\"#0d0887\"],[0.1111111111111111,\"#46039f\"],[0.2222222222222222,\"#7201a8\"],[0.3333333333333333,\"#9c179e\"],[0.4444444444444444,\"#bd3786\"],[0.5555555555555556,\"#d8576b\"],[0.6666666666666666,\"#ed7953\"],[0.7777777777777778,\"#fb9f3a\"],[0.8888888888888888,\"#fdca26\"],[1.0,\"#f0f921\"]]},\"legend\":{\"tracegroupgap\":0},\"margin\":{\"t\":60},\"height\":1000,\"width\":1000},                        {\"responsive\": true}                    ).then(function(){\n",
       "                            \n",
       "var gd = document.getElementById('67e2e08d-dfd6-4edc-83d0-fca0fa7f1bfb');\n",
       "var x = new MutationObserver(function (mutations, observer) {{\n",
       "        var display = window.getComputedStyle(gd).display;\n",
       "        if (!display || display === 'none') {{\n",
       "            console.log([gd, 'removed!']);\n",
       "            Plotly.purge(gd);\n",
       "            observer.disconnect();\n",
       "        }}\n",
       "}});\n",
       "\n",
       "// Listen for the removal of the full notebook cells\n",
       "var notebookContainer = gd.closest('#notebook-container');\n",
       "if (notebookContainer) {{\n",
       "    x.observe(notebookContainer, {childList: true});\n",
       "}}\n",
       "\n",
       "// Listen for the clearing of the current output cell\n",
       "var outputEl = gd.closest('.output');\n",
       "if (outputEl) {{\n",
       "    x.observe(outputEl, {childList: true});\n",
       "}}\n",
       "\n",
       "                        })                };                });            </script>        </div>"
      ]
     },
     "metadata": {},
     "output_type": "display_data"
    }
   ],
   "source": [
    "steps = 20000\n",
    "# learning_rate = 0.1  # used in first run\n",
    "learning_ratse = 0.01  # used in second run\n",
    "# learning_rate = 0.001  # used in third run\n",
    "batch_size = 32\n",
    "\n",
    "sub_losses = []\n",
    "for index in range(steps):\n",
    "    batch_indices = torch.randint(low=0, high=X_train.shape[0], size=(batch_size,), generator=g)\n",
    "    # forward pass\n",
    "    embeddings = embedding_layer[X_train[batch_indices]]\n",
    "    pre_activations = embeddings.view(-1, context_length * embedding_dimension) @ hidden_layer_weights #+ hidden_layer_bias\n",
    "    # batch normalization\n",
    "    # https://youtu.be/P6sfmUTpUmc?si=9kh1cLdbp005-Df6&t=2798\n",
    "    # pre_activations = batch_norm_gain \\\n",
    "    #     * (pre_activations - pre_activations.mean(dim=0, keepdim=True)) / pre_activations.std(dim=0, keepdim=True) \\\n",
    "    #     + batch_norm_bias\n",
    "    # https://youtu.be/P6sfmUTpUmc?si=Z8IzPHk5C3JB4dnZ&t=3330\n",
    "    batch_normalization_mean = pre_activations.mean(dim=0, keepdim=True)\n",
    "    batch_normalization_st_dev = pre_activations.std(dim=0, keepdim=True)\n",
    "    pre_activations = batch_norm_gain \\\n",
    "        * (pre_activations - batch_normalization_mean) / batch_normalization_st_dev \\\n",
    "        + batch_norm_bias\n",
    "    # https://youtu.be/P6sfmUTpUmc?si=GzBWCdJjF00dI_eB&t=3378\n",
    "    # running mean and standard deviation\n",
    "    # \"janky smoothing\"\n",
    "    with torch.no_grad():\n",
    "        # we use this down below where we could make predictions on individual examples\n",
    "        batch_norm_running_mean = 0.999 * batch_norm_running_mean + 0.001 * batch_normalization_mean\n",
    "        batch_norm_running_st_dev = 0.999 * batch_norm_running_st_dev + 0.001 * batch_normalization_st_dev\n",
    "    # end batch normalization\n",
    "\n",
    "    activations = torch.tanh(pre_activations)\n",
    "    logits = activations @ output_layer_weights + output_layer_bias\n",
    "    loss = F.cross_entropy(logits, Y_train[batch_indices])\n",
    "    # losses.append(loss.item())\n",
    "    sub_losses.append(loss.item())\n",
    "    if (index + 1) % (steps / 20) == 0:\n",
    "        average_loss = sum(sub_losses) / len(sub_losses)\n",
    "        losses.append(average_loss)\n",
    "        sub_losses = []\n",
    "        print(f\"Training Loss (average): {average_loss:.3f}\")\n",
    "\n",
    "    # backwards pass\n",
    "    for p in parameters:\n",
    "        p.grad = None\n",
    "    loss.backward()\n",
    "    # update parameters\n",
    "    for p in parameters:\n",
    "        p.data -= learning_rate * p.grad\n",
    "\n",
    "print('---')\n",
    "\n",
    "with torch.no_grad():\n",
    "    # loss on VALIDATION set; the model has not seen this data\n",
    "    embeddings = embedding_layer[X_val]\n",
    "    pre_activations = embeddings.view(-1, context_length * embedding_dimension) @ hidden_layer_weights #+ hidden_layer_bias\n",
    "    pre_activations = batch_norm_gain \\\n",
    "            * (pre_activations - batch_norm_running_mean) / batch_norm_running_st_dev \\\n",
    "            + batch_norm_bias\n",
    "    activations = torch.tanh(pre_activations)\n",
    "    logits = activations @ output_layer_weights + output_layer_bias\n",
    "    loss = F.cross_entropy(logits, Y_val)\n",
    "    print(f\"Validation Loss: {loss:.3f}\")\n",
    "\n",
    "plt.plot([math.log10(x) for x in losses])\n",
    "plt.show()\n",
    "plot_embeddings()"
   ]
  },
  {
   "cell_type": "code",
   "execution_count": 261,
   "metadata": {},
   "outputs": [
    {
     "name": "stdout",
     "output_type": "stream",
     "text": [
      "Warning: Embedding dimension greater than 3. Running PCA to extract first three dimensions.\n"
     ]
    },
    {
     "data": {
      "application/vnd.plotly.v1+json": {
       "config": {
        "plotlyServerURL": "https://plot.ly"
       },
       "data": [
        {
         "hovertemplate": "C-1=%{x}<br>C-2=%{y}<br>C-3=%{z}<br>text=%{text}<br>C-4=%{marker.color}<extra></extra>",
         "legendgroup": "",
         "marker": {
          "color": [
           -0.21963784098625183,
           -0.35475465655326843,
           -0.8991279602050781,
           -0.1647343784570694,
           1.4530993700027466,
           1.3571810722351074,
           2.539116859436035,
           -2.593245506286621,
           -0.11566685140132904,
           1.2872875928878784,
           -1.3069299459457397,
           -1.3490937948226929,
           -0.10044286400079727,
           -0.8268727660179138,
           -0.5630097985267639,
           0.43373554944992065,
           -0.5506240129470825,
           -1.219106912612915,
           1.8455890417099,
           -1.756057620048523,
           0.4107663035392761,
           -1.4678940773010254,
           0.8875619769096375,
           -0.03862496465444565,
           0.638583242893219,
           0.8448525667190552,
           0.6654853224754333
          ],
          "coloraxis": "coloraxis",
          "symbol": "circle"
         },
         "mode": "markers+text",
         "name": "",
         "scene": "scene",
         "showlegend": false,
         "text": [
          ".",
          "a",
          "b",
          "c",
          "d",
          "e",
          "f",
          "g",
          "h",
          "i",
          "j",
          "k",
          "l",
          "m",
          "n",
          "o",
          "p",
          "q",
          "r",
          "s",
          "t",
          "u",
          "v",
          "w",
          "x",
          "y",
          "z"
         ],
         "type": "scatter3d",
         "x": [
          -0.7553925514221191,
          0.8398510813713074,
          -2.4103875160217285,
          2.4729583263397217,
          3.0531234741210938,
          -1.38274347782135,
          0.7498928308486938,
          -2.3145058155059814,
          2.6507773399353027,
          1.4377135038375854,
          -1.5310195684432983,
          -0.7379139065742493,
          2.073214530944824,
          -1.2749078273773193,
          1.1045011281967163,
          1.028304934501648,
          -1.2829415798187256,
          -1.1591168642044067,
          -0.09327956289052963,
          -0.35820525884628296,
          -0.04601678252220154,
          0.7415307760238647,
          1.343773603439331,
          -1.820886492729187,
          0.8636733889579773,
          -1.847205400466919,
          -1.344792366027832
         ],
         "y": [
          1.6429046392440796,
          1.4862315654754639,
          -0.1207364946603775,
          -1.3719359636306763,
          2.6838572025299072,
          -1.3461796045303345,
          -0.15679101645946503,
          0.275922030210495,
          0.4490593373775482,
          -0.668140709400177,
          -0.9370617270469666,
          0.5711804032325745,
          1.0319032669067383,
          -0.5144233107566833,
          -0.9251038432121277,
          -2.62908935546875,
          -0.3668328821659088,
          0.0760718509554863,
          0.5004911422729492,
          -1.8694710731506348,
          0.8174136877059937,
          -1.6669031381607056,
          1.360314130783081,
          2.0996053218841553,
          -2.257089376449585,
          -0.32359206676483154,
          2.1583962440490723
         ],
         "z": [
          -0.6585452556610107,
          -1.7386788129806519,
          1.2641832828521729,
          -0.9305140972137451,
          0.8498619794845581,
          2.069946050643921,
          2.4846062660217285,
          -2.4284520149230957,
          -0.6529362797737122,
          0.5572561621665955,
          -0.9183223247528076,
          -0.8234613537788391,
          -0.8019455671310425,
          -0.614514946937561,
          -0.3097078204154968,
          0.30920401215553284,
          -0.5109503269195557,
          -2.1541125774383545,
          1.9343631267547607,
          -0.8152300119400024,
          0.4890880882740021,
          -1.7736477851867676,
          1.0483123064041138,
          0.4089411199092865,
          1.1272432804107666,
          2.3279340267181396,
          0.2600792646408081
         ]
        }
       ],
       "layout": {
        "coloraxis": {
         "colorbar": {
          "title": {
           "text": "C-4"
          }
         },
         "colorscale": [
          [
           0,
           "#0d0887"
          ],
          [
           0.1111111111111111,
           "#46039f"
          ],
          [
           0.2222222222222222,
           "#7201a8"
          ],
          [
           0.3333333333333333,
           "#9c179e"
          ],
          [
           0.4444444444444444,
           "#bd3786"
          ],
          [
           0.5555555555555556,
           "#d8576b"
          ],
          [
           0.6666666666666666,
           "#ed7953"
          ],
          [
           0.7777777777777778,
           "#fb9f3a"
          ],
          [
           0.8888888888888888,
           "#fdca26"
          ],
          [
           1,
           "#f0f921"
          ]
         ]
        },
        "height": 1000,
        "legend": {
         "tracegroupgap": 0
        },
        "margin": {
         "t": 60
        },
        "scene": {
         "domain": {
          "x": [
           0,
           1
          ],
          "y": [
           0,
           1
          ]
         },
         "xaxis": {
          "title": {
           "text": "C-1"
          }
         },
         "yaxis": {
          "title": {
           "text": "C-2"
          }
         },
         "zaxis": {
          "title": {
           "text": "C-3"
          }
         }
        },
        "template": {
         "data": {
          "bar": [
           {
            "error_x": {
             "color": "#2a3f5f"
            },
            "error_y": {
             "color": "#2a3f5f"
            },
            "marker": {
             "line": {
              "color": "#E5ECF6",
              "width": 0.5
             },
             "pattern": {
              "fillmode": "overlay",
              "size": 10,
              "solidity": 0.2
             }
            },
            "type": "bar"
           }
          ],
          "barpolar": [
           {
            "marker": {
             "line": {
              "color": "#E5ECF6",
              "width": 0.5
             },
             "pattern": {
              "fillmode": "overlay",
              "size": 10,
              "solidity": 0.2
             }
            },
            "type": "barpolar"
           }
          ],
          "carpet": [
           {
            "aaxis": {
             "endlinecolor": "#2a3f5f",
             "gridcolor": "white",
             "linecolor": "white",
             "minorgridcolor": "white",
             "startlinecolor": "#2a3f5f"
            },
            "baxis": {
             "endlinecolor": "#2a3f5f",
             "gridcolor": "white",
             "linecolor": "white",
             "minorgridcolor": "white",
             "startlinecolor": "#2a3f5f"
            },
            "type": "carpet"
           }
          ],
          "choropleth": [
           {
            "colorbar": {
             "outlinewidth": 0,
             "ticks": ""
            },
            "type": "choropleth"
           }
          ],
          "contour": [
           {
            "colorbar": {
             "outlinewidth": 0,
             "ticks": ""
            },
            "colorscale": [
             [
              0,
              "#0d0887"
             ],
             [
              0.1111111111111111,
              "#46039f"
             ],
             [
              0.2222222222222222,
              "#7201a8"
             ],
             [
              0.3333333333333333,
              "#9c179e"
             ],
             [
              0.4444444444444444,
              "#bd3786"
             ],
             [
              0.5555555555555556,
              "#d8576b"
             ],
             [
              0.6666666666666666,
              "#ed7953"
             ],
             [
              0.7777777777777778,
              "#fb9f3a"
             ],
             [
              0.8888888888888888,
              "#fdca26"
             ],
             [
              1,
              "#f0f921"
             ]
            ],
            "type": "contour"
           }
          ],
          "contourcarpet": [
           {
            "colorbar": {
             "outlinewidth": 0,
             "ticks": ""
            },
            "type": "contourcarpet"
           }
          ],
          "heatmap": [
           {
            "colorbar": {
             "outlinewidth": 0,
             "ticks": ""
            },
            "colorscale": [
             [
              0,
              "#0d0887"
             ],
             [
              0.1111111111111111,
              "#46039f"
             ],
             [
              0.2222222222222222,
              "#7201a8"
             ],
             [
              0.3333333333333333,
              "#9c179e"
             ],
             [
              0.4444444444444444,
              "#bd3786"
             ],
             [
              0.5555555555555556,
              "#d8576b"
             ],
             [
              0.6666666666666666,
              "#ed7953"
             ],
             [
              0.7777777777777778,
              "#fb9f3a"
             ],
             [
              0.8888888888888888,
              "#fdca26"
             ],
             [
              1,
              "#f0f921"
             ]
            ],
            "type": "heatmap"
           }
          ],
          "heatmapgl": [
           {
            "colorbar": {
             "outlinewidth": 0,
             "ticks": ""
            },
            "colorscale": [
             [
              0,
              "#0d0887"
             ],
             [
              0.1111111111111111,
              "#46039f"
             ],
             [
              0.2222222222222222,
              "#7201a8"
             ],
             [
              0.3333333333333333,
              "#9c179e"
             ],
             [
              0.4444444444444444,
              "#bd3786"
             ],
             [
              0.5555555555555556,
              "#d8576b"
             ],
             [
              0.6666666666666666,
              "#ed7953"
             ],
             [
              0.7777777777777778,
              "#fb9f3a"
             ],
             [
              0.8888888888888888,
              "#fdca26"
             ],
             [
              1,
              "#f0f921"
             ]
            ],
            "type": "heatmapgl"
           }
          ],
          "histogram": [
           {
            "marker": {
             "pattern": {
              "fillmode": "overlay",
              "size": 10,
              "solidity": 0.2
             }
            },
            "type": "histogram"
           }
          ],
          "histogram2d": [
           {
            "colorbar": {
             "outlinewidth": 0,
             "ticks": ""
            },
            "colorscale": [
             [
              0,
              "#0d0887"
             ],
             [
              0.1111111111111111,
              "#46039f"
             ],
             [
              0.2222222222222222,
              "#7201a8"
             ],
             [
              0.3333333333333333,
              "#9c179e"
             ],
             [
              0.4444444444444444,
              "#bd3786"
             ],
             [
              0.5555555555555556,
              "#d8576b"
             ],
             [
              0.6666666666666666,
              "#ed7953"
             ],
             [
              0.7777777777777778,
              "#fb9f3a"
             ],
             [
              0.8888888888888888,
              "#fdca26"
             ],
             [
              1,
              "#f0f921"
             ]
            ],
            "type": "histogram2d"
           }
          ],
          "histogram2dcontour": [
           {
            "colorbar": {
             "outlinewidth": 0,
             "ticks": ""
            },
            "colorscale": [
             [
              0,
              "#0d0887"
             ],
             [
              0.1111111111111111,
              "#46039f"
             ],
             [
              0.2222222222222222,
              "#7201a8"
             ],
             [
              0.3333333333333333,
              "#9c179e"
             ],
             [
              0.4444444444444444,
              "#bd3786"
             ],
             [
              0.5555555555555556,
              "#d8576b"
             ],
             [
              0.6666666666666666,
              "#ed7953"
             ],
             [
              0.7777777777777778,
              "#fb9f3a"
             ],
             [
              0.8888888888888888,
              "#fdca26"
             ],
             [
              1,
              "#f0f921"
             ]
            ],
            "type": "histogram2dcontour"
           }
          ],
          "mesh3d": [
           {
            "colorbar": {
             "outlinewidth": 0,
             "ticks": ""
            },
            "type": "mesh3d"
           }
          ],
          "parcoords": [
           {
            "line": {
             "colorbar": {
              "outlinewidth": 0,
              "ticks": ""
             }
            },
            "type": "parcoords"
           }
          ],
          "pie": [
           {
            "automargin": true,
            "type": "pie"
           }
          ],
          "scatter": [
           {
            "fillpattern": {
             "fillmode": "overlay",
             "size": 10,
             "solidity": 0.2
            },
            "type": "scatter"
           }
          ],
          "scatter3d": [
           {
            "line": {
             "colorbar": {
              "outlinewidth": 0,
              "ticks": ""
             }
            },
            "marker": {
             "colorbar": {
              "outlinewidth": 0,
              "ticks": ""
             }
            },
            "type": "scatter3d"
           }
          ],
          "scattercarpet": [
           {
            "marker": {
             "colorbar": {
              "outlinewidth": 0,
              "ticks": ""
             }
            },
            "type": "scattercarpet"
           }
          ],
          "scattergeo": [
           {
            "marker": {
             "colorbar": {
              "outlinewidth": 0,
              "ticks": ""
             }
            },
            "type": "scattergeo"
           }
          ],
          "scattergl": [
           {
            "marker": {
             "colorbar": {
              "outlinewidth": 0,
              "ticks": ""
             }
            },
            "type": "scattergl"
           }
          ],
          "scattermapbox": [
           {
            "marker": {
             "colorbar": {
              "outlinewidth": 0,
              "ticks": ""
             }
            },
            "type": "scattermapbox"
           }
          ],
          "scatterpolar": [
           {
            "marker": {
             "colorbar": {
              "outlinewidth": 0,
              "ticks": ""
             }
            },
            "type": "scatterpolar"
           }
          ],
          "scatterpolargl": [
           {
            "marker": {
             "colorbar": {
              "outlinewidth": 0,
              "ticks": ""
             }
            },
            "type": "scatterpolargl"
           }
          ],
          "scatterternary": [
           {
            "marker": {
             "colorbar": {
              "outlinewidth": 0,
              "ticks": ""
             }
            },
            "type": "scatterternary"
           }
          ],
          "surface": [
           {
            "colorbar": {
             "outlinewidth": 0,
             "ticks": ""
            },
            "colorscale": [
             [
              0,
              "#0d0887"
             ],
             [
              0.1111111111111111,
              "#46039f"
             ],
             [
              0.2222222222222222,
              "#7201a8"
             ],
             [
              0.3333333333333333,
              "#9c179e"
             ],
             [
              0.4444444444444444,
              "#bd3786"
             ],
             [
              0.5555555555555556,
              "#d8576b"
             ],
             [
              0.6666666666666666,
              "#ed7953"
             ],
             [
              0.7777777777777778,
              "#fb9f3a"
             ],
             [
              0.8888888888888888,
              "#fdca26"
             ],
             [
              1,
              "#f0f921"
             ]
            ],
            "type": "surface"
           }
          ],
          "table": [
           {
            "cells": {
             "fill": {
              "color": "#EBF0F8"
             },
             "line": {
              "color": "white"
             }
            },
            "header": {
             "fill": {
              "color": "#C8D4E3"
             },
             "line": {
              "color": "white"
             }
            },
            "type": "table"
           }
          ]
         },
         "layout": {
          "annotationdefaults": {
           "arrowcolor": "#2a3f5f",
           "arrowhead": 0,
           "arrowwidth": 1
          },
          "autotypenumbers": "strict",
          "coloraxis": {
           "colorbar": {
            "outlinewidth": 0,
            "ticks": ""
           }
          },
          "colorscale": {
           "diverging": [
            [
             0,
             "#8e0152"
            ],
            [
             0.1,
             "#c51b7d"
            ],
            [
             0.2,
             "#de77ae"
            ],
            [
             0.3,
             "#f1b6da"
            ],
            [
             0.4,
             "#fde0ef"
            ],
            [
             0.5,
             "#f7f7f7"
            ],
            [
             0.6,
             "#e6f5d0"
            ],
            [
             0.7,
             "#b8e186"
            ],
            [
             0.8,
             "#7fbc41"
            ],
            [
             0.9,
             "#4d9221"
            ],
            [
             1,
             "#276419"
            ]
           ],
           "sequential": [
            [
             0,
             "#0d0887"
            ],
            [
             0.1111111111111111,
             "#46039f"
            ],
            [
             0.2222222222222222,
             "#7201a8"
            ],
            [
             0.3333333333333333,
             "#9c179e"
            ],
            [
             0.4444444444444444,
             "#bd3786"
            ],
            [
             0.5555555555555556,
             "#d8576b"
            ],
            [
             0.6666666666666666,
             "#ed7953"
            ],
            [
             0.7777777777777778,
             "#fb9f3a"
            ],
            [
             0.8888888888888888,
             "#fdca26"
            ],
            [
             1,
             "#f0f921"
            ]
           ],
           "sequentialminus": [
            [
             0,
             "#0d0887"
            ],
            [
             0.1111111111111111,
             "#46039f"
            ],
            [
             0.2222222222222222,
             "#7201a8"
            ],
            [
             0.3333333333333333,
             "#9c179e"
            ],
            [
             0.4444444444444444,
             "#bd3786"
            ],
            [
             0.5555555555555556,
             "#d8576b"
            ],
            [
             0.6666666666666666,
             "#ed7953"
            ],
            [
             0.7777777777777778,
             "#fb9f3a"
            ],
            [
             0.8888888888888888,
             "#fdca26"
            ],
            [
             1,
             "#f0f921"
            ]
           ]
          },
          "colorway": [
           "#636efa",
           "#EF553B",
           "#00cc96",
           "#ab63fa",
           "#FFA15A",
           "#19d3f3",
           "#FF6692",
           "#B6E880",
           "#FF97FF",
           "#FECB52"
          ],
          "font": {
           "color": "#2a3f5f"
          },
          "geo": {
           "bgcolor": "white",
           "lakecolor": "white",
           "landcolor": "#E5ECF6",
           "showlakes": true,
           "showland": true,
           "subunitcolor": "white"
          },
          "hoverlabel": {
           "align": "left"
          },
          "hovermode": "closest",
          "mapbox": {
           "style": "light"
          },
          "paper_bgcolor": "white",
          "plot_bgcolor": "#E5ECF6",
          "polar": {
           "angularaxis": {
            "gridcolor": "white",
            "linecolor": "white",
            "ticks": ""
           },
           "bgcolor": "#E5ECF6",
           "radialaxis": {
            "gridcolor": "white",
            "linecolor": "white",
            "ticks": ""
           }
          },
          "scene": {
           "xaxis": {
            "backgroundcolor": "#E5ECF6",
            "gridcolor": "white",
            "gridwidth": 2,
            "linecolor": "white",
            "showbackground": true,
            "ticks": "",
            "zerolinecolor": "white"
           },
           "yaxis": {
            "backgroundcolor": "#E5ECF6",
            "gridcolor": "white",
            "gridwidth": 2,
            "linecolor": "white",
            "showbackground": true,
            "ticks": "",
            "zerolinecolor": "white"
           },
           "zaxis": {
            "backgroundcolor": "#E5ECF6",
            "gridcolor": "white",
            "gridwidth": 2,
            "linecolor": "white",
            "showbackground": true,
            "ticks": "",
            "zerolinecolor": "white"
           }
          },
          "shapedefaults": {
           "line": {
            "color": "#2a3f5f"
           }
          },
          "ternary": {
           "aaxis": {
            "gridcolor": "white",
            "linecolor": "white",
            "ticks": ""
           },
           "baxis": {
            "gridcolor": "white",
            "linecolor": "white",
            "ticks": ""
           },
           "bgcolor": "#E5ECF6",
           "caxis": {
            "gridcolor": "white",
            "linecolor": "white",
            "ticks": ""
           }
          },
          "title": {
           "x": 0.05
          },
          "xaxis": {
           "automargin": true,
           "gridcolor": "white",
           "linecolor": "white",
           "ticks": "",
           "title": {
            "standoff": 15
           },
           "zerolinecolor": "white",
           "zerolinewidth": 2
          },
          "yaxis": {
           "automargin": true,
           "gridcolor": "white",
           "linecolor": "white",
           "ticks": "",
           "title": {
            "standoff": 15
           },
           "zerolinecolor": "white",
           "zerolinewidth": 2
          }
         }
        },
        "width": 1000
       }
      },
      "text/html": [
       "<div>                            <div id=\"9054fe71-da03-43af-bf28-879035ef4a60\" class=\"plotly-graph-div\" style=\"height:1000px; width:1000px;\"></div>            <script type=\"text/javascript\">                require([\"plotly\"], function(Plotly) {                    window.PLOTLYENV=window.PLOTLYENV || {};                                    if (document.getElementById(\"9054fe71-da03-43af-bf28-879035ef4a60\")) {                    Plotly.newPlot(                        \"9054fe71-da03-43af-bf28-879035ef4a60\",                        [{\"hovertemplate\":\"C-1=%{x}\\u003cbr\\u003eC-2=%{y}\\u003cbr\\u003eC-3=%{z}\\u003cbr\\u003etext=%{text}\\u003cbr\\u003eC-4=%{marker.color}\\u003cextra\\u003e\\u003c\\u002fextra\\u003e\",\"legendgroup\":\"\",\"marker\":{\"color\":[-0.21963784098625183,-0.35475465655326843,-0.8991279602050781,-0.1647343784570694,1.4530993700027466,1.3571810722351074,2.539116859436035,-2.593245506286621,-0.11566685140132904,1.2872875928878784,-1.3069299459457397,-1.3490937948226929,-0.10044286400079727,-0.8268727660179138,-0.5630097985267639,0.43373554944992065,-0.5506240129470825,-1.219106912612915,1.8455890417099,-1.756057620048523,0.4107663035392761,-1.4678940773010254,0.8875619769096375,-0.03862496465444565,0.638583242893219,0.8448525667190552,0.6654853224754333],\"coloraxis\":\"coloraxis\",\"symbol\":\"circle\"},\"mode\":\"markers+text\",\"name\":\"\",\"scene\":\"scene\",\"showlegend\":false,\"text\":[\".\",\"a\",\"b\",\"c\",\"d\",\"e\",\"f\",\"g\",\"h\",\"i\",\"j\",\"k\",\"l\",\"m\",\"n\",\"o\",\"p\",\"q\",\"r\",\"s\",\"t\",\"u\",\"v\",\"w\",\"x\",\"y\",\"z\"],\"x\":[-0.7553925514221191,0.8398510813713074,-2.4103875160217285,2.4729583263397217,3.0531234741210938,-1.38274347782135,0.7498928308486938,-2.3145058155059814,2.6507773399353027,1.4377135038375854,-1.5310195684432983,-0.7379139065742493,2.073214530944824,-1.2749078273773193,1.1045011281967163,1.028304934501648,-1.2829415798187256,-1.1591168642044067,-0.09327956289052963,-0.35820525884628296,-0.04601678252220154,0.7415307760238647,1.343773603439331,-1.820886492729187,0.8636733889579773,-1.847205400466919,-1.344792366027832],\"y\":[1.6429046392440796,1.4862315654754639,-0.1207364946603775,-1.3719359636306763,2.6838572025299072,-1.3461796045303345,-0.15679101645946503,0.275922030210495,0.4490593373775482,-0.668140709400177,-0.9370617270469666,0.5711804032325745,1.0319032669067383,-0.5144233107566833,-0.9251038432121277,-2.62908935546875,-0.3668328821659088,0.0760718509554863,0.5004911422729492,-1.8694710731506348,0.8174136877059937,-1.6669031381607056,1.360314130783081,2.0996053218841553,-2.257089376449585,-0.32359206676483154,2.1583962440490723],\"z\":[-0.6585452556610107,-1.7386788129806519,1.2641832828521729,-0.9305140972137451,0.8498619794845581,2.069946050643921,2.4846062660217285,-2.4284520149230957,-0.6529362797737122,0.5572561621665955,-0.9183223247528076,-0.8234613537788391,-0.8019455671310425,-0.614514946937561,-0.3097078204154968,0.30920401215553284,-0.5109503269195557,-2.1541125774383545,1.9343631267547607,-0.8152300119400024,0.4890880882740021,-1.7736477851867676,1.0483123064041138,0.4089411199092865,1.1272432804107666,2.3279340267181396,0.2600792646408081],\"type\":\"scatter3d\"}],                        {\"template\":{\"data\":{\"histogram2dcontour\":[{\"type\":\"histogram2dcontour\",\"colorbar\":{\"outlinewidth\":0,\"ticks\":\"\"},\"colorscale\":[[0.0,\"#0d0887\"],[0.1111111111111111,\"#46039f\"],[0.2222222222222222,\"#7201a8\"],[0.3333333333333333,\"#9c179e\"],[0.4444444444444444,\"#bd3786\"],[0.5555555555555556,\"#d8576b\"],[0.6666666666666666,\"#ed7953\"],[0.7777777777777778,\"#fb9f3a\"],[0.8888888888888888,\"#fdca26\"],[1.0,\"#f0f921\"]]}],\"choropleth\":[{\"type\":\"choropleth\",\"colorbar\":{\"outlinewidth\":0,\"ticks\":\"\"}}],\"histogram2d\":[{\"type\":\"histogram2d\",\"colorbar\":{\"outlinewidth\":0,\"ticks\":\"\"},\"colorscale\":[[0.0,\"#0d0887\"],[0.1111111111111111,\"#46039f\"],[0.2222222222222222,\"#7201a8\"],[0.3333333333333333,\"#9c179e\"],[0.4444444444444444,\"#bd3786\"],[0.5555555555555556,\"#d8576b\"],[0.6666666666666666,\"#ed7953\"],[0.7777777777777778,\"#fb9f3a\"],[0.8888888888888888,\"#fdca26\"],[1.0,\"#f0f921\"]]}],\"heatmap\":[{\"type\":\"heatmap\",\"colorbar\":{\"outlinewidth\":0,\"ticks\":\"\"},\"colorscale\":[[0.0,\"#0d0887\"],[0.1111111111111111,\"#46039f\"],[0.2222222222222222,\"#7201a8\"],[0.3333333333333333,\"#9c179e\"],[0.4444444444444444,\"#bd3786\"],[0.5555555555555556,\"#d8576b\"],[0.6666666666666666,\"#ed7953\"],[0.7777777777777778,\"#fb9f3a\"],[0.8888888888888888,\"#fdca26\"],[1.0,\"#f0f921\"]]}],\"heatmapgl\":[{\"type\":\"heatmapgl\",\"colorbar\":{\"outlinewidth\":0,\"ticks\":\"\"},\"colorscale\":[[0.0,\"#0d0887\"],[0.1111111111111111,\"#46039f\"],[0.2222222222222222,\"#7201a8\"],[0.3333333333333333,\"#9c179e\"],[0.4444444444444444,\"#bd3786\"],[0.5555555555555556,\"#d8576b\"],[0.6666666666666666,\"#ed7953\"],[0.7777777777777778,\"#fb9f3a\"],[0.8888888888888888,\"#fdca26\"],[1.0,\"#f0f921\"]]}],\"contourcarpet\":[{\"type\":\"contourcarpet\",\"colorbar\":{\"outlinewidth\":0,\"ticks\":\"\"}}],\"contour\":[{\"type\":\"contour\",\"colorbar\":{\"outlinewidth\":0,\"ticks\":\"\"},\"colorscale\":[[0.0,\"#0d0887\"],[0.1111111111111111,\"#46039f\"],[0.2222222222222222,\"#7201a8\"],[0.3333333333333333,\"#9c179e\"],[0.4444444444444444,\"#bd3786\"],[0.5555555555555556,\"#d8576b\"],[0.6666666666666666,\"#ed7953\"],[0.7777777777777778,\"#fb9f3a\"],[0.8888888888888888,\"#fdca26\"],[1.0,\"#f0f921\"]]}],\"surface\":[{\"type\":\"surface\",\"colorbar\":{\"outlinewidth\":0,\"ticks\":\"\"},\"colorscale\":[[0.0,\"#0d0887\"],[0.1111111111111111,\"#46039f\"],[0.2222222222222222,\"#7201a8\"],[0.3333333333333333,\"#9c179e\"],[0.4444444444444444,\"#bd3786\"],[0.5555555555555556,\"#d8576b\"],[0.6666666666666666,\"#ed7953\"],[0.7777777777777778,\"#fb9f3a\"],[0.8888888888888888,\"#fdca26\"],[1.0,\"#f0f921\"]]}],\"mesh3d\":[{\"type\":\"mesh3d\",\"colorbar\":{\"outlinewidth\":0,\"ticks\":\"\"}}],\"scatter\":[{\"fillpattern\":{\"fillmode\":\"overlay\",\"size\":10,\"solidity\":0.2},\"type\":\"scatter\"}],\"parcoords\":[{\"type\":\"parcoords\",\"line\":{\"colorbar\":{\"outlinewidth\":0,\"ticks\":\"\"}}}],\"scatterpolargl\":[{\"type\":\"scatterpolargl\",\"marker\":{\"colorbar\":{\"outlinewidth\":0,\"ticks\":\"\"}}}],\"bar\":[{\"error_x\":{\"color\":\"#2a3f5f\"},\"error_y\":{\"color\":\"#2a3f5f\"},\"marker\":{\"line\":{\"color\":\"#E5ECF6\",\"width\":0.5},\"pattern\":{\"fillmode\":\"overlay\",\"size\":10,\"solidity\":0.2}},\"type\":\"bar\"}],\"scattergeo\":[{\"type\":\"scattergeo\",\"marker\":{\"colorbar\":{\"outlinewidth\":0,\"ticks\":\"\"}}}],\"scatterpolar\":[{\"type\":\"scatterpolar\",\"marker\":{\"colorbar\":{\"outlinewidth\":0,\"ticks\":\"\"}}}],\"histogram\":[{\"marker\":{\"pattern\":{\"fillmode\":\"overlay\",\"size\":10,\"solidity\":0.2}},\"type\":\"histogram\"}],\"scattergl\":[{\"type\":\"scattergl\",\"marker\":{\"colorbar\":{\"outlinewidth\":0,\"ticks\":\"\"}}}],\"scatter3d\":[{\"type\":\"scatter3d\",\"line\":{\"colorbar\":{\"outlinewidth\":0,\"ticks\":\"\"}},\"marker\":{\"colorbar\":{\"outlinewidth\":0,\"ticks\":\"\"}}}],\"scattermapbox\":[{\"type\":\"scattermapbox\",\"marker\":{\"colorbar\":{\"outlinewidth\":0,\"ticks\":\"\"}}}],\"scatterternary\":[{\"type\":\"scatterternary\",\"marker\":{\"colorbar\":{\"outlinewidth\":0,\"ticks\":\"\"}}}],\"scattercarpet\":[{\"type\":\"scattercarpet\",\"marker\":{\"colorbar\":{\"outlinewidth\":0,\"ticks\":\"\"}}}],\"carpet\":[{\"aaxis\":{\"endlinecolor\":\"#2a3f5f\",\"gridcolor\":\"white\",\"linecolor\":\"white\",\"minorgridcolor\":\"white\",\"startlinecolor\":\"#2a3f5f\"},\"baxis\":{\"endlinecolor\":\"#2a3f5f\",\"gridcolor\":\"white\",\"linecolor\":\"white\",\"minorgridcolor\":\"white\",\"startlinecolor\":\"#2a3f5f\"},\"type\":\"carpet\"}],\"table\":[{\"cells\":{\"fill\":{\"color\":\"#EBF0F8\"},\"line\":{\"color\":\"white\"}},\"header\":{\"fill\":{\"color\":\"#C8D4E3\"},\"line\":{\"color\":\"white\"}},\"type\":\"table\"}],\"barpolar\":[{\"marker\":{\"line\":{\"color\":\"#E5ECF6\",\"width\":0.5},\"pattern\":{\"fillmode\":\"overlay\",\"size\":10,\"solidity\":0.2}},\"type\":\"barpolar\"}],\"pie\":[{\"automargin\":true,\"type\":\"pie\"}]},\"layout\":{\"autotypenumbers\":\"strict\",\"colorway\":[\"#636efa\",\"#EF553B\",\"#00cc96\",\"#ab63fa\",\"#FFA15A\",\"#19d3f3\",\"#FF6692\",\"#B6E880\",\"#FF97FF\",\"#FECB52\"],\"font\":{\"color\":\"#2a3f5f\"},\"hovermode\":\"closest\",\"hoverlabel\":{\"align\":\"left\"},\"paper_bgcolor\":\"white\",\"plot_bgcolor\":\"#E5ECF6\",\"polar\":{\"bgcolor\":\"#E5ECF6\",\"angularaxis\":{\"gridcolor\":\"white\",\"linecolor\":\"white\",\"ticks\":\"\"},\"radialaxis\":{\"gridcolor\":\"white\",\"linecolor\":\"white\",\"ticks\":\"\"}},\"ternary\":{\"bgcolor\":\"#E5ECF6\",\"aaxis\":{\"gridcolor\":\"white\",\"linecolor\":\"white\",\"ticks\":\"\"},\"baxis\":{\"gridcolor\":\"white\",\"linecolor\":\"white\",\"ticks\":\"\"},\"caxis\":{\"gridcolor\":\"white\",\"linecolor\":\"white\",\"ticks\":\"\"}},\"coloraxis\":{\"colorbar\":{\"outlinewidth\":0,\"ticks\":\"\"}},\"colorscale\":{\"sequential\":[[0.0,\"#0d0887\"],[0.1111111111111111,\"#46039f\"],[0.2222222222222222,\"#7201a8\"],[0.3333333333333333,\"#9c179e\"],[0.4444444444444444,\"#bd3786\"],[0.5555555555555556,\"#d8576b\"],[0.6666666666666666,\"#ed7953\"],[0.7777777777777778,\"#fb9f3a\"],[0.8888888888888888,\"#fdca26\"],[1.0,\"#f0f921\"]],\"sequentialminus\":[[0.0,\"#0d0887\"],[0.1111111111111111,\"#46039f\"],[0.2222222222222222,\"#7201a8\"],[0.3333333333333333,\"#9c179e\"],[0.4444444444444444,\"#bd3786\"],[0.5555555555555556,\"#d8576b\"],[0.6666666666666666,\"#ed7953\"],[0.7777777777777778,\"#fb9f3a\"],[0.8888888888888888,\"#fdca26\"],[1.0,\"#f0f921\"]],\"diverging\":[[0,\"#8e0152\"],[0.1,\"#c51b7d\"],[0.2,\"#de77ae\"],[0.3,\"#f1b6da\"],[0.4,\"#fde0ef\"],[0.5,\"#f7f7f7\"],[0.6,\"#e6f5d0\"],[0.7,\"#b8e186\"],[0.8,\"#7fbc41\"],[0.9,\"#4d9221\"],[1,\"#276419\"]]},\"xaxis\":{\"gridcolor\":\"white\",\"linecolor\":\"white\",\"ticks\":\"\",\"title\":{\"standoff\":15},\"zerolinecolor\":\"white\",\"automargin\":true,\"zerolinewidth\":2},\"yaxis\":{\"gridcolor\":\"white\",\"linecolor\":\"white\",\"ticks\":\"\",\"title\":{\"standoff\":15},\"zerolinecolor\":\"white\",\"automargin\":true,\"zerolinewidth\":2},\"scene\":{\"xaxis\":{\"backgroundcolor\":\"#E5ECF6\",\"gridcolor\":\"white\",\"linecolor\":\"white\",\"showbackground\":true,\"ticks\":\"\",\"zerolinecolor\":\"white\",\"gridwidth\":2},\"yaxis\":{\"backgroundcolor\":\"#E5ECF6\",\"gridcolor\":\"white\",\"linecolor\":\"white\",\"showbackground\":true,\"ticks\":\"\",\"zerolinecolor\":\"white\",\"gridwidth\":2},\"zaxis\":{\"backgroundcolor\":\"#E5ECF6\",\"gridcolor\":\"white\",\"linecolor\":\"white\",\"showbackground\":true,\"ticks\":\"\",\"zerolinecolor\":\"white\",\"gridwidth\":2}},\"shapedefaults\":{\"line\":{\"color\":\"#2a3f5f\"}},\"annotationdefaults\":{\"arrowcolor\":\"#2a3f5f\",\"arrowhead\":0,\"arrowwidth\":1},\"geo\":{\"bgcolor\":\"white\",\"landcolor\":\"#E5ECF6\",\"subunitcolor\":\"white\",\"showland\":true,\"showlakes\":true,\"lakecolor\":\"white\"},\"title\":{\"x\":0.05},\"mapbox\":{\"style\":\"light\"}}},\"scene\":{\"domain\":{\"x\":[0.0,1.0],\"y\":[0.0,1.0]},\"xaxis\":{\"title\":{\"text\":\"C-1\"}},\"yaxis\":{\"title\":{\"text\":\"C-2\"}},\"zaxis\":{\"title\":{\"text\":\"C-3\"}}},\"coloraxis\":{\"colorbar\":{\"title\":{\"text\":\"C-4\"}},\"colorscale\":[[0.0,\"#0d0887\"],[0.1111111111111111,\"#46039f\"],[0.2222222222222222,\"#7201a8\"],[0.3333333333333333,\"#9c179e\"],[0.4444444444444444,\"#bd3786\"],[0.5555555555555556,\"#d8576b\"],[0.6666666666666666,\"#ed7953\"],[0.7777777777777778,\"#fb9f3a\"],[0.8888888888888888,\"#fdca26\"],[1.0,\"#f0f921\"]]},\"legend\":{\"tracegroupgap\":0},\"margin\":{\"t\":60},\"height\":1000,\"width\":1000},                        {\"responsive\": true}                    ).then(function(){\n",
       "                            \n",
       "var gd = document.getElementById('9054fe71-da03-43af-bf28-879035ef4a60');\n",
       "var x = new MutationObserver(function (mutations, observer) {{\n",
       "        var display = window.getComputedStyle(gd).display;\n",
       "        if (!display || display === 'none') {{\n",
       "            console.log([gd, 'removed!']);\n",
       "            Plotly.purge(gd);\n",
       "            observer.disconnect();\n",
       "        }}\n",
       "}});\n",
       "\n",
       "// Listen for the removal of the full notebook cells\n",
       "var notebookContainer = gd.closest('#notebook-container');\n",
       "if (notebookContainer) {{\n",
       "    x.observe(notebookContainer, {childList: true});\n",
       "}}\n",
       "\n",
       "// Listen for the clearing of the current output cell\n",
       "var outputEl = gd.closest('.output');\n",
       "if (outputEl) {{\n",
       "    x.observe(outputEl, {childList: true});\n",
       "}}\n",
       "\n",
       "                        })                };                });            </script>        </div>"
      ]
     },
     "metadata": {},
     "output_type": "display_data"
    }
   ],
   "source": [
    "plot_embeddings()"
   ]
  },
  {
   "cell_type": "markdown",
   "metadata": {},
   "source": [
    "---"
   ]
  },
  {
   "cell_type": "markdown",
   "metadata": {},
   "source": [
    "# Generate predictions from the model"
   ]
  },
  {
   "cell_type": "code",
   "execution_count": null,
   "metadata": {},
   "outputs": [
    {
     "name": "stdout",
     "output_type": "stream",
     "text": [
      "tajanastrrton.\n",
      "rurhaynn.\n",
      "osni.\n",
      "raima.\n",
      "kayser.\n",
      "euti.\n",
      "pnperh.\n",
      "samanidrah.\n",
      "kins.\n",
      "brkarfyyine.\n",
      "yavone.\n",
      "loig.\n",
      "olah.\n",
      "min.\n",
      "noa.\n",
      "reya.\n",
      "aj.\n",
      "marmsra.\n",
      "tardian.\n",
      "nyn.\n"
     ]
    }
   ],
   "source": [
    "# sample from the model\n",
    "for _ in range(20):\n",
    "    out = []\n",
    "    context = [0] * context_length # initialize with all ... (which is index 0)\n",
    "    while True:\n",
    "        embeddings = embedding_layer[torch.tensor([context])] # (1,block_size,d)\n",
    "        pre_activations = embeddings.view(-1, context_length * embedding_dimension) @ hidden_layer_weights #+ hidden_layer_bias\n",
    "        pre_activations = batch_norm_gain \\\n",
    "            * (pre_activations - batch_norm_running_mean) / batch_norm_running_st_dev \\\n",
    "            + batch_norm_bias\n",
    "        activations = torch.tanh(pre_activations)\n",
    "        logits = activations @ output_layer_weights + output_layer_bias\n",
    "        probs = F.softmax(logits, dim=1)\n",
    "        # pull random sample from the model's probability distribution\n",
    "        token_index = torch.multinomial(probs, num_samples=1, generator=None).item()\n",
    "        context = context[1:] + [token_index]\n",
    "        out.append(token_index)\n",
    "        if token_index == 0:\n",
    "            break\n",
    "    print(''.join(index_to_character[i] for i in out))"
   ]
  },
  {
   "cell_type": "markdown",
   "metadata": {},
   "source": [
    "---"
   ]
  },
  {
   "cell_type": "markdown",
   "metadata": {},
   "source": [
    "# Part 3.2 - Pytorch-ifying Code"
   ]
  },
  {
   "cell_type": "code",
   "execution_count": null,
   "metadata": {},
   "outputs": [],
   "source": [
    "# at the start our loss was very high, much higher than what we would expect\n",
    "# If we have 27 characters, then we would expect a uniform distribution as\n",
    "# our best guess for the next character, which would give us a loss of -ln(1/27)\n",
    "# but our loss was much higher than that (e.g. 27)\n",
    "-torch.tensor(1/27).log()"
   ]
  },
  {
   "cell_type": "code",
   "execution_count": 488,
   "metadata": {},
   "outputs": [
    {
     "name": "stdout",
     "output_type": "stream",
     "text": [
      "[0, 0, 0] -> 5\n",
      "... -> e\n",
      "---\n",
      "[0, 0, 5] -> 13\n",
      "..e -> m\n",
      "---\n",
      "[0, 5, 13] -> 13\n",
      ".em -> m\n",
      "---\n",
      "[5, 13, 13] -> 1\n",
      "emm -> a\n",
      "---\n",
      "[13, 13, 1] -> 0\n",
      "mma -> .\n",
      "---\n",
      "[0, 0, 0] -> 15\n",
      "... -> o\n",
      "---\n",
      "[0, 0, 15] -> 12\n",
      "..o -> l\n",
      "---\n",
      "[0, 15, 12] -> 9\n",
      ".ol -> i\n",
      "---\n",
      "[15, 12, 9] -> 22\n",
      "oli -> v\n",
      "---\n",
      "[12, 9, 22] -> 9\n",
      "liv -> i\n",
      "---\n",
      "torch.Size([228146, 3])\n",
      "torch.Size([228146])\n",
      "Training set shapes:\n",
      "torch.Size([182516, 3])\n",
      "torch.Size([182516])\n",
      "Validation set shapes:\n",
      "torch.Size([22814, 3])\n",
      "torch.Size([22814])\n",
      "Test set shapes:\n",
      "torch.Size([22816, 3])\n",
      "torch.Size([22816])\n"
     ]
    }
   ],
   "source": [
    "g = torch.Generator().manual_seed(2147483647)\n",
    "context_length = 3  # how many characters do we take to predict the next one?\n",
    "\n",
    "X, Y = [], []\n",
    "\n",
    "for word in words:\n",
    "    word = ('.' * context_length) + word + '.'\n",
    "    for i in range(len(word) - context_length):\n",
    "        X.append([token_mappings[c] for c in word[i:i+context_length]])\n",
    "        Y.append(token_mappings[word[i+context_length]])\n",
    "\n",
    "\n",
    "for x, y in zip(X[:10], Y[:10]):\n",
    "    print(f\"{x} -> {y}\")\n",
    "    print(f\"{''.join([index_to_character[i] for i in x])} -> {index_to_character[y]}\")\n",
    "    print('---')\n",
    "\n",
    "X = torch.tensor(X)\n",
    "Y = torch.tensor(Y)\n",
    "print(X.shape)\n",
    "print(Y.shape)\n",
    "\n",
    "# Shuffle the data\n",
    "indices = torch.randperm(X.size(0), generator=g)\n",
    "assert len(set(indices)) == X.size(0)\n",
    "X = X[indices]\n",
    "Y = Y[indices]\n",
    "\n",
    "# Split ratios\n",
    "train_ratio = 0.8\n",
    "val_ratio = 0.1\n",
    "test_ratio = 0.1\n",
    "\n",
    "# Calculate split sizes\n",
    "total_size = X.size(0)\n",
    "train_size = int(total_size * train_ratio)\n",
    "val_size = int(total_size * val_ratio)\n",
    "test_size = total_size - train_size - val_size\n",
    "\n",
    "# Split the tensors\n",
    "X_train, X_val, X_test = torch.split(X, [train_size, val_size, test_size])\n",
    "Y_train, Y_val, Y_test = torch.split(Y, [train_size, val_size, test_size])\n",
    "\n",
    "# Printing the shapes of the datasets\n",
    "print(\"Training set shapes:\")\n",
    "print(X_train.shape)\n",
    "print(Y_train.shape)\n",
    "print(\"Validation set shapes:\")\n",
    "print(X_val.shape)\n",
    "print(Y_val.shape)\n",
    "print(\"Test set shapes:\")\n",
    "print(X_test.shape)\n",
    "print(Y_test.shape)"
   ]
  },
  {
   "cell_type": "code",
   "execution_count": 621,
   "metadata": {},
   "outputs": [],
   "source": [
    "# https://youtu.be/P6sfmUTpUmc?si=hKQg9w2hfxwsVfgD&t=4715\n",
    "\n",
    "from sklearn.decomposition import PCA\n",
    "import plotly_express as px\n",
    "    \n",
    "\n",
    "class Linear:\n",
    "    \"\"\"Linear layer of a neural network.\"\"\"\n",
    "\n",
    "    def __init__(\n",
    "            self,\n",
    "            in_features: int,\n",
    "            out_features: int,\n",
    "            bias: bool = True,\n",
    "            requires_grad: bool = True,\n",
    "            generator: object = None,\n",
    "            ) -> None:\n",
    "        self.in_features = in_features\n",
    "        self.out_features = out_features\n",
    "        self.weights = torch.randn(\n",
    "            (in_features, out_features),\n",
    "            generator=generator\n",
    "        )\n",
    "        self.weights /= in_features**0.5\n",
    "        self.weights.requires_grad = requires_grad\n",
    "        self.bias = torch.zeros(out_features, requires_grad=True) if bias else None\n",
    "\n",
    "    def __call__(self, x: torch.Tensor) -> torch.Tensor:\n",
    "        if self.bias is not None:\n",
    "            self.out = x @ self.weights + self.bias\n",
    "        else:\n",
    "            self.out = x @ self.weights\n",
    "        return self.out\n",
    "    \n",
    "    def parameters(self) -> list[torch.Tensor]:\n",
    "        return [self.weights] + ([self.bias] if self.bias is not None else [])\n",
    "\n",
    "\n",
    "class EmbeddingLayer(Linear):\n",
    "    \"\"\"Embedding layer of a neural network.\"\"\"\n",
    "# embedding_layer = torch.randn(len(characters), embedding_dimension, generator=g)\n",
    "    def __init__(\n",
    "            self,\n",
    "            num_tokens: int,\n",
    "            num_embeddings: int,\n",
    "            context_length: int,\n",
    "            bias: bool = False,\n",
    "            requires_grad: bool = True,\n",
    "            generator: object = None,\n",
    "            ) -> None:\n",
    "        super().__init__(\n",
    "            in_features=num_tokens,\n",
    "            out_features=num_embeddings,\n",
    "            bias=bias,\n",
    "            requires_grad=requires_grad,\n",
    "            generator=generator,\n",
    "        )\n",
    "        self.context_length = context_length\n",
    "    \n",
    "    def __call__(self, x: torch.Tensor) -> torch.Tensor:\n",
    "        self.out = self.weights[x].view(-1, self.context_length * self.out_features)\n",
    "        return self.out\n",
    "\n",
    "    # ONLY VISUALIZING THE FIRST TWO DIMENSIONS OF THE EMBEDDING\n",
    "    # MAY NOT BE THE BEST WAY TO VISUALIZE THE EMBEDDINGS FOR EMBEDDING_DIMENSION > 2\n",
    "    def plot_embeddings(self):\n",
    "        _embedding_layer = self.weights.detach().numpy()\n",
    "        if _embedding_layer.shape[1] > 2:\n",
    "            if _embedding_layer.shape[1] > 3:\n",
    "                print(\"Warning: Embedding dimension greater than 3. Running PCA to extract first three dimensions.\")   \n",
    "                pca = PCA(n_components=4)\n",
    "                _embedding_layer = pca.fit_transform(_embedding_layer)\n",
    "            fig = px.scatter_3d(\n",
    "                    x=_embedding_layer[:,0].data,\n",
    "                    y=_embedding_layer[:,1].data,\n",
    "                    z=_embedding_layer[:,2].data,\n",
    "                    color=embedding_layer[:,3].data,\n",
    "                    labels={'x': 'C-1', 'y': 'C-2', 'z': 'C-3', 'color': 'C-4'},\n",
    "                    text=index_to_character,\n",
    "                    # color=index_to_character,\n",
    "                    height=1000,\n",
    "                    width=1000,\n",
    "                )\n",
    "        else:\n",
    "            fig = px.scatter(\n",
    "                x=_embedding_layer[:,0].data,\n",
    "                y=_embedding_layer[:,1].data,\n",
    "                text=index_to_character,\n",
    "                # color=index_to_character,\n",
    "                height=800,\n",
    "                width=800,\n",
    "            )\n",
    "            fig.update_traces(textposition='top center')\n",
    "        return fig\n",
    "\n",
    "\n",
    "class BatchNorm1D:\n",
    "    \"\"\"\n",
    "    Batch normalization layer of a neural network.\n",
    "    \n",
    "    Basic implementation of https://pytorch.org/docs/stable/generated/torch.nn.BatchNorm1d.html\n",
    "    \"\"\"\n",
    "\n",
    "    def __init__(self, dim: tuple[int, int], eps=1e-5, momentum=0.1, requires_grad: bool=True) -> None:\n",
    "        self.eps = eps\n",
    "        self.momentum = momentum\n",
    "        self.training = True\n",
    "        # parameters (trained with back-propagation)\n",
    "        self.gain = torch.ones(dim, requires_grad=True)  # γ (gamma) in the url\n",
    "        self.bias = torch.zeros(dim, requires_grad=True)  # β (beta) in the url\n",
    "        # buffers (trained with a running 'momentum update' of the mean and standard deviation)\n",
    "        self.running_mean = torch.zeros(dim)\n",
    "        self.running_var = torch.ones(dim)\n",
    "\n",
    "    def __call__(self, x):\n",
    "        if self.training:\n",
    "            # when training, we calculate the mean and standard deviation of the current batch\n",
    "            x_mean = x.mean(dim=0, keepdim=True)\n",
    "            x_var = x.var(dim=0, keepdim=True)\n",
    "        else:\n",
    "            # when evaluating, we use the running mean and standard deviation\n",
    "            x_mean = self.running_mean\n",
    "            x_var = self.running_var\n",
    "        x_hat = (x - x_mean) / torch.sqrt(x_var + self.eps)  # normalize to unit variance\n",
    "        self.out = self.gain * x_hat + self.bias  # scale and shift\n",
    "        if self.training:\n",
    "            with torch.no_grad():\n",
    "                # these are not parameters of the model; they are used to normalize the activations\n",
    "                # when we make predictions (e.g on individual examples)\n",
    "                self.running_mean = (1 - self.momentum) * self.running_mean + self.momentum * x_mean\n",
    "                self.running_var = (1 - self.momentum) * self.running_var + self.momentum * x_var\n",
    "        return self.out\n",
    "\n",
    "    def parameters(self) -> list[torch.Tensor]:\n",
    "        return [self.gain, self.bias]\n",
    "    \n",
    "class Tanh:\n",
    "    \"\"\"Tanh activation function.\"\"\"\n",
    "\n",
    "    def __call__(self, x: torch.Tensor) -> torch.Tensor:\n",
    "        self.out = x.tanh()\n",
    "        return self.out\n",
    "    \n",
    "    def parameters(self) -> list[torch.Tensor]:\n",
    "        return []\n",
    "\n",
    "class NeuralNetwork:\n",
    "    \"\"\"Neural network.\"\"\"\n",
    "\n",
    "    def __init__(self, layers: list, generator: object | None = None) -> None:\n",
    "        self.layers = layers\n",
    "        self.generator = generator\n",
    "        self.training_losses = []\n",
    "\n",
    "    def forward(self, x: torch.Tensor) -> torch.Tensor:\n",
    "        for layer in self.layers:\n",
    "            x = layer(x)\n",
    "        return x\n",
    "    \n",
    "    def loss(self, x: torch.Tensor, y: torch.Tensor) -> torch.Tensor:\n",
    "        logits = self.forward(x)\n",
    "        return F.cross_entropy(logits, y)\n",
    "    \n",
    "    def zero_grad(self) -> None:\n",
    "        for p in self.parameters():\n",
    "            p.grad = None\n",
    "\n",
    "    def train(\n",
    "            self,\n",
    "            x: torch.Tensor,\n",
    "            y: torch.Tensor,\n",
    "            learning_rate: float,\n",
    "            steps: int = 20000,\n",
    "            batch_size: int = 32,\n",
    "            ) -> float:\n",
    "        losses = []\n",
    "        sub_losses = []\n",
    "        for index in range(steps):\n",
    "            batch_indices = torch.randint(low=0, high=x.shape[0], size=(batch_size,), generator=self.generator)\n",
    "            x_batch, y_batch = x[batch_indices], y[batch_indices]\n",
    "            # forward pass\n",
    "            # if layer has attribution `training` (e.g. BatchNorm1D), set to True\n",
    "            for layer in self.layers:\n",
    "                if hasattr(layer, 'training'):\n",
    "                    layer.training = True\n",
    "            loss = self.loss(x=x_batch, y=y_batch)\n",
    "            for layer in self.layers:\n",
    "                if hasattr(layer, 'training'):\n",
    "                    layer.training = False\n",
    "            # backward pass\n",
    "            self.zero_grad()\n",
    "            loss.backward()\n",
    "            # update parameters\n",
    "            for p in self.parameters():\n",
    "                p.data -= learning_rate * p.grad\n",
    "            sub_losses.append(loss.item())\n",
    "            if index % (steps / 20) == 0 or index == steps - 1:\n",
    "                average_loss = sum(sub_losses) / len(sub_losses)\n",
    "                losses.append(average_loss)\n",
    "                sub_losses = []\n",
    "                print(f\"Training Loss (average): {average_loss:.3f}\")\n",
    "        self.training_losses += losses\n",
    "        return losses\n",
    "\n",
    "    def parameters(self) -> list[torch.Tensor]:\n",
    "        return [p for layer in self.layers for p in layer.parameters()]\n",
    "    \n",
    "    def plot_training_losses(self):\n",
    "        plt.plot([math.log10(x) for x in self.training_losses])\n",
    "        plt.show()\n",
    "    \n",
    "    def __str__(self) -> str:\n",
    "        # if layer has attribute in_features\n",
    "        return '\\n'.join([\n",
    "            f\"{layer.__class__.__name__}: ({layer.in_features}, {layer.out_features})\" if hasattr(layer, 'in_features') else layer.__class__.__name__\n",
    "            for layer in self.layers\n",
    "        ])"
   ]
  },
  {
   "cell_type": "code",
   "execution_count": 622,
   "metadata": {},
   "outputs": [
    {
     "name": "stdout",
     "output_type": "stream",
     "text": [
      "EmbeddingLayer: (27, 10)\n",
      "Linear: (30, 100)\n",
      "BatchNorm1D\n",
      "Tanh\n",
      "Linear: (100, 27)\n",
      "Number of Parameters of Model: 6,297\n"
     ]
    }
   ],
   "source": [
    "g = torch.Generator().manual_seed(2147483647)\n",
    "\n",
    "embedding_dimension = 10\n",
    "# context_length = 3  # defined when creating the dataset\n",
    "num_neurons = 100\n",
    "\n",
    "# original code\n",
    "# embedding_layer = torch.randn(len(characters), embedding_dimension, generator=g)\n",
    "# hidden_layer_weights = 0.1 * torch.randn(context_length * embedding_dimension, num_neurons, generator=g)\n",
    "# output_layer_weights = 0.1 * torch.randn(num_neurons, len(characters), generator=g)\n",
    "# output_layer_bias = torch.zeros(len(characters))\n",
    "# batch_norm_gain = torch.ones((1, num_neurons))\n",
    "# batch_norm_bias = torch.zeros((1, num_neurons))\n",
    "\n",
    "layers = [\n",
    "    EmbeddingLayer(\n",
    "        num_tokens=len(characters),\n",
    "        num_embeddings=embedding_dimension,\n",
    "        context_length=context_length,\n",
    "        generator=g,\n",
    "    ),\n",
    "    Linear(in_features=context_length * embedding_dimension, out_features=num_neurons, generator=g),\n",
    "    BatchNorm1D(num_neurons),\n",
    "    Tanh(),\n",
    "    # Linear(in_features=num_neurons, out_features=num_neurons, generator=g),\n",
    "    # BatchNorm1D(num_neurons),\n",
    "    # Tanh(),\n",
    "    # Linear(in_features=num_neurons, out_features=num_neurons, generator=g),\n",
    "    # BatchNorm1D(num_neurons),\n",
    "    # Tanh(),\n",
    "    # Linear(in_features=num_neurons, out_features=num_neurons, generator=g),\n",
    "    # BatchNorm1D(num_neurons),\n",
    "    # Tanh(),\n",
    "    # Linear(in_features=num_neurons, out_features=num_neurons, generator=g),\n",
    "    # BatchNorm1D(num_neurons),\n",
    "    # Tanh(),\n",
    "    Linear(in_features=num_neurons, out_features=len(characters), generator=g),\n",
    "]\n",
    "\n",
    "model = NeuralNetwork(layers)\n",
    "print(model)\n",
    "print(f\"Number of Parameters of Model: {sum(p.nelement() for p in model.parameters()):,}\")"
   ]
  },
  {
   "cell_type": "code",
   "execution_count": 623,
   "metadata": {},
   "outputs": [
    {
     "name": "stdout",
     "output_type": "stream",
     "text": [
      "Warning: Embedding dimension greater than 3. Running PCA to extract first three dimensions.\n"
     ]
    },
    {
     "data": {
      "application/vnd.plotly.v1+json": {
       "config": {
        "plotlyServerURL": "https://plot.ly"
       },
       "data": [
        {
         "hovertemplate": "C-1=%{x}<br>C-2=%{y}<br>C-3=%{z}<br>text=%{text}<br>C-4=%{marker.color}<extra></extra>",
         "legendgroup": "",
         "marker": {
          "color": [
           0.6693271398544312,
           -1.9915037155151367,
           -0.07761890441179276,
           0.14509202539920807,
           -0.23336195945739746,
           1.1985974311828613,
           -0.5528285503387451,
           0.13276666402816772,
           -0.06856606900691986,
           -0.2900555729866028,
           0.07288984954357147,
           1.1295901536941528,
           0.8969647288322449,
           -0.37985241413116455,
           0.48169398307800293,
           -0.24207580089569092,
           -0.5676764249801636,
           0.8688607215881348,
           1.1054351329803467,
           -0.33576837182044983,
           0.07121448218822479,
           1.2920888662338257,
           1.1331892013549805,
           -2.050339937210083,
           -0.15534859895706177,
           0.970879316329956,
           1.10309636592865
          ],
          "coloraxis": "coloraxis",
          "symbol": "circle"
         },
         "mode": "markers+text",
         "name": "",
         "scene": "scene",
         "showlegend": false,
         "text": [
          ".",
          "a",
          "b",
          "c",
          "d",
          "e",
          "f",
          "g",
          "h",
          "i",
          "j",
          "k",
          "l",
          "m",
          "n",
          "o",
          "p",
          "q",
          "r",
          "s",
          "t",
          "u",
          "v",
          "w",
          "x",
          "y",
          "z"
         ],
         "type": "scatter3d",
         "x": [
          0.3343898057937622,
          -0.5836215019226074,
          -0.5449364185333252,
          0.4052223563194275,
          -0.18432305753231049,
          0.039906568825244904,
          -0.013793800957500935,
          -0.07456274330615997,
          -0.11120931059122086,
          0.19932866096496582,
          0.4355863034725189,
          0.5878487229347229,
          0.4005238711833954,
          0.032304976135492325,
          -0.1502513587474823,
          -0.2576940655708313,
          -0.2447802573442459,
          0.1095089465379715,
          -0.15436211228370667,
          -0.1498902589082718,
          -0.3265051245689392,
          0.0514698252081871,
          0.24683091044425964,
          -0.07207337766885757,
          -0.08425747603178024,
          -0.09204646944999695,
          0.20138616859912872
         ],
         "y": [
          -0.013383883982896805,
          -0.37924593687057495,
          0.049223415553569794,
          0.31308093667030334,
          0.18137940764427185,
          -0.03730921819806099,
          -0.10658670961856842,
          0.04574348405003548,
          -0.4106478691101074,
          -0.15056301653385162,
          0.20881488919258118,
          -0.31089329719543457,
          -0.29989269375801086,
          -0.42833590507507324,
          -0.10582023113965988,
          0.41835731267929077,
          -0.2679831385612488,
          0.05688159912824631,
          0.30872488021850586,
          0.24756945669651031,
          0.19300414621829987,
          -0.21995458006858826,
          0.4639778435230255,
          0.2542988061904907,
          0.06302578747272491,
          -0.11296591907739639,
          0.03950059786438942
         ],
         "z": [
          0.06397996842861176,
          0.11507513374090195,
          -0.281569242477417,
          -0.017686938866972923,
          0.10054472088813782,
          0.06287334114313126,
          -0.44297870993614197,
          -0.11335542052984238,
          -0.19049373269081116,
          -0.04661541432142258,
          -0.19038572907447815,
          0.18329587578773499,
          0.10473369061946869,
          -0.33019939064979553,
          0.1363673061132431,
          -0.2538823187351227,
          0.07873010635375977,
          0.5126933455467224,
          0.045822400599718094,
          0.2675921320915222,
          0.5235431790351868,
          0.18428845703601837,
          -0.13348828256130219,
          -0.12398673593997955,
          -0.2070789784193039,
          0.08183493465185165,
          -0.12965358793735504
         ]
        }
       ],
       "layout": {
        "coloraxis": {
         "colorbar": {
          "title": {
           "text": "C-4"
          }
         },
         "colorscale": [
          [
           0,
           "#0d0887"
          ],
          [
           0.1111111111111111,
           "#46039f"
          ],
          [
           0.2222222222222222,
           "#7201a8"
          ],
          [
           0.3333333333333333,
           "#9c179e"
          ],
          [
           0.4444444444444444,
           "#bd3786"
          ],
          [
           0.5555555555555556,
           "#d8576b"
          ],
          [
           0.6666666666666666,
           "#ed7953"
          ],
          [
           0.7777777777777778,
           "#fb9f3a"
          ],
          [
           0.8888888888888888,
           "#fdca26"
          ],
          [
           1,
           "#f0f921"
          ]
         ]
        },
        "height": 1000,
        "legend": {
         "tracegroupgap": 0
        },
        "margin": {
         "t": 60
        },
        "scene": {
         "domain": {
          "x": [
           0,
           1
          ],
          "y": [
           0,
           1
          ]
         },
         "xaxis": {
          "title": {
           "text": "C-1"
          }
         },
         "yaxis": {
          "title": {
           "text": "C-2"
          }
         },
         "zaxis": {
          "title": {
           "text": "C-3"
          }
         }
        },
        "template": {
         "data": {
          "bar": [
           {
            "error_x": {
             "color": "#2a3f5f"
            },
            "error_y": {
             "color": "#2a3f5f"
            },
            "marker": {
             "line": {
              "color": "#E5ECF6",
              "width": 0.5
             },
             "pattern": {
              "fillmode": "overlay",
              "size": 10,
              "solidity": 0.2
             }
            },
            "type": "bar"
           }
          ],
          "barpolar": [
           {
            "marker": {
             "line": {
              "color": "#E5ECF6",
              "width": 0.5
             },
             "pattern": {
              "fillmode": "overlay",
              "size": 10,
              "solidity": 0.2
             }
            },
            "type": "barpolar"
           }
          ],
          "carpet": [
           {
            "aaxis": {
             "endlinecolor": "#2a3f5f",
             "gridcolor": "white",
             "linecolor": "white",
             "minorgridcolor": "white",
             "startlinecolor": "#2a3f5f"
            },
            "baxis": {
             "endlinecolor": "#2a3f5f",
             "gridcolor": "white",
             "linecolor": "white",
             "minorgridcolor": "white",
             "startlinecolor": "#2a3f5f"
            },
            "type": "carpet"
           }
          ],
          "choropleth": [
           {
            "colorbar": {
             "outlinewidth": 0,
             "ticks": ""
            },
            "type": "choropleth"
           }
          ],
          "contour": [
           {
            "colorbar": {
             "outlinewidth": 0,
             "ticks": ""
            },
            "colorscale": [
             [
              0,
              "#0d0887"
             ],
             [
              0.1111111111111111,
              "#46039f"
             ],
             [
              0.2222222222222222,
              "#7201a8"
             ],
             [
              0.3333333333333333,
              "#9c179e"
             ],
             [
              0.4444444444444444,
              "#bd3786"
             ],
             [
              0.5555555555555556,
              "#d8576b"
             ],
             [
              0.6666666666666666,
              "#ed7953"
             ],
             [
              0.7777777777777778,
              "#fb9f3a"
             ],
             [
              0.8888888888888888,
              "#fdca26"
             ],
             [
              1,
              "#f0f921"
             ]
            ],
            "type": "contour"
           }
          ],
          "contourcarpet": [
           {
            "colorbar": {
             "outlinewidth": 0,
             "ticks": ""
            },
            "type": "contourcarpet"
           }
          ],
          "heatmap": [
           {
            "colorbar": {
             "outlinewidth": 0,
             "ticks": ""
            },
            "colorscale": [
             [
              0,
              "#0d0887"
             ],
             [
              0.1111111111111111,
              "#46039f"
             ],
             [
              0.2222222222222222,
              "#7201a8"
             ],
             [
              0.3333333333333333,
              "#9c179e"
             ],
             [
              0.4444444444444444,
              "#bd3786"
             ],
             [
              0.5555555555555556,
              "#d8576b"
             ],
             [
              0.6666666666666666,
              "#ed7953"
             ],
             [
              0.7777777777777778,
              "#fb9f3a"
             ],
             [
              0.8888888888888888,
              "#fdca26"
             ],
             [
              1,
              "#f0f921"
             ]
            ],
            "type": "heatmap"
           }
          ],
          "heatmapgl": [
           {
            "colorbar": {
             "outlinewidth": 0,
             "ticks": ""
            },
            "colorscale": [
             [
              0,
              "#0d0887"
             ],
             [
              0.1111111111111111,
              "#46039f"
             ],
             [
              0.2222222222222222,
              "#7201a8"
             ],
             [
              0.3333333333333333,
              "#9c179e"
             ],
             [
              0.4444444444444444,
              "#bd3786"
             ],
             [
              0.5555555555555556,
              "#d8576b"
             ],
             [
              0.6666666666666666,
              "#ed7953"
             ],
             [
              0.7777777777777778,
              "#fb9f3a"
             ],
             [
              0.8888888888888888,
              "#fdca26"
             ],
             [
              1,
              "#f0f921"
             ]
            ],
            "type": "heatmapgl"
           }
          ],
          "histogram": [
           {
            "marker": {
             "pattern": {
              "fillmode": "overlay",
              "size": 10,
              "solidity": 0.2
             }
            },
            "type": "histogram"
           }
          ],
          "histogram2d": [
           {
            "colorbar": {
             "outlinewidth": 0,
             "ticks": ""
            },
            "colorscale": [
             [
              0,
              "#0d0887"
             ],
             [
              0.1111111111111111,
              "#46039f"
             ],
             [
              0.2222222222222222,
              "#7201a8"
             ],
             [
              0.3333333333333333,
              "#9c179e"
             ],
             [
              0.4444444444444444,
              "#bd3786"
             ],
             [
              0.5555555555555556,
              "#d8576b"
             ],
             [
              0.6666666666666666,
              "#ed7953"
             ],
             [
              0.7777777777777778,
              "#fb9f3a"
             ],
             [
              0.8888888888888888,
              "#fdca26"
             ],
             [
              1,
              "#f0f921"
             ]
            ],
            "type": "histogram2d"
           }
          ],
          "histogram2dcontour": [
           {
            "colorbar": {
             "outlinewidth": 0,
             "ticks": ""
            },
            "colorscale": [
             [
              0,
              "#0d0887"
             ],
             [
              0.1111111111111111,
              "#46039f"
             ],
             [
              0.2222222222222222,
              "#7201a8"
             ],
             [
              0.3333333333333333,
              "#9c179e"
             ],
             [
              0.4444444444444444,
              "#bd3786"
             ],
             [
              0.5555555555555556,
              "#d8576b"
             ],
             [
              0.6666666666666666,
              "#ed7953"
             ],
             [
              0.7777777777777778,
              "#fb9f3a"
             ],
             [
              0.8888888888888888,
              "#fdca26"
             ],
             [
              1,
              "#f0f921"
             ]
            ],
            "type": "histogram2dcontour"
           }
          ],
          "mesh3d": [
           {
            "colorbar": {
             "outlinewidth": 0,
             "ticks": ""
            },
            "type": "mesh3d"
           }
          ],
          "parcoords": [
           {
            "line": {
             "colorbar": {
              "outlinewidth": 0,
              "ticks": ""
             }
            },
            "type": "parcoords"
           }
          ],
          "pie": [
           {
            "automargin": true,
            "type": "pie"
           }
          ],
          "scatter": [
           {
            "fillpattern": {
             "fillmode": "overlay",
             "size": 10,
             "solidity": 0.2
            },
            "type": "scatter"
           }
          ],
          "scatter3d": [
           {
            "line": {
             "colorbar": {
              "outlinewidth": 0,
              "ticks": ""
             }
            },
            "marker": {
             "colorbar": {
              "outlinewidth": 0,
              "ticks": ""
             }
            },
            "type": "scatter3d"
           }
          ],
          "scattercarpet": [
           {
            "marker": {
             "colorbar": {
              "outlinewidth": 0,
              "ticks": ""
             }
            },
            "type": "scattercarpet"
           }
          ],
          "scattergeo": [
           {
            "marker": {
             "colorbar": {
              "outlinewidth": 0,
              "ticks": ""
             }
            },
            "type": "scattergeo"
           }
          ],
          "scattergl": [
           {
            "marker": {
             "colorbar": {
              "outlinewidth": 0,
              "ticks": ""
             }
            },
            "type": "scattergl"
           }
          ],
          "scattermapbox": [
           {
            "marker": {
             "colorbar": {
              "outlinewidth": 0,
              "ticks": ""
             }
            },
            "type": "scattermapbox"
           }
          ],
          "scatterpolar": [
           {
            "marker": {
             "colorbar": {
              "outlinewidth": 0,
              "ticks": ""
             }
            },
            "type": "scatterpolar"
           }
          ],
          "scatterpolargl": [
           {
            "marker": {
             "colorbar": {
              "outlinewidth": 0,
              "ticks": ""
             }
            },
            "type": "scatterpolargl"
           }
          ],
          "scatterternary": [
           {
            "marker": {
             "colorbar": {
              "outlinewidth": 0,
              "ticks": ""
             }
            },
            "type": "scatterternary"
           }
          ],
          "surface": [
           {
            "colorbar": {
             "outlinewidth": 0,
             "ticks": ""
            },
            "colorscale": [
             [
              0,
              "#0d0887"
             ],
             [
              0.1111111111111111,
              "#46039f"
             ],
             [
              0.2222222222222222,
              "#7201a8"
             ],
             [
              0.3333333333333333,
              "#9c179e"
             ],
             [
              0.4444444444444444,
              "#bd3786"
             ],
             [
              0.5555555555555556,
              "#d8576b"
             ],
             [
              0.6666666666666666,
              "#ed7953"
             ],
             [
              0.7777777777777778,
              "#fb9f3a"
             ],
             [
              0.8888888888888888,
              "#fdca26"
             ],
             [
              1,
              "#f0f921"
             ]
            ],
            "type": "surface"
           }
          ],
          "table": [
           {
            "cells": {
             "fill": {
              "color": "#EBF0F8"
             },
             "line": {
              "color": "white"
             }
            },
            "header": {
             "fill": {
              "color": "#C8D4E3"
             },
             "line": {
              "color": "white"
             }
            },
            "type": "table"
           }
          ]
         },
         "layout": {
          "annotationdefaults": {
           "arrowcolor": "#2a3f5f",
           "arrowhead": 0,
           "arrowwidth": 1
          },
          "autotypenumbers": "strict",
          "coloraxis": {
           "colorbar": {
            "outlinewidth": 0,
            "ticks": ""
           }
          },
          "colorscale": {
           "diverging": [
            [
             0,
             "#8e0152"
            ],
            [
             0.1,
             "#c51b7d"
            ],
            [
             0.2,
             "#de77ae"
            ],
            [
             0.3,
             "#f1b6da"
            ],
            [
             0.4,
             "#fde0ef"
            ],
            [
             0.5,
             "#f7f7f7"
            ],
            [
             0.6,
             "#e6f5d0"
            ],
            [
             0.7,
             "#b8e186"
            ],
            [
             0.8,
             "#7fbc41"
            ],
            [
             0.9,
             "#4d9221"
            ],
            [
             1,
             "#276419"
            ]
           ],
           "sequential": [
            [
             0,
             "#0d0887"
            ],
            [
             0.1111111111111111,
             "#46039f"
            ],
            [
             0.2222222222222222,
             "#7201a8"
            ],
            [
             0.3333333333333333,
             "#9c179e"
            ],
            [
             0.4444444444444444,
             "#bd3786"
            ],
            [
             0.5555555555555556,
             "#d8576b"
            ],
            [
             0.6666666666666666,
             "#ed7953"
            ],
            [
             0.7777777777777778,
             "#fb9f3a"
            ],
            [
             0.8888888888888888,
             "#fdca26"
            ],
            [
             1,
             "#f0f921"
            ]
           ],
           "sequentialminus": [
            [
             0,
             "#0d0887"
            ],
            [
             0.1111111111111111,
             "#46039f"
            ],
            [
             0.2222222222222222,
             "#7201a8"
            ],
            [
             0.3333333333333333,
             "#9c179e"
            ],
            [
             0.4444444444444444,
             "#bd3786"
            ],
            [
             0.5555555555555556,
             "#d8576b"
            ],
            [
             0.6666666666666666,
             "#ed7953"
            ],
            [
             0.7777777777777778,
             "#fb9f3a"
            ],
            [
             0.8888888888888888,
             "#fdca26"
            ],
            [
             1,
             "#f0f921"
            ]
           ]
          },
          "colorway": [
           "#636efa",
           "#EF553B",
           "#00cc96",
           "#ab63fa",
           "#FFA15A",
           "#19d3f3",
           "#FF6692",
           "#B6E880",
           "#FF97FF",
           "#FECB52"
          ],
          "font": {
           "color": "#2a3f5f"
          },
          "geo": {
           "bgcolor": "white",
           "lakecolor": "white",
           "landcolor": "#E5ECF6",
           "showlakes": true,
           "showland": true,
           "subunitcolor": "white"
          },
          "hoverlabel": {
           "align": "left"
          },
          "hovermode": "closest",
          "mapbox": {
           "style": "light"
          },
          "paper_bgcolor": "white",
          "plot_bgcolor": "#E5ECF6",
          "polar": {
           "angularaxis": {
            "gridcolor": "white",
            "linecolor": "white",
            "ticks": ""
           },
           "bgcolor": "#E5ECF6",
           "radialaxis": {
            "gridcolor": "white",
            "linecolor": "white",
            "ticks": ""
           }
          },
          "scene": {
           "xaxis": {
            "backgroundcolor": "#E5ECF6",
            "gridcolor": "white",
            "gridwidth": 2,
            "linecolor": "white",
            "showbackground": true,
            "ticks": "",
            "zerolinecolor": "white"
           },
           "yaxis": {
            "backgroundcolor": "#E5ECF6",
            "gridcolor": "white",
            "gridwidth": 2,
            "linecolor": "white",
            "showbackground": true,
            "ticks": "",
            "zerolinecolor": "white"
           },
           "zaxis": {
            "backgroundcolor": "#E5ECF6",
            "gridcolor": "white",
            "gridwidth": 2,
            "linecolor": "white",
            "showbackground": true,
            "ticks": "",
            "zerolinecolor": "white"
           }
          },
          "shapedefaults": {
           "line": {
            "color": "#2a3f5f"
           }
          },
          "ternary": {
           "aaxis": {
            "gridcolor": "white",
            "linecolor": "white",
            "ticks": ""
           },
           "baxis": {
            "gridcolor": "white",
            "linecolor": "white",
            "ticks": ""
           },
           "bgcolor": "#E5ECF6",
           "caxis": {
            "gridcolor": "white",
            "linecolor": "white",
            "ticks": ""
           }
          },
          "title": {
           "x": 0.05
          },
          "xaxis": {
           "automargin": true,
           "gridcolor": "white",
           "linecolor": "white",
           "ticks": "",
           "title": {
            "standoff": 15
           },
           "zerolinecolor": "white",
           "zerolinewidth": 2
          },
          "yaxis": {
           "automargin": true,
           "gridcolor": "white",
           "linecolor": "white",
           "ticks": "",
           "title": {
            "standoff": 15
           },
           "zerolinecolor": "white",
           "zerolinewidth": 2
          }
         }
        },
        "width": 1000
       }
      },
      "text/html": [
       "<div>                            <div id=\"b6478a69-bbc8-4ab0-b29d-9f6348950413\" class=\"plotly-graph-div\" style=\"height:1000px; width:1000px;\"></div>            <script type=\"text/javascript\">                require([\"plotly\"], function(Plotly) {                    window.PLOTLYENV=window.PLOTLYENV || {};                                    if (document.getElementById(\"b6478a69-bbc8-4ab0-b29d-9f6348950413\")) {                    Plotly.newPlot(                        \"b6478a69-bbc8-4ab0-b29d-9f6348950413\",                        [{\"hovertemplate\":\"C-1=%{x}\\u003cbr\\u003eC-2=%{y}\\u003cbr\\u003eC-3=%{z}\\u003cbr\\u003etext=%{text}\\u003cbr\\u003eC-4=%{marker.color}\\u003cextra\\u003e\\u003c\\u002fextra\\u003e\",\"legendgroup\":\"\",\"marker\":{\"color\":[0.6693271398544312,-1.9915037155151367,-0.07761890441179276,0.14509202539920807,-0.23336195945739746,1.1985974311828613,-0.5528285503387451,0.13276666402816772,-0.06856606900691986,-0.2900555729866028,0.07288984954357147,1.1295901536941528,0.8969647288322449,-0.37985241413116455,0.48169398307800293,-0.24207580089569092,-0.5676764249801636,0.8688607215881348,1.1054351329803467,-0.33576837182044983,0.07121448218822479,1.2920888662338257,1.1331892013549805,-2.050339937210083,-0.15534859895706177,0.970879316329956,1.10309636592865],\"coloraxis\":\"coloraxis\",\"symbol\":\"circle\"},\"mode\":\"markers+text\",\"name\":\"\",\"scene\":\"scene\",\"showlegend\":false,\"text\":[\".\",\"a\",\"b\",\"c\",\"d\",\"e\",\"f\",\"g\",\"h\",\"i\",\"j\",\"k\",\"l\",\"m\",\"n\",\"o\",\"p\",\"q\",\"r\",\"s\",\"t\",\"u\",\"v\",\"w\",\"x\",\"y\",\"z\"],\"x\":[0.3343898057937622,-0.5836215019226074,-0.5449364185333252,0.4052223563194275,-0.18432305753231049,0.039906568825244904,-0.013793800957500935,-0.07456274330615997,-0.11120931059122086,0.19932866096496582,0.4355863034725189,0.5878487229347229,0.4005238711833954,0.032304976135492325,-0.1502513587474823,-0.2576940655708313,-0.2447802573442459,0.1095089465379715,-0.15436211228370667,-0.1498902589082718,-0.3265051245689392,0.0514698252081871,0.24683091044425964,-0.07207337766885757,-0.08425747603178024,-0.09204646944999695,0.20138616859912872],\"y\":[-0.013383883982896805,-0.37924593687057495,0.049223415553569794,0.31308093667030334,0.18137940764427185,-0.03730921819806099,-0.10658670961856842,0.04574348405003548,-0.4106478691101074,-0.15056301653385162,0.20881488919258118,-0.31089329719543457,-0.29989269375801086,-0.42833590507507324,-0.10582023113965988,0.41835731267929077,-0.2679831385612488,0.05688159912824631,0.30872488021850586,0.24756945669651031,0.19300414621829987,-0.21995458006858826,0.4639778435230255,0.2542988061904907,0.06302578747272491,-0.11296591907739639,0.03950059786438942],\"z\":[0.06397996842861176,0.11507513374090195,-0.281569242477417,-0.017686938866972923,0.10054472088813782,0.06287334114313126,-0.44297870993614197,-0.11335542052984238,-0.19049373269081116,-0.04661541432142258,-0.19038572907447815,0.18329587578773499,0.10473369061946869,-0.33019939064979553,0.1363673061132431,-0.2538823187351227,0.07873010635375977,0.5126933455467224,0.045822400599718094,0.2675921320915222,0.5235431790351868,0.18428845703601837,-0.13348828256130219,-0.12398673593997955,-0.2070789784193039,0.08183493465185165,-0.12965358793735504],\"type\":\"scatter3d\"}],                        {\"template\":{\"data\":{\"histogram2dcontour\":[{\"type\":\"histogram2dcontour\",\"colorbar\":{\"outlinewidth\":0,\"ticks\":\"\"},\"colorscale\":[[0.0,\"#0d0887\"],[0.1111111111111111,\"#46039f\"],[0.2222222222222222,\"#7201a8\"],[0.3333333333333333,\"#9c179e\"],[0.4444444444444444,\"#bd3786\"],[0.5555555555555556,\"#d8576b\"],[0.6666666666666666,\"#ed7953\"],[0.7777777777777778,\"#fb9f3a\"],[0.8888888888888888,\"#fdca26\"],[1.0,\"#f0f921\"]]}],\"choropleth\":[{\"type\":\"choropleth\",\"colorbar\":{\"outlinewidth\":0,\"ticks\":\"\"}}],\"histogram2d\":[{\"type\":\"histogram2d\",\"colorbar\":{\"outlinewidth\":0,\"ticks\":\"\"},\"colorscale\":[[0.0,\"#0d0887\"],[0.1111111111111111,\"#46039f\"],[0.2222222222222222,\"#7201a8\"],[0.3333333333333333,\"#9c179e\"],[0.4444444444444444,\"#bd3786\"],[0.5555555555555556,\"#d8576b\"],[0.6666666666666666,\"#ed7953\"],[0.7777777777777778,\"#fb9f3a\"],[0.8888888888888888,\"#fdca26\"],[1.0,\"#f0f921\"]]}],\"heatmap\":[{\"type\":\"heatmap\",\"colorbar\":{\"outlinewidth\":0,\"ticks\":\"\"},\"colorscale\":[[0.0,\"#0d0887\"],[0.1111111111111111,\"#46039f\"],[0.2222222222222222,\"#7201a8\"],[0.3333333333333333,\"#9c179e\"],[0.4444444444444444,\"#bd3786\"],[0.5555555555555556,\"#d8576b\"],[0.6666666666666666,\"#ed7953\"],[0.7777777777777778,\"#fb9f3a\"],[0.8888888888888888,\"#fdca26\"],[1.0,\"#f0f921\"]]}],\"heatmapgl\":[{\"type\":\"heatmapgl\",\"colorbar\":{\"outlinewidth\":0,\"ticks\":\"\"},\"colorscale\":[[0.0,\"#0d0887\"],[0.1111111111111111,\"#46039f\"],[0.2222222222222222,\"#7201a8\"],[0.3333333333333333,\"#9c179e\"],[0.4444444444444444,\"#bd3786\"],[0.5555555555555556,\"#d8576b\"],[0.6666666666666666,\"#ed7953\"],[0.7777777777777778,\"#fb9f3a\"],[0.8888888888888888,\"#fdca26\"],[1.0,\"#f0f921\"]]}],\"contourcarpet\":[{\"type\":\"contourcarpet\",\"colorbar\":{\"outlinewidth\":0,\"ticks\":\"\"}}],\"contour\":[{\"type\":\"contour\",\"colorbar\":{\"outlinewidth\":0,\"ticks\":\"\"},\"colorscale\":[[0.0,\"#0d0887\"],[0.1111111111111111,\"#46039f\"],[0.2222222222222222,\"#7201a8\"],[0.3333333333333333,\"#9c179e\"],[0.4444444444444444,\"#bd3786\"],[0.5555555555555556,\"#d8576b\"],[0.6666666666666666,\"#ed7953\"],[0.7777777777777778,\"#fb9f3a\"],[0.8888888888888888,\"#fdca26\"],[1.0,\"#f0f921\"]]}],\"surface\":[{\"type\":\"surface\",\"colorbar\":{\"outlinewidth\":0,\"ticks\":\"\"},\"colorscale\":[[0.0,\"#0d0887\"],[0.1111111111111111,\"#46039f\"],[0.2222222222222222,\"#7201a8\"],[0.3333333333333333,\"#9c179e\"],[0.4444444444444444,\"#bd3786\"],[0.5555555555555556,\"#d8576b\"],[0.6666666666666666,\"#ed7953\"],[0.7777777777777778,\"#fb9f3a\"],[0.8888888888888888,\"#fdca26\"],[1.0,\"#f0f921\"]]}],\"mesh3d\":[{\"type\":\"mesh3d\",\"colorbar\":{\"outlinewidth\":0,\"ticks\":\"\"}}],\"scatter\":[{\"fillpattern\":{\"fillmode\":\"overlay\",\"size\":10,\"solidity\":0.2},\"type\":\"scatter\"}],\"parcoords\":[{\"type\":\"parcoords\",\"line\":{\"colorbar\":{\"outlinewidth\":0,\"ticks\":\"\"}}}],\"scatterpolargl\":[{\"type\":\"scatterpolargl\",\"marker\":{\"colorbar\":{\"outlinewidth\":0,\"ticks\":\"\"}}}],\"bar\":[{\"error_x\":{\"color\":\"#2a3f5f\"},\"error_y\":{\"color\":\"#2a3f5f\"},\"marker\":{\"line\":{\"color\":\"#E5ECF6\",\"width\":0.5},\"pattern\":{\"fillmode\":\"overlay\",\"size\":10,\"solidity\":0.2}},\"type\":\"bar\"}],\"scattergeo\":[{\"type\":\"scattergeo\",\"marker\":{\"colorbar\":{\"outlinewidth\":0,\"ticks\":\"\"}}}],\"scatterpolar\":[{\"type\":\"scatterpolar\",\"marker\":{\"colorbar\":{\"outlinewidth\":0,\"ticks\":\"\"}}}],\"histogram\":[{\"marker\":{\"pattern\":{\"fillmode\":\"overlay\",\"size\":10,\"solidity\":0.2}},\"type\":\"histogram\"}],\"scattergl\":[{\"type\":\"scattergl\",\"marker\":{\"colorbar\":{\"outlinewidth\":0,\"ticks\":\"\"}}}],\"scatter3d\":[{\"type\":\"scatter3d\",\"line\":{\"colorbar\":{\"outlinewidth\":0,\"ticks\":\"\"}},\"marker\":{\"colorbar\":{\"outlinewidth\":0,\"ticks\":\"\"}}}],\"scattermapbox\":[{\"type\":\"scattermapbox\",\"marker\":{\"colorbar\":{\"outlinewidth\":0,\"ticks\":\"\"}}}],\"scatterternary\":[{\"type\":\"scatterternary\",\"marker\":{\"colorbar\":{\"outlinewidth\":0,\"ticks\":\"\"}}}],\"scattercarpet\":[{\"type\":\"scattercarpet\",\"marker\":{\"colorbar\":{\"outlinewidth\":0,\"ticks\":\"\"}}}],\"carpet\":[{\"aaxis\":{\"endlinecolor\":\"#2a3f5f\",\"gridcolor\":\"white\",\"linecolor\":\"white\",\"minorgridcolor\":\"white\",\"startlinecolor\":\"#2a3f5f\"},\"baxis\":{\"endlinecolor\":\"#2a3f5f\",\"gridcolor\":\"white\",\"linecolor\":\"white\",\"minorgridcolor\":\"white\",\"startlinecolor\":\"#2a3f5f\"},\"type\":\"carpet\"}],\"table\":[{\"cells\":{\"fill\":{\"color\":\"#EBF0F8\"},\"line\":{\"color\":\"white\"}},\"header\":{\"fill\":{\"color\":\"#C8D4E3\"},\"line\":{\"color\":\"white\"}},\"type\":\"table\"}],\"barpolar\":[{\"marker\":{\"line\":{\"color\":\"#E5ECF6\",\"width\":0.5},\"pattern\":{\"fillmode\":\"overlay\",\"size\":10,\"solidity\":0.2}},\"type\":\"barpolar\"}],\"pie\":[{\"automargin\":true,\"type\":\"pie\"}]},\"layout\":{\"autotypenumbers\":\"strict\",\"colorway\":[\"#636efa\",\"#EF553B\",\"#00cc96\",\"#ab63fa\",\"#FFA15A\",\"#19d3f3\",\"#FF6692\",\"#B6E880\",\"#FF97FF\",\"#FECB52\"],\"font\":{\"color\":\"#2a3f5f\"},\"hovermode\":\"closest\",\"hoverlabel\":{\"align\":\"left\"},\"paper_bgcolor\":\"white\",\"plot_bgcolor\":\"#E5ECF6\",\"polar\":{\"bgcolor\":\"#E5ECF6\",\"angularaxis\":{\"gridcolor\":\"white\",\"linecolor\":\"white\",\"ticks\":\"\"},\"radialaxis\":{\"gridcolor\":\"white\",\"linecolor\":\"white\",\"ticks\":\"\"}},\"ternary\":{\"bgcolor\":\"#E5ECF6\",\"aaxis\":{\"gridcolor\":\"white\",\"linecolor\":\"white\",\"ticks\":\"\"},\"baxis\":{\"gridcolor\":\"white\",\"linecolor\":\"white\",\"ticks\":\"\"},\"caxis\":{\"gridcolor\":\"white\",\"linecolor\":\"white\",\"ticks\":\"\"}},\"coloraxis\":{\"colorbar\":{\"outlinewidth\":0,\"ticks\":\"\"}},\"colorscale\":{\"sequential\":[[0.0,\"#0d0887\"],[0.1111111111111111,\"#46039f\"],[0.2222222222222222,\"#7201a8\"],[0.3333333333333333,\"#9c179e\"],[0.4444444444444444,\"#bd3786\"],[0.5555555555555556,\"#d8576b\"],[0.6666666666666666,\"#ed7953\"],[0.7777777777777778,\"#fb9f3a\"],[0.8888888888888888,\"#fdca26\"],[1.0,\"#f0f921\"]],\"sequentialminus\":[[0.0,\"#0d0887\"],[0.1111111111111111,\"#46039f\"],[0.2222222222222222,\"#7201a8\"],[0.3333333333333333,\"#9c179e\"],[0.4444444444444444,\"#bd3786\"],[0.5555555555555556,\"#d8576b\"],[0.6666666666666666,\"#ed7953\"],[0.7777777777777778,\"#fb9f3a\"],[0.8888888888888888,\"#fdca26\"],[1.0,\"#f0f921\"]],\"diverging\":[[0,\"#8e0152\"],[0.1,\"#c51b7d\"],[0.2,\"#de77ae\"],[0.3,\"#f1b6da\"],[0.4,\"#fde0ef\"],[0.5,\"#f7f7f7\"],[0.6,\"#e6f5d0\"],[0.7,\"#b8e186\"],[0.8,\"#7fbc41\"],[0.9,\"#4d9221\"],[1,\"#276419\"]]},\"xaxis\":{\"gridcolor\":\"white\",\"linecolor\":\"white\",\"ticks\":\"\",\"title\":{\"standoff\":15},\"zerolinecolor\":\"white\",\"automargin\":true,\"zerolinewidth\":2},\"yaxis\":{\"gridcolor\":\"white\",\"linecolor\":\"white\",\"ticks\":\"\",\"title\":{\"standoff\":15},\"zerolinecolor\":\"white\",\"automargin\":true,\"zerolinewidth\":2},\"scene\":{\"xaxis\":{\"backgroundcolor\":\"#E5ECF6\",\"gridcolor\":\"white\",\"linecolor\":\"white\",\"showbackground\":true,\"ticks\":\"\",\"zerolinecolor\":\"white\",\"gridwidth\":2},\"yaxis\":{\"backgroundcolor\":\"#E5ECF6\",\"gridcolor\":\"white\",\"linecolor\":\"white\",\"showbackground\":true,\"ticks\":\"\",\"zerolinecolor\":\"white\",\"gridwidth\":2},\"zaxis\":{\"backgroundcolor\":\"#E5ECF6\",\"gridcolor\":\"white\",\"linecolor\":\"white\",\"showbackground\":true,\"ticks\":\"\",\"zerolinecolor\":\"white\",\"gridwidth\":2}},\"shapedefaults\":{\"line\":{\"color\":\"#2a3f5f\"}},\"annotationdefaults\":{\"arrowcolor\":\"#2a3f5f\",\"arrowhead\":0,\"arrowwidth\":1},\"geo\":{\"bgcolor\":\"white\",\"landcolor\":\"#E5ECF6\",\"subunitcolor\":\"white\",\"showland\":true,\"showlakes\":true,\"lakecolor\":\"white\"},\"title\":{\"x\":0.05},\"mapbox\":{\"style\":\"light\"}}},\"scene\":{\"domain\":{\"x\":[0.0,1.0],\"y\":[0.0,1.0]},\"xaxis\":{\"title\":{\"text\":\"C-1\"}},\"yaxis\":{\"title\":{\"text\":\"C-2\"}},\"zaxis\":{\"title\":{\"text\":\"C-3\"}}},\"coloraxis\":{\"colorbar\":{\"title\":{\"text\":\"C-4\"}},\"colorscale\":[[0.0,\"#0d0887\"],[0.1111111111111111,\"#46039f\"],[0.2222222222222222,\"#7201a8\"],[0.3333333333333333,\"#9c179e\"],[0.4444444444444444,\"#bd3786\"],[0.5555555555555556,\"#d8576b\"],[0.6666666666666666,\"#ed7953\"],[0.7777777777777778,\"#fb9f3a\"],[0.8888888888888888,\"#fdca26\"],[1.0,\"#f0f921\"]]},\"legend\":{\"tracegroupgap\":0},\"margin\":{\"t\":60},\"height\":1000,\"width\":1000},                        {\"responsive\": true}                    ).then(function(){\n",
       "                            \n",
       "var gd = document.getElementById('b6478a69-bbc8-4ab0-b29d-9f6348950413');\n",
       "var x = new MutationObserver(function (mutations, observer) {{\n",
       "        var display = window.getComputedStyle(gd).display;\n",
       "        if (!display || display === 'none') {{\n",
       "            console.log([gd, 'removed!']);\n",
       "            Plotly.purge(gd);\n",
       "            observer.disconnect();\n",
       "        }}\n",
       "}});\n",
       "\n",
       "// Listen for the removal of the full notebook cells\n",
       "var notebookContainer = gd.closest('#notebook-container');\n",
       "if (notebookContainer) {{\n",
       "    x.observe(notebookContainer, {childList: true});\n",
       "}}\n",
       "\n",
       "// Listen for the clearing of the current output cell\n",
       "var outputEl = gd.closest('.output');\n",
       "if (outputEl) {{\n",
       "    x.observe(outputEl, {childList: true});\n",
       "}}\n",
       "\n",
       "                        })                };                });            </script>        </div>"
      ]
     },
     "metadata": {},
     "output_type": "display_data"
    }
   ],
   "source": [
    "layers[0].plot_embeddings()"
   ]
  },
  {
   "cell_type": "code",
   "execution_count": 624,
   "metadata": {},
   "outputs": [
    {
     "name": "stdout",
     "output_type": "stream",
     "text": [
      "Layer 0: mean=-0.002, std=0.632, saturated=3.55%\n"
     ]
    },
    {
     "data": {
      "image/png": "[encoded data removed]",
      "text/plain": [
       "<Figure size 2000x400 with 1 Axes>"
      ]
     },
     "metadata": {},
     "output_type": "display_data"
    }
   ],
   "source": [
    "# single step\n",
    "loss = model.loss(X_train, Y_train)\n",
    "\n",
    "plt.figure(figsize=(20, 4))\n",
    "legends = []\n",
    "for index, layer in enumerate([layer for layer in model.layers if isinstance(layer, Tanh)]):\n",
    "    t = layer.out\n",
    "    print(f\"Layer {index}: mean={t.mean():.3f}, std={t.std():.3f}, saturated={(t.abs() > 0.97).float().mean()*100:.2f}%\")\n",
    "    hy, hx = torch.histogram(t, density=True)\n",
    "    plt.plot(hx[:-1].detach(), hy.detach())\n",
    "    legends.append(f\"Layer {index}\")\n",
    "plt.legend(legends)\n",
    "plt.title(\"Activation Distributions\")\n",
    "plt.show()"
   ]
  },
  {
   "cell_type": "code",
   "execution_count": 625,
   "metadata": {},
   "outputs": [
    {
     "name": "stdout",
     "output_type": "stream",
     "text": [
      "Layer 0: mean=0.000, std=0.000\n"
     ]
    },
    {
     "data": {
      "image/png": "[encoded data removed]",
      "text/plain": [
       "<Figure size 2000x400 with 1 Axes>"
      ]
     },
     "metadata": {},
     "output_type": "display_data"
    }
   ],
   "source": [
    "for layer in model.layers:\n",
    "    layer.out.retain_grad()\n",
    "model.zero_grad()\n",
    "loss.backward()\n",
    "\n",
    "plt.figure(figsize=(20, 4))\n",
    "legends = []\n",
    "for index, layer in enumerate([layer for layer in model.layers if isinstance(layer, Tanh)]):\n",
    "    t = layer.out.grad\n",
    "    print(f\"Layer {index}: mean={t.mean():.3f}, std={t.std():.3f}\")\n",
    "    hy, hx = torch.histogram(t, density=True)\n",
    "    plt.plot(hx[:-1].detach(), hy.detach())\n",
    "    legends.append(f\"Layer {index}\")\n",
    "plt.legend(legends)\n",
    "plt.title(\"Tanh Gradient Distributions\")\n",
    "plt.show()"
   ]
  },
  {
   "cell_type": "code",
   "execution_count": 626,
   "metadata": {},
   "outputs": [
    {
     "data": {
      "text/plain": [
       "2"
      ]
     },
     "execution_count": 626,
     "metadata": {},
     "output_type": "execute_result"
    }
   ],
   "source": [
    "model.parameters()[0].ndim"
   ]
  },
  {
   "cell_type": "code",
   "execution_count": 627,
   "metadata": {},
   "outputs": [
    {
     "name": "stdout",
     "output_type": "stream",
     "text": [
      "weight torch.Size([27, 10]): mean=-0.000, std=0.015, grad:data ratio=0.076\n"
     ]
    },
    {
     "name": "stdout",
     "output_type": "stream",
     "text": [
      "weight torch.Size([30, 100]): mean=-0.000, std=0.005, grad:data ratio=0.024\n",
      "weight torch.Size([100, 27]): mean=-0.000, std=0.008, grad:data ratio=0.081\n"
     ]
    },
    {
     "data": {
      "image/png": "[encoded data removed]",
      "text/plain": [
       "<Figure size 2000x400 with 1 Axes>"
      ]
     },
     "metadata": {},
     "output_type": "display_data"
    }
   ],
   "source": [
    "# https://youtu.be/P6sfmUTpUmc?si=FllUroTQTi3tlrH4&t=5904\n",
    "plt.figure(figsize=(20, 4))\n",
    "legends = []\n",
    "for index, p in enumerate(model.parameters()):\n",
    "    t = p.grad\n",
    "    if p.ndim == 2:\n",
    "        print(f\"weight {p.shape}: mean={t.mean():.3f}, std={t.std():.3f}, grad:data ratio={t.std() / p.std():.3f}\")\n",
    "        hy, hx = torch.histogram(t, density=True)\n",
    "        plt.plot(hx[:-1].detach(), hy.detach())\n",
    "        legends.append(f\"Layer {index}\")\n",
    "plt.legend(legends)\n",
    "plt.title(\"Weight Gradient Distributions\")\n",
    "plt.show()"
   ]
  },
  {
   "cell_type": "code",
   "execution_count": 634,
   "metadata": {},
   "outputs": [
    {
     "name": "stdout",
     "output_type": "stream",
     "text": [
      "Training Loss (average): 2.088\n",
      "Training Loss (average): 2.173\n",
      "Training Loss (average): 2.176\n",
      "Training Loss (average): 2.189\n",
      "Training Loss (average): 2.179\n",
      "Training Loss (average): 2.172\n",
      "Training Loss (average): 2.168\n",
      "Training Loss (average): 2.182\n",
      "Training Loss (average): 2.173\n",
      "Training Loss (average): 2.177\n",
      "Training Loss (average): 2.182\n",
      "Training Loss (average): 2.182\n",
      "Training Loss (average): 2.188\n",
      "Training Loss (average): 2.181\n",
      "Training Loss (average): 2.178\n",
      "Training Loss (average): 2.174\n",
      "Training Loss (average): 2.179\n",
      "Training Loss (average): 2.179\n",
      "Training Loss (average): 2.177\n",
      "Training Loss (average): 2.174\n",
      "Training Loss (average): 2.175\n",
      "Validation Loss: 2.173\n"
     ]
    }
   ],
   "source": [
    "# _ = model.train(x=X_train, y=Y_train, learning_rate=0.1)\n",
    "# _ = model.train(x=X_train, y=Y_train, learning_rate=0.01)\n",
    "_ = model.train(x=X_train, y=Y_train, learning_rate=0.001)\n",
    "\n",
    "with torch.no_grad():\n",
    "    # loss on VALIDATION set; the model has not seen this data\n",
    "    print(f\"Validation Loss: {model.loss(X_val, Y_val):.3f}\")"
   ]
  },
  {
   "cell_type": "code",
   "execution_count": 635,
   "metadata": {},
   "outputs": [
    {
     "data": {
      "image/png": "[encoded data removed]",
      "text/plain": [
       "<Figure size 640x480 with 1 Axes>"
      ]
     },
     "metadata": {},
     "output_type": "display_data"
    }
   ],
   "source": [
    "model.plot_training_losses()"
   ]
  },
  {
   "cell_type": "code",
   "execution_count": 636,
   "metadata": {},
   "outputs": [
    {
     "name": "stdout",
     "output_type": "stream",
     "text": [
      "Warning: Embedding dimension greater than 3. Running PCA to extract first three dimensions.\n"
     ]
    },
    {
     "data": {
      "application/vnd.plotly.v1+json": {
       "config": {
        "plotlyServerURL": "https://plot.ly"
       },
       "data": [
        {
         "hovertemplate": "C-1=%{x}<br>C-2=%{y}<br>C-3=%{z}<br>text=%{text}<br>C-4=%{marker.color}<extra></extra>",
         "legendgroup": "",
         "marker": {
          "color": [
           0.6693271398544312,
           -1.9915037155151367,
           -0.07761890441179276,
           0.14509202539920807,
           -0.23336195945739746,
           1.1985974311828613,
           -0.5528285503387451,
           0.13276666402816772,
           -0.06856606900691986,
           -0.2900555729866028,
           0.07288984954357147,
           1.1295901536941528,
           0.8969647288322449,
           -0.37985241413116455,
           0.48169398307800293,
           -0.24207580089569092,
           -0.5676764249801636,
           0.8688607215881348,
           1.1054351329803467,
           -0.33576837182044983,
           0.07121448218822479,
           1.2920888662338257,
           1.1331892013549805,
           -2.050339937210083,
           -0.15534859895706177,
           0.970879316329956,
           1.10309636592865
          ],
          "coloraxis": "coloraxis",
          "symbol": "circle"
         },
         "mode": "markers+text",
         "name": "",
         "scene": "scene",
         "showlegend": false,
         "text": [
          ".",
          "a",
          "b",
          "c",
          "d",
          "e",
          "f",
          "g",
          "h",
          "i",
          "j",
          "k",
          "l",
          "m",
          "n",
          "o",
          "p",
          "q",
          "r",
          "s",
          "t",
          "u",
          "v",
          "w",
          "x",
          "y",
          "z"
         ],
         "type": "scatter3d",
         "x": [
          -0.4021000564098358,
          -0.8205111622810364,
          0.3797891139984131,
          0.3578418791294098,
          0.1662234514951706,
          -1.0964676141738892,
          0.26795926690101624,
          0.5270597338676453,
          0.02655830793082714,
          -1.3559348583221436,
          0.2578412592411041,
          0.343335896730423,
          0.29290568828582764,
          0.309846967458725,
          -0.28967154026031494,
          -0.9473996162414551,
          0.6165829300880432,
          1.5518009662628174,
          0.23096266388893127,
          0.11154350638389587,
          0.2092774212360382,
          -1.1855499744415283,
          0.6849933862686157,
          0.20913252234458923,
          0.11172115057706833,
          -0.7672513127326965,
          0.20951047539710999
         ],
         "y": [
          -0.15152904391288757,
          -0.05418015271425247,
          0.887455403804779,
          0.16749365627765656,
          0.40715986490249634,
          0.3572224974632263,
          0.46360278129577637,
          1.0906496047973633,
          -0.6453773975372314,
          -0.31246790289878845,
          -0.8782747387886047,
          -0.11904183775186539,
          -0.7321270704269409,
          -0.1714523434638977,
          -0.7518876194953918,
          0.5991052389144897,
          0.9149636030197144,
          -0.738656222820282,
          -0.2877929210662842,
          -0.23436950147151947,
          0.44570112228393555,
          0.5416490435600281,
          0.49384886026382446,
          0.2663598358631134,
          -0.29606178402900696,
          -0.7450987696647644,
          -0.5168936848640442
         ],
         "z": [
          0.0621386356651783,
          -0.036022331565618515,
          -1.1067553758621216,
          1.3256769180297852,
          -0.08102262765169144,
          -0.024551037698984146,
          -0.44399407505989075,
          0.15358223021030426,
          -1.0501816272735596,
          0.06511778384447098,
          -0.4457879662513733,
          0.4512958526611328,
          0.33313778042793274,
          -0.635929524898529,
          -0.040335506200790405,
          -0.32310616970062256,
          0.4393029808998108,
          0.17230108380317688,
          -0.2932111322879791,
          0.7447701692581177,
          0.4657629132270813,
          0.46060776710510254,
          -0.6254305839538574,
          -0.04922041669487953,
          0.27433937788009644,
          -0.08537452667951584,
          0.29288923740386963
         ]
        }
       ],
       "layout": {
        "coloraxis": {
         "colorbar": {
          "title": {
           "text": "C-4"
          }
         },
         "colorscale": [
          [
           0,
           "#0d0887"
          ],
          [
           0.1111111111111111,
           "#46039f"
          ],
          [
           0.2222222222222222,
           "#7201a8"
          ],
          [
           0.3333333333333333,
           "#9c179e"
          ],
          [
           0.4444444444444444,
           "#bd3786"
          ],
          [
           0.5555555555555556,
           "#d8576b"
          ],
          [
           0.6666666666666666,
           "#ed7953"
          ],
          [
           0.7777777777777778,
           "#fb9f3a"
          ],
          [
           0.8888888888888888,
           "#fdca26"
          ],
          [
           1,
           "#f0f921"
          ]
         ]
        },
        "height": 1000,
        "legend": {
         "tracegroupgap": 0
        },
        "margin": {
         "t": 60
        },
        "scene": {
         "domain": {
          "x": [
           0,
           1
          ],
          "y": [
           0,
           1
          ]
         },
         "xaxis": {
          "title": {
           "text": "C-1"
          }
         },
         "yaxis": {
          "title": {
           "text": "C-2"
          }
         },
         "zaxis": {
          "title": {
           "text": "C-3"
          }
         }
        },
        "template": {
         "data": {
          "bar": [
           {
            "error_x": {
             "color": "#2a3f5f"
            },
            "error_y": {
             "color": "#2a3f5f"
            },
            "marker": {
             "line": {
              "color": "#E5ECF6",
              "width": 0.5
             },
             "pattern": {
              "fillmode": "overlay",
              "size": 10,
              "solidity": 0.2
             }
            },
            "type": "bar"
           }
          ],
          "barpolar": [
           {
            "marker": {
             "line": {
              "color": "#E5ECF6",
              "width": 0.5
             },
             "pattern": {
              "fillmode": "overlay",
              "size": 10,
              "solidity": 0.2
             }
            },
            "type": "barpolar"
           }
          ],
          "carpet": [
           {
            "aaxis": {
             "endlinecolor": "#2a3f5f",
             "gridcolor": "white",
             "linecolor": "white",
             "minorgridcolor": "white",
             "startlinecolor": "#2a3f5f"
            },
            "baxis": {
             "endlinecolor": "#2a3f5f",
             "gridcolor": "white",
             "linecolor": "white",
             "minorgridcolor": "white",
             "startlinecolor": "#2a3f5f"
            },
            "type": "carpet"
           }
          ],
          "choropleth": [
           {
            "colorbar": {
             "outlinewidth": 0,
             "ticks": ""
            },
            "type": "choropleth"
           }
          ],
          "contour": [
           {
            "colorbar": {
             "outlinewidth": 0,
             "ticks": ""
            },
            "colorscale": [
             [
              0,
              "#0d0887"
             ],
             [
              0.1111111111111111,
              "#46039f"
             ],
             [
              0.2222222222222222,
              "#7201a8"
             ],
             [
              0.3333333333333333,
              "#9c179e"
             ],
             [
              0.4444444444444444,
              "#bd3786"
             ],
             [
              0.5555555555555556,
              "#d8576b"
             ],
             [
              0.6666666666666666,
              "#ed7953"
             ],
             [
              0.7777777777777778,
              "#fb9f3a"
             ],
             [
              0.8888888888888888,
              "#fdca26"
             ],
             [
              1,
              "#f0f921"
             ]
            ],
            "type": "contour"
           }
          ],
          "contourcarpet": [
           {
            "colorbar": {
             "outlinewidth": 0,
             "ticks": ""
            },
            "type": "contourcarpet"
           }
          ],
          "heatmap": [
           {
            "colorbar": {
             "outlinewidth": 0,
             "ticks": ""
            },
            "colorscale": [
             [
              0,
              "#0d0887"
             ],
             [
              0.1111111111111111,
              "#46039f"
             ],
             [
              0.2222222222222222,
              "#7201a8"
             ],
             [
              0.3333333333333333,
              "#9c179e"
             ],
             [
              0.4444444444444444,
              "#bd3786"
             ],
             [
              0.5555555555555556,
              "#d8576b"
             ],
             [
              0.6666666666666666,
              "#ed7953"
             ],
             [
              0.7777777777777778,
              "#fb9f3a"
             ],
             [
              0.8888888888888888,
              "#fdca26"
             ],
             [
              1,
              "#f0f921"
             ]
            ],
            "type": "heatmap"
           }
          ],
          "heatmapgl": [
           {
            "colorbar": {
             "outlinewidth": 0,
             "ticks": ""
            },
            "colorscale": [
             [
              0,
              "#0d0887"
             ],
             [
              0.1111111111111111,
              "#46039f"
             ],
             [
              0.2222222222222222,
              "#7201a8"
             ],
             [
              0.3333333333333333,
              "#9c179e"
             ],
             [
              0.4444444444444444,
              "#bd3786"
             ],
             [
              0.5555555555555556,
              "#d8576b"
             ],
             [
              0.6666666666666666,
              "#ed7953"
             ],
             [
              0.7777777777777778,
              "#fb9f3a"
             ],
             [
              0.8888888888888888,
              "#fdca26"
             ],
             [
              1,
              "#f0f921"
             ]
            ],
            "type": "heatmapgl"
           }
          ],
          "histogram": [
           {
            "marker": {
             "pattern": {
              "fillmode": "overlay",
              "size": 10,
              "solidity": 0.2
             }
            },
            "type": "histogram"
           }
          ],
          "histogram2d": [
           {
            "colorbar": {
             "outlinewidth": 0,
             "ticks": ""
            },
            "colorscale": [
             [
              0,
              "#0d0887"
             ],
             [
              0.1111111111111111,
              "#46039f"
             ],
             [
              0.2222222222222222,
              "#7201a8"
             ],
             [
              0.3333333333333333,
              "#9c179e"
             ],
             [
              0.4444444444444444,
              "#bd3786"
             ],
             [
              0.5555555555555556,
              "#d8576b"
             ],
             [
              0.6666666666666666,
              "#ed7953"
             ],
             [
              0.7777777777777778,
              "#fb9f3a"
             ],
             [
              0.8888888888888888,
              "#fdca26"
             ],
             [
              1,
              "#f0f921"
             ]
            ],
            "type": "histogram2d"
           }
          ],
          "histogram2dcontour": [
           {
            "colorbar": {
             "outlinewidth": 0,
             "ticks": ""
            },
            "colorscale": [
             [
              0,
              "#0d0887"
             ],
             [
              0.1111111111111111,
              "#46039f"
             ],
             [
              0.2222222222222222,
              "#7201a8"
             ],
             [
              0.3333333333333333,
              "#9c179e"
             ],
             [
              0.4444444444444444,
              "#bd3786"
             ],
             [
              0.5555555555555556,
              "#d8576b"
             ],
             [
              0.6666666666666666,
              "#ed7953"
             ],
             [
              0.7777777777777778,
              "#fb9f3a"
             ],
             [
              0.8888888888888888,
              "#fdca26"
             ],
             [
              1,
              "#f0f921"
             ]
            ],
            "type": "histogram2dcontour"
           }
          ],
          "mesh3d": [
           {
            "colorbar": {
             "outlinewidth": 0,
             "ticks": ""
            },
            "type": "mesh3d"
           }
          ],
          "parcoords": [
           {
            "line": {
             "colorbar": {
              "outlinewidth": 0,
              "ticks": ""
             }
            },
            "type": "parcoords"
           }
          ],
          "pie": [
           {
            "automargin": true,
            "type": "pie"
           }
          ],
          "scatter": [
           {
            "fillpattern": {
             "fillmode": "overlay",
             "size": 10,
             "solidity": 0.2
            },
            "type": "scatter"
           }
          ],
          "scatter3d": [
           {
            "line": {
             "colorbar": {
              "outlinewidth": 0,
              "ticks": ""
             }
            },
            "marker": {
             "colorbar": {
              "outlinewidth": 0,
              "ticks": ""
             }
            },
            "type": "scatter3d"
           }
          ],
          "scattercarpet": [
           {
            "marker": {
             "colorbar": {
              "outlinewidth": 0,
              "ticks": ""
             }
            },
            "type": "scattercarpet"
           }
          ],
          "scattergeo": [
           {
            "marker": {
             "colorbar": {
              "outlinewidth": 0,
              "ticks": ""
             }
            },
            "type": "scattergeo"
           }
          ],
          "scattergl": [
           {
            "marker": {
             "colorbar": {
              "outlinewidth": 0,
              "ticks": ""
             }
            },
            "type": "scattergl"
           }
          ],
          "scattermapbox": [
           {
            "marker": {
             "colorbar": {
              "outlinewidth": 0,
              "ticks": ""
             }
            },
            "type": "scattermapbox"
           }
          ],
          "scatterpolar": [
           {
            "marker": {
             "colorbar": {
              "outlinewidth": 0,
              "ticks": ""
             }
            },
            "type": "scatterpolar"
           }
          ],
          "scatterpolargl": [
           {
            "marker": {
             "colorbar": {
              "outlinewidth": 0,
              "ticks": ""
             }
            },
            "type": "scatterpolargl"
           }
          ],
          "scatterternary": [
           {
            "marker": {
             "colorbar": {
              "outlinewidth": 0,
              "ticks": ""
             }
            },
            "type": "scatterternary"
           }
          ],
          "surface": [
           {
            "colorbar": {
             "outlinewidth": 0,
             "ticks": ""
            },
            "colorscale": [
             [
              0,
              "#0d0887"
             ],
             [
              0.1111111111111111,
              "#46039f"
             ],
             [
              0.2222222222222222,
              "#7201a8"
             ],
             [
              0.3333333333333333,
              "#9c179e"
             ],
             [
              0.4444444444444444,
              "#bd3786"
             ],
             [
              0.5555555555555556,
              "#d8576b"
             ],
             [
              0.6666666666666666,
              "#ed7953"
             ],
             [
              0.7777777777777778,
              "#fb9f3a"
             ],
             [
              0.8888888888888888,
              "#fdca26"
             ],
             [
              1,
              "#f0f921"
             ]
            ],
            "type": "surface"
           }
          ],
          "table": [
           {
            "cells": {
             "fill": {
              "color": "#EBF0F8"
             },
             "line": {
              "color": "white"
             }
            },
            "header": {
             "fill": {
              "color": "#C8D4E3"
             },
             "line": {
              "color": "white"
             }
            },
            "type": "table"
           }
          ]
         },
         "layout": {
          "annotationdefaults": {
           "arrowcolor": "#2a3f5f",
           "arrowhead": 0,
           "arrowwidth": 1
          },
          "autotypenumbers": "strict",
          "coloraxis": {
           "colorbar": {
            "outlinewidth": 0,
            "ticks": ""
           }
          },
          "colorscale": {
           "diverging": [
            [
             0,
             "#8e0152"
            ],
            [
             0.1,
             "#c51b7d"
            ],
            [
             0.2,
             "#de77ae"
            ],
            [
             0.3,
             "#f1b6da"
            ],
            [
             0.4,
             "#fde0ef"
            ],
            [
             0.5,
             "#f7f7f7"
            ],
            [
             0.6,
             "#e6f5d0"
            ],
            [
             0.7,
             "#b8e186"
            ],
            [
             0.8,
             "#7fbc41"
            ],
            [
             0.9,
             "#4d9221"
            ],
            [
             1,
             "#276419"
            ]
           ],
           "sequential": [
            [
             0,
             "#0d0887"
            ],
            [
             0.1111111111111111,
             "#46039f"
            ],
            [
             0.2222222222222222,
             "#7201a8"
            ],
            [
             0.3333333333333333,
             "#9c179e"
            ],
            [
             0.4444444444444444,
             "#bd3786"
            ],
            [
             0.5555555555555556,
             "#d8576b"
            ],
            [
             0.6666666666666666,
             "#ed7953"
            ],
            [
             0.7777777777777778,
             "#fb9f3a"
            ],
            [
             0.8888888888888888,
             "#fdca26"
            ],
            [
             1,
             "#f0f921"
            ]
           ],
           "sequentialminus": [
            [
             0,
             "#0d0887"
            ],
            [
             0.1111111111111111,
             "#46039f"
            ],
            [
             0.2222222222222222,
             "#7201a8"
            ],
            [
             0.3333333333333333,
             "#9c179e"
            ],
            [
             0.4444444444444444,
             "#bd3786"
            ],
            [
             0.5555555555555556,
             "#d8576b"
            ],
            [
             0.6666666666666666,
             "#ed7953"
            ],
            [
             0.7777777777777778,
             "#fb9f3a"
            ],
            [
             0.8888888888888888,
             "#fdca26"
            ],
            [
             1,
             "#f0f921"
            ]
           ]
          },
          "colorway": [
           "#636efa",
           "#EF553B",
           "#00cc96",
           "#ab63fa",
           "#FFA15A",
           "#19d3f3",
           "#FF6692",
           "#B6E880",
           "#FF97FF",
           "#FECB52"
          ],
          "font": {
           "color": "#2a3f5f"
          },
          "geo": {
           "bgcolor": "white",
           "lakecolor": "white",
           "landcolor": "#E5ECF6",
           "showlakes": true,
           "showland": true,
           "subunitcolor": "white"
          },
          "hoverlabel": {
           "align": "left"
          },
          "hovermode": "closest",
          "mapbox": {
           "style": "light"
          },
          "paper_bgcolor": "white",
          "plot_bgcolor": "#E5ECF6",
          "polar": {
           "angularaxis": {
            "gridcolor": "white",
            "linecolor": "white",
            "ticks": ""
           },
           "bgcolor": "#E5ECF6",
           "radialaxis": {
            "gridcolor": "white",
            "linecolor": "white",
            "ticks": ""
           }
          },
          "scene": {
           "xaxis": {
            "backgroundcolor": "#E5ECF6",
            "gridcolor": "white",
            "gridwidth": 2,
            "linecolor": "white",
            "showbackground": true,
            "ticks": "",
            "zerolinecolor": "white"
           },
           "yaxis": {
            "backgroundcolor": "#E5ECF6",
            "gridcolor": "white",
            "gridwidth": 2,
            "linecolor": "white",
            "showbackground": true,
            "ticks": "",
            "zerolinecolor": "white"
           },
           "zaxis": {
            "backgroundcolor": "#E5ECF6",
            "gridcolor": "white",
            "gridwidth": 2,
            "linecolor": "white",
            "showbackground": true,
            "ticks": "",
            "zerolinecolor": "white"
           }
          },
          "shapedefaults": {
           "line": {
            "color": "#2a3f5f"
           }
          },
          "ternary": {
           "aaxis": {
            "gridcolor": "white",
            "linecolor": "white",
            "ticks": ""
           },
           "baxis": {
            "gridcolor": "white",
            "linecolor": "white",
            "ticks": ""
           },
           "bgcolor": "#E5ECF6",
           "caxis": {
            "gridcolor": "white",
            "linecolor": "white",
            "ticks": ""
           }
          },
          "title": {
           "x": 0.05
          },
          "xaxis": {
           "automargin": true,
           "gridcolor": "white",
           "linecolor": "white",
           "ticks": "",
           "title": {
            "standoff": 15
           },
           "zerolinecolor": "white",
           "zerolinewidth": 2
          },
          "yaxis": {
           "automargin": true,
           "gridcolor": "white",
           "linecolor": "white",
           "ticks": "",
           "title": {
            "standoff": 15
           },
           "zerolinecolor": "white",
           "zerolinewidth": 2
          }
         }
        },
        "width": 1000
       }
      },
      "text/html": [
       "<div>                            <div id=\"aa2eea74-c0af-41e9-b65d-bb044e2ff25a\" class=\"plotly-graph-div\" style=\"height:1000px; width:1000px;\"></div>            <script type=\"text/javascript\">                require([\"plotly\"], function(Plotly) {                    window.PLOTLYENV=window.PLOTLYENV || {};                                    if (document.getElementById(\"aa2eea74-c0af-41e9-b65d-bb044e2ff25a\")) {                    Plotly.newPlot(                        \"aa2eea74-c0af-41e9-b65d-bb044e2ff25a\",                        [{\"hovertemplate\":\"C-1=%{x}\\u003cbr\\u003eC-2=%{y}\\u003cbr\\u003eC-3=%{z}\\u003cbr\\u003etext=%{text}\\u003cbr\\u003eC-4=%{marker.color}\\u003cextra\\u003e\\u003c\\u002fextra\\u003e\",\"legendgroup\":\"\",\"marker\":{\"color\":[0.6693271398544312,-1.9915037155151367,-0.07761890441179276,0.14509202539920807,-0.23336195945739746,1.1985974311828613,-0.5528285503387451,0.13276666402816772,-0.06856606900691986,-0.2900555729866028,0.07288984954357147,1.1295901536941528,0.8969647288322449,-0.37985241413116455,0.48169398307800293,-0.24207580089569092,-0.5676764249801636,0.8688607215881348,1.1054351329803467,-0.33576837182044983,0.07121448218822479,1.2920888662338257,1.1331892013549805,-2.050339937210083,-0.15534859895706177,0.970879316329956,1.10309636592865],\"coloraxis\":\"coloraxis\",\"symbol\":\"circle\"},\"mode\":\"markers+text\",\"name\":\"\",\"scene\":\"scene\",\"showlegend\":false,\"text\":[\".\",\"a\",\"b\",\"c\",\"d\",\"e\",\"f\",\"g\",\"h\",\"i\",\"j\",\"k\",\"l\",\"m\",\"n\",\"o\",\"p\",\"q\",\"r\",\"s\",\"t\",\"u\",\"v\",\"w\",\"x\",\"y\",\"z\"],\"x\":[-0.4021000564098358,-0.8205111622810364,0.3797891139984131,0.3578418791294098,0.1662234514951706,-1.0964676141738892,0.26795926690101624,0.5270597338676453,0.02655830793082714,-1.3559348583221436,0.2578412592411041,0.343335896730423,0.29290568828582764,0.309846967458725,-0.28967154026031494,-0.9473996162414551,0.6165829300880432,1.5518009662628174,0.23096266388893127,0.11154350638389587,0.2092774212360382,-1.1855499744415283,0.6849933862686157,0.20913252234458923,0.11172115057706833,-0.7672513127326965,0.20951047539710999],\"y\":[-0.15152904391288757,-0.05418015271425247,0.887455403804779,0.16749365627765656,0.40715986490249634,0.3572224974632263,0.46360278129577637,1.0906496047973633,-0.6453773975372314,-0.31246790289878845,-0.8782747387886047,-0.11904183775186539,-0.7321270704269409,-0.1714523434638977,-0.7518876194953918,0.5991052389144897,0.9149636030197144,-0.738656222820282,-0.2877929210662842,-0.23436950147151947,0.44570112228393555,0.5416490435600281,0.49384886026382446,0.2663598358631134,-0.29606178402900696,-0.7450987696647644,-0.5168936848640442],\"z\":[0.0621386356651783,-0.036022331565618515,-1.1067553758621216,1.3256769180297852,-0.08102262765169144,-0.024551037698984146,-0.44399407505989075,0.15358223021030426,-1.0501816272735596,0.06511778384447098,-0.4457879662513733,0.4512958526611328,0.33313778042793274,-0.635929524898529,-0.040335506200790405,-0.32310616970062256,0.4393029808998108,0.17230108380317688,-0.2932111322879791,0.7447701692581177,0.4657629132270813,0.46060776710510254,-0.6254305839538574,-0.04922041669487953,0.27433937788009644,-0.08537452667951584,0.29288923740386963],\"type\":\"scatter3d\"}],                        {\"template\":{\"data\":{\"histogram2dcontour\":[{\"type\":\"histogram2dcontour\",\"colorbar\":{\"outlinewidth\":0,\"ticks\":\"\"},\"colorscale\":[[0.0,\"#0d0887\"],[0.1111111111111111,\"#46039f\"],[0.2222222222222222,\"#7201a8\"],[0.3333333333333333,\"#9c179e\"],[0.4444444444444444,\"#bd3786\"],[0.5555555555555556,\"#d8576b\"],[0.6666666666666666,\"#ed7953\"],[0.7777777777777778,\"#fb9f3a\"],[0.8888888888888888,\"#fdca26\"],[1.0,\"#f0f921\"]]}],\"choropleth\":[{\"type\":\"choropleth\",\"colorbar\":{\"outlinewidth\":0,\"ticks\":\"\"}}],\"histogram2d\":[{\"type\":\"histogram2d\",\"colorbar\":{\"outlinewidth\":0,\"ticks\":\"\"},\"colorscale\":[[0.0,\"#0d0887\"],[0.1111111111111111,\"#46039f\"],[0.2222222222222222,\"#7201a8\"],[0.3333333333333333,\"#9c179e\"],[0.4444444444444444,\"#bd3786\"],[0.5555555555555556,\"#d8576b\"],[0.6666666666666666,\"#ed7953\"],[0.7777777777777778,\"#fb9f3a\"],[0.8888888888888888,\"#fdca26\"],[1.0,\"#f0f921\"]]}],\"heatmap\":[{\"type\":\"heatmap\",\"colorbar\":{\"outlinewidth\":0,\"ticks\":\"\"},\"colorscale\":[[0.0,\"#0d0887\"],[0.1111111111111111,\"#46039f\"],[0.2222222222222222,\"#7201a8\"],[0.3333333333333333,\"#9c179e\"],[0.4444444444444444,\"#bd3786\"],[0.5555555555555556,\"#d8576b\"],[0.6666666666666666,\"#ed7953\"],[0.7777777777777778,\"#fb9f3a\"],[0.8888888888888888,\"#fdca26\"],[1.0,\"#f0f921\"]]}],\"heatmapgl\":[{\"type\":\"heatmapgl\",\"colorbar\":{\"outlinewidth\":0,\"ticks\":\"\"},\"colorscale\":[[0.0,\"#0d0887\"],[0.1111111111111111,\"#46039f\"],[0.2222222222222222,\"#7201a8\"],[0.3333333333333333,\"#9c179e\"],[0.4444444444444444,\"#bd3786\"],[0.5555555555555556,\"#d8576b\"],[0.6666666666666666,\"#ed7953\"],[0.7777777777777778,\"#fb9f3a\"],[0.8888888888888888,\"#fdca26\"],[1.0,\"#f0f921\"]]}],\"contourcarpet\":[{\"type\":\"contourcarpet\",\"colorbar\":{\"outlinewidth\":0,\"ticks\":\"\"}}],\"contour\":[{\"type\":\"contour\",\"colorbar\":{\"outlinewidth\":0,\"ticks\":\"\"},\"colorscale\":[[0.0,\"#0d0887\"],[0.1111111111111111,\"#46039f\"],[0.2222222222222222,\"#7201a8\"],[0.3333333333333333,\"#9c179e\"],[0.4444444444444444,\"#bd3786\"],[0.5555555555555556,\"#d8576b\"],[0.6666666666666666,\"#ed7953\"],[0.7777777777777778,\"#fb9f3a\"],[0.8888888888888888,\"#fdca26\"],[1.0,\"#f0f921\"]]}],\"surface\":[{\"type\":\"surface\",\"colorbar\":{\"outlinewidth\":0,\"ticks\":\"\"},\"colorscale\":[[0.0,\"#0d0887\"],[0.1111111111111111,\"#46039f\"],[0.2222222222222222,\"#7201a8\"],[0.3333333333333333,\"#9c179e\"],[0.4444444444444444,\"#bd3786\"],[0.5555555555555556,\"#d8576b\"],[0.6666666666666666,\"#ed7953\"],[0.7777777777777778,\"#fb9f3a\"],[0.8888888888888888,\"#fdca26\"],[1.0,\"#f0f921\"]]}],\"mesh3d\":[{\"type\":\"mesh3d\",\"colorbar\":{\"outlinewidth\":0,\"ticks\":\"\"}}],\"scatter\":[{\"fillpattern\":{\"fillmode\":\"overlay\",\"size\":10,\"solidity\":0.2},\"type\":\"scatter\"}],\"parcoords\":[{\"type\":\"parcoords\",\"line\":{\"colorbar\":{\"outlinewidth\":0,\"ticks\":\"\"}}}],\"scatterpolargl\":[{\"type\":\"scatterpolargl\",\"marker\":{\"colorbar\":{\"outlinewidth\":0,\"ticks\":\"\"}}}],\"bar\":[{\"error_x\":{\"color\":\"#2a3f5f\"},\"error_y\":{\"color\":\"#2a3f5f\"},\"marker\":{\"line\":{\"color\":\"#E5ECF6\",\"width\":0.5},\"pattern\":{\"fillmode\":\"overlay\",\"size\":10,\"solidity\":0.2}},\"type\":\"bar\"}],\"scattergeo\":[{\"type\":\"scattergeo\",\"marker\":{\"colorbar\":{\"outlinewidth\":0,\"ticks\":\"\"}}}],\"scatterpolar\":[{\"type\":\"scatterpolar\",\"marker\":{\"colorbar\":{\"outlinewidth\":0,\"ticks\":\"\"}}}],\"histogram\":[{\"marker\":{\"pattern\":{\"fillmode\":\"overlay\",\"size\":10,\"solidity\":0.2}},\"type\":\"histogram\"}],\"scattergl\":[{\"type\":\"scattergl\",\"marker\":{\"colorbar\":{\"outlinewidth\":0,\"ticks\":\"\"}}}],\"scatter3d\":[{\"type\":\"scatter3d\",\"line\":{\"colorbar\":{\"outlinewidth\":0,\"ticks\":\"\"}},\"marker\":{\"colorbar\":{\"outlinewidth\":0,\"ticks\":\"\"}}}],\"scattermapbox\":[{\"type\":\"scattermapbox\",\"marker\":{\"colorbar\":{\"outlinewidth\":0,\"ticks\":\"\"}}}],\"scatterternary\":[{\"type\":\"scatterternary\",\"marker\":{\"colorbar\":{\"outlinewidth\":0,\"ticks\":\"\"}}}],\"scattercarpet\":[{\"type\":\"scattercarpet\",\"marker\":{\"colorbar\":{\"outlinewidth\":0,\"ticks\":\"\"}}}],\"carpet\":[{\"aaxis\":{\"endlinecolor\":\"#2a3f5f\",\"gridcolor\":\"white\",\"linecolor\":\"white\",\"minorgridcolor\":\"white\",\"startlinecolor\":\"#2a3f5f\"},\"baxis\":{\"endlinecolor\":\"#2a3f5f\",\"gridcolor\":\"white\",\"linecolor\":\"white\",\"minorgridcolor\":\"white\",\"startlinecolor\":\"#2a3f5f\"},\"type\":\"carpet\"}],\"table\":[{\"cells\":{\"fill\":{\"color\":\"#EBF0F8\"},\"line\":{\"color\":\"white\"}},\"header\":{\"fill\":{\"color\":\"#C8D4E3\"},\"line\":{\"color\":\"white\"}},\"type\":\"table\"}],\"barpolar\":[{\"marker\":{\"line\":{\"color\":\"#E5ECF6\",\"width\":0.5},\"pattern\":{\"fillmode\":\"overlay\",\"size\":10,\"solidity\":0.2}},\"type\":\"barpolar\"}],\"pie\":[{\"automargin\":true,\"type\":\"pie\"}]},\"layout\":{\"autotypenumbers\":\"strict\",\"colorway\":[\"#636efa\",\"#EF553B\",\"#00cc96\",\"#ab63fa\",\"#FFA15A\",\"#19d3f3\",\"#FF6692\",\"#B6E880\",\"#FF97FF\",\"#FECB52\"],\"font\":{\"color\":\"#2a3f5f\"},\"hovermode\":\"closest\",\"hoverlabel\":{\"align\":\"left\"},\"paper_bgcolor\":\"white\",\"plot_bgcolor\":\"#E5ECF6\",\"polar\":{\"bgcolor\":\"#E5ECF6\",\"angularaxis\":{\"gridcolor\":\"white\",\"linecolor\":\"white\",\"ticks\":\"\"},\"radialaxis\":{\"gridcolor\":\"white\",\"linecolor\":\"white\",\"ticks\":\"\"}},\"ternary\":{\"bgcolor\":\"#E5ECF6\",\"aaxis\":{\"gridcolor\":\"white\",\"linecolor\":\"white\",\"ticks\":\"\"},\"baxis\":{\"gridcolor\":\"white\",\"linecolor\":\"white\",\"ticks\":\"\"},\"caxis\":{\"gridcolor\":\"white\",\"linecolor\":\"white\",\"ticks\":\"\"}},\"coloraxis\":{\"colorbar\":{\"outlinewidth\":0,\"ticks\":\"\"}},\"colorscale\":{\"sequential\":[[0.0,\"#0d0887\"],[0.1111111111111111,\"#46039f\"],[0.2222222222222222,\"#7201a8\"],[0.3333333333333333,\"#9c179e\"],[0.4444444444444444,\"#bd3786\"],[0.5555555555555556,\"#d8576b\"],[0.6666666666666666,\"#ed7953\"],[0.7777777777777778,\"#fb9f3a\"],[0.8888888888888888,\"#fdca26\"],[1.0,\"#f0f921\"]],\"sequentialminus\":[[0.0,\"#0d0887\"],[0.1111111111111111,\"#46039f\"],[0.2222222222222222,\"#7201a8\"],[0.3333333333333333,\"#9c179e\"],[0.4444444444444444,\"#bd3786\"],[0.5555555555555556,\"#d8576b\"],[0.6666666666666666,\"#ed7953\"],[0.7777777777777778,\"#fb9f3a\"],[0.8888888888888888,\"#fdca26\"],[1.0,\"#f0f921\"]],\"diverging\":[[0,\"#8e0152\"],[0.1,\"#c51b7d\"],[0.2,\"#de77ae\"],[0.3,\"#f1b6da\"],[0.4,\"#fde0ef\"],[0.5,\"#f7f7f7\"],[0.6,\"#e6f5d0\"],[0.7,\"#b8e186\"],[0.8,\"#7fbc41\"],[0.9,\"#4d9221\"],[1,\"#276419\"]]},\"xaxis\":{\"gridcolor\":\"white\",\"linecolor\":\"white\",\"ticks\":\"\",\"title\":{\"standoff\":15},\"zerolinecolor\":\"white\",\"automargin\":true,\"zerolinewidth\":2},\"yaxis\":{\"gridcolor\":\"white\",\"linecolor\":\"white\",\"ticks\":\"\",\"title\":{\"standoff\":15},\"zerolinecolor\":\"white\",\"automargin\":true,\"zerolinewidth\":2},\"scene\":{\"xaxis\":{\"backgroundcolor\":\"#E5ECF6\",\"gridcolor\":\"white\",\"linecolor\":\"white\",\"showbackground\":true,\"ticks\":\"\",\"zerolinecolor\":\"white\",\"gridwidth\":2},\"yaxis\":{\"backgroundcolor\":\"#E5ECF6\",\"gridcolor\":\"white\",\"linecolor\":\"white\",\"showbackground\":true,\"ticks\":\"\",\"zerolinecolor\":\"white\",\"gridwidth\":2},\"zaxis\":{\"backgroundcolor\":\"#E5ECF6\",\"gridcolor\":\"white\",\"linecolor\":\"white\",\"showbackground\":true,\"ticks\":\"\",\"zerolinecolor\":\"white\",\"gridwidth\":2}},\"shapedefaults\":{\"line\":{\"color\":\"#2a3f5f\"}},\"annotationdefaults\":{\"arrowcolor\":\"#2a3f5f\",\"arrowhead\":0,\"arrowwidth\":1},\"geo\":{\"bgcolor\":\"white\",\"landcolor\":\"#E5ECF6\",\"subunitcolor\":\"white\",\"showland\":true,\"showlakes\":true,\"lakecolor\":\"white\"},\"title\":{\"x\":0.05},\"mapbox\":{\"style\":\"light\"}}},\"scene\":{\"domain\":{\"x\":[0.0,1.0],\"y\":[0.0,1.0]},\"xaxis\":{\"title\":{\"text\":\"C-1\"}},\"yaxis\":{\"title\":{\"text\":\"C-2\"}},\"zaxis\":{\"title\":{\"text\":\"C-3\"}}},\"coloraxis\":{\"colorbar\":{\"title\":{\"text\":\"C-4\"}},\"colorscale\":[[0.0,\"#0d0887\"],[0.1111111111111111,\"#46039f\"],[0.2222222222222222,\"#7201a8\"],[0.3333333333333333,\"#9c179e\"],[0.4444444444444444,\"#bd3786\"],[0.5555555555555556,\"#d8576b\"],[0.6666666666666666,\"#ed7953\"],[0.7777777777777778,\"#fb9f3a\"],[0.8888888888888888,\"#fdca26\"],[1.0,\"#f0f921\"]]},\"legend\":{\"tracegroupgap\":0},\"margin\":{\"t\":60},\"height\":1000,\"width\":1000},                        {\"responsive\": true}                    ).then(function(){\n",
       "                            \n",
       "var gd = document.getElementById('aa2eea74-c0af-41e9-b65d-bb044e2ff25a');\n",
       "var x = new MutationObserver(function (mutations, observer) {{\n",
       "        var display = window.getComputedStyle(gd).display;\n",
       "        if (!display || display === 'none') {{\n",
       "            console.log([gd, 'removed!']);\n",
       "            Plotly.purge(gd);\n",
       "            observer.disconnect();\n",
       "        }}\n",
       "}});\n",
       "\n",
       "// Listen for the removal of the full notebook cells\n",
       "var notebookContainer = gd.closest('#notebook-container');\n",
       "if (notebookContainer) {{\n",
       "    x.observe(notebookContainer, {childList: true});\n",
       "}}\n",
       "\n",
       "// Listen for the clearing of the current output cell\n",
       "var outputEl = gd.closest('.output');\n",
       "if (outputEl) {{\n",
       "    x.observe(outputEl, {childList: true});\n",
       "}}\n",
       "\n",
       "                        })                };                });            </script>        </div>"
      ]
     },
     "metadata": {},
     "output_type": "display_data"
    }
   ],
   "source": [
    "layers[0].plot_embeddings()"
   ]
  },
  {
   "cell_type": "code",
   "execution_count": 637,
   "metadata": {},
   "outputs": [
    {
     "name": "stdout",
     "output_type": "stream",
     "text": [
      "nicio.\n",
      "korion.\n",
      "mavina.\n",
      "roel.\n",
      "ieh.\n",
      "lat.\n",
      "leie.\n",
      "giya.\n",
      "amer.\n",
      "gaeverah.\n",
      "preveenda.\n",
      "imon.\n",
      "kaisi.\n",
      "kylo.\n",
      "kaystnure.\n",
      "eyus.\n",
      "nah.\n",
      "mondaliz.\n",
      "asfpurbikn.\n",
      "shuph.\n"
     ]
    }
   ],
   "source": [
    "# sample from the model\n",
    "for _ in range(20):\n",
    "    out = []\n",
    "    context = [0] * context_length # initialize with all ... (which is index 0)\n",
    "    while True:\n",
    "        logits = model.forward(torch.tensor([context]))\n",
    "        probs = F.softmax(logits, dim=1)\n",
    "        # pull random sample from the model's probability distribution\n",
    "        token_index = torch.multinomial(probs, num_samples=1, generator=None).item()\n",
    "        context = context[1:] + [token_index]\n",
    "        out.append(token_index)\n",
    "        if token_index == 0:\n",
    "            break\n",
    "    print(''.join(index_to_character[i] for i in out))"
   ]
  },
  {
   "cell_type": "code",
   "execution_count": null,
   "metadata": {},
   "outputs": [],
   "source": []
  }
 ],
 "metadata": {
  "kernelspec": {
   "display_name": "Python 3",
   "language": "python",
   "name": "python3"
  },
  "language_info": {
   "codemirror_mode": {
    "name": "ipython",
    "version": 3
   },
   "file_extension": ".py",
   "mimetype": "text/x-python",
   "name": "python",
   "nbconvert_exporter": "python",
   "pygments_lexer": "ipython3",
   "version": "3.11.7"
  }
 },
 "nbformat": 4,
 "nbformat_minor": 2
}
