{
 "cells": [
  {
   "cell_type": "markdown",
   "metadata": {},
   "source": [
    "# Part 2\n",
    "\n",
    "https://www.youtube.com/watch?v=TCH_1BHY58I"
   ]
  },
  {
   "cell_type": "code",
   "execution_count": 1,
   "metadata": {},
   "outputs": [
    {
     "name": "stdout",
     "output_type": "stream",
     "text": [
      "['emma', 'olivia', 'ava', 'isabella', 'sophia', 'charlotte', 'mia', 'amelia']\n"
     ]
    },
    {
     "data": {
      "text/plain": [
       "32033"
      ]
     },
     "execution_count": 1,
     "metadata": {},
     "output_type": "execute_result"
    }
   ],
   "source": [
    "import torch\n",
    "import torch.nn.functional as F\n",
    "# print the loss values\n",
    "import matplotlib.pyplot as plt\n",
    "import math\n",
    "%matplotlib inline\n",
    "\n",
    "words = open('/code/names.txt').read().splitlines()\n",
    "print(words[:8])\n",
    "len(words)"
   ]
  },
  {
   "cell_type": "code",
   "execution_count": 2,
   "metadata": {},
   "outputs": [
    {
     "name": "stdout",
     "output_type": "stream",
     "text": [
      "['.', 'a', 'b', 'c', 'd', 'e', 'f', 'g', 'h', 'i', 'j', 'k', 'l', 'm', 'n', 'o', 'p', 'q', 'r', 's', 't', 'u', 'v', 'w', 'x', 'y', 'z']\n",
      "27\n",
      "{'.': 0, 'a': 1, 'b': 2, 'c': 3, 'd': 4, 'e': 5, 'f': 6, 'g': 7, 'h': 8, 'i': 9, 'j': 10, 'k': 11, 'l': 12, 'm': 13, 'n': 14, 'o': 15, 'p': 16, 'q': 17, 'r': 18, 's': 19, 't': 20, 'u': 21, 'v': 22, 'w': 23, 'x': 24, 'y': 25, 'z': 26}\n",
      "{0: '.', 1: 'a', 2: 'b', 3: 'c', 4: 'd', 5: 'e', 6: 'f', 7: 'g', 8: 'h', 9: 'i', 10: 'j', 11: 'k', 12: 'l', 13: 'm', 14: 'n', 15: 'o', 16: 'p', 17: 'q', 18: 'r', 19: 's', 20: 't', 21: 'u', 22: 'v', 23: 'w', 24: 'x', 25: 'y', 26: 'z'}\n"
     ]
    }
   ],
   "source": [
    "characters = ['.'] + sorted(list(set(''.join(words)))) \n",
    "print(characters)\n",
    "print(len(characters))\n",
    "token_mappings = {c:i for i,c in enumerate(characters)}\n",
    "index_to_character = {i:c for i,c in enumerate(characters)}\n",
    "print(token_mappings)\n",
    "print(index_to_character)"
   ]
  },
  {
   "cell_type": "markdown",
   "metadata": {},
   "source": [
    "---"
   ]
  },
  {
   "cell_type": "code",
   "execution_count": 3,
   "metadata": {},
   "outputs": [
    {
     "name": "stdout",
     "output_type": "stream",
     "text": [
      "[0, 0, 0] -> 5\n",
      "... -> e\n",
      "---\n",
      "[0, 0, 5] -> 13\n",
      "..e -> m\n",
      "---\n",
      "[0, 5, 13] -> 13\n",
      ".em -> m\n",
      "---\n",
      "[5, 13, 13] -> 1\n",
      "emm -> a\n",
      "---\n",
      "[13, 13, 1] -> 0\n",
      "mma -> .\n",
      "---\n",
      "[0, 0, 0] -> 15\n",
      "... -> o\n",
      "---\n",
      "[0, 0, 15] -> 12\n",
      "..o -> l\n",
      "---\n",
      "[0, 15, 12] -> 9\n",
      ".ol -> i\n",
      "---\n",
      "[15, 12, 9] -> 22\n",
      "oli -> v\n",
      "---\n",
      "[12, 9, 22] -> 9\n",
      "liv -> i\n",
      "---\n",
      "torch.Size([228146, 3])\n",
      "torch.Size([228146])\n"
     ]
    }
   ],
   "source": [
    "context_length = 3  # how many characters do we take to predict the next one?\n",
    "X, Y = [], []\n",
    "for word in words:\n",
    "    word = ('.' * context_length) + word + '.'\n",
    "    for i in range(len(word) - context_length):\n",
    "        X.append([token_mappings[c] for c in word[i:i+context_length]])\n",
    "        Y.append(token_mappings[word[i+context_length]])\n",
    "\n",
    "\n",
    "for x, y in zip(X[:10], Y[:10]):\n",
    "    print(f\"{x} -> {y}\")\n",
    "    print(f\"{''.join([index_to_character[i] for i in x])} -> {index_to_character[y]}\")\n",
    "    print('---')\n",
    "\n",
    "X = torch.tensor(X)\n",
    "Y = torch.tensor(Y)\n",
    "print(X.shape)\n",
    "print(Y.shape)"
   ]
  },
  {
   "cell_type": "markdown",
   "metadata": {},
   "source": [
    "## Embedding Layer"
   ]
  },
  {
   "cell_type": "code",
   "execution_count": 4,
   "metadata": {},
   "outputs": [
    {
     "name": "stdout",
     "output_type": "stream",
     "text": [
      "torch.Size([27, 2])\n",
      "Each of the 27 characters will have a 2-dimensional embedding\n"
     ]
    }
   ],
   "source": [
    "embedding_dimension = 2\n",
    "embedding_layer = torch.randn(len(characters), embedding_dimension)\n",
    "print(embedding_layer.shape)\n",
    "print(f\"Each of the {embedding_layer.shape[0]} characters will have a {embedding_layer.shape[1]}-dimensional embedding\")"
   ]
  },
  {
   "cell_type": "code",
   "execution_count": 5,
   "metadata": {},
   "outputs": [
    {
     "name": "stdout",
     "output_type": "stream",
     "text": [
      "7\n",
      "tensor([ 1.4994, -0.2497])\n",
      "tensor([0, 0, 0, 0, 0, 0, 0, 1, 0, 0, 0, 0, 0, 0, 0, 0, 0, 0, 0, 0, 0, 0, 0, 0,\n",
      "        0, 0, 0])\n",
      "tensor([ 1.4994, -0.2497])\n"
     ]
    }
   ],
   "source": [
    "# embedding for g\n",
    "print(token_mappings['g'])\n",
    "print(embedding_layer[token_mappings['g']])\n",
    "\n",
    "_g_one_hot = F.one_hot(torch.tensor(token_mappings['g']), num_classes=len(characters))\n",
    "print(_g_one_hot)\n",
    "# matrix multiplication\n",
    "# all indexes are 0 except for the index of 'g' so these will multiply to 0 and we are left    with\n",
    "# the embedding for 'g'\n",
    "print(_g_one_hot.float() @ embedding_layer)\n",
    "assert (_g_one_hot.float() @ embedding_layer == embedding_layer[token_mappings['g']]).all()"
   ]
  },
  {
   "cell_type": "code",
   "execution_count": 6,
   "metadata": {},
   "outputs": [
    {
     "name": "stdout",
     "output_type": "stream",
     "text": [
      "tensor([[0, 0, 0],\n",
      "        [0, 0, 5]])\n",
      "tensor([[[ 0.0685, -0.1065],\n",
      "         [ 0.0685, -0.1065],\n",
      "         [ 0.0685, -0.1065]],\n",
      "\n",
      "        [[ 0.0685, -0.1065],\n",
      "         [ 0.0685, -0.1065],\n",
      "         [-2.4077, -0.4474]]])\n"
     ]
    }
   ],
   "source": [
    "# X contains the indexes of the characters in the context\n",
    "# we can index by X to get the corresponding embeddings for each character in X\n",
    "print(X[0:2])\n",
    "print(embedding_layer[X[0:2]])"
   ]
  },
  {
   "cell_type": "code",
   "execution_count": 7,
   "metadata": {},
   "outputs": [
    {
     "name": "stdout",
     "output_type": "stream",
     "text": [
      "torch.Size([228146, 3])\n",
      "Our data contains 228146 examples with 3 context/characters each.\n",
      "torch.Size([228146, 3, 2])\n",
      "Each of the 228146 examples will contain 3 context/characters, each having a 2-dimensional embedding representation.\n"
     ]
    }
   ],
   "source": [
    "embeddings = embedding_layer[X]\n",
    "print(X.shape)\n",
    "print(f\"Our data contains {X.shape[0]} examples with {X.shape[1]} context/characters each.\")\n",
    "print(embeddings.shape)\n",
    "print(f\"Each of the {embeddings.shape[0]} examples will contain {embeddings.shape[1]} context/characters, each having a {embeddings.shape[2]}-dimensional embedding representation.\")"
   ]
  },
  {
   "cell_type": "markdown",
   "metadata": {},
   "source": [
    "## Hidden Layer"
   ]
  },
  {
   "cell_type": "code",
   "execution_count": 8,
   "metadata": {},
   "outputs": [
    {
     "name": "stdout",
     "output_type": "stream",
     "text": [
      "We have 3 characters in our context and each character has a 2-dimensional embedding representation.\n",
      "torch.Size([6, 100])\n",
      "torch.Size([100])\n"
     ]
    }
   ],
   "source": [
    "print(f\"We have {context_length} characters in our context and each character has a {embedding_dimension}-dimensional embedding representation.\")\n",
    "num_neurons = 100\n",
    "W1 = torch.randn(context_length * embedding_dimension, num_neurons)\n",
    "# b1 (bias) will be added to each row of the result of matrix multiplication of embeddings and W1\n",
    "b1 = torch.randn(num_neurons)\n",
    "print(W1.shape)\n",
    "print(b1.shape)"
   ]
  },
  {
   "cell_type": "code",
   "execution_count": 9,
   "metadata": {},
   "outputs": [
    {
     "name": "stdout",
     "output_type": "stream",
     "text": [
      "tensor([ 0,  1,  2,  3,  4,  5,  6,  7,  8,  9, 10, 11, 12, 13, 14, 15, 16, 17])\n",
      "tensor([[ 0,  1,  2,  3,  4,  5],\n",
      "        [ 6,  7,  8,  9, 10, 11],\n",
      "        [12, 13, 14, 15, 16, 17]])\n",
      "tensor([[[ 0,  1],\n",
      "         [ 2,  3],\n",
      "         [ 4,  5]],\n",
      "\n",
      "        [[ 6,  7],\n",
      "         [ 8,  9],\n",
      "         [10, 11]],\n",
      "\n",
      "        [[12, 13],\n",
      "         [14, 15],\n",
      "         [16, 17]]])\n"
     ]
    }
   ],
   "source": [
    "print(torch.arange(0, 18))\n",
    "print(torch.arange(0, 18).view(3, 6))\n",
    "print(torch.arange(0, 18).view(3, 3, 2))"
   ]
  },
  {
   "cell_type": "code",
   "execution_count": 10,
   "metadata": {},
   "outputs": [
    {
     "name": "stdout",
     "output_type": "stream",
     "text": [
      "torch.Size([228146, 3, 2])\n",
      "torch.Size([228146, 6])\n",
      "tensor([[[ 0.0685, -0.1065],\n",
      "         [-2.4077, -0.4474],\n",
      "         [-0.1283,  0.0685]],\n",
      "\n",
      "        [[-2.4077, -0.4474],\n",
      "         [-0.1283,  0.0685],\n",
      "         [-0.1283,  0.0685]]])\n",
      "tensor([[ 0.0685, -0.1065, -2.4077, -0.4474, -0.1283,  0.0685],\n",
      "        [-2.4077, -0.4474, -0.1283,  0.0685, -0.1283,  0.0685]])\n"
     ]
    }
   ],
   "source": [
    "# we want to do something like `embeddings @ W1 + b1`\n",
    "# but we can't because the dimensions don't match\n",
    "# we need to reshape the embeddings to be (num_examples, num_inputs)\n",
    "# so that we can do the matrix multiplication\n",
    "print(embeddings.shape)\n",
    "print(embeddings.view(-1, context_length * embedding_dimension).shape)\n",
    "# print(embeddings)\n",
    "print(embeddings[2:4])\n",
    "print(embeddings.view(-1, context_length * embedding_dimension)[2:4])"
   ]
  },
  {
   "cell_type": "code",
   "execution_count": 11,
   "metadata": {},
   "outputs": [
    {
     "name": "stdout",
     "output_type": "stream",
     "text": [
      "tensor([[ 0.4086,  0.9007,  1.7474,  ...,  0.8043,  0.1824, -1.1897],\n",
      "        [-3.7233,  3.7501,  3.8959,  ...,  4.7573,  1.2838, -4.1009],\n",
      "        [-0.2414, -0.5651,  0.8555,  ...,  0.6811,  2.6587, -2.4148],\n",
      "        ...,\n",
      "        [-3.0776,  3.3402,  1.2498,  ..., -1.6979, -2.6285, -1.4496],\n",
      "        [-0.3952,  1.5102,  0.0718,  ..., -1.0736,  0.8466, -0.5226],\n",
      "        [ 1.1767, -0.1666, -0.9334,  ..., -3.4507, -4.3634, -1.1612]])\n",
      "torch.Size([228146, 100])\n",
      "100\n"
     ]
    }
   ],
   "source": [
    "# b1 (bias) is added to each row of the result\n",
    "print(embeddings.view(-1, context_length * embedding_dimension) @ W1 + b1)\n",
    "print((embeddings.view(-1, context_length * embedding_dimension) @ W1 + b1).shape)\n",
    "print(num_neurons)"
   ]
  },
  {
   "cell_type": "code",
   "execution_count": 12,
   "metadata": {},
   "outputs": [],
   "source": [
    "output_layer = torch.randn(num_neurons, len(characters))\n",
    "b2 = torch.randn(len(characters))"
   ]
  },
  {
   "cell_type": "code",
   "execution_count": 13,
   "metadata": {},
   "outputs": [
    {
     "name": "stdout",
     "output_type": "stream",
     "text": [
      "fake X\n",
      "tensor([[ 0,  1,  2],\n",
      "        [ 3,  4,  5],\n",
      "        [ 6,  7,  8],\n",
      "        [ 9, 10, 11],\n",
      "        [12, 13, 14]])\n",
      "fake embeddings layer\n",
      "tensor([[100, 101],\n",
      "        [102, 103],\n",
      "        [104, 105],\n",
      "        [106, 107],\n",
      "        [108, 109],\n",
      "        [110, 111],\n",
      "        [112, 113],\n",
      "        [114, 115],\n",
      "        [116, 117],\n",
      "        [118, 119],\n",
      "        [120, 121],\n",
      "        [122, 123],\n",
      "        [124, 125],\n",
      "        [126, 127],\n",
      "        [128, 129],\n",
      "        [130, 131],\n",
      "        [132, 133],\n",
      "        [134, 135],\n",
      "        [136, 137],\n",
      "        [138, 139],\n",
      "        [140, 141],\n",
      "        [142, 143],\n",
      "        [144, 145],\n",
      "        [146, 147],\n",
      "        [148, 149],\n",
      "        [150, 151],\n",
      "        [152, 153]])\n",
      "fake embeddings\n",
      "tensor([[100, 101, 102, 103, 104, 105],\n",
      "        [106, 107, 108, 109, 110, 111],\n",
      "        [112, 113, 114, 115, 116, 117],\n",
      "        [118, 119, 120, 121, 122, 123],\n",
      "        [124, 125, 126, 127, 128, 129]])\n",
      "tensor([[200, 201, 202, 203, 204, 205, 206, 207, 208, 209],\n",
      "        [210, 211, 212, 213, 214, 215, 216, 217, 218, 219],\n",
      "        [220, 221, 222, 223, 224, 225, 226, 227, 228, 229],\n",
      "        [230, 231, 232, 233, 234, 235, 236, 237, 238, 239],\n",
      "        [240, 241, 242, 243, 244, 245, 246, 247, 248, 249],\n",
      "        [250, 251, 252, 253, 254, 255, 256, 257, 258, 259]])\n",
      "torch.Size([5, 6])\n",
      "torch.Size([6, 10])\n",
      "torch.Size([5, 10])\n",
      "tensor([[138550, 139165, 139780, 140395, 141010, 141625, 142240, 142855, 143470,\n",
      "         144085],\n",
      "        [146650, 147301, 147952, 148603, 149254, 149905, 150556, 151207, 151858,\n",
      "         152509],\n",
      "        [154750, 155437, 156124, 156811, 157498, 158185, 158872, 159559, 160246,\n",
      "         160933],\n",
      "        [162850, 163573, 164296, 165019, 165742, 166465, 167188, 167911, 168634,\n",
      "         169357],\n",
      "        [170950, 171709, 172468, 173227, 173986, 174745, 175504, 176263, 177022,\n",
      "         177781]])\n",
      "tensor(138550)\n",
      "tensor(138550)\n",
      "tensor([100, 101, 102, 103, 104, 105])\n",
      "tensor([200, 210, 220, 230, 240, 250])\n"
     ]
    }
   ],
   "source": [
    "_fake_X = torch.arange(0, 15).view(-1 , context_length)\n",
    "print(\"fake X\")\n",
    "print(_fake_X)\n",
    "_fake_embeddings_layer = (100 + torch.arange(len(characters) * embedding_dimension)).view(len(characters), embedding_dimension)\n",
    "print(\"fake embeddings layer\")\n",
    "print(_fake_embeddings_layer)\n",
    "_fake_embeddings = _fake_embeddings_layer[_fake_X].view(-1, context_length * embedding_dimension)\n",
    "print(\"fake embeddings\")\n",
    "print(_fake_embeddings)\n",
    "# 10 neurons\n",
    "_fake_weights = (200 + torch.arange(context_length * embedding_dimension * 10)).view(context_length * embedding_dimension, 10)\n",
    "print(_fake_weights)\n",
    "print(_fake_embeddings.shape)\n",
    "print(_fake_weights.shape)\n",
    "print((_fake_embeddings @ _fake_weights).shape)\n",
    "print(_fake_embeddings @ _fake_weights)\n",
    "print((_fake_embeddings @ _fake_weights)[0][0])\n",
    "print(_fake_embeddings[0].dot(_fake_weights[:, 0]))\n",
    "print(_fake_embeddings[0])\n",
    "print(_fake_weights[:, 0])"
   ]
  },
  {
   "cell_type": "code",
   "execution_count": 14,
   "metadata": {},
   "outputs": [
    {
     "name": "stdout",
     "output_type": "stream",
     "text": [
      "torch.Size([228146, 27])\n",
      "torch.Size([228146, 27])\n",
      "torch.Size([228146])\n",
      "tensor(16.6966)\n"
     ]
    }
   ],
   "source": [
    "logits = torch.tanh(embeddings.view(-1, context_length * embedding_dimension) @ W1 + b1) @ output_layer + b2\n",
    "print(logits.shape)\n",
    "counts = logits.exp()\n",
    "predicted_probabilities = counts / counts.sum(dim=1, keepdim=True)\n",
    "print(predicted_probabilities.shape)\n",
    "# pluck out the probability of the correct character for each example\n",
    "# if the probability (according to the model) associated with the correct character is low,\n",
    "# then the loss will be high\n",
    "# the goal is to minimize the loss, which will result in the model assigning a higher\n",
    "# probability to the correct character for each example after the weights have been updated\n",
    "predicted_probabilities_of_actual = predicted_probabilities[torch.arange(len(Y)), Y]\n",
    "print(predicted_probabilities_of_actual.shape)\n",
    "loss = -predicted_probabilities_of_actual.log().mean()\n",
    "print(loss)\n"
   ]
  },
  {
   "cell_type": "markdown",
   "metadata": {},
   "source": [
    "---\n",
    "\n",
    "## Putting it together"
   ]
  },
  {
   "cell_type": "code",
   "execution_count": 15,
   "metadata": {},
   "outputs": [],
   "source": [
    "embedding_dimension = 2\n",
    "context_length = 3\n",
    "num_neurons = 100\n",
    "\n",
    "g = torch.Generator().manual_seed(2147483647)\n",
    "embedding_layer = torch.randn(len(characters), embedding_dimension, generator=g)\n",
    "hidden_layer_weights = torch.randn(context_length * embedding_dimension, num_neurons, generator=g)\n",
    "hidden_layer_bias = torch.randn(num_neurons, generator=g)\n",
    "output_layer_weights = torch.randn(num_neurons, len(characters), generator=g)\n",
    "output_layer_bias = torch.randn(len(characters), generator=g)\n",
    "parameters = [\n",
    "    embedding_layer,\n",
    "    hidden_layer_weights,\n",
    "    hidden_layer_bias,\n",
    "    output_layer_weights,\n",
    "    output_layer_bias\n",
    "]"
   ]
  },
  {
   "cell_type": "code",
   "execution_count": 16,
   "metadata": {},
   "outputs": [
    {
     "name": "stdout",
     "output_type": "stream",
     "text": [
      "Number of Parameters of Model: 3,481\n"
     ]
    }
   ],
   "source": [
    "print(f\"Number of Parameters of Model: {sum(p.nelement() for p in parameters):,}\")"
   ]
  },
  {
   "cell_type": "code",
   "execution_count": 17,
   "metadata": {},
   "outputs": [
    {
     "name": "stdout",
     "output_type": "stream",
     "text": [
      "torch.Size([228146, 3, 2])\n",
      "torch.Size([228146, 100])\n",
      "torch.Size([228146, 27])\n",
      "torch.Size([228146, 27])\n",
      "torch.Size([228146])\n",
      "tensor(19.5052)\n"
     ]
    }
   ],
   "source": [
    "embeddings = embedding_layer[X]\n",
    "print(embeddings.shape)\n",
    "activations = torch.tanh(embeddings.view(-1, context_length * embedding_dimension) @ hidden_layer_weights + hidden_layer_bias)\n",
    "print(activations.shape)\n",
    "logits = activations @ output_layer_weights + output_layer_bias\n",
    "print(logits.shape)\n",
    "counts = logits.exp()\n",
    "predicted_probabilities = counts / counts.sum(dim=1, keepdim=True)\n",
    "print(predicted_probabilities.shape)\n",
    "predicted_probabilities_of_actual = predicted_probabilities[torch.arange(len(Y)), Y]\n",
    "print(predicted_probabilities_of_actual.shape)\n",
    "loss = -predicted_probabilities_of_actual.log().mean()\n",
    "print(loss)"
   ]
  },
  {
   "cell_type": "markdown",
   "metadata": {},
   "source": [
    "However, what we did above is equivalent to \"cross entropy loss\"\n",
    "\n",
    "- Andrej explains that F.cross_entropy also does some tricks to ensure large values don't cause NaNs: https://youtu.be/TCH_1BHY58I?si=CjVvwzrgzeQCOHr5&t=1976\n"
   ]
  },
  {
   "cell_type": "code",
   "execution_count": 18,
   "metadata": {},
   "outputs": [
    {
     "name": "stdout",
     "output_type": "stream",
     "text": [
      "torch.Size([228146, 3, 2])\n",
      "torch.Size([228146, 100])\n",
      "torch.Size([228146, 27])\n",
      "tensor(19.5052)\n"
     ]
    }
   ],
   "source": [
    "embeddings = embedding_layer[X]\n",
    "print(embeddings.shape)\n",
    "activations = torch.tanh(embeddings.view(-1, context_length * embedding_dimension) @ hidden_layer_weights + hidden_layer_bias)\n",
    "print(activations.shape)\n",
    "logits = activations @ output_layer_weights + output_layer_bias\n",
    "print(logits.shape)\n",
    "loss = F.cross_entropy(logits, Y)\n",
    "print(loss)"
   ]
  },
  {
   "cell_type": "markdown",
   "metadata": {},
   "source": [
    "## Training"
   ]
  },
  {
   "cell_type": "code",
   "execution_count": 19,
   "metadata": {},
   "outputs": [
    {
     "name": "stdout",
     "output_type": "stream",
     "text": [
      "Number of Parameters of Model: 3,481\n"
     ]
    }
   ],
   "source": [
    "embedding_dimension = 2\n",
    "context_length = 3\n",
    "num_neurons = 100\n",
    "\n",
    "g = torch.Generator().manual_seed(2147483647)\n",
    "embedding_layer = torch.randn(len(characters), embedding_dimension, generator=g)\n",
    "hidden_layer_weights = torch.randn(context_length * embedding_dimension, num_neurons, generator=g)\n",
    "hidden_layer_bias = torch.randn(num_neurons, generator=g)\n",
    "output_layer_weights = torch.randn(num_neurons, len(characters), generator=g)\n",
    "output_layer_bias = torch.randn(len(characters), generator=g)\n",
    "parameters = [\n",
    "    embedding_layer,\n",
    "    hidden_layer_weights,\n",
    "    hidden_layer_bias,\n",
    "    output_layer_weights,\n",
    "    output_layer_bias\n",
    "]\n",
    "print(f\"Number of Parameters of Model: {sum(p.nelement() for p in parameters):,}\")"
   ]
  },
  {
   "cell_type": "code",
   "execution_count": 20,
   "metadata": {},
   "outputs": [],
   "source": [
    "for p in parameters:\n",
    "    p.requires_grad = True"
   ]
  },
  {
   "cell_type": "code",
   "execution_count": 21,
   "metadata": {},
   "outputs": [],
   "source": [
    "# in practice we perform updates on minibatches of data   \n",
    "losses = []"
   ]
  },
  {
   "cell_type": "code",
   "execution_count": 22,
   "metadata": {},
   "outputs": [
    {
     "name": "stdout",
     "output_type": "stream",
     "text": [
      "Loss: 20.653\n",
      "Loss: 3.384\n",
      "Loss: 3.359\n",
      "Loss: 2.274\n",
      "Loss: 2.556\n",
      "Loss: 2.887\n",
      "Loss: 2.448\n",
      "Loss: 2.607\n",
      "Loss: 2.928\n",
      "Loss: 2.598\n",
      "---\n",
      "tensor(2.5713, grad_fn=<NllLossBackward0>)\n"
     ]
    },
    {
     "data": {
      "text/plain": [
       "[<matplotlib.lines.Line2D at 0xffff37648590>]"
      ]
     },
     "execution_count": 22,
     "metadata": {},
     "output_type": "execute_result"
    },
    {
     "data": {
      "image/png": "[encoded data removed]",
      "text/plain": [
       "<Figure size 640x480 with 1 Axes>"
      ]
     },
     "metadata": {},
     "output_type": "display_data"
    }
   ],
   "source": [
    "steps = 10000\n",
    "learning_rate = 0.01\n",
    "batch_size = 32\n",
    "\n",
    "for index in range(steps):\n",
    "    batch_indices = torch.randint(low=0, high=X.shape[0], size=(batch_size,))\n",
    "    # forward pass\n",
    "    embeddings = embedding_layer[X[batch_indices]]\n",
    "    activations = torch.tanh(embeddings.view(-1, context_length * embedding_dimension) @ hidden_layer_weights + hidden_layer_bias)\n",
    "    logits = activations @ output_layer_weights + output_layer_bias\n",
    "    loss = F.cross_entropy(logits, Y[batch_indices])\n",
    "    losses.append(loss.item())\n",
    "    if index % (steps / 10) == 0:\n",
    "        print(f\"Loss: {loss.item():.3f}\")\n",
    "    # backwards pass\n",
    "    for p in parameters:\n",
    "        p.grad = None\n",
    "    loss.backward()\n",
    "    # update parameters\n",
    "    for p in parameters:\n",
    "        p.data -= learning_rate * p.grad\n",
    "\n",
    "print('---')\n",
    "# loss on entire training set\n",
    "embeddings = embedding_layer[X]\n",
    "activations = torch.tanh(embeddings.view(-1, context_length * embedding_dimension) @ hidden_layer_weights + hidden_layer_bias)\n",
    "logits = activations @ output_layer_weights + output_layer_bias\n",
    "loss = F.cross_entropy(logits, Y)\n",
    "print(loss)\n",
    "# print the loss values\n",
    "import matplotlib.pyplot as plt\n",
    "plt.plot(losses)"
   ]
  },
  {
   "cell_type": "markdown",
   "metadata": {},
   "source": [
    "## Modify to have training / validation / test sets"
   ]
  },
  {
   "cell_type": "code",
   "execution_count": 23,
   "metadata": {},
   "outputs": [],
   "source": [
    "# import torch\n",
    "\n",
    "# # Example tensors X and Y\n",
    "# X = torch.rand(100, 10)  # 100 samples, 10 features each\n",
    "# Y = torch.rand(100, 1)   # 100 labels\n",
    "\n",
    "# print(X.size(0))\n",
    "# # Shuffle the data\n",
    "# indices = torch.randperm(X.size(0))\n",
    "# assert len(set(indices)) == X.size(0)\n",
    "# print(indices)\n",
    "# X = X[indices]\n",
    "# Y = Y[indices]\n",
    "\n",
    "# # Split ratios\n",
    "# train_ratio = 0.7\n",
    "# val_ratio = 0.15\n",
    "# test_ratio = 0.15\n",
    "\n",
    "# # Calculate split sizes\n",
    "# total_size = X.size(0)\n",
    "# train_size = int(total_size * train_ratio)\n",
    "# val_size = int(total_size * val_ratio)\n",
    "# test_size = total_size - train_size - val_size\n",
    "\n",
    "# # Split the tensors\n",
    "# X_train, X_val, X_test = torch.split(X, [train_size, val_size, test_size])\n",
    "# Y_train, Y_val, Y_test = torch.split(Y, [train_size, val_size, test_size])\n",
    "\n",
    "# # Your training, validation, and test sets are now ready\n"
   ]
  },
  {
   "cell_type": "code",
   "execution_count": 75,
   "metadata": {},
   "outputs": [
    {
     "name": "stdout",
     "output_type": "stream",
     "text": [
      "[0, 0, 0] -> 5\n",
      "... -> e\n",
      "---\n",
      "[0, 0, 5] -> 13\n",
      "..e -> m\n",
      "---\n",
      "[0, 5, 13] -> 13\n",
      ".em -> m\n",
      "---\n",
      "[5, 13, 13] -> 1\n",
      "emm -> a\n",
      "---\n",
      "[13, 13, 1] -> 0\n",
      "mma -> .\n",
      "---\n",
      "[0, 0, 0] -> 15\n",
      "... -> o\n",
      "---\n",
      "[0, 0, 15] -> 12\n",
      "..o -> l\n",
      "---\n",
      "[0, 15, 12] -> 9\n",
      ".ol -> i\n",
      "---\n",
      "[15, 12, 9] -> 22\n",
      "oli -> v\n",
      "---\n",
      "[12, 9, 22] -> 9\n",
      "liv -> i\n",
      "---\n",
      "torch.Size([228146, 3])\n",
      "torch.Size([228146])\n",
      "Training set shapes:\n",
      "torch.Size([182516, 3])\n",
      "torch.Size([182516])\n",
      "Validation set shapes:\n",
      "torch.Size([22814, 3])\n",
      "torch.Size([22814])\n",
      "Test set shapes:\n",
      "torch.Size([22816, 3])\n",
      "torch.Size([22816])\n"
     ]
    }
   ],
   "source": [
    "g = torch.Generator().manual_seed(2147483647)\n",
    "context_length = 3  # how many characters do we take to predict the next one?\n",
    "\n",
    "X, Y = [], []\n",
    "\n",
    "for word in words:\n",
    "    word = ('.' * context_length) + word + '.'\n",
    "    for i in range(len(word) - context_length):\n",
    "        X.append([token_mappings[c] for c in word[i:i+context_length]])\n",
    "        Y.append(token_mappings[word[i+context_length]])\n",
    "\n",
    "\n",
    "for x, y in zip(X[:10], Y[:10]):\n",
    "    print(f\"{x} -> {y}\")\n",
    "    print(f\"{''.join([index_to_character[i] for i in x])} -> {index_to_character[y]}\")\n",
    "    print('---')\n",
    "\n",
    "X = torch.tensor(X)\n",
    "Y = torch.tensor(Y)\n",
    "print(X.shape)\n",
    "print(Y.shape)\n",
    "\n",
    "# Shuffle the data\n",
    "indices = torch.randperm(X.size(0), generator=g)\n",
    "assert len(set(indices)) == X.size(0)\n",
    "X = X[indices]\n",
    "Y = Y[indices]\n",
    "\n",
    "# Split ratios\n",
    "train_ratio = 0.8\n",
    "val_ratio = 0.1\n",
    "test_ratio = 0.1\n",
    "\n",
    "# Calculate split sizes\n",
    "total_size = X.size(0)\n",
    "train_size = int(total_size * train_ratio)\n",
    "val_size = int(total_size * val_ratio)\n",
    "test_size = total_size - train_size - val_size\n",
    "\n",
    "# Split the tensors\n",
    "X_train, X_val, X_test = torch.split(X, [train_size, val_size, test_size])\n",
    "Y_train, Y_val, Y_test = torch.split(Y, [train_size, val_size, test_size])\n",
    "\n",
    "# Printing the shapes of the datasets\n",
    "print(\"Training set shapes:\")\n",
    "print(X_train.shape)\n",
    "print(Y_train.shape)\n",
    "print(\"Validation set shapes:\")\n",
    "print(X_val.shape)\n",
    "print(Y_val.shape)\n",
    "print(\"Test set shapes:\")\n",
    "print(X_test.shape)\n",
    "print(Y_test.shape)"
   ]
  },
  {
   "cell_type": "code",
   "execution_count": 76,
   "metadata": {},
   "outputs": [
    {
     "name": "stdout",
     "output_type": "stream",
     "text": [
      "Number of Parameters of Model: 12,297\n"
     ]
    }
   ],
   "source": [
    "embedding_dimension = 10\n",
    "context_length = 3\n",
    "num_neurons = 200\n",
    "\n",
    "embedding_layer = torch.randn(len(characters), embedding_dimension, generator=g)\n",
    "\n",
    "# https://youtu.be/P6sfmUTpUmc?si=1vxSbkmeuaEDqv4-&t=1475\n",
    "hidden_layer_weights = 0.1 * torch.randn(context_length * embedding_dimension, num_neurons, generator=g)\n",
    "# https://youtu.be/P6sfmUTpUmc?si=GCxVWQxauxDWgieF&t=2284\n",
    "# https://pytorch.org/docs/stable/nn.init.html\n",
    "# hidden_layer_weights = torch.randn(context_length * embedding_dimension, num_neurons, generator=g)\n",
    "# hidden_layer_weights = hidden_layer_weights * (5/3) / (context_length * embedding_dimension)**0.5\n",
    "hidden_layer_bias = 0.01 * torch.randn(num_neurons, generator=g)\n",
    "\n",
    "# https://youtu.be/P6sfmUTpUmc?si=Kh_JJz_43Ooc6H7F&t=584\n",
    "#output_layer_weights = torch.randn(num_neurons, len(characters), generator=g)\n",
    "output_layer_weights = 0.1 * torch.randn(num_neurons, len(characters), generator=g)\n",
    "# output_layer_bias = torch.randn(len(characters), generator=g)\n",
    "output_layer_bias = torch.zeros(len(characters))\n",
    "\n",
    "batch_norm_gain = torch.ones((1, num_neurons))\n",
    "batch_norm_bias = torch.zeros((1, num_neurons))\n",
    "# https://youtu.be/P6sfmUTpUmc?si=USsPzWMHsk0hfEoU&t=3424\n",
    "# These are not parameters of the model; they are used to normalize the activations\n",
    "# during initialization we want mean of 0 and standard deviation of 1\n",
    "batch_norm_running_mean = torch.zeros((1, num_neurons))\n",
    "batch_norm_running_st_dev = torch.ones((1, num_neurons))\n",
    "\n",
    "parameters = [\n",
    "    embedding_layer,\n",
    "    hidden_layer_weights,\n",
    "    hidden_layer_bias,\n",
    "    output_layer_weights,\n",
    "    output_layer_bias,\n",
    "    batch_norm_gain,\n",
    "    batch_norm_bias,\n",
    "]\n",
    "print(f\"Number of Parameters of Model: {sum(p.nelement() for p in parameters):,}\")"
   ]
  },
  {
   "cell_type": "code",
   "execution_count": 77,
   "metadata": {},
   "outputs": [
    {
     "name": "stdout",
     "output_type": "stream",
     "text": [
      "torch.Size([27, 10])\n",
      "Warning: Embedding dimension greater than 3. Running PCA to extract first three dimensions.\n"
     ]
    },
    {
     "data": {
      "application/vnd.plotly.v1+json": {
       "config": {
        "plotlyServerURL": "https://plot.ly"
       },
       "data": [
        {
         "hovertemplate": "C-1=%{x}<br>C-2=%{y}<br>C-3=%{z}<br>text=%{text}<br>C-4=%{marker.color}<extra></extra>",
         "legendgroup": "",
         "marker": {
          "color": [
           -0.21080796420574188,
           -0.18772189319133759,
           -0.8002322912216187,
           -0.0817566066980362,
           1.590530276298523,
           1.263859748840332,
           2.5770976543426514,
           -2.6031150817871094,
           -0.13300688564777374,
           1.1254507303237915,
           -1.2893714904785156,
           -1.4338887929916382,
           -0.1764145940542221,
           -0.8480821847915649,
           -0.8333616852760315,
           0.5114245414733887,
           -0.4184904992580414,
           -1.220603585243225,
           1.7482529878616333,
           -1.600131869316101,
           0.5346131324768066,
           -1.63358736038208,
           0.904217004776001,
           -0.06908287107944489,
           0.6580085754394531,
           0.8753841519355774,
           0.5882697105407715
          ],
          "coloraxis": "coloraxis",
          "symbol": "circle"
         },
         "mode": "markers+text",
         "name": "",
         "scene": "scene",
         "showlegend": false,
         "text": [
          ".",
          "a",
          "b",
          "c",
          "d",
          "e",
          "f",
          "g",
          "h",
          "i",
          "j",
          "k",
          "l",
          "m",
          "n",
          "o",
          "p",
          "q",
          "r",
          "s",
          "t",
          "u",
          "v",
          "w",
          "x",
          "y",
          "z"
         ],
         "type": "scatter3d",
         "x": [
          -0.673703134059906,
          1.1228723526000977,
          -2.3112053871154785,
          2.454608678817749,
          3.2400059700012207,
          -1.4349154233932495,
          0.6819559931755066,
          -2.294802665710449,
          2.737654447555542,
          1.3657832145690918,
          -1.4680756330490112,
          -0.6908183097839355,
          2.0367701053619385,
          -1.3626412153244019,
          0.8622626066207886,
          1.0020171403884888,
          -1.2627441883087158,
          -1.127434253692627,
          -0.24081529676914215,
          -0.3118060231208801,
          -0.17429673671722412,
          0.7082497477531433,
          1.426857590675354,
          -1.8345086574554443,
          0.8331560492515564,
          -1.8896092176437378,
          -1.3948161602020264
         ],
         "y": [
          -1.650344967842102,
          -1.54213547706604,
          0.1507468819618225,
          1.555504322052002,
          -2.6099278926849365,
          1.3339526653289795,
          0.13968898355960846,
          -0.26690852642059326,
          -0.20363366603851318,
          0.40321746468544006,
          1.0144652128219604,
          -0.6170796155929565,
          -0.8826144933700562,
          0.5955600142478943,
          0.7122708559036255,
          2.685596227645874,
          0.3174961805343628,
          -0.11290982365608215,
          -0.4579160809516907,
          1.9724481105804443,
          -0.9599964618682861,
          1.4842607975006104,
          -1.2497832775115967,
          -2.1665382385253906,
          2.3276073932647705,
          0.2755456566810608,
          -2.248574733734131
         ],
         "z": [
          -0.8072510361671448,
          -1.508892297744751,
          1.2204846143722534,
          -0.8639835119247437,
          1.0828132629394531,
          2.3389644622802734,
          2.4850170612335205,
          -2.336449384689331,
          -0.2055470049381256,
          0.17849910259246826,
          -0.9684327244758606,
          -1.0710418224334717,
          -0.9196741580963135,
          -0.9222167730331421,
          -0.6915149092674255,
          0.7059922814369202,
          -0.28542613983154297,
          -1.9636585712432861,
          1.9106371402740479,
          -0.6725383400917053,
          0.6738835573196411,
          -2.041656970977783,
          0.8718096613883972,
          0.3002670407295227,
          0.9416863322257996,
          2.299231767654419,
          0.24899592995643616
         ]
        }
       ],
       "layout": {
        "coloraxis": {
         "colorbar": {
          "title": {
           "text": "C-4"
          }
         },
         "colorscale": [
          [
           0,
           "#0d0887"
          ],
          [
           0.1111111111111111,
           "#46039f"
          ],
          [
           0.2222222222222222,
           "#7201a8"
          ],
          [
           0.3333333333333333,
           "#9c179e"
          ],
          [
           0.4444444444444444,
           "#bd3786"
          ],
          [
           0.5555555555555556,
           "#d8576b"
          ],
          [
           0.6666666666666666,
           "#ed7953"
          ],
          [
           0.7777777777777778,
           "#fb9f3a"
          ],
          [
           0.8888888888888888,
           "#fdca26"
          ],
          [
           1,
           "#f0f921"
          ]
         ]
        },
        "height": 1000,
        "legend": {
         "tracegroupgap": 0
        },
        "margin": {
         "t": 60
        },
        "scene": {
         "domain": {
          "x": [
           0,
           1
          ],
          "y": [
           0,
           1
          ]
         },
         "xaxis": {
          "title": {
           "text": "C-1"
          }
         },
         "yaxis": {
          "title": {
           "text": "C-2"
          }
         },
         "zaxis": {
          "title": {
           "text": "C-3"
          }
         }
        },
        "template": {
         "data": {
          "bar": [
           {
            "error_x": {
             "color": "#2a3f5f"
            },
            "error_y": {
             "color": "#2a3f5f"
            },
            "marker": {
             "line": {
              "color": "#E5ECF6",
              "width": 0.5
             },
             "pattern": {
              "fillmode": "overlay",
              "size": 10,
              "solidity": 0.2
             }
            },
            "type": "bar"
           }
          ],
          "barpolar": [
           {
            "marker": {
             "line": {
              "color": "#E5ECF6",
              "width": 0.5
             },
             "pattern": {
              "fillmode": "overlay",
              "size": 10,
              "solidity": 0.2
             }
            },
            "type": "barpolar"
           }
          ],
          "carpet": [
           {
            "aaxis": {
             "endlinecolor": "#2a3f5f",
             "gridcolor": "white",
             "linecolor": "white",
             "minorgridcolor": "white",
             "startlinecolor": "#2a3f5f"
            },
            "baxis": {
             "endlinecolor": "#2a3f5f",
             "gridcolor": "white",
             "linecolor": "white",
             "minorgridcolor": "white",
             "startlinecolor": "#2a3f5f"
            },
            "type": "carpet"
           }
          ],
          "choropleth": [
           {
            "colorbar": {
             "outlinewidth": 0,
             "ticks": ""
            },
            "type": "choropleth"
           }
          ],
          "contour": [
           {
            "colorbar": {
             "outlinewidth": 0,
             "ticks": ""
            },
            "colorscale": [
             [
              0,
              "#0d0887"
             ],
             [
              0.1111111111111111,
              "#46039f"
             ],
             [
              0.2222222222222222,
              "#7201a8"
             ],
             [
              0.3333333333333333,
              "#9c179e"
             ],
             [
              0.4444444444444444,
              "#bd3786"
             ],
             [
              0.5555555555555556,
              "#d8576b"
             ],
             [
              0.6666666666666666,
              "#ed7953"
             ],
             [
              0.7777777777777778,
              "#fb9f3a"
             ],
             [
              0.8888888888888888,
              "#fdca26"
             ],
             [
              1,
              "#f0f921"
             ]
            ],
            "type": "contour"
           }
          ],
          "contourcarpet": [
           {
            "colorbar": {
             "outlinewidth": 0,
             "ticks": ""
            },
            "type": "contourcarpet"
           }
          ],
          "heatmap": [
           {
            "colorbar": {
             "outlinewidth": 0,
             "ticks": ""
            },
            "colorscale": [
             [
              0,
              "#0d0887"
             ],
             [
              0.1111111111111111,
              "#46039f"
             ],
             [
              0.2222222222222222,
              "#7201a8"
             ],
             [
              0.3333333333333333,
              "#9c179e"
             ],
             [
              0.4444444444444444,
              "#bd3786"
             ],
             [
              0.5555555555555556,
              "#d8576b"
             ],
             [
              0.6666666666666666,
              "#ed7953"
             ],
             [
              0.7777777777777778,
              "#fb9f3a"
             ],
             [
              0.8888888888888888,
              "#fdca26"
             ],
             [
              1,
              "#f0f921"
             ]
            ],
            "type": "heatmap"
           }
          ],
          "heatmapgl": [
           {
            "colorbar": {
             "outlinewidth": 0,
             "ticks": ""
            },
            "colorscale": [
             [
              0,
              "#0d0887"
             ],
             [
              0.1111111111111111,
              "#46039f"
             ],
             [
              0.2222222222222222,
              "#7201a8"
             ],
             [
              0.3333333333333333,
              "#9c179e"
             ],
             [
              0.4444444444444444,
              "#bd3786"
             ],
             [
              0.5555555555555556,
              "#d8576b"
             ],
             [
              0.6666666666666666,
              "#ed7953"
             ],
             [
              0.7777777777777778,
              "#fb9f3a"
             ],
             [
              0.8888888888888888,
              "#fdca26"
             ],
             [
              1,
              "#f0f921"
             ]
            ],
            "type": "heatmapgl"
           }
          ],
          "histogram": [
           {
            "marker": {
             "pattern": {
              "fillmode": "overlay",
              "size": 10,
              "solidity": 0.2
             }
            },
            "type": "histogram"
           }
          ],
          "histogram2d": [
           {
            "colorbar": {
             "outlinewidth": 0,
             "ticks": ""
            },
            "colorscale": [
             [
              0,
              "#0d0887"
             ],
             [
              0.1111111111111111,
              "#46039f"
             ],
             [
              0.2222222222222222,
              "#7201a8"
             ],
             [
              0.3333333333333333,
              "#9c179e"
             ],
             [
              0.4444444444444444,
              "#bd3786"
             ],
             [
              0.5555555555555556,
              "#d8576b"
             ],
             [
              0.6666666666666666,
              "#ed7953"
             ],
             [
              0.7777777777777778,
              "#fb9f3a"
             ],
             [
              0.8888888888888888,
              "#fdca26"
             ],
             [
              1,
              "#f0f921"
             ]
            ],
            "type": "histogram2d"
           }
          ],
          "histogram2dcontour": [
           {
            "colorbar": {
             "outlinewidth": 0,
             "ticks": ""
            },
            "colorscale": [
             [
              0,
              "#0d0887"
             ],
             [
              0.1111111111111111,
              "#46039f"
             ],
             [
              0.2222222222222222,
              "#7201a8"
             ],
             [
              0.3333333333333333,
              "#9c179e"
             ],
             [
              0.4444444444444444,
              "#bd3786"
             ],
             [
              0.5555555555555556,
              "#d8576b"
             ],
             [
              0.6666666666666666,
              "#ed7953"
             ],
             [
              0.7777777777777778,
              "#fb9f3a"
             ],
             [
              0.8888888888888888,
              "#fdca26"
             ],
             [
              1,
              "#f0f921"
             ]
            ],
            "type": "histogram2dcontour"
           }
          ],
          "mesh3d": [
           {
            "colorbar": {
             "outlinewidth": 0,
             "ticks": ""
            },
            "type": "mesh3d"
           }
          ],
          "parcoords": [
           {
            "line": {
             "colorbar": {
              "outlinewidth": 0,
              "ticks": ""
             }
            },
            "type": "parcoords"
           }
          ],
          "pie": [
           {
            "automargin": true,
            "type": "pie"
           }
          ],
          "scatter": [
           {
            "fillpattern": {
             "fillmode": "overlay",
             "size": 10,
             "solidity": 0.2
            },
            "type": "scatter"
           }
          ],
          "scatter3d": [
           {
            "line": {
             "colorbar": {
              "outlinewidth": 0,
              "ticks": ""
             }
            },
            "marker": {
             "colorbar": {
              "outlinewidth": 0,
              "ticks": ""
             }
            },
            "type": "scatter3d"
           }
          ],
          "scattercarpet": [
           {
            "marker": {
             "colorbar": {
              "outlinewidth": 0,
              "ticks": ""
             }
            },
            "type": "scattercarpet"
           }
          ],
          "scattergeo": [
           {
            "marker": {
             "colorbar": {
              "outlinewidth": 0,
              "ticks": ""
             }
            },
            "type": "scattergeo"
           }
          ],
          "scattergl": [
           {
            "marker": {
             "colorbar": {
              "outlinewidth": 0,
              "ticks": ""
             }
            },
            "type": "scattergl"
           }
          ],
          "scattermapbox": [
           {
            "marker": {
             "colorbar": {
              "outlinewidth": 0,
              "ticks": ""
             }
            },
            "type": "scattermapbox"
           }
          ],
          "scatterpolar": [
           {
            "marker": {
             "colorbar": {
              "outlinewidth": 0,
              "ticks": ""
             }
            },
            "type": "scatterpolar"
           }
          ],
          "scatterpolargl": [
           {
            "marker": {
             "colorbar": {
              "outlinewidth": 0,
              "ticks": ""
             }
            },
            "type": "scatterpolargl"
           }
          ],
          "scatterternary": [
           {
            "marker": {
             "colorbar": {
              "outlinewidth": 0,
              "ticks": ""
             }
            },
            "type": "scatterternary"
           }
          ],
          "surface": [
           {
            "colorbar": {
             "outlinewidth": 0,
             "ticks": ""
            },
            "colorscale": [
             [
              0,
              "#0d0887"
             ],
             [
              0.1111111111111111,
              "#46039f"
             ],
             [
              0.2222222222222222,
              "#7201a8"
             ],
             [
              0.3333333333333333,
              "#9c179e"
             ],
             [
              0.4444444444444444,
              "#bd3786"
             ],
             [
              0.5555555555555556,
              "#d8576b"
             ],
             [
              0.6666666666666666,
              "#ed7953"
             ],
             [
              0.7777777777777778,
              "#fb9f3a"
             ],
             [
              0.8888888888888888,
              "#fdca26"
             ],
             [
              1,
              "#f0f921"
             ]
            ],
            "type": "surface"
           }
          ],
          "table": [
           {
            "cells": {
             "fill": {
              "color": "#EBF0F8"
             },
             "line": {
              "color": "white"
             }
            },
            "header": {
             "fill": {
              "color": "#C8D4E3"
             },
             "line": {
              "color": "white"
             }
            },
            "type": "table"
           }
          ]
         },
         "layout": {
          "annotationdefaults": {
           "arrowcolor": "#2a3f5f",
           "arrowhead": 0,
           "arrowwidth": 1
          },
          "autotypenumbers": "strict",
          "coloraxis": {
           "colorbar": {
            "outlinewidth": 0,
            "ticks": ""
           }
          },
          "colorscale": {
           "diverging": [
            [
             0,
             "#8e0152"
            ],
            [
             0.1,
             "#c51b7d"
            ],
            [
             0.2,
             "#de77ae"
            ],
            [
             0.3,
             "#f1b6da"
            ],
            [
             0.4,
             "#fde0ef"
            ],
            [
             0.5,
             "#f7f7f7"
            ],
            [
             0.6,
             "#e6f5d0"
            ],
            [
             0.7,
             "#b8e186"
            ],
            [
             0.8,
             "#7fbc41"
            ],
            [
             0.9,
             "#4d9221"
            ],
            [
             1,
             "#276419"
            ]
           ],
           "sequential": [
            [
             0,
             "#0d0887"
            ],
            [
             0.1111111111111111,
             "#46039f"
            ],
            [
             0.2222222222222222,
             "#7201a8"
            ],
            [
             0.3333333333333333,
             "#9c179e"
            ],
            [
             0.4444444444444444,
             "#bd3786"
            ],
            [
             0.5555555555555556,
             "#d8576b"
            ],
            [
             0.6666666666666666,
             "#ed7953"
            ],
            [
             0.7777777777777778,
             "#fb9f3a"
            ],
            [
             0.8888888888888888,
             "#fdca26"
            ],
            [
             1,
             "#f0f921"
            ]
           ],
           "sequentialminus": [
            [
             0,
             "#0d0887"
            ],
            [
             0.1111111111111111,
             "#46039f"
            ],
            [
             0.2222222222222222,
             "#7201a8"
            ],
            [
             0.3333333333333333,
             "#9c179e"
            ],
            [
             0.4444444444444444,
             "#bd3786"
            ],
            [
             0.5555555555555556,
             "#d8576b"
            ],
            [
             0.6666666666666666,
             "#ed7953"
            ],
            [
             0.7777777777777778,
             "#fb9f3a"
            ],
            [
             0.8888888888888888,
             "#fdca26"
            ],
            [
             1,
             "#f0f921"
            ]
           ]
          },
          "colorway": [
           "#636efa",
           "#EF553B",
           "#00cc96",
           "#ab63fa",
           "#FFA15A",
           "#19d3f3",
           "#FF6692",
           "#B6E880",
           "#FF97FF",
           "#FECB52"
          ],
          "font": {
           "color": "#2a3f5f"
          },
          "geo": {
           "bgcolor": "white",
           "lakecolor": "white",
           "landcolor": "#E5ECF6",
           "showlakes": true,
           "showland": true,
           "subunitcolor": "white"
          },
          "hoverlabel": {
           "align": "left"
          },
          "hovermode": "closest",
          "mapbox": {
           "style": "light"
          },
          "paper_bgcolor": "white",
          "plot_bgcolor": "#E5ECF6",
          "polar": {
           "angularaxis": {
            "gridcolor": "white",
            "linecolor": "white",
            "ticks": ""
           },
           "bgcolor": "#E5ECF6",
           "radialaxis": {
            "gridcolor": "white",
            "linecolor": "white",
            "ticks": ""
           }
          },
          "scene": {
           "xaxis": {
            "backgroundcolor": "#E5ECF6",
            "gridcolor": "white",
            "gridwidth": 2,
            "linecolor": "white",
            "showbackground": true,
            "ticks": "",
            "zerolinecolor": "white"
           },
           "yaxis": {
            "backgroundcolor": "#E5ECF6",
            "gridcolor": "white",
            "gridwidth": 2,
            "linecolor": "white",
            "showbackground": true,
            "ticks": "",
            "zerolinecolor": "white"
           },
           "zaxis": {
            "backgroundcolor": "#E5ECF6",
            "gridcolor": "white",
            "gridwidth": 2,
            "linecolor": "white",
            "showbackground": true,
            "ticks": "",
            "zerolinecolor": "white"
           }
          },
          "shapedefaults": {
           "line": {
            "color": "#2a3f5f"
           }
          },
          "ternary": {
           "aaxis": {
            "gridcolor": "white",
            "linecolor": "white",
            "ticks": ""
           },
           "baxis": {
            "gridcolor": "white",
            "linecolor": "white",
            "ticks": ""
           },
           "bgcolor": "#E5ECF6",
           "caxis": {
            "gridcolor": "white",
            "linecolor": "white",
            "ticks": ""
           }
          },
          "title": {
           "x": 0.05
          },
          "xaxis": {
           "automargin": true,
           "gridcolor": "white",
           "linecolor": "white",
           "ticks": "",
           "title": {
            "standoff": 15
           },
           "zerolinecolor": "white",
           "zerolinewidth": 2
          },
          "yaxis": {
           "automargin": true,
           "gridcolor": "white",
           "linecolor": "white",
           "ticks": "",
           "title": {
            "standoff": 15
           },
           "zerolinecolor": "white",
           "zerolinewidth": 2
          }
         }
        },
        "width": 1000
       }
      },
      "text/html": [
       "<div>                            <div id=\"1ef3ba6a-439c-4120-ab40-330baf55e4b9\" class=\"plotly-graph-div\" style=\"height:1000px; width:1000px;\"></div>            <script type=\"text/javascript\">                require([\"plotly\"], function(Plotly) {                    window.PLOTLYENV=window.PLOTLYENV || {};                                    if (document.getElementById(\"1ef3ba6a-439c-4120-ab40-330baf55e4b9\")) {                    Plotly.newPlot(                        \"1ef3ba6a-439c-4120-ab40-330baf55e4b9\",                        [{\"hovertemplate\":\"C-1=%{x}\\u003cbr\\u003eC-2=%{y}\\u003cbr\\u003eC-3=%{z}\\u003cbr\\u003etext=%{text}\\u003cbr\\u003eC-4=%{marker.color}\\u003cextra\\u003e\\u003c\\u002fextra\\u003e\",\"legendgroup\":\"\",\"marker\":{\"color\":[-0.21080796420574188,-0.18772189319133759,-0.8002322912216187,-0.0817566066980362,1.590530276298523,1.263859748840332,2.5770976543426514,-2.6031150817871094,-0.13300688564777374,1.1254507303237915,-1.2893714904785156,-1.4338887929916382,-0.1764145940542221,-0.8480821847915649,-0.8333616852760315,0.5114245414733887,-0.4184904992580414,-1.220603585243225,1.7482529878616333,-1.600131869316101,0.5346131324768066,-1.63358736038208,0.904217004776001,-0.06908287107944489,0.6580085754394531,0.8753841519355774,0.5882697105407715],\"coloraxis\":\"coloraxis\",\"symbol\":\"circle\"},\"mode\":\"markers+text\",\"name\":\"\",\"scene\":\"scene\",\"showlegend\":false,\"text\":[\".\",\"a\",\"b\",\"c\",\"d\",\"e\",\"f\",\"g\",\"h\",\"i\",\"j\",\"k\",\"l\",\"m\",\"n\",\"o\",\"p\",\"q\",\"r\",\"s\",\"t\",\"u\",\"v\",\"w\",\"x\",\"y\",\"z\"],\"x\":[-0.673703134059906,1.1228723526000977,-2.3112053871154785,2.454608678817749,3.2400059700012207,-1.4349154233932495,0.6819559931755066,-2.294802665710449,2.737654447555542,1.3657832145690918,-1.4680756330490112,-0.6908183097839355,2.0367701053619385,-1.3626412153244019,0.8622626066207886,1.0020171403884888,-1.2627441883087158,-1.127434253692627,-0.24081529676914215,-0.3118060231208801,-0.17429673671722412,0.7082497477531433,1.426857590675354,-1.8345086574554443,0.8331560492515564,-1.8896092176437378,-1.3948161602020264],\"y\":[-1.650344967842102,-1.54213547706604,0.1507468819618225,1.555504322052002,-2.6099278926849365,1.3339526653289795,0.13968898355960846,-0.26690852642059326,-0.20363366603851318,0.40321746468544006,1.0144652128219604,-0.6170796155929565,-0.8826144933700562,0.5955600142478943,0.7122708559036255,2.685596227645874,0.3174961805343628,-0.11290982365608215,-0.4579160809516907,1.9724481105804443,-0.9599964618682861,1.4842607975006104,-1.2497832775115967,-2.1665382385253906,2.3276073932647705,0.2755456566810608,-2.248574733734131],\"z\":[-0.8072510361671448,-1.508892297744751,1.2204846143722534,-0.8639835119247437,1.0828132629394531,2.3389644622802734,2.4850170612335205,-2.336449384689331,-0.2055470049381256,0.17849910259246826,-0.9684327244758606,-1.0710418224334717,-0.9196741580963135,-0.9222167730331421,-0.6915149092674255,0.7059922814369202,-0.28542613983154297,-1.9636585712432861,1.9106371402740479,-0.6725383400917053,0.6738835573196411,-2.041656970977783,0.8718096613883972,0.3002670407295227,0.9416863322257996,2.299231767654419,0.24899592995643616],\"type\":\"scatter3d\"}],                        {\"template\":{\"data\":{\"histogram2dcontour\":[{\"type\":\"histogram2dcontour\",\"colorbar\":{\"outlinewidth\":0,\"ticks\":\"\"},\"colorscale\":[[0.0,\"#0d0887\"],[0.1111111111111111,\"#46039f\"],[0.2222222222222222,\"#7201a8\"],[0.3333333333333333,\"#9c179e\"],[0.4444444444444444,\"#bd3786\"],[0.5555555555555556,\"#d8576b\"],[0.6666666666666666,\"#ed7953\"],[0.7777777777777778,\"#fb9f3a\"],[0.8888888888888888,\"#fdca26\"],[1.0,\"#f0f921\"]]}],\"choropleth\":[{\"type\":\"choropleth\",\"colorbar\":{\"outlinewidth\":0,\"ticks\":\"\"}}],\"histogram2d\":[{\"type\":\"histogram2d\",\"colorbar\":{\"outlinewidth\":0,\"ticks\":\"\"},\"colorscale\":[[0.0,\"#0d0887\"],[0.1111111111111111,\"#46039f\"],[0.2222222222222222,\"#7201a8\"],[0.3333333333333333,\"#9c179e\"],[0.4444444444444444,\"#bd3786\"],[0.5555555555555556,\"#d8576b\"],[0.6666666666666666,\"#ed7953\"],[0.7777777777777778,\"#fb9f3a\"],[0.8888888888888888,\"#fdca26\"],[1.0,\"#f0f921\"]]}],\"heatmap\":[{\"type\":\"heatmap\",\"colorbar\":{\"outlinewidth\":0,\"ticks\":\"\"},\"colorscale\":[[0.0,\"#0d0887\"],[0.1111111111111111,\"#46039f\"],[0.2222222222222222,\"#7201a8\"],[0.3333333333333333,\"#9c179e\"],[0.4444444444444444,\"#bd3786\"],[0.5555555555555556,\"#d8576b\"],[0.6666666666666666,\"#ed7953\"],[0.7777777777777778,\"#fb9f3a\"],[0.8888888888888888,\"#fdca26\"],[1.0,\"#f0f921\"]]}],\"heatmapgl\":[{\"type\":\"heatmapgl\",\"colorbar\":{\"outlinewidth\":0,\"ticks\":\"\"},\"colorscale\":[[0.0,\"#0d0887\"],[0.1111111111111111,\"#46039f\"],[0.2222222222222222,\"#7201a8\"],[0.3333333333333333,\"#9c179e\"],[0.4444444444444444,\"#bd3786\"],[0.5555555555555556,\"#d8576b\"],[0.6666666666666666,\"#ed7953\"],[0.7777777777777778,\"#fb9f3a\"],[0.8888888888888888,\"#fdca26\"],[1.0,\"#f0f921\"]]}],\"contourcarpet\":[{\"type\":\"contourcarpet\",\"colorbar\":{\"outlinewidth\":0,\"ticks\":\"\"}}],\"contour\":[{\"type\":\"contour\",\"colorbar\":{\"outlinewidth\":0,\"ticks\":\"\"},\"colorscale\":[[0.0,\"#0d0887\"],[0.1111111111111111,\"#46039f\"],[0.2222222222222222,\"#7201a8\"],[0.3333333333333333,\"#9c179e\"],[0.4444444444444444,\"#bd3786\"],[0.5555555555555556,\"#d8576b\"],[0.6666666666666666,\"#ed7953\"],[0.7777777777777778,\"#fb9f3a\"],[0.8888888888888888,\"#fdca26\"],[1.0,\"#f0f921\"]]}],\"surface\":[{\"type\":\"surface\",\"colorbar\":{\"outlinewidth\":0,\"ticks\":\"\"},\"colorscale\":[[0.0,\"#0d0887\"],[0.1111111111111111,\"#46039f\"],[0.2222222222222222,\"#7201a8\"],[0.3333333333333333,\"#9c179e\"],[0.4444444444444444,\"#bd3786\"],[0.5555555555555556,\"#d8576b\"],[0.6666666666666666,\"#ed7953\"],[0.7777777777777778,\"#fb9f3a\"],[0.8888888888888888,\"#fdca26\"],[1.0,\"#f0f921\"]]}],\"mesh3d\":[{\"type\":\"mesh3d\",\"colorbar\":{\"outlinewidth\":0,\"ticks\":\"\"}}],\"scatter\":[{\"fillpattern\":{\"fillmode\":\"overlay\",\"size\":10,\"solidity\":0.2},\"type\":\"scatter\"}],\"parcoords\":[{\"type\":\"parcoords\",\"line\":{\"colorbar\":{\"outlinewidth\":0,\"ticks\":\"\"}}}],\"scatterpolargl\":[{\"type\":\"scatterpolargl\",\"marker\":{\"colorbar\":{\"outlinewidth\":0,\"ticks\":\"\"}}}],\"bar\":[{\"error_x\":{\"color\":\"#2a3f5f\"},\"error_y\":{\"color\":\"#2a3f5f\"},\"marker\":{\"line\":{\"color\":\"#E5ECF6\",\"width\":0.5},\"pattern\":{\"fillmode\":\"overlay\",\"size\":10,\"solidity\":0.2}},\"type\":\"bar\"}],\"scattergeo\":[{\"type\":\"scattergeo\",\"marker\":{\"colorbar\":{\"outlinewidth\":0,\"ticks\":\"\"}}}],\"scatterpolar\":[{\"type\":\"scatterpolar\",\"marker\":{\"colorbar\":{\"outlinewidth\":0,\"ticks\":\"\"}}}],\"histogram\":[{\"marker\":{\"pattern\":{\"fillmode\":\"overlay\",\"size\":10,\"solidity\":0.2}},\"type\":\"histogram\"}],\"scattergl\":[{\"type\":\"scattergl\",\"marker\":{\"colorbar\":{\"outlinewidth\":0,\"ticks\":\"\"}}}],\"scatter3d\":[{\"type\":\"scatter3d\",\"line\":{\"colorbar\":{\"outlinewidth\":0,\"ticks\":\"\"}},\"marker\":{\"colorbar\":{\"outlinewidth\":0,\"ticks\":\"\"}}}],\"scattermapbox\":[{\"type\":\"scattermapbox\",\"marker\":{\"colorbar\":{\"outlinewidth\":0,\"ticks\":\"\"}}}],\"scatterternary\":[{\"type\":\"scatterternary\",\"marker\":{\"colorbar\":{\"outlinewidth\":0,\"ticks\":\"\"}}}],\"scattercarpet\":[{\"type\":\"scattercarpet\",\"marker\":{\"colorbar\":{\"outlinewidth\":0,\"ticks\":\"\"}}}],\"carpet\":[{\"aaxis\":{\"endlinecolor\":\"#2a3f5f\",\"gridcolor\":\"white\",\"linecolor\":\"white\",\"minorgridcolor\":\"white\",\"startlinecolor\":\"#2a3f5f\"},\"baxis\":{\"endlinecolor\":\"#2a3f5f\",\"gridcolor\":\"white\",\"linecolor\":\"white\",\"minorgridcolor\":\"white\",\"startlinecolor\":\"#2a3f5f\"},\"type\":\"carpet\"}],\"table\":[{\"cells\":{\"fill\":{\"color\":\"#EBF0F8\"},\"line\":{\"color\":\"white\"}},\"header\":{\"fill\":{\"color\":\"#C8D4E3\"},\"line\":{\"color\":\"white\"}},\"type\":\"table\"}],\"barpolar\":[{\"marker\":{\"line\":{\"color\":\"#E5ECF6\",\"width\":0.5},\"pattern\":{\"fillmode\":\"overlay\",\"size\":10,\"solidity\":0.2}},\"type\":\"barpolar\"}],\"pie\":[{\"automargin\":true,\"type\":\"pie\"}]},\"layout\":{\"autotypenumbers\":\"strict\",\"colorway\":[\"#636efa\",\"#EF553B\",\"#00cc96\",\"#ab63fa\",\"#FFA15A\",\"#19d3f3\",\"#FF6692\",\"#B6E880\",\"#FF97FF\",\"#FECB52\"],\"font\":{\"color\":\"#2a3f5f\"},\"hovermode\":\"closest\",\"hoverlabel\":{\"align\":\"left\"},\"paper_bgcolor\":\"white\",\"plot_bgcolor\":\"#E5ECF6\",\"polar\":{\"bgcolor\":\"#E5ECF6\",\"angularaxis\":{\"gridcolor\":\"white\",\"linecolor\":\"white\",\"ticks\":\"\"},\"radialaxis\":{\"gridcolor\":\"white\",\"linecolor\":\"white\",\"ticks\":\"\"}},\"ternary\":{\"bgcolor\":\"#E5ECF6\",\"aaxis\":{\"gridcolor\":\"white\",\"linecolor\":\"white\",\"ticks\":\"\"},\"baxis\":{\"gridcolor\":\"white\",\"linecolor\":\"white\",\"ticks\":\"\"},\"caxis\":{\"gridcolor\":\"white\",\"linecolor\":\"white\",\"ticks\":\"\"}},\"coloraxis\":{\"colorbar\":{\"outlinewidth\":0,\"ticks\":\"\"}},\"colorscale\":{\"sequential\":[[0.0,\"#0d0887\"],[0.1111111111111111,\"#46039f\"],[0.2222222222222222,\"#7201a8\"],[0.3333333333333333,\"#9c179e\"],[0.4444444444444444,\"#bd3786\"],[0.5555555555555556,\"#d8576b\"],[0.6666666666666666,\"#ed7953\"],[0.7777777777777778,\"#fb9f3a\"],[0.8888888888888888,\"#fdca26\"],[1.0,\"#f0f921\"]],\"sequentialminus\":[[0.0,\"#0d0887\"],[0.1111111111111111,\"#46039f\"],[0.2222222222222222,\"#7201a8\"],[0.3333333333333333,\"#9c179e\"],[0.4444444444444444,\"#bd3786\"],[0.5555555555555556,\"#d8576b\"],[0.6666666666666666,\"#ed7953\"],[0.7777777777777778,\"#fb9f3a\"],[0.8888888888888888,\"#fdca26\"],[1.0,\"#f0f921\"]],\"diverging\":[[0,\"#8e0152\"],[0.1,\"#c51b7d\"],[0.2,\"#de77ae\"],[0.3,\"#f1b6da\"],[0.4,\"#fde0ef\"],[0.5,\"#f7f7f7\"],[0.6,\"#e6f5d0\"],[0.7,\"#b8e186\"],[0.8,\"#7fbc41\"],[0.9,\"#4d9221\"],[1,\"#276419\"]]},\"xaxis\":{\"gridcolor\":\"white\",\"linecolor\":\"white\",\"ticks\":\"\",\"title\":{\"standoff\":15},\"zerolinecolor\":\"white\",\"automargin\":true,\"zerolinewidth\":2},\"yaxis\":{\"gridcolor\":\"white\",\"linecolor\":\"white\",\"ticks\":\"\",\"title\":{\"standoff\":15},\"zerolinecolor\":\"white\",\"automargin\":true,\"zerolinewidth\":2},\"scene\":{\"xaxis\":{\"backgroundcolor\":\"#E5ECF6\",\"gridcolor\":\"white\",\"linecolor\":\"white\",\"showbackground\":true,\"ticks\":\"\",\"zerolinecolor\":\"white\",\"gridwidth\":2},\"yaxis\":{\"backgroundcolor\":\"#E5ECF6\",\"gridcolor\":\"white\",\"linecolor\":\"white\",\"showbackground\":true,\"ticks\":\"\",\"zerolinecolor\":\"white\",\"gridwidth\":2},\"zaxis\":{\"backgroundcolor\":\"#E5ECF6\",\"gridcolor\":\"white\",\"linecolor\":\"white\",\"showbackground\":true,\"ticks\":\"\",\"zerolinecolor\":\"white\",\"gridwidth\":2}},\"shapedefaults\":{\"line\":{\"color\":\"#2a3f5f\"}},\"annotationdefaults\":{\"arrowcolor\":\"#2a3f5f\",\"arrowhead\":0,\"arrowwidth\":1},\"geo\":{\"bgcolor\":\"white\",\"landcolor\":\"#E5ECF6\",\"subunitcolor\":\"white\",\"showland\":true,\"showlakes\":true,\"lakecolor\":\"white\"},\"title\":{\"x\":0.05},\"mapbox\":{\"style\":\"light\"}}},\"scene\":{\"domain\":{\"x\":[0.0,1.0],\"y\":[0.0,1.0]},\"xaxis\":{\"title\":{\"text\":\"C-1\"}},\"yaxis\":{\"title\":{\"text\":\"C-2\"}},\"zaxis\":{\"title\":{\"text\":\"C-3\"}}},\"coloraxis\":{\"colorbar\":{\"title\":{\"text\":\"C-4\"}},\"colorscale\":[[0.0,\"#0d0887\"],[0.1111111111111111,\"#46039f\"],[0.2222222222222222,\"#7201a8\"],[0.3333333333333333,\"#9c179e\"],[0.4444444444444444,\"#bd3786\"],[0.5555555555555556,\"#d8576b\"],[0.6666666666666666,\"#ed7953\"],[0.7777777777777778,\"#fb9f3a\"],[0.8888888888888888,\"#fdca26\"],[1.0,\"#f0f921\"]]},\"legend\":{\"tracegroupgap\":0},\"margin\":{\"t\":60},\"height\":1000,\"width\":1000},                        {\"responsive\": true}                    ).then(function(){\n",
       "                            \n",
       "var gd = document.getElementById('1ef3ba6a-439c-4120-ab40-330baf55e4b9');\n",
       "var x = new MutationObserver(function (mutations, observer) {{\n",
       "        var display = window.getComputedStyle(gd).display;\n",
       "        if (!display || display === 'none') {{\n",
       "            console.log([gd, 'removed!']);\n",
       "            Plotly.purge(gd);\n",
       "            observer.disconnect();\n",
       "        }}\n",
       "}});\n",
       "\n",
       "// Listen for the removal of the full notebook cells\n",
       "var notebookContainer = gd.closest('#notebook-container');\n",
       "if (notebookContainer) {{\n",
       "    x.observe(notebookContainer, {childList: true});\n",
       "}}\n",
       "\n",
       "// Listen for the clearing of the current output cell\n",
       "var outputEl = gd.closest('.output');\n",
       "if (outputEl) {{\n",
       "    x.observe(outputEl, {childList: true});\n",
       "}}\n",
       "\n",
       "                        })                };                });            </script>        </div>"
      ]
     },
     "metadata": {},
     "output_type": "display_data"
    }
   ],
   "source": [
    "# ONLY VISUALIZING THE FIRST TWO DIMENSIONS OF THE EMBEDDING\n",
    "# MAY NOT BE THE BEST WAY TO VISUALIZE THE EMBEDDINGS FOR EMBEDDING_DIMENSION > 2\n",
    "from sklearn.decomposition import PCA\n",
    "import plotly_express as px\n",
    "def plot_embeddings():\n",
    "\n",
    "    _embedding_layer = embedding_layer.clone()\n",
    "    if _embedding_layer.shape[1] > 2:\n",
    "        if _embedding_layer.shape[1] > 3:\n",
    "            print(\"Warning: Embedding dimension greater than 3. Running PCA to extract first three dimensions.\")   \n",
    "            pca = PCA(n_components=4)\n",
    "            _embedding_layer = pca.fit_transform(embedding_layer.detach().numpy())\n",
    "        fig = px.scatter_3d(\n",
    "                x=_embedding_layer[:,0].data,\n",
    "                y=_embedding_layer[:,1].data,\n",
    "                z=_embedding_layer[:,2].data,\n",
    "                color=embedding_layer[:,3].data,\n",
    "                labels={'x': 'C-1', 'y': 'C-2', 'z': 'C-3', 'color': 'C-4'},\n",
    "                text=index_to_character,\n",
    "                # color=index_to_character,\n",
    "                height=1000,\n",
    "                width=1000,\n",
    "            )\n",
    "    else:\n",
    "        fig = px.scatter(\n",
    "            x=_embedding_layer[:,0].data,\n",
    "            y=_embedding_layer[:,1].data,\n",
    "            text=index_to_character,\n",
    "            # color=index_to_character,\n",
    "            height=800,\n",
    "            width=800,\n",
    "        )\n",
    "        fig.update_traces(textposition='top center')\n",
    "    return fig\n",
    "\n",
    "print(embedding_layer.shape)\n",
    "\n",
    "plot_embeddings()"
   ]
  },
  {
   "cell_type": "markdown",
   "metadata": {},
   "source": [
    "---"
   ]
  },
  {
   "cell_type": "code",
   "execution_count": 78,
   "metadata": {},
   "outputs": [],
   "source": [
    "# initial forward pass for diagnostics\n",
    "embeddings = embedding_layer[X_train[0:1000]]\n",
    "pre_activations = embeddings.view(-1, context_length * embedding_dimension) @ hidden_layer_weights + hidden_layer_bias\n",
    "activations = torch.tanh(pre_activations)\n",
    "logits = activations @ output_layer_weights + output_layer_bias"
   ]
  },
  {
   "cell_type": "code",
   "execution_count": 79,
   "metadata": {},
   "outputs": [
    {
     "data": {
      "text/plain": [
       "(array([ 214.,  689., 1090., 1595., 2322., 2452., 2939., 3272., 4133.,\n",
       "        4148., 4577., 4212., 4481., 4415., 4643., 4799., 5336., 5436.,\n",
       "        5149., 4995., 4684., 5333., 4994., 5452., 5627., 5351., 5611.,\n",
       "        5442., 5073., 5283., 6100., 5640., 5357., 5019., 4939., 6463.,\n",
       "        4793., 4761., 4648., 3837., 4364., 3930., 3650., 3255., 2382.,\n",
       "        2931., 2166.,  998.,  823.,  197.]),\n",
       " array([-0.98829466, -0.94863454, -0.90897443, -0.86931431, -0.8296542 ,\n",
       "        -0.78999408, -0.75033396, -0.71067385, -0.67101373, -0.63135361,\n",
       "        -0.5916935 , -0.55203338, -0.51237326, -0.47271315, -0.43305303,\n",
       "        -0.39339291, -0.3537328 , -0.31407268, -0.27441257, -0.23475245,\n",
       "        -0.19509233, -0.15543222, -0.1157721 , -0.07611198, -0.03645187,\n",
       "         0.00320825,  0.04286837,  0.08252848,  0.1221886 ,  0.16184872,\n",
       "         0.20150883,  0.24116895,  0.28082906,  0.32048918,  0.3601493 ,\n",
       "         0.39980941,  0.43946953,  0.47912965,  0.51878976,  0.55844988,\n",
       "         0.59811   ,  0.63777011,  0.67743023,  0.71709035,  0.75675046,\n",
       "         0.79641058,  0.83607069,  0.87573081,  0.91539093,  0.95505104,\n",
       "         0.99471116]),\n",
       " <BarContainer object of 50 artists>)"
      ]
     },
     "execution_count": 79,
     "metadata": {},
     "output_type": "execute_result"
    },
    {
     "data": {
      "image/png": "[encoded data removed]",
      "text/plain": [
       "<Figure size 640x480 with 1 Axes>"
      ]
     },
     "metadata": {},
     "output_type": "display_data"
    }
   ],
   "source": [
    "# https://youtu.be/P6sfmUTpUmc?si=EcT1vrXmVrLFR_Qx&t=878\n",
    "# very active tanh which is stretching activations to the extremes values which killing the gradients\n",
    "plt.hist(activations.view(-1).tolist(), bins=50)"
   ]
  },
  {
   "cell_type": "code",
   "execution_count": 80,
   "metadata": {},
   "outputs": [
    {
     "data": {
      "text/plain": [
       "(array([3.0000e+00, 5.0000e+00, 8.0000e+00, 2.3000e+01, 3.5000e+01,\n",
       "        7.5000e+01, 9.5000e+01, 1.4900e+02, 3.5100e+02, 4.0900e+02,\n",
       "        6.7700e+02, 1.0140e+03, 1.7210e+03, 2.6670e+03, 3.2030e+03,\n",
       "        5.1050e+03, 6.9750e+03, 8.5120e+03, 9.4350e+03, 1.1094e+04,\n",
       "        1.3784e+04, 1.3271e+04, 1.4886e+04, 1.5367e+04, 1.4291e+04,\n",
       "        1.4964e+04, 1.2457e+04, 1.2175e+04, 9.4400e+03, 7.4000e+03,\n",
       "        6.0420e+03, 4.3360e+03, 2.8470e+03, 2.7910e+03, 1.4270e+03,\n",
       "        1.3430e+03, 5.1200e+02, 4.2700e+02, 2.1200e+02, 2.4900e+02,\n",
       "        7.7000e+01, 4.6000e+01, 3.7000e+01, 3.7000e+01, 7.0000e+00,\n",
       "        1.4000e+01, 3.0000e+00, 1.0000e+00, 0.0000e+00, 1.0000e+00]),\n",
       " array([-2.56749368, -2.45681728, -2.34614088, -2.23546448, -2.12478808,\n",
       "        -2.01411169, -1.90343529, -1.79275889, -1.68208249, -1.57140609,\n",
       "        -1.46072969, -1.3500533 , -1.2393769 , -1.1287005 , -1.0180241 ,\n",
       "        -0.9073477 , -0.7966713 , -0.68599491, -0.57531851, -0.46464211,\n",
       "        -0.35396571, -0.24328931, -0.13261292, -0.02193652,  0.08873988,\n",
       "         0.19941628,  0.31009268,  0.42076908,  0.53144547,  0.64212187,\n",
       "         0.75279827,  0.86347467,  0.97415107,  1.08482747,  1.19550386,\n",
       "         1.30618026,  1.41685666,  1.52753306,  1.63820946,  1.74888586,\n",
       "         1.85956225,  1.97023865,  2.08091505,  2.19159145,  2.30226785,\n",
       "         2.41294425,  2.52362064,  2.63429704,  2.74497344,  2.85564984,\n",
       "         2.96632624]),\n",
       " <BarContainer object of 50 artists>)"
      ]
     },
     "execution_count": 80,
     "metadata": {},
     "output_type": "execute_result"
    },
    {
     "data": {
      "image/png": "[encoded data removed]",
      "text/plain": [
       "<Figure size 640x480 with 1 Axes>"
      ]
     },
     "metadata": {},
     "output_type": "display_data"
    }
   ],
   "source": [
    "plt.hist(pre_activations.view(-1).tolist(), bins=50)"
   ]
  },
  {
   "cell_type": "markdown",
   "metadata": {},
   "source": [
    "---"
   ]
  },
  {
   "cell_type": "code",
   "execution_count": 72,
   "metadata": {},
   "outputs": [
    {
     "name": "stdout",
     "output_type": "stream",
     "text": [
      "torch.Size([1, 200])\n",
      "torch.Size([1, 200])\n"
     ]
    }
   ],
   "source": [
    "for p in parameters:\n",
    "    p.requires_grad = True\n",
    "\n",
    "# with torch.no_grad():\n",
    "#     # https://youtu.be/P6sfmUTpUmc?si=SpZmonVTzkggqT44&t=3256\n",
    "#     # calculate the mean and stardard deviation of the pre-activations for batch normalization\n",
    "#     # (over the entire training set)\n",
    "#     # we do this so that we can make predictions on individual examples (where mean and std are\n",
    "#     # meaningless)\n",
    "#     embeddings = embedding_layer[X_train]\n",
    "#     pre_activations = embeddings.view(-1, context_length * embedding_dimension) @ hidden_layer_weights + hidden_layer_bias    \n",
    "#     batch_normalization_mean = pre_activations.mean(dim=0, keepdim=True)\n",
    "#     batch_normalization_st_dev = pre_activations.std(dim=0, keepdim=True)\n",
    "#     print(batch_normalization_mean.shape)\n",
    "#     print(batch_normalization_st_dev.shape)"
   ]
  },
  {
   "cell_type": "code",
   "execution_count": 69,
   "metadata": {},
   "outputs": [],
   "source": [
    "# in practice we perform updates on minibatches of data   \n",
    "losses = []"
   ]
  },
  {
   "cell_type": "code",
   "execution_count": 71,
   "metadata": {},
   "outputs": [
    {
     "name": "stdout",
     "output_type": "stream",
     "text": [
      "Training Loss (average): 2.203\n",
      "Training Loss (average): 2.194\n",
      "Training Loss (average): 2.194\n",
      "Training Loss (average): 2.194\n",
      "Training Loss (average): 2.190\n",
      "Training Loss (average): 2.188\n",
      "Training Loss (average): 2.185\n",
      "Training Loss (average): 2.192\n",
      "Training Loss (average): 2.188\n",
      "Training Loss (average): 2.188\n",
      "Training Loss (average): 2.179\n",
      "Training Loss (average): 2.181\n",
      "Training Loss (average): 2.189\n",
      "Training Loss (average): 2.171\n",
      "Training Loss (average): 2.186\n",
      "Training Loss (average): 2.155\n",
      "Training Loss (average): 2.174\n",
      "Training Loss (average): 2.164\n",
      "Training Loss (average): 2.176\n",
      "Training Loss (average): 2.162\n",
      "---\n",
      "Validation Loss: 2.224\n"
     ]
    },
    {
     "data": {
      "image/png": "[encoded data removed]",
      "text/plain": [
       "<Figure size 640x480 with 1 Axes>"
      ]
     },
     "metadata": {},
     "output_type": "display_data"
    },
    {
     "name": "stdout",
     "output_type": "stream",
     "text": [
      "Warning: Embedding dimension greater than 3. Running PCA to extract first three dimensions.\n"
     ]
    },
    {
     "data": {
      "application/vnd.plotly.v1+json": {
       "config": {
        "plotlyServerURL": "https://plot.ly"
       },
       "data": [
        {
         "hovertemplate": "C-1=%{x}<br>C-2=%{y}<br>C-3=%{z}<br>text=%{text}<br>C-4=%{marker.color}<extra></extra>",
         "legendgroup": "",
         "marker": {
          "color": [
           -0.06748011708259583,
           -0.49134236574172974,
           0.7598799467086792,
           0.16643014550209045,
           -0.6488973498344421,
           -0.6577147245407104,
           1.1671370267868042,
           1.0954701900482178,
           2.085379123687744,
           -1.3747414350509644,
           0.5879347920417786,
           -0.07412346452474594,
           1.7123185396194458,
           1.1511101722717285,
           -0.04186536744236946,
           0.7544256448745728,
           0.11740057170391083,
           -1.80269455909729,
           0.533923327922821,
           0.31370842456817627,
           0.43173709511756897,
           -0.4693012237548828,
           -0.26619142293930054,
           2.0320897102355957,
           1.0611069202423096,
           0.7835016250610352,
           -0.0677453875541687
          ],
          "coloraxis": "coloraxis",
          "symbol": "circle"
         },
         "mode": "markers+text",
         "name": "",
         "scene": "scene",
         "showlegend": false,
         "text": [
          ".",
          "a",
          "b",
          "c",
          "d",
          "e",
          "f",
          "g",
          "h",
          "i",
          "j",
          "k",
          "l",
          "m",
          "n",
          "o",
          "p",
          "q",
          "r",
          "s",
          "t",
          "u",
          "v",
          "w",
          "x",
          "y",
          "z"
         ],
         "type": "scatter3d",
         "x": [
          0.020503375679254532,
          -0.17096374928951263,
          -0.010448125191032887,
          2.7686755657196045,
          0.5124421119689941,
          -0.444645494222641,
          0.32558056712150574,
          -0.4732988178730011,
          -1.4552183151245117,
          -0.4901861250400543,
          -1.3900169134140015,
          0.45698902010917664,
          1.2449954748153687,
          -0.7805769443511963,
          0.059238895773887634,
          -2.42997145652771,
          1.690643310546875,
          3.413830041885376,
          0.6267997026443481,
          0.32021015882492065,
          0.14651420712471008,
          -1.9229865074157715,
          -1.1568721532821655,
          -0.5290826559066772,
          0.2709927260875702,
          -1.4047389030456543,
          0.801589846611023
         ],
         "y": [
          -0.031635284423828125,
          0.6432377099990845,
          -2.1160497665405273,
          3.023670196533203,
          -0.8133397698402405,
          0.2549097537994385,
          -0.5951311588287354,
          -0.16909432411193848,
          -1.1122281551361084,
          0.6067359447479248,
          0.5416249632835388,
          -0.980837881565094,
          -0.6192107796669006,
          2.4612083435058594,
          0.5538887977600098,
          0.19260923564434052,
          -0.6574994325637817,
          -0.00682302750647068,
          0.13104088604450226,
          -1.267707109451294,
          -1.7327038049697876,
          1.5966742038726807,
          -0.6415272355079651,
          -0.41020941734313965,
          -0.6512292623519897,
          0.9401403665542603,
          0.8594850897789001
         ],
         "z": [
          0.09488793462514877,
          0.0781216025352478,
          0.9687392711639404,
          0.7381041646003723,
          -0.24302725493907928,
          0.7985156774520874,
          1.6532847881317139,
          0.36504802107810974,
          0.3594820201396942,
          0.958332896232605,
          -2.021789073944092,
          -0.5730220079421997,
          0.08165016025304794,
          1.2381070852279663,
          -0.44193387031555176,
          0.3370816111564636,
          2.1766977310180664,
          -1.8923778533935547,
          -0.4370613396167755,
          -1.6102395057678223,
          -0.3864688575267792,
          -0.8306308388710022,
          -0.9859029650688171,
          1.0560654401779175,
          0.5573909878730774,
          -0.5336016416549683,
          -1.5054528713226318
         ]
        }
       ],
       "layout": {
        "coloraxis": {
         "colorbar": {
          "title": {
           "text": "C-4"
          }
         },
         "colorscale": [
          [
           0,
           "#0d0887"
          ],
          [
           0.1111111111111111,
           "#46039f"
          ],
          [
           0.2222222222222222,
           "#7201a8"
          ],
          [
           0.3333333333333333,
           "#9c179e"
          ],
          [
           0.4444444444444444,
           "#bd3786"
          ],
          [
           0.5555555555555556,
           "#d8576b"
          ],
          [
           0.6666666666666666,
           "#ed7953"
          ],
          [
           0.7777777777777778,
           "#fb9f3a"
          ],
          [
           0.8888888888888888,
           "#fdca26"
          ],
          [
           1,
           "#f0f921"
          ]
         ]
        },
        "height": 1000,
        "legend": {
         "tracegroupgap": 0
        },
        "margin": {
         "t": 60
        },
        "scene": {
         "domain": {
          "x": [
           0,
           1
          ],
          "y": [
           0,
           1
          ]
         },
         "xaxis": {
          "title": {
           "text": "C-1"
          }
         },
         "yaxis": {
          "title": {
           "text": "C-2"
          }
         },
         "zaxis": {
          "title": {
           "text": "C-3"
          }
         }
        },
        "template": {
         "data": {
          "bar": [
           {
            "error_x": {
             "color": "#2a3f5f"
            },
            "error_y": {
             "color": "#2a3f5f"
            },
            "marker": {
             "line": {
              "color": "#E5ECF6",
              "width": 0.5
             },
             "pattern": {
              "fillmode": "overlay",
              "size": 10,
              "solidity": 0.2
             }
            },
            "type": "bar"
           }
          ],
          "barpolar": [
           {
            "marker": {
             "line": {
              "color": "#E5ECF6",
              "width": 0.5
             },
             "pattern": {
              "fillmode": "overlay",
              "size": 10,
              "solidity": 0.2
             }
            },
            "type": "barpolar"
           }
          ],
          "carpet": [
           {
            "aaxis": {
             "endlinecolor": "#2a3f5f",
             "gridcolor": "white",
             "linecolor": "white",
             "minorgridcolor": "white",
             "startlinecolor": "#2a3f5f"
            },
            "baxis": {
             "endlinecolor": "#2a3f5f",
             "gridcolor": "white",
             "linecolor": "white",
             "minorgridcolor": "white",
             "startlinecolor": "#2a3f5f"
            },
            "type": "carpet"
           }
          ],
          "choropleth": [
           {
            "colorbar": {
             "outlinewidth": 0,
             "ticks": ""
            },
            "type": "choropleth"
           }
          ],
          "contour": [
           {
            "colorbar": {
             "outlinewidth": 0,
             "ticks": ""
            },
            "colorscale": [
             [
              0,
              "#0d0887"
             ],
             [
              0.1111111111111111,
              "#46039f"
             ],
             [
              0.2222222222222222,
              "#7201a8"
             ],
             [
              0.3333333333333333,
              "#9c179e"
             ],
             [
              0.4444444444444444,
              "#bd3786"
             ],
             [
              0.5555555555555556,
              "#d8576b"
             ],
             [
              0.6666666666666666,
              "#ed7953"
             ],
             [
              0.7777777777777778,
              "#fb9f3a"
             ],
             [
              0.8888888888888888,
              "#fdca26"
             ],
             [
              1,
              "#f0f921"
             ]
            ],
            "type": "contour"
           }
          ],
          "contourcarpet": [
           {
            "colorbar": {
             "outlinewidth": 0,
             "ticks": ""
            },
            "type": "contourcarpet"
           }
          ],
          "heatmap": [
           {
            "colorbar": {
             "outlinewidth": 0,
             "ticks": ""
            },
            "colorscale": [
             [
              0,
              "#0d0887"
             ],
             [
              0.1111111111111111,
              "#46039f"
             ],
             [
              0.2222222222222222,
              "#7201a8"
             ],
             [
              0.3333333333333333,
              "#9c179e"
             ],
             [
              0.4444444444444444,
              "#bd3786"
             ],
             [
              0.5555555555555556,
              "#d8576b"
             ],
             [
              0.6666666666666666,
              "#ed7953"
             ],
             [
              0.7777777777777778,
              "#fb9f3a"
             ],
             [
              0.8888888888888888,
              "#fdca26"
             ],
             [
              1,
              "#f0f921"
             ]
            ],
            "type": "heatmap"
           }
          ],
          "heatmapgl": [
           {
            "colorbar": {
             "outlinewidth": 0,
             "ticks": ""
            },
            "colorscale": [
             [
              0,
              "#0d0887"
             ],
             [
              0.1111111111111111,
              "#46039f"
             ],
             [
              0.2222222222222222,
              "#7201a8"
             ],
             [
              0.3333333333333333,
              "#9c179e"
             ],
             [
              0.4444444444444444,
              "#bd3786"
             ],
             [
              0.5555555555555556,
              "#d8576b"
             ],
             [
              0.6666666666666666,
              "#ed7953"
             ],
             [
              0.7777777777777778,
              "#fb9f3a"
             ],
             [
              0.8888888888888888,
              "#fdca26"
             ],
             [
              1,
              "#f0f921"
             ]
            ],
            "type": "heatmapgl"
           }
          ],
          "histogram": [
           {
            "marker": {
             "pattern": {
              "fillmode": "overlay",
              "size": 10,
              "solidity": 0.2
             }
            },
            "type": "histogram"
           }
          ],
          "histogram2d": [
           {
            "colorbar": {
             "outlinewidth": 0,
             "ticks": ""
            },
            "colorscale": [
             [
              0,
              "#0d0887"
             ],
             [
              0.1111111111111111,
              "#46039f"
             ],
             [
              0.2222222222222222,
              "#7201a8"
             ],
             [
              0.3333333333333333,
              "#9c179e"
             ],
             [
              0.4444444444444444,
              "#bd3786"
             ],
             [
              0.5555555555555556,
              "#d8576b"
             ],
             [
              0.6666666666666666,
              "#ed7953"
             ],
             [
              0.7777777777777778,
              "#fb9f3a"
             ],
             [
              0.8888888888888888,
              "#fdca26"
             ],
             [
              1,
              "#f0f921"
             ]
            ],
            "type": "histogram2d"
           }
          ],
          "histogram2dcontour": [
           {
            "colorbar": {
             "outlinewidth": 0,
             "ticks": ""
            },
            "colorscale": [
             [
              0,
              "#0d0887"
             ],
             [
              0.1111111111111111,
              "#46039f"
             ],
             [
              0.2222222222222222,
              "#7201a8"
             ],
             [
              0.3333333333333333,
              "#9c179e"
             ],
             [
              0.4444444444444444,
              "#bd3786"
             ],
             [
              0.5555555555555556,
              "#d8576b"
             ],
             [
              0.6666666666666666,
              "#ed7953"
             ],
             [
              0.7777777777777778,
              "#fb9f3a"
             ],
             [
              0.8888888888888888,
              "#fdca26"
             ],
             [
              1,
              "#f0f921"
             ]
            ],
            "type": "histogram2dcontour"
           }
          ],
          "mesh3d": [
           {
            "colorbar": {
             "outlinewidth": 0,
             "ticks": ""
            },
            "type": "mesh3d"
           }
          ],
          "parcoords": [
           {
            "line": {
             "colorbar": {
              "outlinewidth": 0,
              "ticks": ""
             }
            },
            "type": "parcoords"
           }
          ],
          "pie": [
           {
            "automargin": true,
            "type": "pie"
           }
          ],
          "scatter": [
           {
            "fillpattern": {
             "fillmode": "overlay",
             "size": 10,
             "solidity": 0.2
            },
            "type": "scatter"
           }
          ],
          "scatter3d": [
           {
            "line": {
             "colorbar": {
              "outlinewidth": 0,
              "ticks": ""
             }
            },
            "marker": {
             "colorbar": {
              "outlinewidth": 0,
              "ticks": ""
             }
            },
            "type": "scatter3d"
           }
          ],
          "scattercarpet": [
           {
            "marker": {
             "colorbar": {
              "outlinewidth": 0,
              "ticks": ""
             }
            },
            "type": "scattercarpet"
           }
          ],
          "scattergeo": [
           {
            "marker": {
             "colorbar": {
              "outlinewidth": 0,
              "ticks": ""
             }
            },
            "type": "scattergeo"
           }
          ],
          "scattergl": [
           {
            "marker": {
             "colorbar": {
              "outlinewidth": 0,
              "ticks": ""
             }
            },
            "type": "scattergl"
           }
          ],
          "scattermapbox": [
           {
            "marker": {
             "colorbar": {
              "outlinewidth": 0,
              "ticks": ""
             }
            },
            "type": "scattermapbox"
           }
          ],
          "scatterpolar": [
           {
            "marker": {
             "colorbar": {
              "outlinewidth": 0,
              "ticks": ""
             }
            },
            "type": "scatterpolar"
           }
          ],
          "scatterpolargl": [
           {
            "marker": {
             "colorbar": {
              "outlinewidth": 0,
              "ticks": ""
             }
            },
            "type": "scatterpolargl"
           }
          ],
          "scatterternary": [
           {
            "marker": {
             "colorbar": {
              "outlinewidth": 0,
              "ticks": ""
             }
            },
            "type": "scatterternary"
           }
          ],
          "surface": [
           {
            "colorbar": {
             "outlinewidth": 0,
             "ticks": ""
            },
            "colorscale": [
             [
              0,
              "#0d0887"
             ],
             [
              0.1111111111111111,
              "#46039f"
             ],
             [
              0.2222222222222222,
              "#7201a8"
             ],
             [
              0.3333333333333333,
              "#9c179e"
             ],
             [
              0.4444444444444444,
              "#bd3786"
             ],
             [
              0.5555555555555556,
              "#d8576b"
             ],
             [
              0.6666666666666666,
              "#ed7953"
             ],
             [
              0.7777777777777778,
              "#fb9f3a"
             ],
             [
              0.8888888888888888,
              "#fdca26"
             ],
             [
              1,
              "#f0f921"
             ]
            ],
            "type": "surface"
           }
          ],
          "table": [
           {
            "cells": {
             "fill": {
              "color": "#EBF0F8"
             },
             "line": {
              "color": "white"
             }
            },
            "header": {
             "fill": {
              "color": "#C8D4E3"
             },
             "line": {
              "color": "white"
             }
            },
            "type": "table"
           }
          ]
         },
         "layout": {
          "annotationdefaults": {
           "arrowcolor": "#2a3f5f",
           "arrowhead": 0,
           "arrowwidth": 1
          },
          "autotypenumbers": "strict",
          "coloraxis": {
           "colorbar": {
            "outlinewidth": 0,
            "ticks": ""
           }
          },
          "colorscale": {
           "diverging": [
            [
             0,
             "#8e0152"
            ],
            [
             0.1,
             "#c51b7d"
            ],
            [
             0.2,
             "#de77ae"
            ],
            [
             0.3,
             "#f1b6da"
            ],
            [
             0.4,
             "#fde0ef"
            ],
            [
             0.5,
             "#f7f7f7"
            ],
            [
             0.6,
             "#e6f5d0"
            ],
            [
             0.7,
             "#b8e186"
            ],
            [
             0.8,
             "#7fbc41"
            ],
            [
             0.9,
             "#4d9221"
            ],
            [
             1,
             "#276419"
            ]
           ],
           "sequential": [
            [
             0,
             "#0d0887"
            ],
            [
             0.1111111111111111,
             "#46039f"
            ],
            [
             0.2222222222222222,
             "#7201a8"
            ],
            [
             0.3333333333333333,
             "#9c179e"
            ],
            [
             0.4444444444444444,
             "#bd3786"
            ],
            [
             0.5555555555555556,
             "#d8576b"
            ],
            [
             0.6666666666666666,
             "#ed7953"
            ],
            [
             0.7777777777777778,
             "#fb9f3a"
            ],
            [
             0.8888888888888888,
             "#fdca26"
            ],
            [
             1,
             "#f0f921"
            ]
           ],
           "sequentialminus": [
            [
             0,
             "#0d0887"
            ],
            [
             0.1111111111111111,
             "#46039f"
            ],
            [
             0.2222222222222222,
             "#7201a8"
            ],
            [
             0.3333333333333333,
             "#9c179e"
            ],
            [
             0.4444444444444444,
             "#bd3786"
            ],
            [
             0.5555555555555556,
             "#d8576b"
            ],
            [
             0.6666666666666666,
             "#ed7953"
            ],
            [
             0.7777777777777778,
             "#fb9f3a"
            ],
            [
             0.8888888888888888,
             "#fdca26"
            ],
            [
             1,
             "#f0f921"
            ]
           ]
          },
          "colorway": [
           "#636efa",
           "#EF553B",
           "#00cc96",
           "#ab63fa",
           "#FFA15A",
           "#19d3f3",
           "#FF6692",
           "#B6E880",
           "#FF97FF",
           "#FECB52"
          ],
          "font": {
           "color": "#2a3f5f"
          },
          "geo": {
           "bgcolor": "white",
           "lakecolor": "white",
           "landcolor": "#E5ECF6",
           "showlakes": true,
           "showland": true,
           "subunitcolor": "white"
          },
          "hoverlabel": {
           "align": "left"
          },
          "hovermode": "closest",
          "mapbox": {
           "style": "light"
          },
          "paper_bgcolor": "white",
          "plot_bgcolor": "#E5ECF6",
          "polar": {
           "angularaxis": {
            "gridcolor": "white",
            "linecolor": "white",
            "ticks": ""
           },
           "bgcolor": "#E5ECF6",
           "radialaxis": {
            "gridcolor": "white",
            "linecolor": "white",
            "ticks": ""
           }
          },
          "scene": {
           "xaxis": {
            "backgroundcolor": "#E5ECF6",
            "gridcolor": "white",
            "gridwidth": 2,
            "linecolor": "white",
            "showbackground": true,
            "ticks": "",
            "zerolinecolor": "white"
           },
           "yaxis": {
            "backgroundcolor": "#E5ECF6",
            "gridcolor": "white",
            "gridwidth": 2,
            "linecolor": "white",
            "showbackground": true,
            "ticks": "",
            "zerolinecolor": "white"
           },
           "zaxis": {
            "backgroundcolor": "#E5ECF6",
            "gridcolor": "white",
            "gridwidth": 2,
            "linecolor": "white",
            "showbackground": true,
            "ticks": "",
            "zerolinecolor": "white"
           }
          },
          "shapedefaults": {
           "line": {
            "color": "#2a3f5f"
           }
          },
          "ternary": {
           "aaxis": {
            "gridcolor": "white",
            "linecolor": "white",
            "ticks": ""
           },
           "baxis": {
            "gridcolor": "white",
            "linecolor": "white",
            "ticks": ""
           },
           "bgcolor": "#E5ECF6",
           "caxis": {
            "gridcolor": "white",
            "linecolor": "white",
            "ticks": ""
           }
          },
          "title": {
           "x": 0.05
          },
          "xaxis": {
           "automargin": true,
           "gridcolor": "white",
           "linecolor": "white",
           "ticks": "",
           "title": {
            "standoff": 15
           },
           "zerolinecolor": "white",
           "zerolinewidth": 2
          },
          "yaxis": {
           "automargin": true,
           "gridcolor": "white",
           "linecolor": "white",
           "ticks": "",
           "title": {
            "standoff": 15
           },
           "zerolinecolor": "white",
           "zerolinewidth": 2
          }
         }
        },
        "width": 1000
       }
      },
      "text/html": [
       "<div>                            <div id=\"362767ce-be39-4ee0-875b-4d46e69186f3\" class=\"plotly-graph-div\" style=\"height:1000px; width:1000px;\"></div>            <script type=\"text/javascript\">                require([\"plotly\"], function(Plotly) {                    window.PLOTLYENV=window.PLOTLYENV || {};                                    if (document.getElementById(\"362767ce-be39-4ee0-875b-4d46e69186f3\")) {                    Plotly.newPlot(                        \"362767ce-be39-4ee0-875b-4d46e69186f3\",                        [{\"hovertemplate\":\"C-1=%{x}\\u003cbr\\u003eC-2=%{y}\\u003cbr\\u003eC-3=%{z}\\u003cbr\\u003etext=%{text}\\u003cbr\\u003eC-4=%{marker.color}\\u003cextra\\u003e\\u003c\\u002fextra\\u003e\",\"legendgroup\":\"\",\"marker\":{\"color\":[-0.06748011708259583,-0.49134236574172974,0.7598799467086792,0.16643014550209045,-0.6488973498344421,-0.6577147245407104,1.1671370267868042,1.0954701900482178,2.085379123687744,-1.3747414350509644,0.5879347920417786,-0.07412346452474594,1.7123185396194458,1.1511101722717285,-0.04186536744236946,0.7544256448745728,0.11740057170391083,-1.80269455909729,0.533923327922821,0.31370842456817627,0.43173709511756897,-0.4693012237548828,-0.26619142293930054,2.0320897102355957,1.0611069202423096,0.7835016250610352,-0.0677453875541687],\"coloraxis\":\"coloraxis\",\"symbol\":\"circle\"},\"mode\":\"markers+text\",\"name\":\"\",\"scene\":\"scene\",\"showlegend\":false,\"text\":[\".\",\"a\",\"b\",\"c\",\"d\",\"e\",\"f\",\"g\",\"h\",\"i\",\"j\",\"k\",\"l\",\"m\",\"n\",\"o\",\"p\",\"q\",\"r\",\"s\",\"t\",\"u\",\"v\",\"w\",\"x\",\"y\",\"z\"],\"x\":[0.020503375679254532,-0.17096374928951263,-0.010448125191032887,2.7686755657196045,0.5124421119689941,-0.444645494222641,0.32558056712150574,-0.4732988178730011,-1.4552183151245117,-0.4901861250400543,-1.3900169134140015,0.45698902010917664,1.2449954748153687,-0.7805769443511963,0.059238895773887634,-2.42997145652771,1.690643310546875,3.413830041885376,0.6267997026443481,0.32021015882492065,0.14651420712471008,-1.9229865074157715,-1.1568721532821655,-0.5290826559066772,0.2709927260875702,-1.4047389030456543,0.801589846611023],\"y\":[-0.031635284423828125,0.6432377099990845,-2.1160497665405273,3.023670196533203,-0.8133397698402405,0.2549097537994385,-0.5951311588287354,-0.16909432411193848,-1.1122281551361084,0.6067359447479248,0.5416249632835388,-0.980837881565094,-0.6192107796669006,2.4612083435058594,0.5538887977600098,0.19260923564434052,-0.6574994325637817,-0.00682302750647068,0.13104088604450226,-1.267707109451294,-1.7327038049697876,1.5966742038726807,-0.6415272355079651,-0.41020941734313965,-0.6512292623519897,0.9401403665542603,0.8594850897789001],\"z\":[0.09488793462514877,0.0781216025352478,0.9687392711639404,0.7381041646003723,-0.24302725493907928,0.7985156774520874,1.6532847881317139,0.36504802107810974,0.3594820201396942,0.958332896232605,-2.021789073944092,-0.5730220079421997,0.08165016025304794,1.2381070852279663,-0.44193387031555176,0.3370816111564636,2.1766977310180664,-1.8923778533935547,-0.4370613396167755,-1.6102395057678223,-0.3864688575267792,-0.8306308388710022,-0.9859029650688171,1.0560654401779175,0.5573909878730774,-0.5336016416549683,-1.5054528713226318],\"type\":\"scatter3d\"}],                        {\"template\":{\"data\":{\"histogram2dcontour\":[{\"type\":\"histogram2dcontour\",\"colorbar\":{\"outlinewidth\":0,\"ticks\":\"\"},\"colorscale\":[[0.0,\"#0d0887\"],[0.1111111111111111,\"#46039f\"],[0.2222222222222222,\"#7201a8\"],[0.3333333333333333,\"#9c179e\"],[0.4444444444444444,\"#bd3786\"],[0.5555555555555556,\"#d8576b\"],[0.6666666666666666,\"#ed7953\"],[0.7777777777777778,\"#fb9f3a\"],[0.8888888888888888,\"#fdca26\"],[1.0,\"#f0f921\"]]}],\"choropleth\":[{\"type\":\"choropleth\",\"colorbar\":{\"outlinewidth\":0,\"ticks\":\"\"}}],\"histogram2d\":[{\"type\":\"histogram2d\",\"colorbar\":{\"outlinewidth\":0,\"ticks\":\"\"},\"colorscale\":[[0.0,\"#0d0887\"],[0.1111111111111111,\"#46039f\"],[0.2222222222222222,\"#7201a8\"],[0.3333333333333333,\"#9c179e\"],[0.4444444444444444,\"#bd3786\"],[0.5555555555555556,\"#d8576b\"],[0.6666666666666666,\"#ed7953\"],[0.7777777777777778,\"#fb9f3a\"],[0.8888888888888888,\"#fdca26\"],[1.0,\"#f0f921\"]]}],\"heatmap\":[{\"type\":\"heatmap\",\"colorbar\":{\"outlinewidth\":0,\"ticks\":\"\"},\"colorscale\":[[0.0,\"#0d0887\"],[0.1111111111111111,\"#46039f\"],[0.2222222222222222,\"#7201a8\"],[0.3333333333333333,\"#9c179e\"],[0.4444444444444444,\"#bd3786\"],[0.5555555555555556,\"#d8576b\"],[0.6666666666666666,\"#ed7953\"],[0.7777777777777778,\"#fb9f3a\"],[0.8888888888888888,\"#fdca26\"],[1.0,\"#f0f921\"]]}],\"heatmapgl\":[{\"type\":\"heatmapgl\",\"colorbar\":{\"outlinewidth\":0,\"ticks\":\"\"},\"colorscale\":[[0.0,\"#0d0887\"],[0.1111111111111111,\"#46039f\"],[0.2222222222222222,\"#7201a8\"],[0.3333333333333333,\"#9c179e\"],[0.4444444444444444,\"#bd3786\"],[0.5555555555555556,\"#d8576b\"],[0.6666666666666666,\"#ed7953\"],[0.7777777777777778,\"#fb9f3a\"],[0.8888888888888888,\"#fdca26\"],[1.0,\"#f0f921\"]]}],\"contourcarpet\":[{\"type\":\"contourcarpet\",\"colorbar\":{\"outlinewidth\":0,\"ticks\":\"\"}}],\"contour\":[{\"type\":\"contour\",\"colorbar\":{\"outlinewidth\":0,\"ticks\":\"\"},\"colorscale\":[[0.0,\"#0d0887\"],[0.1111111111111111,\"#46039f\"],[0.2222222222222222,\"#7201a8\"],[0.3333333333333333,\"#9c179e\"],[0.4444444444444444,\"#bd3786\"],[0.5555555555555556,\"#d8576b\"],[0.6666666666666666,\"#ed7953\"],[0.7777777777777778,\"#fb9f3a\"],[0.8888888888888888,\"#fdca26\"],[1.0,\"#f0f921\"]]}],\"surface\":[{\"type\":\"surface\",\"colorbar\":{\"outlinewidth\":0,\"ticks\":\"\"},\"colorscale\":[[0.0,\"#0d0887\"],[0.1111111111111111,\"#46039f\"],[0.2222222222222222,\"#7201a8\"],[0.3333333333333333,\"#9c179e\"],[0.4444444444444444,\"#bd3786\"],[0.5555555555555556,\"#d8576b\"],[0.6666666666666666,\"#ed7953\"],[0.7777777777777778,\"#fb9f3a\"],[0.8888888888888888,\"#fdca26\"],[1.0,\"#f0f921\"]]}],\"mesh3d\":[{\"type\":\"mesh3d\",\"colorbar\":{\"outlinewidth\":0,\"ticks\":\"\"}}],\"scatter\":[{\"fillpattern\":{\"fillmode\":\"overlay\",\"size\":10,\"solidity\":0.2},\"type\":\"scatter\"}],\"parcoords\":[{\"type\":\"parcoords\",\"line\":{\"colorbar\":{\"outlinewidth\":0,\"ticks\":\"\"}}}],\"scatterpolargl\":[{\"type\":\"scatterpolargl\",\"marker\":{\"colorbar\":{\"outlinewidth\":0,\"ticks\":\"\"}}}],\"bar\":[{\"error_x\":{\"color\":\"#2a3f5f\"},\"error_y\":{\"color\":\"#2a3f5f\"},\"marker\":{\"line\":{\"color\":\"#E5ECF6\",\"width\":0.5},\"pattern\":{\"fillmode\":\"overlay\",\"size\":10,\"solidity\":0.2}},\"type\":\"bar\"}],\"scattergeo\":[{\"type\":\"scattergeo\",\"marker\":{\"colorbar\":{\"outlinewidth\":0,\"ticks\":\"\"}}}],\"scatterpolar\":[{\"type\":\"scatterpolar\",\"marker\":{\"colorbar\":{\"outlinewidth\":0,\"ticks\":\"\"}}}],\"histogram\":[{\"marker\":{\"pattern\":{\"fillmode\":\"overlay\",\"size\":10,\"solidity\":0.2}},\"type\":\"histogram\"}],\"scattergl\":[{\"type\":\"scattergl\",\"marker\":{\"colorbar\":{\"outlinewidth\":0,\"ticks\":\"\"}}}],\"scatter3d\":[{\"type\":\"scatter3d\",\"line\":{\"colorbar\":{\"outlinewidth\":0,\"ticks\":\"\"}},\"marker\":{\"colorbar\":{\"outlinewidth\":0,\"ticks\":\"\"}}}],\"scattermapbox\":[{\"type\":\"scattermapbox\",\"marker\":{\"colorbar\":{\"outlinewidth\":0,\"ticks\":\"\"}}}],\"scatterternary\":[{\"type\":\"scatterternary\",\"marker\":{\"colorbar\":{\"outlinewidth\":0,\"ticks\":\"\"}}}],\"scattercarpet\":[{\"type\":\"scattercarpet\",\"marker\":{\"colorbar\":{\"outlinewidth\":0,\"ticks\":\"\"}}}],\"carpet\":[{\"aaxis\":{\"endlinecolor\":\"#2a3f5f\",\"gridcolor\":\"white\",\"linecolor\":\"white\",\"minorgridcolor\":\"white\",\"startlinecolor\":\"#2a3f5f\"},\"baxis\":{\"endlinecolor\":\"#2a3f5f\",\"gridcolor\":\"white\",\"linecolor\":\"white\",\"minorgridcolor\":\"white\",\"startlinecolor\":\"#2a3f5f\"},\"type\":\"carpet\"}],\"table\":[{\"cells\":{\"fill\":{\"color\":\"#EBF0F8\"},\"line\":{\"color\":\"white\"}},\"header\":{\"fill\":{\"color\":\"#C8D4E3\"},\"line\":{\"color\":\"white\"}},\"type\":\"table\"}],\"barpolar\":[{\"marker\":{\"line\":{\"color\":\"#E5ECF6\",\"width\":0.5},\"pattern\":{\"fillmode\":\"overlay\",\"size\":10,\"solidity\":0.2}},\"type\":\"barpolar\"}],\"pie\":[{\"automargin\":true,\"type\":\"pie\"}]},\"layout\":{\"autotypenumbers\":\"strict\",\"colorway\":[\"#636efa\",\"#EF553B\",\"#00cc96\",\"#ab63fa\",\"#FFA15A\",\"#19d3f3\",\"#FF6692\",\"#B6E880\",\"#FF97FF\",\"#FECB52\"],\"font\":{\"color\":\"#2a3f5f\"},\"hovermode\":\"closest\",\"hoverlabel\":{\"align\":\"left\"},\"paper_bgcolor\":\"white\",\"plot_bgcolor\":\"#E5ECF6\",\"polar\":{\"bgcolor\":\"#E5ECF6\",\"angularaxis\":{\"gridcolor\":\"white\",\"linecolor\":\"white\",\"ticks\":\"\"},\"radialaxis\":{\"gridcolor\":\"white\",\"linecolor\":\"white\",\"ticks\":\"\"}},\"ternary\":{\"bgcolor\":\"#E5ECF6\",\"aaxis\":{\"gridcolor\":\"white\",\"linecolor\":\"white\",\"ticks\":\"\"},\"baxis\":{\"gridcolor\":\"white\",\"linecolor\":\"white\",\"ticks\":\"\"},\"caxis\":{\"gridcolor\":\"white\",\"linecolor\":\"white\",\"ticks\":\"\"}},\"coloraxis\":{\"colorbar\":{\"outlinewidth\":0,\"ticks\":\"\"}},\"colorscale\":{\"sequential\":[[0.0,\"#0d0887\"],[0.1111111111111111,\"#46039f\"],[0.2222222222222222,\"#7201a8\"],[0.3333333333333333,\"#9c179e\"],[0.4444444444444444,\"#bd3786\"],[0.5555555555555556,\"#d8576b\"],[0.6666666666666666,\"#ed7953\"],[0.7777777777777778,\"#fb9f3a\"],[0.8888888888888888,\"#fdca26\"],[1.0,\"#f0f921\"]],\"sequentialminus\":[[0.0,\"#0d0887\"],[0.1111111111111111,\"#46039f\"],[0.2222222222222222,\"#7201a8\"],[0.3333333333333333,\"#9c179e\"],[0.4444444444444444,\"#bd3786\"],[0.5555555555555556,\"#d8576b\"],[0.6666666666666666,\"#ed7953\"],[0.7777777777777778,\"#fb9f3a\"],[0.8888888888888888,\"#fdca26\"],[1.0,\"#f0f921\"]],\"diverging\":[[0,\"#8e0152\"],[0.1,\"#c51b7d\"],[0.2,\"#de77ae\"],[0.3,\"#f1b6da\"],[0.4,\"#fde0ef\"],[0.5,\"#f7f7f7\"],[0.6,\"#e6f5d0\"],[0.7,\"#b8e186\"],[0.8,\"#7fbc41\"],[0.9,\"#4d9221\"],[1,\"#276419\"]]},\"xaxis\":{\"gridcolor\":\"white\",\"linecolor\":\"white\",\"ticks\":\"\",\"title\":{\"standoff\":15},\"zerolinecolor\":\"white\",\"automargin\":true,\"zerolinewidth\":2},\"yaxis\":{\"gridcolor\":\"white\",\"linecolor\":\"white\",\"ticks\":\"\",\"title\":{\"standoff\":15},\"zerolinecolor\":\"white\",\"automargin\":true,\"zerolinewidth\":2},\"scene\":{\"xaxis\":{\"backgroundcolor\":\"#E5ECF6\",\"gridcolor\":\"white\",\"linecolor\":\"white\",\"showbackground\":true,\"ticks\":\"\",\"zerolinecolor\":\"white\",\"gridwidth\":2},\"yaxis\":{\"backgroundcolor\":\"#E5ECF6\",\"gridcolor\":\"white\",\"linecolor\":\"white\",\"showbackground\":true,\"ticks\":\"\",\"zerolinecolor\":\"white\",\"gridwidth\":2},\"zaxis\":{\"backgroundcolor\":\"#E5ECF6\",\"gridcolor\":\"white\",\"linecolor\":\"white\",\"showbackground\":true,\"ticks\":\"\",\"zerolinecolor\":\"white\",\"gridwidth\":2}},\"shapedefaults\":{\"line\":{\"color\":\"#2a3f5f\"}},\"annotationdefaults\":{\"arrowcolor\":\"#2a3f5f\",\"arrowhead\":0,\"arrowwidth\":1},\"geo\":{\"bgcolor\":\"white\",\"landcolor\":\"#E5ECF6\",\"subunitcolor\":\"white\",\"showland\":true,\"showlakes\":true,\"lakecolor\":\"white\"},\"title\":{\"x\":0.05},\"mapbox\":{\"style\":\"light\"}}},\"scene\":{\"domain\":{\"x\":[0.0,1.0],\"y\":[0.0,1.0]},\"xaxis\":{\"title\":{\"text\":\"C-1\"}},\"yaxis\":{\"title\":{\"text\":\"C-2\"}},\"zaxis\":{\"title\":{\"text\":\"C-3\"}}},\"coloraxis\":{\"colorbar\":{\"title\":{\"text\":\"C-4\"}},\"colorscale\":[[0.0,\"#0d0887\"],[0.1111111111111111,\"#46039f\"],[0.2222222222222222,\"#7201a8\"],[0.3333333333333333,\"#9c179e\"],[0.4444444444444444,\"#bd3786\"],[0.5555555555555556,\"#d8576b\"],[0.6666666666666666,\"#ed7953\"],[0.7777777777777778,\"#fb9f3a\"],[0.8888888888888888,\"#fdca26\"],[1.0,\"#f0f921\"]]},\"legend\":{\"tracegroupgap\":0},\"margin\":{\"t\":60},\"height\":1000,\"width\":1000},                        {\"responsive\": true}                    ).then(function(){\n",
       "                            \n",
       "var gd = document.getElementById('362767ce-be39-4ee0-875b-4d46e69186f3');\n",
       "var x = new MutationObserver(function (mutations, observer) {{\n",
       "        var display = window.getComputedStyle(gd).display;\n",
       "        if (!display || display === 'none') {{\n",
       "            console.log([gd, 'removed!']);\n",
       "            Plotly.purge(gd);\n",
       "            observer.disconnect();\n",
       "        }}\n",
       "}});\n",
       "\n",
       "// Listen for the removal of the full notebook cells\n",
       "var notebookContainer = gd.closest('#notebook-container');\n",
       "if (notebookContainer) {{\n",
       "    x.observe(notebookContainer, {childList: true});\n",
       "}}\n",
       "\n",
       "// Listen for the clearing of the current output cell\n",
       "var outputEl = gd.closest('.output');\n",
       "if (outputEl) {{\n",
       "    x.observe(outputEl, {childList: true});\n",
       "}}\n",
       "\n",
       "                        })                };                });            </script>        </div>"
      ]
     },
     "metadata": {},
     "output_type": "display_data"
    }
   ],
   "source": [
    "steps = 20000\n",
    "# learning_rate = 0.1  # used in first run\n",
    "learning_ratse = 0.01  # used in second run\n",
    "# learning_rate = 0.001  # used in third run\n",
    "batch_size = 32\n",
    "\n",
    "sub_losses = []\n",
    "for index in range(steps):\n",
    "    batch_indices = torch.randint(low=0, high=X_train.shape[0], size=(batch_size,), generator=g)\n",
    "    # forward pass\n",
    "    embeddings = embedding_layer[X_train[batch_indices]]\n",
    "    pre_activations = embeddings.view(-1, context_length * embedding_dimension) @ hidden_layer_weights + hidden_layer_bias\n",
    "    # batch normalization\n",
    "    # https://youtu.be/P6sfmUTpUmc?si=9kh1cLdbp005-Df6&t=2798\n",
    "    # pre_activations = batch_norm_gain \\\n",
    "    #     * (pre_activations - pre_activations.mean(dim=0, keepdim=True)) / pre_activations.std(dim=0, keepdim=True) \\\n",
    "    #     + batch_norm_bias\n",
    "    # https://youtu.be/P6sfmUTpUmc?si=Z8IzPHk5C3JB4dnZ&t=3330\n",
    "    batch_normalization_mean = pre_activations.mean(dim=0, keepdim=True)\n",
    "    batch_normalization_st_dev = pre_activations.std(dim=0, keepdim=True)\n",
    "    pre_activations = batch_norm_gain \\\n",
    "        * (pre_activations - batch_normalization_mean) / batch_normalization_st_dev \\\n",
    "        + batch_norm_bias\n",
    "    # https://youtu.be/P6sfmUTpUmc?si=GzBWCdJjF00dI_eB&t=3378\n",
    "    # running mean and standard deviation\n",
    "    # \"janky smoothing\"\n",
    "    with torch.no_grad():\n",
    "        # we use this down below where we could make predictions on individual examples\n",
    "        batch_norm_running_mean = 0.999 * batch_norm_running_mean + 0.001 * batch_normalization_mean\n",
    "        batch_norm_running_st_dev = 0.999 * batch_norm_running_st_dev + 0.001 * batch_normalization_st_dev\n",
    "    # end batch normalization\n",
    "\n",
    "    activations = torch.tanh(pre_activations)\n",
    "    logits = activations @ output_layer_weights + output_layer_bias\n",
    "    loss = F.cross_entropy(logits, Y_train[batch_indices])\n",
    "    # losses.append(loss.item())\n",
    "    sub_losses.append(loss.item())\n",
    "    if (index + 1) % (steps / 20) == 0:\n",
    "        average_loss = sum(sub_losses) / len(sub_losses)\n",
    "        losses.append(average_loss)\n",
    "        sub_losses = []\n",
    "        print(f\"Training Loss (average): {average_loss:.3f}\")\n",
    "\n",
    "    # backwards pass\n",
    "    for p in parameters:\n",
    "        p.grad = None\n",
    "    loss.backward()\n",
    "    # update parameters\n",
    "    for p in parameters:\n",
    "        p.data -= learning_rate * p.grad\n",
    "\n",
    "print('---')\n",
    "\n",
    "with torch.no_grad():\n",
    "    # loss on VALIDATION set; the model has not seen this data\n",
    "    embeddings = embedding_layer[X_val]\n",
    "    pre_activations = embeddings.view(-1, context_length * embedding_dimension) @ hidden_layer_weights + hidden_layer_bias\n",
    "    pre_activations = batch_norm_gain \\\n",
    "            * (pre_activations - batch_norm_running_mean) / batch_norm_running_st_dev \\\n",
    "            + batch_norm_bias\n",
    "    activations = torch.tanh(pre_activations)\n",
    "    logits = activations @ output_layer_weights + output_layer_bias\n",
    "    loss = F.cross_entropy(logits, Y_val)\n",
    "    print(f\"Validation Loss: {loss:.3f}\")\n",
    "\n",
    "plt.plot([math.log10(x) for x in losses])\n",
    "plt.show()\n",
    "plot_embeddings()"
   ]
  },
  {
   "cell_type": "code",
   "execution_count": 58,
   "metadata": {},
   "outputs": [
    {
     "name": "stdout",
     "output_type": "stream",
     "text": [
      "Warning: Embedding dimension greater than 3. Running PCA to extract first three dimensions.\n"
     ]
    },
    {
     "data": {
      "application/vnd.plotly.v1+json": {
       "config": {
        "plotlyServerURL": "https://plot.ly"
       },
       "data": [
        {
         "hovertemplate": "C-1=%{x}<br>C-2=%{y}<br>C-3=%{z}<br>text=%{text}<br>C-4=%{marker.color}<extra></extra>",
         "legendgroup": "",
         "marker": {
          "color": [
           0.02381439507007599,
           -0.30632779002189636,
           -1.305296778678894,
           -0.020895663648843765,
           1.0283704996109009,
           1.467176079750061,
           2.3399131298065186,
           -2.615694284439087,
           -0.0016216246876865625,
           1.534744143486023,
           -1.5921305418014526,
           -1.0998287200927734,
           0.19999165832996368,
           -0.13684839010238647,
           -0.7342817783355713,
           0.2634953558444977,
           -0.7812654376029968,
           -1.6146777868270874,
           2.013765811920166,
           -1.8895901441574097,
           0.17922595143318176,
           -1.247055172920227,
           1.0317708253860474,
           -0.21128003299236298,
           0.4172584116458893,
           0.9376112818717957,
           0.9571154713630676
          ],
          "coloraxis": "coloraxis",
          "symbol": "circle"
         },
         "mode": "markers+text",
         "name": "",
         "scene": "scene",
         "showlegend": false,
         "text": [
          ".",
          "a",
          "b",
          "c",
          "d",
          "e",
          "f",
          "g",
          "h",
          "i",
          "j",
          "k",
          "l",
          "m",
          "n",
          "o",
          "p",
          "q",
          "r",
          "s",
          "t",
          "u",
          "v",
          "w",
          "x",
          "y",
          "z"
         ],
         "type": "scatter3d",
         "x": [
          -0.10724275559186935,
          -0.22115851938724518,
          2.4087367057800293,
          -2.8441309928894043,
          -1.699792742729187,
          0.4719056189060211,
          -1.1375646591186523,
          3.504946708679199,
          -1.4505133628845215,
          -1.9397536516189575,
          1.8540164232254028,
          0.7016250491142273,
          -0.9731373190879822,
          0.5105627775192261,
          -1.4240405559539795,
          -1.2672940492630005,
          1.4045490026474,
          2.231194019317627,
          -0.7192000150680542,
          0.23386356234550476,
          0.013897424563765526,
          -1.1216599941253662,
          -1.077473759651184,
          1.718258023262024,
          -1.5365480184555054,
          1.0406270027160645,
          1.4253284931182861
         ],
         "y": [
          -0.11453162133693695,
          0.48522162437438965,
          -1.2313146591186523,
          1.2359869480133057,
          -1.9945995807647705,
          0.3515864312648773,
          -1.2841901779174805,
          1.1208661794662476,
          1.0258396863937378,
          0.0137912193313241,
          1.1166363954544067,
          -1.2076176404953003,
          -0.6627234220504761,
          0.311959445476532,
          0.42479008436203003,
          2.6513776779174805,
          1.0649373531341553,
          2.5802931785583496,
          -1.4319660663604736,
          1.3790656328201294,
          -0.8369881510734558,
          2.4589591026306152,
          -2.421988010406494,
          -1.614507794380188,
          0.15210627019405365,
          -1.9196090698242188,
          -1.6533825397491455
         ],
         "z": [
          0.2799283564090729,
          0.5834572911262512,
          -1.8955950736999512,
          -0.3467233180999756,
          2.73173189163208,
          -0.5702052712440491,
          -1.181172251701355,
          1.3949838876724243,
          3.5360515117645264,
          -0.646795928478241,
          -1.2938505411148071,
          -0.9418016672134399,
          0.7553682923316956,
          -1.272719383239746,
          -0.4831477701663971,
          -0.0996837317943573,
          0.04283026605844498,
          1.8275238275527954,
          0.20649300515651703,
          -0.9340997338294983,
          1.315565586090088,
          -1.1895159482955933,
          -0.06749892979860306,
          0.6458005309104919,
          -2.2396650314331055,
          -1.0400773286819458,
          0.8828185796737671
         ]
        }
       ],
       "layout": {
        "coloraxis": {
         "colorbar": {
          "title": {
           "text": "C-4"
          }
         },
         "colorscale": [
          [
           0,
           "#0d0887"
          ],
          [
           0.1111111111111111,
           "#46039f"
          ],
          [
           0.2222222222222222,
           "#7201a8"
          ],
          [
           0.3333333333333333,
           "#9c179e"
          ],
          [
           0.4444444444444444,
           "#bd3786"
          ],
          [
           0.5555555555555556,
           "#d8576b"
          ],
          [
           0.6666666666666666,
           "#ed7953"
          ],
          [
           0.7777777777777778,
           "#fb9f3a"
          ],
          [
           0.8888888888888888,
           "#fdca26"
          ],
          [
           1,
           "#f0f921"
          ]
         ]
        },
        "height": 1000,
        "legend": {
         "tracegroupgap": 0
        },
        "margin": {
         "t": 60
        },
        "scene": {
         "domain": {
          "x": [
           0,
           1
          ],
          "y": [
           0,
           1
          ]
         },
         "xaxis": {
          "title": {
           "text": "C-1"
          }
         },
         "yaxis": {
          "title": {
           "text": "C-2"
          }
         },
         "zaxis": {
          "title": {
           "text": "C-3"
          }
         }
        },
        "template": {
         "data": {
          "bar": [
           {
            "error_x": {
             "color": "#2a3f5f"
            },
            "error_y": {
             "color": "#2a3f5f"
            },
            "marker": {
             "line": {
              "color": "#E5ECF6",
              "width": 0.5
             },
             "pattern": {
              "fillmode": "overlay",
              "size": 10,
              "solidity": 0.2
             }
            },
            "type": "bar"
           }
          ],
          "barpolar": [
           {
            "marker": {
             "line": {
              "color": "#E5ECF6",
              "width": 0.5
             },
             "pattern": {
              "fillmode": "overlay",
              "size": 10,
              "solidity": 0.2
             }
            },
            "type": "barpolar"
           }
          ],
          "carpet": [
           {
            "aaxis": {
             "endlinecolor": "#2a3f5f",
             "gridcolor": "white",
             "linecolor": "white",
             "minorgridcolor": "white",
             "startlinecolor": "#2a3f5f"
            },
            "baxis": {
             "endlinecolor": "#2a3f5f",
             "gridcolor": "white",
             "linecolor": "white",
             "minorgridcolor": "white",
             "startlinecolor": "#2a3f5f"
            },
            "type": "carpet"
           }
          ],
          "choropleth": [
           {
            "colorbar": {
             "outlinewidth": 0,
             "ticks": ""
            },
            "type": "choropleth"
           }
          ],
          "contour": [
           {
            "colorbar": {
             "outlinewidth": 0,
             "ticks": ""
            },
            "colorscale": [
             [
              0,
              "#0d0887"
             ],
             [
              0.1111111111111111,
              "#46039f"
             ],
             [
              0.2222222222222222,
              "#7201a8"
             ],
             [
              0.3333333333333333,
              "#9c179e"
             ],
             [
              0.4444444444444444,
              "#bd3786"
             ],
             [
              0.5555555555555556,
              "#d8576b"
             ],
             [
              0.6666666666666666,
              "#ed7953"
             ],
             [
              0.7777777777777778,
              "#fb9f3a"
             ],
             [
              0.8888888888888888,
              "#fdca26"
             ],
             [
              1,
              "#f0f921"
             ]
            ],
            "type": "contour"
           }
          ],
          "contourcarpet": [
           {
            "colorbar": {
             "outlinewidth": 0,
             "ticks": ""
            },
            "type": "contourcarpet"
           }
          ],
          "heatmap": [
           {
            "colorbar": {
             "outlinewidth": 0,
             "ticks": ""
            },
            "colorscale": [
             [
              0,
              "#0d0887"
             ],
             [
              0.1111111111111111,
              "#46039f"
             ],
             [
              0.2222222222222222,
              "#7201a8"
             ],
             [
              0.3333333333333333,
              "#9c179e"
             ],
             [
              0.4444444444444444,
              "#bd3786"
             ],
             [
              0.5555555555555556,
              "#d8576b"
             ],
             [
              0.6666666666666666,
              "#ed7953"
             ],
             [
              0.7777777777777778,
              "#fb9f3a"
             ],
             [
              0.8888888888888888,
              "#fdca26"
             ],
             [
              1,
              "#f0f921"
             ]
            ],
            "type": "heatmap"
           }
          ],
          "heatmapgl": [
           {
            "colorbar": {
             "outlinewidth": 0,
             "ticks": ""
            },
            "colorscale": [
             [
              0,
              "#0d0887"
             ],
             [
              0.1111111111111111,
              "#46039f"
             ],
             [
              0.2222222222222222,
              "#7201a8"
             ],
             [
              0.3333333333333333,
              "#9c179e"
             ],
             [
              0.4444444444444444,
              "#bd3786"
             ],
             [
              0.5555555555555556,
              "#d8576b"
             ],
             [
              0.6666666666666666,
              "#ed7953"
             ],
             [
              0.7777777777777778,
              "#fb9f3a"
             ],
             [
              0.8888888888888888,
              "#fdca26"
             ],
             [
              1,
              "#f0f921"
             ]
            ],
            "type": "heatmapgl"
           }
          ],
          "histogram": [
           {
            "marker": {
             "pattern": {
              "fillmode": "overlay",
              "size": 10,
              "solidity": 0.2
             }
            },
            "type": "histogram"
           }
          ],
          "histogram2d": [
           {
            "colorbar": {
             "outlinewidth": 0,
             "ticks": ""
            },
            "colorscale": [
             [
              0,
              "#0d0887"
             ],
             [
              0.1111111111111111,
              "#46039f"
             ],
             [
              0.2222222222222222,
              "#7201a8"
             ],
             [
              0.3333333333333333,
              "#9c179e"
             ],
             [
              0.4444444444444444,
              "#bd3786"
             ],
             [
              0.5555555555555556,
              "#d8576b"
             ],
             [
              0.6666666666666666,
              "#ed7953"
             ],
             [
              0.7777777777777778,
              "#fb9f3a"
             ],
             [
              0.8888888888888888,
              "#fdca26"
             ],
             [
              1,
              "#f0f921"
             ]
            ],
            "type": "histogram2d"
           }
          ],
          "histogram2dcontour": [
           {
            "colorbar": {
             "outlinewidth": 0,
             "ticks": ""
            },
            "colorscale": [
             [
              0,
              "#0d0887"
             ],
             [
              0.1111111111111111,
              "#46039f"
             ],
             [
              0.2222222222222222,
              "#7201a8"
             ],
             [
              0.3333333333333333,
              "#9c179e"
             ],
             [
              0.4444444444444444,
              "#bd3786"
             ],
             [
              0.5555555555555556,
              "#d8576b"
             ],
             [
              0.6666666666666666,
              "#ed7953"
             ],
             [
              0.7777777777777778,
              "#fb9f3a"
             ],
             [
              0.8888888888888888,
              "#fdca26"
             ],
             [
              1,
              "#f0f921"
             ]
            ],
            "type": "histogram2dcontour"
           }
          ],
          "mesh3d": [
           {
            "colorbar": {
             "outlinewidth": 0,
             "ticks": ""
            },
            "type": "mesh3d"
           }
          ],
          "parcoords": [
           {
            "line": {
             "colorbar": {
              "outlinewidth": 0,
              "ticks": ""
             }
            },
            "type": "parcoords"
           }
          ],
          "pie": [
           {
            "automargin": true,
            "type": "pie"
           }
          ],
          "scatter": [
           {
            "fillpattern": {
             "fillmode": "overlay",
             "size": 10,
             "solidity": 0.2
            },
            "type": "scatter"
           }
          ],
          "scatter3d": [
           {
            "line": {
             "colorbar": {
              "outlinewidth": 0,
              "ticks": ""
             }
            },
            "marker": {
             "colorbar": {
              "outlinewidth": 0,
              "ticks": ""
             }
            },
            "type": "scatter3d"
           }
          ],
          "scattercarpet": [
           {
            "marker": {
             "colorbar": {
              "outlinewidth": 0,
              "ticks": ""
             }
            },
            "type": "scattercarpet"
           }
          ],
          "scattergeo": [
           {
            "marker": {
             "colorbar": {
              "outlinewidth": 0,
              "ticks": ""
             }
            },
            "type": "scattergeo"
           }
          ],
          "scattergl": [
           {
            "marker": {
             "colorbar": {
              "outlinewidth": 0,
              "ticks": ""
             }
            },
            "type": "scattergl"
           }
          ],
          "scattermapbox": [
           {
            "marker": {
             "colorbar": {
              "outlinewidth": 0,
              "ticks": ""
             }
            },
            "type": "scattermapbox"
           }
          ],
          "scatterpolar": [
           {
            "marker": {
             "colorbar": {
              "outlinewidth": 0,
              "ticks": ""
             }
            },
            "type": "scatterpolar"
           }
          ],
          "scatterpolargl": [
           {
            "marker": {
             "colorbar": {
              "outlinewidth": 0,
              "ticks": ""
             }
            },
            "type": "scatterpolargl"
           }
          ],
          "scatterternary": [
           {
            "marker": {
             "colorbar": {
              "outlinewidth": 0,
              "ticks": ""
             }
            },
            "type": "scatterternary"
           }
          ],
          "surface": [
           {
            "colorbar": {
             "outlinewidth": 0,
             "ticks": ""
            },
            "colorscale": [
             [
              0,
              "#0d0887"
             ],
             [
              0.1111111111111111,
              "#46039f"
             ],
             [
              0.2222222222222222,
              "#7201a8"
             ],
             [
              0.3333333333333333,
              "#9c179e"
             ],
             [
              0.4444444444444444,
              "#bd3786"
             ],
             [
              0.5555555555555556,
              "#d8576b"
             ],
             [
              0.6666666666666666,
              "#ed7953"
             ],
             [
              0.7777777777777778,
              "#fb9f3a"
             ],
             [
              0.8888888888888888,
              "#fdca26"
             ],
             [
              1,
              "#f0f921"
             ]
            ],
            "type": "surface"
           }
          ],
          "table": [
           {
            "cells": {
             "fill": {
              "color": "#EBF0F8"
             },
             "line": {
              "color": "white"
             }
            },
            "header": {
             "fill": {
              "color": "#C8D4E3"
             },
             "line": {
              "color": "white"
             }
            },
            "type": "table"
           }
          ]
         },
         "layout": {
          "annotationdefaults": {
           "arrowcolor": "#2a3f5f",
           "arrowhead": 0,
           "arrowwidth": 1
          },
          "autotypenumbers": "strict",
          "coloraxis": {
           "colorbar": {
            "outlinewidth": 0,
            "ticks": ""
           }
          },
          "colorscale": {
           "diverging": [
            [
             0,
             "#8e0152"
            ],
            [
             0.1,
             "#c51b7d"
            ],
            [
             0.2,
             "#de77ae"
            ],
            [
             0.3,
             "#f1b6da"
            ],
            [
             0.4,
             "#fde0ef"
            ],
            [
             0.5,
             "#f7f7f7"
            ],
            [
             0.6,
             "#e6f5d0"
            ],
            [
             0.7,
             "#b8e186"
            ],
            [
             0.8,
             "#7fbc41"
            ],
            [
             0.9,
             "#4d9221"
            ],
            [
             1,
             "#276419"
            ]
           ],
           "sequential": [
            [
             0,
             "#0d0887"
            ],
            [
             0.1111111111111111,
             "#46039f"
            ],
            [
             0.2222222222222222,
             "#7201a8"
            ],
            [
             0.3333333333333333,
             "#9c179e"
            ],
            [
             0.4444444444444444,
             "#bd3786"
            ],
            [
             0.5555555555555556,
             "#d8576b"
            ],
            [
             0.6666666666666666,
             "#ed7953"
            ],
            [
             0.7777777777777778,
             "#fb9f3a"
            ],
            [
             0.8888888888888888,
             "#fdca26"
            ],
            [
             1,
             "#f0f921"
            ]
           ],
           "sequentialminus": [
            [
             0,
             "#0d0887"
            ],
            [
             0.1111111111111111,
             "#46039f"
            ],
            [
             0.2222222222222222,
             "#7201a8"
            ],
            [
             0.3333333333333333,
             "#9c179e"
            ],
            [
             0.4444444444444444,
             "#bd3786"
            ],
            [
             0.5555555555555556,
             "#d8576b"
            ],
            [
             0.6666666666666666,
             "#ed7953"
            ],
            [
             0.7777777777777778,
             "#fb9f3a"
            ],
            [
             0.8888888888888888,
             "#fdca26"
            ],
            [
             1,
             "#f0f921"
            ]
           ]
          },
          "colorway": [
           "#636efa",
           "#EF553B",
           "#00cc96",
           "#ab63fa",
           "#FFA15A",
           "#19d3f3",
           "#FF6692",
           "#B6E880",
           "#FF97FF",
           "#FECB52"
          ],
          "font": {
           "color": "#2a3f5f"
          },
          "geo": {
           "bgcolor": "white",
           "lakecolor": "white",
           "landcolor": "#E5ECF6",
           "showlakes": true,
           "showland": true,
           "subunitcolor": "white"
          },
          "hoverlabel": {
           "align": "left"
          },
          "hovermode": "closest",
          "mapbox": {
           "style": "light"
          },
          "paper_bgcolor": "white",
          "plot_bgcolor": "#E5ECF6",
          "polar": {
           "angularaxis": {
            "gridcolor": "white",
            "linecolor": "white",
            "ticks": ""
           },
           "bgcolor": "#E5ECF6",
           "radialaxis": {
            "gridcolor": "white",
            "linecolor": "white",
            "ticks": ""
           }
          },
          "scene": {
           "xaxis": {
            "backgroundcolor": "#E5ECF6",
            "gridcolor": "white",
            "gridwidth": 2,
            "linecolor": "white",
            "showbackground": true,
            "ticks": "",
            "zerolinecolor": "white"
           },
           "yaxis": {
            "backgroundcolor": "#E5ECF6",
            "gridcolor": "white",
            "gridwidth": 2,
            "linecolor": "white",
            "showbackground": true,
            "ticks": "",
            "zerolinecolor": "white"
           },
           "zaxis": {
            "backgroundcolor": "#E5ECF6",
            "gridcolor": "white",
            "gridwidth": 2,
            "linecolor": "white",
            "showbackground": true,
            "ticks": "",
            "zerolinecolor": "white"
           }
          },
          "shapedefaults": {
           "line": {
            "color": "#2a3f5f"
           }
          },
          "ternary": {
           "aaxis": {
            "gridcolor": "white",
            "linecolor": "white",
            "ticks": ""
           },
           "baxis": {
            "gridcolor": "white",
            "linecolor": "white",
            "ticks": ""
           },
           "bgcolor": "#E5ECF6",
           "caxis": {
            "gridcolor": "white",
            "linecolor": "white",
            "ticks": ""
           }
          },
          "title": {
           "x": 0.05
          },
          "xaxis": {
           "automargin": true,
           "gridcolor": "white",
           "linecolor": "white",
           "ticks": "",
           "title": {
            "standoff": 15
           },
           "zerolinecolor": "white",
           "zerolinewidth": 2
          },
          "yaxis": {
           "automargin": true,
           "gridcolor": "white",
           "linecolor": "white",
           "ticks": "",
           "title": {
            "standoff": 15
           },
           "zerolinecolor": "white",
           "zerolinewidth": 2
          }
         }
        },
        "width": 1000
       }
      },
      "text/html": [
       "<div>                            <div id=\"dd70b704-da51-4228-994b-47142dae946e\" class=\"plotly-graph-div\" style=\"height:1000px; width:1000px;\"></div>            <script type=\"text/javascript\">                require([\"plotly\"], function(Plotly) {                    window.PLOTLYENV=window.PLOTLYENV || {};                                    if (document.getElementById(\"dd70b704-da51-4228-994b-47142dae946e\")) {                    Plotly.newPlot(                        \"dd70b704-da51-4228-994b-47142dae946e\",                        [{\"hovertemplate\":\"C-1=%{x}\\u003cbr\\u003eC-2=%{y}\\u003cbr\\u003eC-3=%{z}\\u003cbr\\u003etext=%{text}\\u003cbr\\u003eC-4=%{marker.color}\\u003cextra\\u003e\\u003c\\u002fextra\\u003e\",\"legendgroup\":\"\",\"marker\":{\"color\":[0.02381439507007599,-0.30632779002189636,-1.305296778678894,-0.020895663648843765,1.0283704996109009,1.467176079750061,2.3399131298065186,-2.615694284439087,-0.0016216246876865625,1.534744143486023,-1.5921305418014526,-1.0998287200927734,0.19999165832996368,-0.13684839010238647,-0.7342817783355713,0.2634953558444977,-0.7812654376029968,-1.6146777868270874,2.013765811920166,-1.8895901441574097,0.17922595143318176,-1.247055172920227,1.0317708253860474,-0.21128003299236298,0.4172584116458893,0.9376112818717957,0.9571154713630676],\"coloraxis\":\"coloraxis\",\"symbol\":\"circle\"},\"mode\":\"markers+text\",\"name\":\"\",\"scene\":\"scene\",\"showlegend\":false,\"text\":[\".\",\"a\",\"b\",\"c\",\"d\",\"e\",\"f\",\"g\",\"h\",\"i\",\"j\",\"k\",\"l\",\"m\",\"n\",\"o\",\"p\",\"q\",\"r\",\"s\",\"t\",\"u\",\"v\",\"w\",\"x\",\"y\",\"z\"],\"x\":[-0.10724275559186935,-0.22115851938724518,2.4087367057800293,-2.8441309928894043,-1.699792742729187,0.4719056189060211,-1.1375646591186523,3.504946708679199,-1.4505133628845215,-1.9397536516189575,1.8540164232254028,0.7016250491142273,-0.9731373190879822,0.5105627775192261,-1.4240405559539795,-1.2672940492630005,1.4045490026474,2.231194019317627,-0.7192000150680542,0.23386356234550476,0.013897424563765526,-1.1216599941253662,-1.077473759651184,1.718258023262024,-1.5365480184555054,1.0406270027160645,1.4253284931182861],\"y\":[-0.11453162133693695,0.48522162437438965,-1.2313146591186523,1.2359869480133057,-1.9945995807647705,0.3515864312648773,-1.2841901779174805,1.1208661794662476,1.0258396863937378,0.0137912193313241,1.1166363954544067,-1.2076176404953003,-0.6627234220504761,0.311959445476532,0.42479008436203003,2.6513776779174805,1.0649373531341553,2.5802931785583496,-1.4319660663604736,1.3790656328201294,-0.8369881510734558,2.4589591026306152,-2.421988010406494,-1.614507794380188,0.15210627019405365,-1.9196090698242188,-1.6533825397491455],\"z\":[0.2799283564090729,0.5834572911262512,-1.8955950736999512,-0.3467233180999756,2.73173189163208,-0.5702052712440491,-1.181172251701355,1.3949838876724243,3.5360515117645264,-0.646795928478241,-1.2938505411148071,-0.9418016672134399,0.7553682923316956,-1.272719383239746,-0.4831477701663971,-0.0996837317943573,0.04283026605844498,1.8275238275527954,0.20649300515651703,-0.9340997338294983,1.315565586090088,-1.1895159482955933,-0.06749892979860306,0.6458005309104919,-2.2396650314331055,-1.0400773286819458,0.8828185796737671],\"type\":\"scatter3d\"}],                        {\"template\":{\"data\":{\"histogram2dcontour\":[{\"type\":\"histogram2dcontour\",\"colorbar\":{\"outlinewidth\":0,\"ticks\":\"\"},\"colorscale\":[[0.0,\"#0d0887\"],[0.1111111111111111,\"#46039f\"],[0.2222222222222222,\"#7201a8\"],[0.3333333333333333,\"#9c179e\"],[0.4444444444444444,\"#bd3786\"],[0.5555555555555556,\"#d8576b\"],[0.6666666666666666,\"#ed7953\"],[0.7777777777777778,\"#fb9f3a\"],[0.8888888888888888,\"#fdca26\"],[1.0,\"#f0f921\"]]}],\"choropleth\":[{\"type\":\"choropleth\",\"colorbar\":{\"outlinewidth\":0,\"ticks\":\"\"}}],\"histogram2d\":[{\"type\":\"histogram2d\",\"colorbar\":{\"outlinewidth\":0,\"ticks\":\"\"},\"colorscale\":[[0.0,\"#0d0887\"],[0.1111111111111111,\"#46039f\"],[0.2222222222222222,\"#7201a8\"],[0.3333333333333333,\"#9c179e\"],[0.4444444444444444,\"#bd3786\"],[0.5555555555555556,\"#d8576b\"],[0.6666666666666666,\"#ed7953\"],[0.7777777777777778,\"#fb9f3a\"],[0.8888888888888888,\"#fdca26\"],[1.0,\"#f0f921\"]]}],\"heatmap\":[{\"type\":\"heatmap\",\"colorbar\":{\"outlinewidth\":0,\"ticks\":\"\"},\"colorscale\":[[0.0,\"#0d0887\"],[0.1111111111111111,\"#46039f\"],[0.2222222222222222,\"#7201a8\"],[0.3333333333333333,\"#9c179e\"],[0.4444444444444444,\"#bd3786\"],[0.5555555555555556,\"#d8576b\"],[0.6666666666666666,\"#ed7953\"],[0.7777777777777778,\"#fb9f3a\"],[0.8888888888888888,\"#fdca26\"],[1.0,\"#f0f921\"]]}],\"heatmapgl\":[{\"type\":\"heatmapgl\",\"colorbar\":{\"outlinewidth\":0,\"ticks\":\"\"},\"colorscale\":[[0.0,\"#0d0887\"],[0.1111111111111111,\"#46039f\"],[0.2222222222222222,\"#7201a8\"],[0.3333333333333333,\"#9c179e\"],[0.4444444444444444,\"#bd3786\"],[0.5555555555555556,\"#d8576b\"],[0.6666666666666666,\"#ed7953\"],[0.7777777777777778,\"#fb9f3a\"],[0.8888888888888888,\"#fdca26\"],[1.0,\"#f0f921\"]]}],\"contourcarpet\":[{\"type\":\"contourcarpet\",\"colorbar\":{\"outlinewidth\":0,\"ticks\":\"\"}}],\"contour\":[{\"type\":\"contour\",\"colorbar\":{\"outlinewidth\":0,\"ticks\":\"\"},\"colorscale\":[[0.0,\"#0d0887\"],[0.1111111111111111,\"#46039f\"],[0.2222222222222222,\"#7201a8\"],[0.3333333333333333,\"#9c179e\"],[0.4444444444444444,\"#bd3786\"],[0.5555555555555556,\"#d8576b\"],[0.6666666666666666,\"#ed7953\"],[0.7777777777777778,\"#fb9f3a\"],[0.8888888888888888,\"#fdca26\"],[1.0,\"#f0f921\"]]}],\"surface\":[{\"type\":\"surface\",\"colorbar\":{\"outlinewidth\":0,\"ticks\":\"\"},\"colorscale\":[[0.0,\"#0d0887\"],[0.1111111111111111,\"#46039f\"],[0.2222222222222222,\"#7201a8\"],[0.3333333333333333,\"#9c179e\"],[0.4444444444444444,\"#bd3786\"],[0.5555555555555556,\"#d8576b\"],[0.6666666666666666,\"#ed7953\"],[0.7777777777777778,\"#fb9f3a\"],[0.8888888888888888,\"#fdca26\"],[1.0,\"#f0f921\"]]}],\"mesh3d\":[{\"type\":\"mesh3d\",\"colorbar\":{\"outlinewidth\":0,\"ticks\":\"\"}}],\"scatter\":[{\"fillpattern\":{\"fillmode\":\"overlay\",\"size\":10,\"solidity\":0.2},\"type\":\"scatter\"}],\"parcoords\":[{\"type\":\"parcoords\",\"line\":{\"colorbar\":{\"outlinewidth\":0,\"ticks\":\"\"}}}],\"scatterpolargl\":[{\"type\":\"scatterpolargl\",\"marker\":{\"colorbar\":{\"outlinewidth\":0,\"ticks\":\"\"}}}],\"bar\":[{\"error_x\":{\"color\":\"#2a3f5f\"},\"error_y\":{\"color\":\"#2a3f5f\"},\"marker\":{\"line\":{\"color\":\"#E5ECF6\",\"width\":0.5},\"pattern\":{\"fillmode\":\"overlay\",\"size\":10,\"solidity\":0.2}},\"type\":\"bar\"}],\"scattergeo\":[{\"type\":\"scattergeo\",\"marker\":{\"colorbar\":{\"outlinewidth\":0,\"ticks\":\"\"}}}],\"scatterpolar\":[{\"type\":\"scatterpolar\",\"marker\":{\"colorbar\":{\"outlinewidth\":0,\"ticks\":\"\"}}}],\"histogram\":[{\"marker\":{\"pattern\":{\"fillmode\":\"overlay\",\"size\":10,\"solidity\":0.2}},\"type\":\"histogram\"}],\"scattergl\":[{\"type\":\"scattergl\",\"marker\":{\"colorbar\":{\"outlinewidth\":0,\"ticks\":\"\"}}}],\"scatter3d\":[{\"type\":\"scatter3d\",\"line\":{\"colorbar\":{\"outlinewidth\":0,\"ticks\":\"\"}},\"marker\":{\"colorbar\":{\"outlinewidth\":0,\"ticks\":\"\"}}}],\"scattermapbox\":[{\"type\":\"scattermapbox\",\"marker\":{\"colorbar\":{\"outlinewidth\":0,\"ticks\":\"\"}}}],\"scatterternary\":[{\"type\":\"scatterternary\",\"marker\":{\"colorbar\":{\"outlinewidth\":0,\"ticks\":\"\"}}}],\"scattercarpet\":[{\"type\":\"scattercarpet\",\"marker\":{\"colorbar\":{\"outlinewidth\":0,\"ticks\":\"\"}}}],\"carpet\":[{\"aaxis\":{\"endlinecolor\":\"#2a3f5f\",\"gridcolor\":\"white\",\"linecolor\":\"white\",\"minorgridcolor\":\"white\",\"startlinecolor\":\"#2a3f5f\"},\"baxis\":{\"endlinecolor\":\"#2a3f5f\",\"gridcolor\":\"white\",\"linecolor\":\"white\",\"minorgridcolor\":\"white\",\"startlinecolor\":\"#2a3f5f\"},\"type\":\"carpet\"}],\"table\":[{\"cells\":{\"fill\":{\"color\":\"#EBF0F8\"},\"line\":{\"color\":\"white\"}},\"header\":{\"fill\":{\"color\":\"#C8D4E3\"},\"line\":{\"color\":\"white\"}},\"type\":\"table\"}],\"barpolar\":[{\"marker\":{\"line\":{\"color\":\"#E5ECF6\",\"width\":0.5},\"pattern\":{\"fillmode\":\"overlay\",\"size\":10,\"solidity\":0.2}},\"type\":\"barpolar\"}],\"pie\":[{\"automargin\":true,\"type\":\"pie\"}]},\"layout\":{\"autotypenumbers\":\"strict\",\"colorway\":[\"#636efa\",\"#EF553B\",\"#00cc96\",\"#ab63fa\",\"#FFA15A\",\"#19d3f3\",\"#FF6692\",\"#B6E880\",\"#FF97FF\",\"#FECB52\"],\"font\":{\"color\":\"#2a3f5f\"},\"hovermode\":\"closest\",\"hoverlabel\":{\"align\":\"left\"},\"paper_bgcolor\":\"white\",\"plot_bgcolor\":\"#E5ECF6\",\"polar\":{\"bgcolor\":\"#E5ECF6\",\"angularaxis\":{\"gridcolor\":\"white\",\"linecolor\":\"white\",\"ticks\":\"\"},\"radialaxis\":{\"gridcolor\":\"white\",\"linecolor\":\"white\",\"ticks\":\"\"}},\"ternary\":{\"bgcolor\":\"#E5ECF6\",\"aaxis\":{\"gridcolor\":\"white\",\"linecolor\":\"white\",\"ticks\":\"\"},\"baxis\":{\"gridcolor\":\"white\",\"linecolor\":\"white\",\"ticks\":\"\"},\"caxis\":{\"gridcolor\":\"white\",\"linecolor\":\"white\",\"ticks\":\"\"}},\"coloraxis\":{\"colorbar\":{\"outlinewidth\":0,\"ticks\":\"\"}},\"colorscale\":{\"sequential\":[[0.0,\"#0d0887\"],[0.1111111111111111,\"#46039f\"],[0.2222222222222222,\"#7201a8\"],[0.3333333333333333,\"#9c179e\"],[0.4444444444444444,\"#bd3786\"],[0.5555555555555556,\"#d8576b\"],[0.6666666666666666,\"#ed7953\"],[0.7777777777777778,\"#fb9f3a\"],[0.8888888888888888,\"#fdca26\"],[1.0,\"#f0f921\"]],\"sequentialminus\":[[0.0,\"#0d0887\"],[0.1111111111111111,\"#46039f\"],[0.2222222222222222,\"#7201a8\"],[0.3333333333333333,\"#9c179e\"],[0.4444444444444444,\"#bd3786\"],[0.5555555555555556,\"#d8576b\"],[0.6666666666666666,\"#ed7953\"],[0.7777777777777778,\"#fb9f3a\"],[0.8888888888888888,\"#fdca26\"],[1.0,\"#f0f921\"]],\"diverging\":[[0,\"#8e0152\"],[0.1,\"#c51b7d\"],[0.2,\"#de77ae\"],[0.3,\"#f1b6da\"],[0.4,\"#fde0ef\"],[0.5,\"#f7f7f7\"],[0.6,\"#e6f5d0\"],[0.7,\"#b8e186\"],[0.8,\"#7fbc41\"],[0.9,\"#4d9221\"],[1,\"#276419\"]]},\"xaxis\":{\"gridcolor\":\"white\",\"linecolor\":\"white\",\"ticks\":\"\",\"title\":{\"standoff\":15},\"zerolinecolor\":\"white\",\"automargin\":true,\"zerolinewidth\":2},\"yaxis\":{\"gridcolor\":\"white\",\"linecolor\":\"white\",\"ticks\":\"\",\"title\":{\"standoff\":15},\"zerolinecolor\":\"white\",\"automargin\":true,\"zerolinewidth\":2},\"scene\":{\"xaxis\":{\"backgroundcolor\":\"#E5ECF6\",\"gridcolor\":\"white\",\"linecolor\":\"white\",\"showbackground\":true,\"ticks\":\"\",\"zerolinecolor\":\"white\",\"gridwidth\":2},\"yaxis\":{\"backgroundcolor\":\"#E5ECF6\",\"gridcolor\":\"white\",\"linecolor\":\"white\",\"showbackground\":true,\"ticks\":\"\",\"zerolinecolor\":\"white\",\"gridwidth\":2},\"zaxis\":{\"backgroundcolor\":\"#E5ECF6\",\"gridcolor\":\"white\",\"linecolor\":\"white\",\"showbackground\":true,\"ticks\":\"\",\"zerolinecolor\":\"white\",\"gridwidth\":2}},\"shapedefaults\":{\"line\":{\"color\":\"#2a3f5f\"}},\"annotationdefaults\":{\"arrowcolor\":\"#2a3f5f\",\"arrowhead\":0,\"arrowwidth\":1},\"geo\":{\"bgcolor\":\"white\",\"landcolor\":\"#E5ECF6\",\"subunitcolor\":\"white\",\"showland\":true,\"showlakes\":true,\"lakecolor\":\"white\"},\"title\":{\"x\":0.05},\"mapbox\":{\"style\":\"light\"}}},\"scene\":{\"domain\":{\"x\":[0.0,1.0],\"y\":[0.0,1.0]},\"xaxis\":{\"title\":{\"text\":\"C-1\"}},\"yaxis\":{\"title\":{\"text\":\"C-2\"}},\"zaxis\":{\"title\":{\"text\":\"C-3\"}}},\"coloraxis\":{\"colorbar\":{\"title\":{\"text\":\"C-4\"}},\"colorscale\":[[0.0,\"#0d0887\"],[0.1111111111111111,\"#46039f\"],[0.2222222222222222,\"#7201a8\"],[0.3333333333333333,\"#9c179e\"],[0.4444444444444444,\"#bd3786\"],[0.5555555555555556,\"#d8576b\"],[0.6666666666666666,\"#ed7953\"],[0.7777777777777778,\"#fb9f3a\"],[0.8888888888888888,\"#fdca26\"],[1.0,\"#f0f921\"]]},\"legend\":{\"tracegroupgap\":0},\"margin\":{\"t\":60},\"height\":1000,\"width\":1000},                        {\"responsive\": true}                    ).then(function(){\n",
       "                            \n",
       "var gd = document.getElementById('dd70b704-da51-4228-994b-47142dae946e');\n",
       "var x = new MutationObserver(function (mutations, observer) {{\n",
       "        var display = window.getComputedStyle(gd).display;\n",
       "        if (!display || display === 'none') {{\n",
       "            console.log([gd, 'removed!']);\n",
       "            Plotly.purge(gd);\n",
       "            observer.disconnect();\n",
       "        }}\n",
       "}});\n",
       "\n",
       "// Listen for the removal of the full notebook cells\n",
       "var notebookContainer = gd.closest('#notebook-container');\n",
       "if (notebookContainer) {{\n",
       "    x.observe(notebookContainer, {childList: true});\n",
       "}}\n",
       "\n",
       "// Listen for the clearing of the current output cell\n",
       "var outputEl = gd.closest('.output');\n",
       "if (outputEl) {{\n",
       "    x.observe(outputEl, {childList: true});\n",
       "}}\n",
       "\n",
       "                        })                };                });            </script>        </div>"
      ]
     },
     "metadata": {},
     "output_type": "display_data"
    }
   ],
   "source": [
    "plot_embeddings()"
   ]
  },
  {
   "cell_type": "markdown",
   "metadata": {},
   "source": [
    "---"
   ]
  },
  {
   "cell_type": "markdown",
   "metadata": {},
   "source": [
    "# Generate predictions from the model"
   ]
  },
  {
   "cell_type": "code",
   "execution_count": 34,
   "metadata": {},
   "outputs": [
    {
     "name": "stdout",
     "output_type": "stream",
     "text": [
      "elan.\n",
      "kasha.\n",
      "raina.\n",
      "barrah.\n",
      "zavier.\n",
      "monorayah.\n",
      "naqerianna.\n",
      "danslettemphand.\n",
      "kenlyn.\n",
      "lenni.\n",
      "sen.\n",
      "dym.\n",
      "nalliu.\n",
      "ashursaighnya.\n",
      "marahlyns.\n",
      "shayye.\n",
      "kalia.\n",
      "emilleryj.\n",
      "ome.\n",
      "bartya.\n"
     ]
    }
   ],
   "source": [
    "# sample from the model\n",
    "for _ in range(20):\n",
    "    out = []\n",
    "    context = [0] * context_length # initialize with all ... (which is index 0)\n",
    "    while True:\n",
    "      embeddings = embedding_layer[torch.tensor([context])] # (1,block_size,d)\n",
    "      activations = torch.tanh(embeddings.view(1, -1) @ hidden_layer_weights + hidden_layer_bias)\n",
    "      logits = activations @ output_layer_weights + output_layer_bias\n",
    "      probs = F.softmax(logits, dim=1)\n",
    "      # pull random sample from the model's probability distribution\n",
    "      token_index = torch.multinomial(probs, num_samples=1, generator=None).item()\n",
    "      context = context[1:] + [token_index]\n",
    "      out.append(token_index)\n",
    "      if token_index == 0:\n",
    "        break\n",
    "    print(''.join(index_to_character[i] for i in out))"
   ]
  },
  {
   "cell_type": "markdown",
   "metadata": {},
   "source": [
    "---"
   ]
  },
  {
   "cell_type": "markdown",
   "metadata": {},
   "source": [
    "# Part 3"
   ]
  },
  {
   "cell_type": "code",
   "execution_count": 35,
   "metadata": {},
   "outputs": [
    {
     "data": {
      "text/plain": [
       "tensor(3.2958)"
      ]
     },
     "execution_count": 35,
     "metadata": {},
     "output_type": "execute_result"
    }
   ],
   "source": [
    "# at the start our loss was very high, much higher than what we would expect\n",
    "# If we have 27 characters, then we would expect a uniform distribution as\n",
    "# our best guess for the next character, which would give us a loss of -ln(1/27)\n",
    "# but our loss was much higher than that (e.g. 27)\n",
    "-torch.tensor(1/27).log()"
   ]
  },
  {
   "cell_type": "code",
   "execution_count": null,
   "metadata": {},
   "outputs": [],
   "source": []
  },
  {
   "cell_type": "code",
   "execution_count": null,
   "metadata": {},
   "outputs": [],
   "source": []
  },
  {
   "cell_type": "code",
   "execution_count": null,
   "metadata": {},
   "outputs": [],
   "source": []
  }
 ],
 "metadata": {
  "kernelspec": {
   "display_name": "Python 3",
   "language": "python",
   "name": "python3"
  },
  "language_info": {
   "codemirror_mode": {
    "name": "ipython",
    "version": 3
   },
   "file_extension": ".py",
   "mimetype": "text/x-python",
   "name": "python",
   "nbconvert_exporter": "python",
   "pygments_lexer": "ipython3",
   "version": "3.11.7"
  }
 },
 "nbformat": 4,
 "nbformat_minor": 2
}
