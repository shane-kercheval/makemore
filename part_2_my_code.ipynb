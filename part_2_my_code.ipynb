{
 "cells": [
  {
   "cell_type": "code",
   "execution_count": 4,
   "metadata": {},
   "outputs": [
    {
     "name": "stdout",
     "output_type": "stream",
     "text": [
      "['emma', 'olivia', 'ava', 'isabella', 'sophia', 'charlotte', 'mia', 'amelia']\n"
     ]
    },
    {
     "data": {
      "text/plain": [
       "32033"
      ]
     },
     "execution_count": 4,
     "metadata": {},
     "output_type": "execute_result"
    }
   ],
   "source": [
    "import torch\n",
    "import torch.nn.functional as F\n",
    "\n",
    "words = open('/code/names.txt').read().splitlines()\n",
    "print(words[:8])\n",
    "len(words)"
   ]
  },
  {
   "cell_type": "code",
   "execution_count": 32,
   "metadata": {},
   "outputs": [
    {
     "name": "stdout",
     "output_type": "stream",
     "text": [
      "['.', 'a', 'b', 'c', 'd', 'e', 'f', 'g', 'h', 'i', 'j', 'k', 'l', 'm', 'n', 'o', 'p', 'q', 'r', 's', 't', 'u', 'v', 'w', 'x', 'y', 'z']\n",
      "27\n",
      "{'.': 0, 'a': 1, 'b': 2, 'c': 3, 'd': 4, 'e': 5, 'f': 6, 'g': 7, 'h': 8, 'i': 9, 'j': 10, 'k': 11, 'l': 12, 'm': 13, 'n': 14, 'o': 15, 'p': 16, 'q': 17, 'r': 18, 's': 19, 't': 20, 'u': 21, 'v': 22, 'w': 23, 'x': 24, 'y': 25, 'z': 26}\n",
      "{0: '.', 1: 'a', 2: 'b', 3: 'c', 4: 'd', 5: 'e', 6: 'f', 7: 'g', 8: 'h', 9: 'i', 10: 'j', 11: 'k', 12: 'l', 13: 'm', 14: 'n', 15: 'o', 16: 'p', 17: 'q', 18: 'r', 19: 's', 20: 't', 21: 'u', 22: 'v', 23: 'w', 24: 'x', 25: 'y', 26: 'z'}\n"
     ]
    }
   ],
   "source": [
    "characters = ['.'] + sorted(list(set(''.join(words)))) \n",
    "print(characters)\n",
    "print(len(characters))\n",
    "token_mappings = {c:i for i,c in enumerate(characters)}\n",
    "index_to_character = {i:c for i,c in enumerate(characters)}\n",
    "print(token_mappings)\n",
    "print(index_to_character)"
   ]
  },
  {
   "cell_type": "code",
   "execution_count": 35,
   "metadata": {},
   "outputs": [
    {
     "name": "stdout",
     "output_type": "stream",
     "text": [
      "[0, 0, 0] -> 5\n",
      "... -> e\n",
      "---\n",
      "[0, 0, 5] -> 13\n",
      "..e -> m\n",
      "---\n",
      "[0, 5, 13] -> 13\n",
      ".em -> m\n",
      "---\n",
      "[5, 13, 13] -> 1\n",
      "emm -> a\n",
      "---\n",
      "[13, 13, 1] -> 0\n",
      "mma -> .\n",
      "---\n",
      "[0, 0, 0] -> 15\n",
      "... -> o\n",
      "---\n",
      "[0, 0, 15] -> 12\n",
      "..o -> l\n",
      "---\n",
      "[0, 15, 12] -> 9\n",
      ".ol -> i\n",
      "---\n",
      "[15, 12, 9] -> 22\n",
      "oli -> v\n",
      "---\n",
      "[12, 9, 22] -> 9\n",
      "liv -> i\n",
      "---\n",
      "torch.Size([228146, 3])\n",
      "torch.Size([228146])\n"
     ]
    }
   ],
   "source": [
    "context_length = 3  # how many characters do we take to predict the next one?\n",
    "X, Y = [], []\n",
    "for word in words:\n",
    "    word = ('.' * context_length) + word + '.'\n",
    "    for i in range(len(word) - context_length):\n",
    "        X.append([token_mappings[c] for c in word[i:i+context_length]])\n",
    "        Y.append(token_mappings[word[i+context_length]])\n",
    "\n",
    "\n",
    "for x, y in zip(X[:10], Y[:10]):\n",
    "    print(f\"{x} -> {y}\")\n",
    "    print(f\"{''.join([index_to_character[i] for i in x])} -> {index_to_character[y]}\")\n",
    "    print('---')\n",
    "\n",
    "X = torch.tensor(X)\n",
    "Y = torch.tensor(Y)\n",
    "print(X.shape)\n",
    "print(Y.shape)"
   ]
  },
  {
   "cell_type": "markdown",
   "metadata": {},
   "source": [
    "# Embedding Layer"
   ]
  },
  {
   "cell_type": "code",
   "execution_count": 38,
   "metadata": {},
   "outputs": [
    {
     "name": "stdout",
     "output_type": "stream",
     "text": [
      "torch.Size([27, 2])\n",
      "Each of the 27 characters will have a 2-dimensional embedding\n"
     ]
    }
   ],
   "source": [
    "embedding_dimension = 2\n",
    "embedding_layer = torch.randn(len(characters), embedding_dimension)\n",
    "print(embedding_layer.shape)\n",
    "print(f\"Each of the {embedding_layer.shape[0]} characters will have a {embedding_layer.shape[1]}-dimensional embedding\")"
   ]
  },
  {
   "cell_type": "code",
   "execution_count": 55,
   "metadata": {},
   "outputs": [
    {
     "name": "stdout",
     "output_type": "stream",
     "text": [
      "7\n",
      "tensor([-0.2845, -0.3107])\n",
      "tensor([0, 0, 0, 0, 0, 0, 0, 1, 0, 0, 0, 0, 0, 0, 0, 0, 0, 0, 0, 0, 0, 0, 0, 0,\n",
      "        0, 0, 0])\n",
      "tensor([-0.2845, -0.3107])\n"
     ]
    }
   ],
   "source": [
    "# embedding for g\n",
    "print(token_mappings['g'])\n",
    "print(embedding_layer[token_mappings['g']])\n",
    "\n",
    "_g_one_hot = F.one_hot(torch.tensor(token_mappings['g']), num_classes=len(characters))\n",
    "print(_g_one_hot)\n",
    "# matrix multiplication\n",
    "# all indexes are 0 except for the index of 'g' so these will multiply to 0 and we are left    with\n",
    "# the embedding for 'g'\n",
    "print(_g_one_hot.float() @ embedding_layer)\n",
    "assert (_g_one_hot.float() @ embedding_layer == embedding_layer[token_mappings['g']]).all()"
   ]
  },
  {
   "cell_type": "code",
   "execution_count": 60,
   "metadata": {},
   "outputs": [
    {
     "name": "stdout",
     "output_type": "stream",
     "text": [
      "tensor([[0, 0, 0],\n",
      "        [0, 0, 5]])\n",
      "tensor([[[ 0.2764,  0.7453],\n",
      "         [ 0.2764,  0.7453],\n",
      "         [ 0.2764,  0.7453]],\n",
      "\n",
      "        [[ 0.2764,  0.7453],\n",
      "         [ 0.2764,  0.7453],\n",
      "         [-0.3747,  0.3328]]])\n"
     ]
    }
   ],
   "source": [
    "# X contains the indexes of the characters in the context\n",
    "# we can index by X to get the corresponding embeddings for each character in X\n",
    "print(X[0:2])\n",
    "print(embedding_layer[X[0:2]])"
   ]
  },
  {
   "cell_type": "code",
   "execution_count": 65,
   "metadata": {},
   "outputs": [
    {
     "name": "stdout",
     "output_type": "stream",
     "text": [
      "torch.Size([228146, 3])\n",
      "Our data contains 228146 examples with 3 context/characters each.\n",
      "torch.Size([228146, 3, 2])\n",
      "Each of the 228146 examples will contain 3 context/characters, each having a 2-dimensional embedding representation.\n"
     ]
    }
   ],
   "source": [
    "embeddings = embedding_layer[X]\n",
    "print(X.shape)\n",
    "print(f\"Our data contains {X.shape[0]} examples with {X.shape[1]} context/characters each.\")\n",
    "print(embeddings.shape)\n",
    "print(f\"Each of the {embeddings.shape[0]} examples will contain {embeddings.shape[1]} context/characters, each having a {embeddings.shape[2]}-dimensional embedding representation.\")"
   ]
  },
  {
   "cell_type": "markdown",
   "metadata": {},
   "source": [
    "# Hidden Layer"
   ]
  },
  {
   "cell_type": "code",
   "execution_count": 69,
   "metadata": {},
   "outputs": [
    {
     "name": "stdout",
     "output_type": "stream",
     "text": [
      "We have 3 characters in our context and each character has a 2-dimensional embedding representation.\n",
      "torch.Size([6, 100])\n",
      "torch.Size([100])\n"
     ]
    }
   ],
   "source": [
    "print(f\"We have {context_length} characters in our context and each character has a {embedding_dimension}-dimensional embedding representation.\")\n",
    "num_neurons = 100\n",
    "W1 = torch.randn(context_length * embedding_dimension, num_neurons)\n",
    "# b1 (bias) will be added to each row of the result of matrix multiplication of embeddings and W1\n",
    "b1 = torch.randn(num_neurons)\n",
    "print(W1.shape)\n",
    "print(b1.shape)"
   ]
  },
  {
   "cell_type": "code",
   "execution_count": 78,
   "metadata": {},
   "outputs": [
    {
     "name": "stdout",
     "output_type": "stream",
     "text": [
      "tensor([ 0,  1,  2,  3,  4,  5,  6,  7,  8,  9, 10, 11, 12, 13, 14, 15, 16, 17])\n",
      "tensor([[ 0,  1,  2,  3,  4,  5],\n",
      "        [ 6,  7,  8,  9, 10, 11],\n",
      "        [12, 13, 14, 15, 16, 17]])\n",
      "tensor([[[ 0,  1],\n",
      "         [ 2,  3],\n",
      "         [ 4,  5]],\n",
      "\n",
      "        [[ 6,  7],\n",
      "         [ 8,  9],\n",
      "         [10, 11]],\n",
      "\n",
      "        [[12, 13],\n",
      "         [14, 15],\n",
      "         [16, 17]]])\n"
     ]
    }
   ],
   "source": [
    "print(torch.arange(0, 18))\n",
    "print(torch.arange(0, 18).view(3, 6))\n",
    "print(torch.arange(0, 18).view(3, 3, 2))"
   ]
  },
  {
   "cell_type": "code",
   "execution_count": 87,
   "metadata": {},
   "outputs": [
    {
     "name": "stdout",
     "output_type": "stream",
     "text": [
      "torch.Size([228146, 3, 2])\n",
      "torch.Size([228146, 6])\n",
      "tensor([[[ 0.2764,  0.7453],\n",
      "         [-0.3747,  0.3328],\n",
      "         [ 3.0999,  1.0676]],\n",
      "\n",
      "        [[-0.3747,  0.3328],\n",
      "         [ 3.0999,  1.0676],\n",
      "         [ 3.0999,  1.0676]]])\n",
      "tensor([[ 0.2764,  0.7453, -0.3747,  0.3328,  3.0999,  1.0676],\n",
      "        [-0.3747,  0.3328,  3.0999,  1.0676,  3.0999,  1.0676]])\n"
     ]
    }
   ],
   "source": [
    "# we want to do something like `embeddings @ W1 + b1`\n",
    "# but we can't because the dimensions don't match\n",
    "# we need to reshape the embeddings to be (num_examples, num_inputs)\n",
    "# so that we can do the matrix multiplication\n",
    "print(embeddings.shape)\n",
    "print(embeddings.view(-1, context_length * embedding_dimension).shape)\n",
    "# print(embeddings)\n",
    "print(embeddings[2:4])\n",
    "print(embeddings.view(-1, context_length * embedding_dimension)[2:4])"
   ]
  },
  {
   "cell_type": "code",
   "execution_count": 88,
   "metadata": {},
   "outputs": [
    {
     "name": "stdout",
     "output_type": "stream",
     "text": [
      "tensor([[-0.2368,  0.4123, -1.3080,  ...,  0.5469, -0.7628, -2.4410],\n",
      "        [ 0.4879,  0.2590, -0.0377,  ..., -1.0262, -0.6676, -1.5364],\n",
      "        [-2.3993,  0.0618, -3.2112,  ...,  3.8486, -2.2318, -4.3456],\n",
      "        ...,\n",
      "        [-1.0852, -0.5994,  2.2952,  ..., -4.2552, -1.2431,  1.6236],\n",
      "        [-1.4021,  1.8905,  0.6805,  ..., -1.8729,  1.5798, -1.0906],\n",
      "        [-0.6784,  1.0732, -2.5214,  ...,  2.8786,  4.5607,  0.6992]])\n",
      "torch.Size([228146, 100])\n",
      "100\n"
     ]
    }
   ],
   "source": [
    "# b1 (bias) is added to each row of the result\n",
    "print(embeddings.view(-1, context_length * embedding_dimension) @ W1 + b1)\n",
    "print((embeddings.view(-1, context_length * embedding_dimension) @ W1 + b1).shape)\n",
    "print(num_neurons)"
   ]
  },
  {
   "cell_type": "code",
   "execution_count": 86,
   "metadata": {},
   "outputs": [],
   "source": [
    "output_layer = torch.randn(num_neurons, len(characters))\n",
    "b2 = torch.randn(len(characters))"
   ]
  },
  {
   "cell_type": "code",
   "execution_count": 106,
   "metadata": {},
   "outputs": [
    {
     "name": "stdout",
     "output_type": "stream",
     "text": [
      "fake X\n",
      "tensor([[ 0,  1,  2],\n",
      "        [ 3,  4,  5],\n",
      "        [ 6,  7,  8],\n",
      "        [ 9, 10, 11],\n",
      "        [12, 13, 14]])\n",
      "fake embeddings layer\n",
      "tensor([[100, 101],\n",
      "        [102, 103],\n",
      "        [104, 105],\n",
      "        [106, 107],\n",
      "        [108, 109],\n",
      "        [110, 111],\n",
      "        [112, 113],\n",
      "        [114, 115],\n",
      "        [116, 117],\n",
      "        [118, 119],\n",
      "        [120, 121],\n",
      "        [122, 123],\n",
      "        [124, 125],\n",
      "        [126, 127],\n",
      "        [128, 129],\n",
      "        [130, 131],\n",
      "        [132, 133],\n",
      "        [134, 135],\n",
      "        [136, 137],\n",
      "        [138, 139],\n",
      "        [140, 141],\n",
      "        [142, 143],\n",
      "        [144, 145],\n",
      "        [146, 147],\n",
      "        [148, 149],\n",
      "        [150, 151],\n",
      "        [152, 153]])\n",
      "fake embeddings\n",
      "tensor([[100, 101, 102, 103, 104, 105],\n",
      "        [106, 107, 108, 109, 110, 111],\n",
      "        [112, 113, 114, 115, 116, 117],\n",
      "        [118, 119, 120, 121, 122, 123],\n",
      "        [124, 125, 126, 127, 128, 129]])\n",
      "tensor([[200, 201, 202, 203, 204, 205, 206, 207, 208, 209],\n",
      "        [210, 211, 212, 213, 214, 215, 216, 217, 218, 219],\n",
      "        [220, 221, 222, 223, 224, 225, 226, 227, 228, 229],\n",
      "        [230, 231, 232, 233, 234, 235, 236, 237, 238, 239],\n",
      "        [240, 241, 242, 243, 244, 245, 246, 247, 248, 249],\n",
      "        [250, 251, 252, 253, 254, 255, 256, 257, 258, 259]])\n",
      "torch.Size([5, 6])\n",
      "torch.Size([6, 10])\n",
      "torch.Size([5, 10])\n",
      "tensor([[138550, 139165, 139780, 140395, 141010, 141625, 142240, 142855, 143470,\n",
      "         144085],\n",
      "        [146650, 147301, 147952, 148603, 149254, 149905, 150556, 151207, 151858,\n",
      "         152509],\n",
      "        [154750, 155437, 156124, 156811, 157498, 158185, 158872, 159559, 160246,\n",
      "         160933],\n",
      "        [162850, 163573, 164296, 165019, 165742, 166465, 167188, 167911, 168634,\n",
      "         169357],\n",
      "        [170950, 171709, 172468, 173227, 173986, 174745, 175504, 176263, 177022,\n",
      "         177781]])\n",
      "tensor(138550)\n",
      "tensor(138550)\n",
      "tensor([100, 101, 102, 103, 104, 105])\n",
      "tensor([200, 210, 220, 230, 240, 250])\n"
     ]
    }
   ],
   "source": [
    "_fake_X = torch.arange(0, 15).view(-1 , context_length)\n",
    "print(\"fake X\")\n",
    "print(_fake_X)\n",
    "_fake_embeddings_layer = (100 + torch.arange(len(characters) * embedding_dimension)).view(len(characters), embedding_dimension)\n",
    "print(\"fake embeddings layer\")\n",
    "print(_fake_embeddings_layer)\n",
    "_fake_embeddings = _fake_embeddings_layer[_fake_X].view(-1, context_length * embedding_dimension)\n",
    "print(\"fake embeddings\")\n",
    "print(_fake_embeddings)\n",
    "# 10 neurons\n",
    "_fake_weights = (200 + torch.arange(context_length * embedding_dimension * 10)).view(context_length * embedding_dimension, 10)\n",
    "print(_fake_weights)\n",
    "print(_fake_embeddings.shape)\n",
    "print(_fake_weights.shape)\n",
    "print((_fake_embeddings @ _fake_weights).shape)\n",
    "print(_fake_embeddings @ _fake_weights)\n",
    "print((_fake_embeddings @ _fake_weights)[0][0])\n",
    "print(_fake_embeddings[0].dot(_fake_weights[:, 0]))\n",
    "print(_fake_embeddings[0])\n",
    "print(_fake_weights[:, 0])"
   ]
  },
  {
   "cell_type": "code",
   "execution_count": 118,
   "metadata": {},
   "outputs": [
    {
     "name": "stdout",
     "output_type": "stream",
     "text": [
      "torch.Size([228146, 27])\n",
      "torch.Size([228146, 27])\n",
      "torch.Size([228146])\n",
      "tensor(15.7125)\n"
     ]
    }
   ],
   "source": [
    "logits = torch.tanh(embeddings.view(-1, context_length * embedding_dimension) @ W1 + b1) @ output_layer + b2\n",
    "print(logits.shape)\n",
    "counts = logits.exp()\n",
    "predicted_probabilities = counts / counts.sum(dim=1, keepdim=True)\n",
    "print(predicted_probabilities.shape)\n",
    "# pluck out the probability of the correct character for each example\n",
    "# if the probability (according to the model) associated with the correct character is low,\n",
    "# then the loss will be high\n",
    "# the goal is to minimize the loss, which will result in the model assigning a higher\n",
    "# probability to the correct character for each example after the weights have been updated\n",
    "predicted_probabilities_of_actual = predicted_probabilities[torch.arange(len(Y)), Y]\n",
    "print(predicted_probabilities_of_actual.shape)\n",
    "loss = -predicted_probabilities_of_actual.log().mean()\n",
    "print(loss)\n"
   ]
  },
  {
   "cell_type": "markdown",
   "metadata": {},
   "source": [
    "---\n",
    "\n",
    "# Putting it together"
   ]
  },
  {
   "cell_type": "code",
   "execution_count": 138,
   "metadata": {},
   "outputs": [],
   "source": [
    "embedding_dimension = 2\n",
    "context_length = 3\n",
    "num_neurons = 100\n",
    "\n",
    "g = torch.Generator().manual_seed(2147483647)\n",
    "embedding_layer = torch.randn(len(characters), embedding_dimension, generator=g)\n",
    "hidden_layer_weights = torch.randn(context_length * embedding_dimension, num_neurons, generator=g)\n",
    "hidden_layer_bias = torch.randn(num_neurons, generator=g)\n",
    "output_layer_weights = torch.randn(num_neurons, len(characters), generator=g)\n",
    "output_layer_bias = torch.randn(len(characters), generator=g)\n",
    "parameters = [\n",
    "    embedding_layer,\n",
    "    hidden_layer_weights,\n",
    "    hidden_layer_bias,\n",
    "    output_layer_weights,\n",
    "    output_layer_bias\n",
    "]"
   ]
  },
  {
   "cell_type": "code",
   "execution_count": 139,
   "metadata": {},
   "outputs": [
    {
     "name": "stdout",
     "output_type": "stream",
     "text": [
      "Number of Parameters of Model: 3,481\n"
     ]
    }
   ],
   "source": [
    "print(f\"Number of Parameters of Model: {sum(p.nelement() for p in parameters):,}\")"
   ]
  },
  {
   "cell_type": "code",
   "execution_count": 140,
   "metadata": {},
   "outputs": [
    {
     "name": "stdout",
     "output_type": "stream",
     "text": [
      "torch.Size([228146, 3, 2])\n",
      "torch.Size([228146, 100])\n",
      "torch.Size([228146, 27])\n",
      "torch.Size([228146, 27])\n",
      "torch.Size([228146])\n",
      "tensor(19.5052)\n"
     ]
    }
   ],
   "source": [
    "embeddings = embedding_layer[X]\n",
    "print(embeddings.shape)\n",
    "h = torch.tanh(embeddings.view(-1, context_length * embedding_dimension) @ hidden_layer_weights + hidden_layer_bias)\n",
    "print(h.shape)\n",
    "logits = h @ output_layer_weights + output_layer_bias\n",
    "print(logits.shape)\n",
    "counts = logits.exp()\n",
    "predicted_probabilities = counts / counts.sum(dim=1, keepdim=True)\n",
    "print(predicted_probabilities.shape)\n",
    "predicted_probabilities_of_actual = predicted_probabilities[torch.arange(len(Y)), Y]\n",
    "print(predicted_probabilities_of_actual.shape)\n",
    "loss = -predicted_probabilities_of_actual.log().mean()\n",
    "print(loss)"
   ]
  },
  {
   "cell_type": "markdown",
   "metadata": {},
   "source": [
    "However, what we did above is equivalent to \"cross entropy loss\"\n",
    "\n",
    "- Andrej explains that F.cross_entropy also does some tricks to ensure large values don't cause NaNs: https://youtu.be/TCH_1BHY58I?si=CjVvwzrgzeQCOHr5&t=1976\n"
   ]
  },
  {
   "cell_type": "code",
   "execution_count": 141,
   "metadata": {},
   "outputs": [
    {
     "name": "stdout",
     "output_type": "stream",
     "text": [
      "torch.Size([228146, 3, 2])\n"
     ]
    },
    {
     "name": "stdout",
     "output_type": "stream",
     "text": [
      "torch.Size([228146, 100])\n",
      "torch.Size([228146, 27])\n",
      "tensor(19.5052)\n"
     ]
    }
   ],
   "source": [
    "embeddings = embedding_layer[X]\n",
    "print(embeddings.shape)\n",
    "h = torch.tanh(embeddings.view(-1, context_length * embedding_dimension) @ hidden_layer_weights + hidden_layer_bias)\n",
    "print(h.shape)\n",
    "logits = h @ output_layer_weights + output_layer_bias\n",
    "print(logits.shape)\n",
    "loss = F.cross_entropy(logits, Y)\n",
    "print(loss)"
   ]
  },
  {
   "cell_type": "markdown",
   "metadata": {},
   "source": [
    "# Training"
   ]
  },
  {
   "cell_type": "code",
   "execution_count": 221,
   "metadata": {},
   "outputs": [
    {
     "name": "stdout",
     "output_type": "stream",
     "text": [
      "Number of Parameters of Model: 3,481\n"
     ]
    }
   ],
   "source": [
    "embedding_dimension = 2\n",
    "context_length = 3\n",
    "num_neurons = 100\n",
    "\n",
    "g = torch.Generator().manual_seed(2147483647)\n",
    "embedding_layer = torch.randn(len(characters), embedding_dimension, generator=g)\n",
    "hidden_layer_weights = torch.randn(context_length * embedding_dimension, num_neurons, generator=g)\n",
    "hidden_layer_bias = torch.randn(num_neurons, generator=g)\n",
    "output_layer_weights = torch.randn(num_neurons, len(characters), generator=g)\n",
    "output_layer_bias = torch.randn(len(characters), generator=g)\n",
    "parameters = [\n",
    "    embedding_layer,\n",
    "    hidden_layer_weights,\n",
    "    hidden_layer_bias,\n",
    "    output_layer_weights,\n",
    "    output_layer_bias\n",
    "]\n",
    "print(f\"Number of Parameters of Model: {sum(p.nelement() for p in parameters):,}\")"
   ]
  },
  {
   "cell_type": "code",
   "execution_count": 222,
   "metadata": {},
   "outputs": [],
   "source": [
    "for p in parameters:\n",
    "    p.requires_grad = True"
   ]
  },
  {
   "cell_type": "code",
   "execution_count": 223,
   "metadata": {},
   "outputs": [],
   "source": [
    "# in practice we perform updates on minibatches of data   \n",
    "losses = []"
   ]
  },
  {
   "cell_type": "code",
   "execution_count": 224,
   "metadata": {},
   "outputs": [
    {
     "name": "stdout",
     "output_type": "stream",
     "text": [
      "Loss: 20.616\n",
      "Loss: 3.814\n",
      "Loss: 3.161\n",
      "Loss: 2.711\n",
      "Loss: 2.710\n",
      "Loss: 2.293\n",
      "Loss: 2.495\n",
      "Loss: 2.656\n",
      "Loss: 2.741\n",
      "Loss: 3.012\n",
      "---\n",
      "tensor(2.5719, grad_fn=<NllLossBackward0>)\n"
     ]
    },
    {
     "data": {
      "text/plain": [
       "[<matplotlib.lines.Line2D at 0xffff2b207290>]"
      ]
     },
     "execution_count": 224,
     "metadata": {},
     "output_type": "execute_result"
    },
    {
     "data": {
      "image/png": "[encoded data removed]",
      "text/plain": [
       "<Figure size 640x480 with 1 Axes>"
      ]
     },
     "metadata": {},
     "output_type": "display_data"
    }
   ],
   "source": [
    "steps = 10000\n",
    "learning_rate = 0.01\n",
    "batch_size = 32\n",
    "\n",
    "for index in range(steps):\n",
    "    batch_indices = torch.randint(low=0, high=X.shape[0], size=(batch_size,))\n",
    "    # forward pass\n",
    "    embeddings = embedding_layer[X[batch_indices]]\n",
    "    h = torch.tanh(embeddings.view(-1, context_length * embedding_dimension) @ hidden_layer_weights + hidden_layer_bias)\n",
    "    logits = h @ output_layer_weights + output_layer_bias\n",
    "    loss = F.cross_entropy(logits, Y[batch_indices])\n",
    "    losses.append(loss.item())\n",
    "    if index % (steps / 10) == 0:\n",
    "        print(f\"Loss: {loss.item():.3f}\")\n",
    "    # backwards pass\n",
    "    for p in parameters:\n",
    "        p.grad = None\n",
    "    loss.backward()\n",
    "    # update parameters\n",
    "    for p in parameters:\n",
    "        p.data -= learning_rate * p.grad\n",
    "\n",
    "print('---')\n",
    "# loss on entire training set\n",
    "embeddings = embedding_layer[X]\n",
    "h = torch.tanh(embeddings.view(-1, context_length * embedding_dimension) @ hidden_layer_weights + hidden_layer_bias)\n",
    "logits = h @ output_layer_weights + output_layer_bias\n",
    "loss = F.cross_entropy(logits, Y)\n",
    "print(loss)\n",
    "# print the loss values\n",
    "import matplotlib.pyplot as plt\n",
    "plt.plot(losses)"
   ]
  },
  {
   "cell_type": "markdown",
   "metadata": {},
   "source": [
    "# Modify to have training / validation / test sets"
   ]
  },
  {
   "cell_type": "code",
   "execution_count": 338,
   "metadata": {},
   "outputs": [],
   "source": [
    "# import torch\n",
    "\n",
    "# # Example tensors X and Y\n",
    "# X = torch.rand(100, 10)  # 100 samples, 10 features each\n",
    "# Y = torch.rand(100, 1)   # 100 labels\n",
    "\n",
    "# print(X.size(0))\n",
    "# # Shuffle the data\n",
    "# indices = torch.randperm(X.size(0))\n",
    "# assert len(set(indices)) == X.size(0)\n",
    "# print(indices)\n",
    "# X = X[indices]\n",
    "# Y = Y[indices]\n",
    "\n",
    "# # Split ratios\n",
    "# train_ratio = 0.7\n",
    "# val_ratio = 0.15\n",
    "# test_ratio = 0.15\n",
    "\n",
    "# # Calculate split sizes\n",
    "# total_size = X.size(0)\n",
    "# train_size = int(total_size * train_ratio)\n",
    "# val_size = int(total_size * val_ratio)\n",
    "# test_size = total_size - train_size - val_size\n",
    "\n",
    "# # Split the tensors\n",
    "# X_train, X_val, X_test = torch.split(X, [train_size, val_size, test_size])\n",
    "# Y_train, Y_val, Y_test = torch.split(Y, [train_size, val_size, test_size])\n",
    "\n",
    "# # Your training, validation, and test sets are now ready\n"
   ]
  },
  {
   "cell_type": "code",
   "execution_count": 358,
   "metadata": {},
   "outputs": [
    {
     "name": "stdout",
     "output_type": "stream",
     "text": [
      "[0, 0, 0] -> 5\n",
      "... -> e\n",
      "---\n",
      "[0, 0, 5] -> 13\n",
      "..e -> m\n",
      "---\n",
      "[0, 5, 13] -> 13\n",
      ".em -> m\n",
      "---\n",
      "[5, 13, 13] -> 1\n",
      "emm -> a\n",
      "---\n",
      "[13, 13, 1] -> 0\n",
      "mma -> .\n",
      "---\n",
      "[0, 0, 0] -> 15\n",
      "... -> o\n",
      "---\n",
      "[0, 0, 15] -> 12\n",
      "..o -> l\n",
      "---\n",
      "[0, 15, 12] -> 9\n",
      ".ol -> i\n",
      "---\n",
      "[15, 12, 9] -> 22\n",
      "oli -> v\n",
      "---\n",
      "[12, 9, 22] -> 9\n",
      "liv -> i\n",
      "---\n",
      "torch.Size([228146, 3])\n",
      "torch.Size([228146])\n",
      "Training set shapes:\n",
      "torch.Size([182516, 3])\n",
      "torch.Size([182516])\n",
      "Validation set shapes:\n",
      "torch.Size([22814, 3])\n",
      "torch.Size([22814])\n",
      "Test set shapes:\n",
      "torch.Size([22816, 3])\n",
      "torch.Size([22816])\n"
     ]
    }
   ],
   "source": [
    "g = torch.Generator().manual_seed(2147483647)\n",
    "context_length = 3  # how many characters do we take to predict the next one?\n",
    "\n",
    "X, Y = [], []\n",
    "\n",
    "for word in words:\n",
    "    word = ('.' * context_length) + word + '.'\n",
    "    for i in range(len(word) - context_length):\n",
    "        X.append([token_mappings[c] for c in word[i:i+context_length]])\n",
    "        Y.append(token_mappings[word[i+context_length]])\n",
    "\n",
    "\n",
    "for x, y in zip(X[:10], Y[:10]):\n",
    "    print(f\"{x} -> {y}\")\n",
    "    print(f\"{''.join([index_to_character[i] for i in x])} -> {index_to_character[y]}\")\n",
    "    print('---')\n",
    "\n",
    "X = torch.tensor(X)\n",
    "Y = torch.tensor(Y)\n",
    "print(X.shape)\n",
    "print(Y.shape)\n",
    "\n",
    "# Shuffle the data\n",
    "indices = torch.randperm(X.size(0), generator=g)\n",
    "assert len(set(indices)) == X.size(0)\n",
    "X = X[indices]\n",
    "Y = Y[indices]\n",
    "\n",
    "# Split ratios\n",
    "train_ratio = 0.8\n",
    "val_ratio = 0.1\n",
    "test_ratio = 0.1\n",
    "\n",
    "# Calculate split sizes\n",
    "total_size = X.size(0)\n",
    "train_size = int(total_size * train_ratio)\n",
    "val_size = int(total_size * val_ratio)\n",
    "test_size = total_size - train_size - val_size\n",
    "\n",
    "# Split the tensors\n",
    "X_train, X_val, X_test = torch.split(X, [train_size, val_size, test_size])\n",
    "Y_train, Y_val, Y_test = torch.split(Y, [train_size, val_size, test_size])\n",
    "\n",
    "# Printing the shapes of the datasets\n",
    "print(\"Training set shapes:\")\n",
    "print(X_train.shape)\n",
    "print(Y_train.shape)\n",
    "print(\"Validation set shapes:\")\n",
    "print(X_val.shape)\n",
    "print(Y_val.shape)\n",
    "print(\"Test set shapes:\")\n",
    "print(X_test.shape)\n",
    "print(Y_test.shape)\n"
   ]
  },
  {
   "cell_type": "code",
   "execution_count": 359,
   "metadata": {},
   "outputs": [
    {
     "name": "stdout",
     "output_type": "stream",
     "text": [
      "Number of Parameters of Model: 11,897\n"
     ]
    }
   ],
   "source": [
    "embedding_dimension = 10\n",
    "context_length = 3\n",
    "num_neurons = 200\n",
    "\n",
    "embedding_layer = torch.randn(len(characters), embedding_dimension, generator=g)\n",
    "hidden_layer_weights = torch.randn(context_length * embedding_dimension, num_neurons, generator=g)\n",
    "hidden_layer_bias = torch.randn(num_neurons, generator=g)\n",
    "output_layer_weights = torch.randn(num_neurons, len(characters), generator=g)\n",
    "output_layer_bias = torch.randn(len(characters), generator=g)\n",
    "parameters = [\n",
    "    embedding_layer,\n",
    "    hidden_layer_weights,\n",
    "    hidden_layer_bias,\n",
    "    output_layer_weights,\n",
    "    output_layer_bias\n",
    "]\n",
    "print(f\"Number of Parameters of Model: {sum(p.nelement() for p in parameters):,}\")"
   ]
  },
  {
   "cell_type": "code",
   "execution_count": 360,
   "metadata": {},
   "outputs": [
    {
     "name": "stdout",
     "output_type": "stream",
     "text": [
      "torch.Size([27, 10])\n",
      "Warning: Embedding dimension greater than 2. Only plotting the first two dimensions.\n"
     ]
    },
    {
     "data": {
      "image/png": "[encoded data removed]",
      "text/plain": [
       "<Figure size 800x800 with 1 Axes>"
      ]
     },
     "metadata": {},
     "output_type": "display_data"
    }
   ],
   "source": [
    "# ONLY VISUALIZING THE FIRST TWO DIMENSIONS OF THE EMBEDDING\n",
    "# MAY NOT BE THE BEST WAY TO VISUALIZE THE EMBEDDINGS FOR EMBEDDING_DIMENSION > 2\n",
    "from sklearn.decomposition import PCA\n",
    "def plot_embeddings():\n",
    "    embedding_layer_2d = embedding_layer.clone()\n",
    "    if embedding_layer_2d.shape[1] > 2:\n",
    "        print(\"Warning: Embedding dimension greater than 2. Running PCA to extract first two dimensions.\")   \n",
    "        pca = PCA(n_components=2)\n",
    "        embedding_layer_2d = pca.fit_transform(embedding_layer.detach().numpy())\n",
    "    # visualize dimensions 0 and 1 of the embedding matrix C for all characters\n",
    "    from matplotlib import pyplot as plt\n",
    "    plt.figure(figsize=(8,8))\n",
    "    plt.scatter(embedding_layer_2d[:,0].data, embedding_layer_2d[:,1].data, s=200)\n",
    "    for i in range(embedding_layer_2d.shape[0]):\n",
    "        plt.text(embedding_layer_2d[i,0].item(), embedding_layer_2d[i,1].item(), index_to_character[i], ha=\"center\", va=\"center\", color='white')\n",
    "    return plt.grid('minor')\n",
    "\n",
    "print(embedding_layer.shape)\n",
    "\n",
    "plot_embeddings()"
   ]
  },
  {
   "cell_type": "code",
   "execution_count": 361,
   "metadata": {},
   "outputs": [],
   "source": [
    "for p in parameters:\n",
    "    p.requires_grad = True"
   ]
  },
  {
   "cell_type": "code",
   "execution_count": 362,
   "metadata": {},
   "outputs": [],
   "source": [
    "# in practice we perform updates on minibatches of data   \n",
    "losses = []"
   ]
  },
  {
   "cell_type": "code",
   "execution_count": 370,
   "metadata": {},
   "outputs": [
    {
     "name": "stdout",
     "output_type": "stream",
     "text": [
      "Training Loss (average): 2.173\n",
      "Training Loss (average): 2.165\n",
      "Training Loss (average): 2.169\n",
      "Training Loss (average): 2.169\n",
      "Training Loss (average): 2.166\n",
      "Training Loss (average): 2.160\n",
      "Training Loss (average): 2.169\n",
      "Training Loss (average): 2.175\n",
      "Training Loss (average): 2.164\n",
      "Training Loss (average): 2.150\n",
      "Training Loss (average): 2.166\n",
      "Training Loss (average): 2.157\n",
      "Training Loss (average): 2.152\n",
      "Training Loss (average): 2.158\n",
      "Training Loss (average): 2.173\n",
      "Training Loss (average): 2.159\n",
      "Training Loss (average): 2.176\n",
      "Training Loss (average): 2.162\n",
      "Training Loss (average): 2.171\n",
      "Training Loss (average): 2.164\n",
      "---\n",
      "Validation Loss: 2.192\n",
      "Warning: Embedding dimension greater than 2. Only plotting the first two dimensions.\n"
     ]
    },
    {
     "data": {
      "image/png": "[encoded data removed]",
      "text/plain": [
       "<Figure size 640x480 with 1 Axes>"
      ]
     },
     "metadata": {},
     "output_type": "display_data"
    },
    {
     "data": {
      "image/png": "[encoded data removed]",
      "text/plain": [
       "<Figure size 800x800 with 1 Axes>"
      ]
     },
     "metadata": {},
     "output_type": "display_data"
    }
   ],
   "source": [
    "steps = 20000\n",
    "learning_rate = 0.005\n",
    "batch_size = 32\n",
    "\n",
    "sub_losses = []\n",
    "\n",
    "for index in range(steps):\n",
    "    batch_indices = torch.randint(low=0, high=X_train.shape[0], size=(batch_size,), generator=g)\n",
    "    # forward pass\n",
    "    embeddings = embedding_layer[X_train[batch_indices]]\n",
    "    h = torch.tanh(embeddings.view(-1, context_length * embedding_dimension) @ hidden_layer_weights + hidden_layer_bias)\n",
    "    logits = h @ output_layer_weights + output_layer_bias\n",
    "    loss = F.cross_entropy(logits, Y_train[batch_indices])\n",
    "    # losses.append(loss.item())\n",
    "    sub_losses.append(loss.item())\n",
    "    if (index + 1) % (steps / 20) == 0:\n",
    "        average_loss = sum(sub_losses) / len(sub_losses)\n",
    "        losses.append(average_loss)\n",
    "        sub_losses = []\n",
    "        print(f\"Training Loss (average): {average_loss:.3f}\")\n",
    "\n",
    "    # backwards pass\n",
    "    for p in parameters:\n",
    "        p.grad = None\n",
    "    loss.backward()\n",
    "    # update parameters\n",
    "    for p in parameters:\n",
    "        p.data -= learning_rate * p.grad\n",
    "\n",
    "print('---')\n",
    "\n",
    "# loss on VALIDATION set; the model has not seen this data\n",
    "embeddings = embedding_layer[X_val]\n",
    "h = torch.tanh(embeddings.view(-1, context_length * embedding_dimension) @ hidden_layer_weights + hidden_layer_bias)\n",
    "logits = h @ output_layer_weights + output_layer_bias\n",
    "loss = F.cross_entropy(logits, Y_val)\n",
    "print(f\"Validation Loss: {loss:.3f}\")\n",
    "# print the loss values\n",
    "import matplotlib.pyplot as plt\n",
    "import math\n",
    "plt.plot([math.log10(x) for x in losses])\n",
    "plot_embeddings()"
   ]
  },
  {
   "cell_type": "code",
   "execution_count": 369,
   "metadata": {},
   "outputs": [
    {
     "name": "stdout",
     "output_type": "stream",
     "text": [
      "Warning: Embedding dimension greater than 2. Only plotting the first two dimensions.\n"
     ]
    },
    {
     "data": {
      "image/png": "[encoded data removed]",
      "text/plain": [
       "<Figure size 800x800 with 1 Axes>"
      ]
     },
     "metadata": {},
     "output_type": "display_data"
    }
   ],
   "source": [
    "plot_embeddings()"
   ]
  },
  {
   "cell_type": "markdown",
   "metadata": {},
   "source": [
    "# Generate predictions from the model"
   ]
  },
  {
   "cell_type": "code",
   "execution_count": 385,
   "metadata": {},
   "outputs": [
    {
     "name": "stdout",
     "output_type": "stream",
     "text": [
      "oki.\n",
      "weanglin.\n",
      "elian.\n",
      "one.\n",
      "leoceoni.\n",
      "jalee.\n",
      "avianis.\n",
      "karhid.\n",
      "amanno.\n",
      "giah.\n",
      "jra.\n",
      "nit.\n",
      "ziycaileyishaun.\n",
      "jod.\n",
      "beonaliya.\n",
      "kiddin.\n",
      "skella.\n",
      "asgie.\n",
      "emman.\n",
      "amanny.\n"
     ]
    }
   ],
   "source": [
    "# sample from the model\n",
    "for _ in range(20):\n",
    "    out = []\n",
    "    context = [0] * context_length # initialize with all ... (which is index 0)\n",
    "    while True:\n",
    "      embeddings = embedding_layer[torch.tensor([context])] # (1,block_size,d)\n",
    "      h = torch.tanh(embeddings.view(1, -1) @ hidden_layer_weights + hidden_layer_bias)\n",
    "      logits = h @ output_layer_weights + output_layer_bias\n",
    "      probs = F.softmax(logits, dim=1)\n",
    "      # pull random sample from the model's probability distribution\n",
    "      token_index = torch.multinomial(probs, num_samples=1, generator=None).item()\n",
    "      context = context[1:] + [token_index]\n",
    "      out.append(token_index)\n",
    "      if token_index == 0:\n",
    "        break\n",
    "    print(''.join(index_to_character[i] for i in out))"
   ]
  },
  {
   "cell_type": "markdown",
   "metadata": {},
   "source": [
    "---"
   ]
  }
 ],
 "metadata": {
  "kernelspec": {
   "display_name": "Python 3",
   "language": "python",
   "name": "python3"
  },
  "language_info": {
   "codemirror_mode": {
    "name": "ipython",
    "version": 3
   },
   "file_extension": ".py",
   "mimetype": "text/x-python",
   "name": "python",
   "nbconvert_exporter": "python",
   "pygments_lexer": "ipython3",
   "version": "3.11.7"
  }
 },
 "nbformat": 4,
 "nbformat_minor": 2
}
